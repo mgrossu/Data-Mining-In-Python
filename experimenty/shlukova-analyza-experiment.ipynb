{
 "cells": [
  {
   "cell_type": "markdown",
   "metadata": {},
   "source": [
    "# Shluková analýza"
   ]
  },
  {
   "cell_type": "markdown",
   "metadata": {},
   "source": [
    "## Dataset pro tuto metodu dolování dat\n",
    "Tento dataset obsahuje informace o 344 tučňákcích žijících na ostrově Palmer Archipelago na Antakrtidě. Každý tučňák patří do jednoho ze 3 možných druhů:Adélie, Gentoo, Chinstrap, dále jsou popsáni pomocí dalších 6 atributu jako ostrov, na kterém žijí, pohlaví, vaha a míry zobáku. \n",
    "\n",
    "https://www.kaggle.com/datasets/parulpandey/palmer-archipelago-antarctica-penguin-data?select=penguins_size.csv"
   ]
  },
  {
   "cell_type": "code",
   "execution_count": 1,
   "metadata": {},
   "outputs": [
    {
     "data": {
      "text/html": [
       "<div>\n",
       "<style scoped>\n",
       "    .dataframe tbody tr th:only-of-type {\n",
       "        vertical-align: middle;\n",
       "    }\n",
       "\n",
       "    .dataframe tbody tr th {\n",
       "        vertical-align: top;\n",
       "    }\n",
       "\n",
       "    .dataframe thead th {\n",
       "        text-align: right;\n",
       "    }\n",
       "</style>\n",
       "<table border=\"1\" class=\"dataframe\">\n",
       "  <thead>\n",
       "    <tr style=\"text-align: right;\">\n",
       "      <th></th>\n",
       "      <th>species</th>\n",
       "      <th>island</th>\n",
       "      <th>culmen_length_mm</th>\n",
       "      <th>culmen_depth_mm</th>\n",
       "      <th>flipper_length_mm</th>\n",
       "      <th>body_mass_g</th>\n",
       "      <th>sex</th>\n",
       "    </tr>\n",
       "  </thead>\n",
       "  <tbody>\n",
       "    <tr>\n",
       "      <th>0</th>\n",
       "      <td>Adelie</td>\n",
       "      <td>Torgersen</td>\n",
       "      <td>39.1</td>\n",
       "      <td>18.7</td>\n",
       "      <td>181.0</td>\n",
       "      <td>3750.0</td>\n",
       "      <td>MALE</td>\n",
       "    </tr>\n",
       "    <tr>\n",
       "      <th>1</th>\n",
       "      <td>Adelie</td>\n",
       "      <td>Torgersen</td>\n",
       "      <td>39.5</td>\n",
       "      <td>17.4</td>\n",
       "      <td>186.0</td>\n",
       "      <td>3800.0</td>\n",
       "      <td>FEMALE</td>\n",
       "    </tr>\n",
       "    <tr>\n",
       "      <th>2</th>\n",
       "      <td>Adelie</td>\n",
       "      <td>Torgersen</td>\n",
       "      <td>40.3</td>\n",
       "      <td>18.0</td>\n",
       "      <td>195.0</td>\n",
       "      <td>3250.0</td>\n",
       "      <td>FEMALE</td>\n",
       "    </tr>\n",
       "    <tr>\n",
       "      <th>3</th>\n",
       "      <td>Adelie</td>\n",
       "      <td>Torgersen</td>\n",
       "      <td>NaN</td>\n",
       "      <td>NaN</td>\n",
       "      <td>NaN</td>\n",
       "      <td>NaN</td>\n",
       "      <td>NaN</td>\n",
       "    </tr>\n",
       "    <tr>\n",
       "      <th>4</th>\n",
       "      <td>Adelie</td>\n",
       "      <td>Torgersen</td>\n",
       "      <td>36.7</td>\n",
       "      <td>19.3</td>\n",
       "      <td>193.0</td>\n",
       "      <td>3450.0</td>\n",
       "      <td>FEMALE</td>\n",
       "    </tr>\n",
       "  </tbody>\n",
       "</table>\n",
       "</div>"
      ],
      "text/plain": [
       "  species     island  culmen_length_mm  culmen_depth_mm  flipper_length_mm  \\\n",
       "0  Adelie  Torgersen              39.1             18.7              181.0   \n",
       "1  Adelie  Torgersen              39.5             17.4              186.0   \n",
       "2  Adelie  Torgersen              40.3             18.0              195.0   \n",
       "3  Adelie  Torgersen               NaN              NaN                NaN   \n",
       "4  Adelie  Torgersen              36.7             19.3              193.0   \n",
       "\n",
       "   body_mass_g     sex  \n",
       "0       3750.0    MALE  \n",
       "1       3800.0  FEMALE  \n",
       "2       3250.0  FEMALE  \n",
       "3          NaN     NaN  \n",
       "4       3450.0  FEMALE  "
      ]
     },
     "execution_count": 1,
     "metadata": {},
     "output_type": "execute_result"
    }
   ],
   "source": [
    "import pandas as pd\n",
    "\n",
    "df = pd.read_csv( \"datasets/penguins_size.csv\")\n",
    "df.head()"
   ]
  },
  {
   "cell_type": "code",
   "execution_count": 2,
   "metadata": {},
   "outputs": [
    {
     "name": "stdout",
     "output_type": "stream",
     "text": [
      "<class 'pandas.core.frame.DataFrame'>\n",
      "RangeIndex: 344 entries, 0 to 343\n",
      "Data columns (total 7 columns):\n",
      " #   Column             Non-Null Count  Dtype  \n",
      "---  ------             --------------  -----  \n",
      " 0   species            344 non-null    object \n",
      " 1   island             344 non-null    object \n",
      " 2   culmen_length_mm   342 non-null    float64\n",
      " 3   culmen_depth_mm    342 non-null    float64\n",
      " 4   flipper_length_mm  342 non-null    float64\n",
      " 5   body_mass_g        342 non-null    float64\n",
      " 6   sex                334 non-null    object \n",
      "dtypes: float64(4), object(3)\n",
      "memory usage: 18.9+ KB\n"
     ]
    }
   ],
   "source": [
    "df.info()"
   ]
  },
  {
   "cell_type": "code",
   "execution_count": 3,
   "metadata": {},
   "outputs": [
    {
     "data": {
      "text/plain": [
       "species               0\n",
       "island                0\n",
       "culmen_length_mm      2\n",
       "culmen_depth_mm       2\n",
       "flipper_length_mm     2\n",
       "body_mass_g           2\n",
       "sex                  10\n",
       "dtype: int64"
      ]
     },
     "execution_count": 3,
     "metadata": {},
     "output_type": "execute_result"
    }
   ],
   "source": [
    "df.isna().sum()"
   ]
  },
  {
   "cell_type": "markdown",
   "metadata": {},
   "source": [
    "### Dataset se upraví pro shlukovou analýzu  a odstraní se chybějící hodnoty."
   ]
  },
  {
   "cell_type": "code",
   "execution_count": 4,
   "metadata": {},
   "outputs": [
    {
     "data": {
      "text/html": [
       "<div>\n",
       "<style scoped>\n",
       "    .dataframe tbody tr th:only-of-type {\n",
       "        vertical-align: middle;\n",
       "    }\n",
       "\n",
       "    .dataframe tbody tr th {\n",
       "        vertical-align: top;\n",
       "    }\n",
       "\n",
       "    .dataframe thead th {\n",
       "        text-align: right;\n",
       "    }\n",
       "</style>\n",
       "<table border=\"1\" class=\"dataframe\">\n",
       "  <thead>\n",
       "    <tr style=\"text-align: right;\">\n",
       "      <th></th>\n",
       "      <th>island</th>\n",
       "      <th>culmen_length_mm</th>\n",
       "      <th>culmen_depth_mm</th>\n",
       "      <th>flipper_length_mm</th>\n",
       "      <th>body_mass_g</th>\n",
       "      <th>sex</th>\n",
       "    </tr>\n",
       "  </thead>\n",
       "  <tbody>\n",
       "    <tr>\n",
       "      <th>count</th>\n",
       "      <td>333.000000</td>\n",
       "      <td>333.000000</td>\n",
       "      <td>333.000000</td>\n",
       "      <td>333.000000</td>\n",
       "      <td>333.000000</td>\n",
       "      <td>333.000000</td>\n",
       "    </tr>\n",
       "    <tr>\n",
       "      <th>mean</th>\n",
       "      <td>0.651652</td>\n",
       "      <td>43.992793</td>\n",
       "      <td>17.164865</td>\n",
       "      <td>200.966967</td>\n",
       "      <td>4207.057057</td>\n",
       "      <td>0.495495</td>\n",
       "    </tr>\n",
       "    <tr>\n",
       "      <th>std</th>\n",
       "      <td>0.714715</td>\n",
       "      <td>5.468668</td>\n",
       "      <td>1.969235</td>\n",
       "      <td>14.015765</td>\n",
       "      <td>805.215802</td>\n",
       "      <td>0.500732</td>\n",
       "    </tr>\n",
       "    <tr>\n",
       "      <th>min</th>\n",
       "      <td>0.000000</td>\n",
       "      <td>32.100000</td>\n",
       "      <td>13.100000</td>\n",
       "      <td>172.000000</td>\n",
       "      <td>2700.000000</td>\n",
       "      <td>0.000000</td>\n",
       "    </tr>\n",
       "    <tr>\n",
       "      <th>25%</th>\n",
       "      <td>0.000000</td>\n",
       "      <td>39.500000</td>\n",
       "      <td>15.600000</td>\n",
       "      <td>190.000000</td>\n",
       "      <td>3550.000000</td>\n",
       "      <td>0.000000</td>\n",
       "    </tr>\n",
       "    <tr>\n",
       "      <th>50%</th>\n",
       "      <td>1.000000</td>\n",
       "      <td>44.500000</td>\n",
       "      <td>17.300000</td>\n",
       "      <td>197.000000</td>\n",
       "      <td>4050.000000</td>\n",
       "      <td>0.000000</td>\n",
       "    </tr>\n",
       "    <tr>\n",
       "      <th>75%</th>\n",
       "      <td>1.000000</td>\n",
       "      <td>48.600000</td>\n",
       "      <td>18.700000</td>\n",
       "      <td>213.000000</td>\n",
       "      <td>4775.000000</td>\n",
       "      <td>1.000000</td>\n",
       "    </tr>\n",
       "    <tr>\n",
       "      <th>max</th>\n",
       "      <td>2.000000</td>\n",
       "      <td>59.600000</td>\n",
       "      <td>21.500000</td>\n",
       "      <td>231.000000</td>\n",
       "      <td>6300.000000</td>\n",
       "      <td>1.000000</td>\n",
       "    </tr>\n",
       "  </tbody>\n",
       "</table>\n",
       "</div>"
      ],
      "text/plain": [
       "           island  culmen_length_mm  culmen_depth_mm  flipper_length_mm  \\\n",
       "count  333.000000        333.000000       333.000000         333.000000   \n",
       "mean     0.651652         43.992793        17.164865         200.966967   \n",
       "std      0.714715          5.468668         1.969235          14.015765   \n",
       "min      0.000000         32.100000        13.100000         172.000000   \n",
       "25%      0.000000         39.500000        15.600000         190.000000   \n",
       "50%      1.000000         44.500000        17.300000         197.000000   \n",
       "75%      1.000000         48.600000        18.700000         213.000000   \n",
       "max      2.000000         59.600000        21.500000         231.000000   \n",
       "\n",
       "       body_mass_g         sex  \n",
       "count   333.000000  333.000000  \n",
       "mean   4207.057057    0.495495  \n",
       "std     805.215802    0.500732  \n",
       "min    2700.000000    0.000000  \n",
       "25%    3550.000000    0.000000  \n",
       "50%    4050.000000    0.000000  \n",
       "75%    4775.000000    1.000000  \n",
       "max    6300.000000    1.000000  "
      ]
     },
     "execution_count": 4,
     "metadata": {},
     "output_type": "execute_result"
    }
   ],
   "source": [
    "#zbavime se NaN hodnot\n",
    "df = df.dropna()\n",
    "df = df[df.sex!='.']\n",
    "#nahradime kategoricke atrubity s ciselnymi hodnotami\n",
    "island_map = {\"Biscoe\": 0, \"Dream\": 1, \"Torgersen\": 2}\n",
    "sex_map = {\"MALE\": 0, \"FEMALE\": 1}\n",
    "df = df.applymap(lambda s: island_map.get(s) if s in island_map else s)\n",
    "df = df.applymap(lambda s: sex_map.get(s) if s in sex_map else s)\n",
    "\n",
    "df.describe()"
   ]
  },
  {
   "cell_type": "markdown",
   "metadata": {},
   "source": [
    "## Použití knihovny scikit-learn"
   ]
  },
  {
   "cell_type": "code",
   "execution_count": 5,
   "metadata": {},
   "outputs": [],
   "source": [
    "from sklearn.preprocessing import normalize\n",
    "\n",
    "#odtraneni 1. sloupce, ktery tridy tucnaky a normalizace datasetu\n",
    "X = df[df.columns[1:]]\n",
    "X_normalized = normalize(X, norm='max')"
   ]
  },
  {
   "cell_type": "markdown",
   "metadata": {},
   "source": [
    "## K - MEANS"
   ]
  },
  {
   "cell_type": "code",
   "execution_count": 6,
   "metadata": {},
   "outputs": [
    {
     "data": {
      "text/html": [
       "<div>\n",
       "<style scoped>\n",
       "    .dataframe tbody tr th:only-of-type {\n",
       "        vertical-align: middle;\n",
       "    }\n",
       "\n",
       "    .dataframe tbody tr th {\n",
       "        vertical-align: top;\n",
       "    }\n",
       "\n",
       "    .dataframe thead th {\n",
       "        text-align: right;\n",
       "    }\n",
       "</style>\n",
       "<table border=\"1\" class=\"dataframe\">\n",
       "  <thead>\n",
       "    <tr style=\"text-align: right;\">\n",
       "      <th></th>\n",
       "      <th>clusters_num</th>\n",
       "      <th>cluster_errors</th>\n",
       "    </tr>\n",
       "  </thead>\n",
       "  <tbody>\n",
       "    <tr>\n",
       "      <th>0</th>\n",
       "      <td>1</td>\n",
       "      <td>0.015719</td>\n",
       "    </tr>\n",
       "    <tr>\n",
       "      <th>1</th>\n",
       "      <td>2</td>\n",
       "      <td>0.005262</td>\n",
       "    </tr>\n",
       "    <tr>\n",
       "      <th>2</th>\n",
       "      <td>3</td>\n",
       "      <td>0.002862</td>\n",
       "    </tr>\n",
       "    <tr>\n",
       "      <th>3</th>\n",
       "      <td>4</td>\n",
       "      <td>0.001936</td>\n",
       "    </tr>\n",
       "    <tr>\n",
       "      <th>4</th>\n",
       "      <td>5</td>\n",
       "      <td>0.001421</td>\n",
       "    </tr>\n",
       "    <tr>\n",
       "      <th>5</th>\n",
       "      <td>6</td>\n",
       "      <td>0.001181</td>\n",
       "    </tr>\n",
       "    <tr>\n",
       "      <th>6</th>\n",
       "      <td>7</td>\n",
       "      <td>0.001009</td>\n",
       "    </tr>\n",
       "    <tr>\n",
       "      <th>7</th>\n",
       "      <td>8</td>\n",
       "      <td>0.000881</td>\n",
       "    </tr>\n",
       "    <tr>\n",
       "      <th>8</th>\n",
       "      <td>9</td>\n",
       "      <td>0.000767</td>\n",
       "    </tr>\n",
       "    <tr>\n",
       "      <th>9</th>\n",
       "      <td>10</td>\n",
       "      <td>0.000700</td>\n",
       "    </tr>\n",
       "    <tr>\n",
       "      <th>10</th>\n",
       "      <td>11</td>\n",
       "      <td>0.000631</td>\n",
       "    </tr>\n",
       "    <tr>\n",
       "      <th>11</th>\n",
       "      <td>12</td>\n",
       "      <td>0.000567</td>\n",
       "    </tr>\n",
       "    <tr>\n",
       "      <th>12</th>\n",
       "      <td>13</td>\n",
       "      <td>0.000508</td>\n",
       "    </tr>\n",
       "    <tr>\n",
       "      <th>13</th>\n",
       "      <td>14</td>\n",
       "      <td>0.000468</td>\n",
       "    </tr>\n",
       "  </tbody>\n",
       "</table>\n",
       "</div>"
      ],
      "text/plain": [
       "    clusters_num  cluster_errors\n",
       "0              1        0.015719\n",
       "1              2        0.005262\n",
       "2              3        0.002862\n",
       "3              4        0.001936\n",
       "4              5        0.001421\n",
       "5              6        0.001181\n",
       "6              7        0.001009\n",
       "7              8        0.000881\n",
       "8              9        0.000767\n",
       "9             10        0.000700\n",
       "10            11        0.000631\n",
       "11            12        0.000567\n",
       "12            13        0.000508\n",
       "13            14        0.000468"
      ]
     },
     "execution_count": 6,
     "metadata": {},
     "output_type": "execute_result"
    }
   ],
   "source": [
    "from sklearn.cluster import KMeans\n",
    "#hledani hodnoty pro kolik bude potreba shluku\n",
    "c_errs = []\n",
    "for i in range(1, 15):\n",
    "  kmeans = KMeans(i, n_init = 10 )\n",
    "  kmeans.fit(X_normalized)\n",
    "  c_errs.append(kmeans.inertia_)\n",
    "clusters_df = pd.DataFrame({ \"clusters_num\": range(1, 15), \"cluster_errors\": c_errs })\n",
    "clusters_df[0:15]"
   ]
  },
  {
   "cell_type": "code",
   "execution_count": 7,
   "metadata": {},
   "outputs": [
    {
     "data": {
      "text/plain": [
       "[<matplotlib.lines.Line2D at 0xffff601d19a0>]"
      ]
     },
     "execution_count": 7,
     "metadata": {},
     "output_type": "execute_result"
    },
    {
     "data": {
      "image/png": "[encoded data removed]",
      "text/plain": [
       "<Figure size 864x432 with 1 Axes>"
      ]
     },
     "metadata": {
      "needs_background": "light"
     },
     "output_type": "display_data"
    }
   ],
   "source": [
    "import matplotlib.pyplot as plt\n",
    "import seaborn as sns\n",
    "\n",
    "plt.figure(figsize=(12,6))\n",
    "plt.plot(clusters_df['clusters_num'], clusters_df['cluster_errors'], marker = \"o\" )"
   ]
  },
  {
   "cell_type": "markdown",
   "metadata": {},
   "source": [
    "Vidime, ze optimalni hodnota pro cluster je 3"
   ]
  },
  {
   "cell_type": "code",
   "execution_count": 8,
   "metadata": {},
   "outputs": [],
   "source": [
    "kmeans = KMeans(n_clusters=3)\n",
    "kmeans_clusters = kmeans.fit_predict(X_normalized)"
   ]
  },
  {
   "cell_type": "markdown",
   "metadata": {},
   "source": [
    "Porovname s originalnim datasetem"
   ]
  },
  {
   "cell_type": "code",
   "execution_count": 9,
   "metadata": {},
   "outputs": [
    {
     "data": {
      "text/plain": [
       "<AxesSubplot:title={'center':'scikit-learn k-Means'}, xlabel='culmen_length_mm', ylabel='culmen_depth_mm'>"
      ]
     },
     "execution_count": 9,
     "metadata": {},
     "output_type": "execute_result"
    },
    {
     "data": {
      "image/png": "[encoded data removed]",
      "text/plain": [
       "<Figure size 864x360 with 2 Axes>"
      ]
     },
     "metadata": {
      "needs_background": "light"
     },
     "output_type": "display_data"
    }
   ],
   "source": [
    "df_scikit= df.copy(deep=True)\n",
    "df_scikit['k-Means'] = kmeans_clusters\n",
    "\n",
    "plt.figure(figsize=(12,5))\n",
    "plt.subplot(1,2,1).set_title('Original Classe')\n",
    "sns.scatterplot(x='culmen_length_mm', y='culmen_depth_mm', hue='species', style='species', palette= 'pastel',data=df)\n",
    "plt.subplot(1,2,2).set_title('scikit-learn k-Means')\n",
    "sns.scatterplot(x='culmen_length_mm', y='culmen_depth_mm', hue='k-Means', style='k-Means', palette= 'pastel' ,data=df_scikit)"
   ]
  },
  {
   "cell_type": "code",
   "execution_count": 10,
   "metadata": {},
   "outputs": [
    {
     "name": "stdout",
     "output_type": "stream",
     "text": [
      "Original data classes:\n",
      "Adelie       146\n",
      "Gentoo       119\n",
      "Chinstrap     68\n",
      "Name: species, dtype: int64\n",
      "-----------------------------\n",
      "Predicted data classes:\n",
      "0    134\n",
      "2    127\n",
      "1     72\n",
      "Name: k-Means, dtype: int64\n"
     ]
    }
   ],
   "source": [
    "print('Original data classes:')\n",
    "print(df['species'].value_counts())\n",
    "print('-----------------------------')\n",
    "print('Predicted data classes:')\n",
    "print(df_scikit['k-Means'].value_counts())"
   ]
  },
  {
   "cell_type": "markdown",
   "metadata": {},
   "source": [
    "## Agglomerative Clustering"
   ]
  },
  {
   "cell_type": "code",
   "execution_count": 11,
   "metadata": {},
   "outputs": [],
   "source": [
    "from sklearn.cluster import AgglomerativeClustering\n",
    "#minimalni vzdalenost je nastavena na 0, tu pak urcime, vykreslenim dendogramu, pro spravnou predikci do shluku\n",
    "agg = AgglomerativeClustering(linkage='average', distance_threshold=0, n_clusters=None)\n",
    "#trenovani a predikce\n",
    "agg_cluster = agg.fit_predict(X_normalized)"
   ]
  },
  {
   "cell_type": "code",
   "execution_count": 12,
   "metadata": {},
   "outputs": [
    {
     "data": {
      "image/png": "[encoded data removed]",
      "text/plain": [
       "<Figure size 432x288 with 1 Axes>"
      ]
     },
     "metadata": {
      "needs_background": "light"
     },
     "output_type": "display_data"
    }
   ],
   "source": [
    "from scipy.cluster.hierarchy import dendrogram\n",
    "import numpy as np\n",
    "#vykresleni dendogramu, pravzato z https://scikit-learn.org/stable/auto_examples/cluster/plot_agglomerative_dendrogram.html\n",
    "def plot_dendrogram(model, **kwargs):\n",
    "    # Create linkage matrix and then plot the dendrogram\n",
    "\n",
    "    # create the counts of samples under each node\n",
    "    counts = np.zeros(model.children_.shape[0])\n",
    "    n_samples = len(model.labels_)\n",
    "    for i, merge in enumerate(model.children_):\n",
    "        current_count = 0\n",
    "        for child_idx in merge:\n",
    "            if child_idx < n_samples:\n",
    "                current_count += 1  # leaf node\n",
    "            else:\n",
    "                current_count += counts[child_idx - n_samples]\n",
    "        counts[i] = current_count\n",
    "\n",
    "    linkage_matrix = np.column_stack(\n",
    "        [model.children_, model.distances_, counts]\n",
    "    ).astype(float)\n",
    "\n",
    "    # Plot the corresponding dendrogram\n",
    "    dendrogram(linkage_matrix, **kwargs)\n",
    "\n",
    "plt.title(\"Hierarchical Clustering Dendrogram\")\n",
    "# plot the top three levels of the dendrogram\n",
    "plot_dendrogram(agg, truncate_mode=\"level\", p=3)\n",
    "plt.xlabel(\"Number of points in node (or index of point if no parenthesis).\")\n",
    "plt.show()"
   ]
  },
  {
   "cell_type": "code",
   "execution_count": 13,
   "metadata": {},
   "outputs": [],
   "source": [
    "#vytvoreni noveho modelu s nastvenou minimalni vzdalenosti 0.008\n",
    "agg1 = AgglomerativeClustering(linkage='average', distance_threshold=0.008, n_clusters=None)\n",
    "#trenovani a predikce\n",
    "agg_cluster1 = agg1.fit_predict(X_normalized)"
   ]
  },
  {
   "cell_type": "markdown",
   "metadata": {},
   "source": [
    "Porovnani s originalnim datasetem"
   ]
  },
  {
   "cell_type": "code",
   "execution_count": 14,
   "metadata": {},
   "outputs": [
    {
     "data": {
      "text/plain": [
       "<AxesSubplot:title={'center':'scikit-learn Agglomerative Clustering'}, xlabel='culmen_length_mm', ylabel='culmen_depth_mm'>"
      ]
     },
     "execution_count": 14,
     "metadata": {},
     "output_type": "execute_result"
    },
    {
     "data": {
      "image/png": "[encoded data removed]",
      "text/plain": [
       "<Figure size 864x360 with 2 Axes>"
      ]
     },
     "metadata": {
      "needs_background": "light"
     },
     "output_type": "display_data"
    }
   ],
   "source": [
    "df_scikit['Agg'] = agg_cluster1\n",
    "plt.figure(figsize=(12,5))\n",
    "plt.subplot(1,2,1).set_title('Original Classe')\n",
    "sns.scatterplot(x='culmen_length_mm', y='culmen_depth_mm', hue='species', style='species', palette= 'pastel',data=df)\n",
    "plt.subplot(1,2,2).set_title('scikit-learn Agglomerative Clustering')\n",
    "sns.scatterplot(x='culmen_length_mm', y='culmen_depth_mm', hue='Agg', style='Agg', palette= 'pastel' ,data=df_scikit)"
   ]
  },
  {
   "cell_type": "code",
   "execution_count": 15,
   "metadata": {},
   "outputs": [
    {
     "name": "stdout",
     "output_type": "stream",
     "text": [
      "Original data classes:\n",
      "Adelie       146\n",
      "Gentoo       119\n",
      "Chinstrap     68\n",
      "Name: species, dtype: int64\n",
      "-----------------------------\n",
      "Predicted data classes:\n",
      "0    155\n",
      "1    142\n",
      "2     35\n",
      "3      1\n",
      "Name: Agg, dtype: int64\n"
     ]
    }
   ],
   "source": [
    "print('Original data classes:')\n",
    "print(df['species'].value_counts())\n",
    "print('-----------------------------')\n",
    "print('Predicted data classes:')\n",
    "print(df_scikit['Agg'].value_counts())"
   ]
  },
  {
   "cell_type": "markdown",
   "metadata": {},
   "source": [
    "Lze vidět, že existuje jeden bod (tučňák), který tvoří samostaný shluk, jedná se o odlehlou hodnotu tzv. šum."
   ]
  },
  {
   "cell_type": "markdown",
   "metadata": {},
   "source": [
    "## DBSCAN"
   ]
  },
  {
   "cell_type": "code",
   "execution_count": 54,
   "metadata": {},
   "outputs": [],
   "source": [
    "from sklearn.cluster import DBSCAN\n",
    "from sklearn.neighbors import NearestNeighbors\n",
    "\n",
    "#DBSCAN prijma dva parametry a to epsilon, velikost okoli a minimalni pocet bodu v okoli, musi se nejdriv najit optimalni parametry\n",
    "#vypocitame pomoci tridy NearestNeighbors() vzdalenost k-nejblizsich sousedu\n",
    "nn = NearestNeighbors(n_neighbors=3)\n",
    "neighbors = nn.fit(X_normalized)\n",
    "dist, i = neighbors.kneighbors(X_normalized)"
   ]
  },
  {
   "cell_type": "code",
   "execution_count": 55,
   "metadata": {},
   "outputs": [
    {
     "data": {
      "image/png": "[encoded data removed]",
      "text/plain": [
       "<Figure size 864x432 with 1 Axes>"
      ]
     },
     "metadata": {},
     "output_type": "display_data"
    }
   ],
   "source": [
    "#vykresleni K-distance grafu pro optimalni okoli\n",
    "dist = np.sort(dist, axis=0)\n",
    "dist = dist[:,1]\n",
    "\n",
    "plt.figure(figsize=(12,6))\n",
    "plt.plot(dist)\n",
    "plt.xlabel(\"data points sorted by distance\")\n",
    "plt.ylabel(\"epsilon\")\n",
    "plt.savefig(\"dbscan.svg\", format=\"svg\")"
   ]
  },
  {
   "cell_type": "code",
   "execution_count": 18,
   "metadata": {},
   "outputs": [],
   "source": [
    "dbscan = DBSCAN(eps=0.0015, min_samples=24)\n",
    "#trenovani a zarazani\n",
    "dbscan_clusters = dbscan.fit_predict(X_normalized)"
   ]
  },
  {
   "cell_type": "markdown",
   "metadata": {},
   "source": [
    "Porovani s originalnim datasetem"
   ]
  },
  {
   "cell_type": "code",
   "execution_count": 19,
   "metadata": {},
   "outputs": [
    {
     "data": {
      "text/plain": [
       "<AxesSubplot:title={'center':'scikit-learn DBSCAN'}, xlabel='culmen_length_mm', ylabel='culmen_depth_mm'>"
      ]
     },
     "execution_count": 19,
     "metadata": {},
     "output_type": "execute_result"
    },
    {
     "data": {
      "image/png": "[encoded data removed]",
      "text/plain": [
       "<Figure size 864x360 with 2 Axes>"
      ]
     },
     "metadata": {
      "needs_background": "light"
     },
     "output_type": "display_data"
    }
   ],
   "source": [
    "df_scikit['DBSCAN'] = dbscan_clusters\n",
    "plt.figure(figsize=(12,5))\n",
    "plt.subplot(1,2,1).set_title('Original Classe')\n",
    "sns.scatterplot(x='culmen_length_mm', y='culmen_depth_mm', hue='species', style='species', palette= 'pastel',data=df)\n",
    "plt.subplot(1,2,2).set_title('scikit-learn DBSCAN')\n",
    "sns.scatterplot(x='culmen_length_mm', y='culmen_depth_mm', hue='DBSCAN', style='DBSCAN', palette= 'pastel' ,data=df_scikit)"
   ]
  },
  {
   "cell_type": "code",
   "execution_count": 20,
   "metadata": {},
   "outputs": [
    {
     "name": "stdout",
     "output_type": "stream",
     "text": [
      "Original data classes:\n",
      "Adelie       146\n",
      "Gentoo       119\n",
      "Chinstrap     68\n",
      "Name: species, dtype: int64\n",
      "-----------------------------\n",
      "Predicted data classes:\n",
      " 1    131\n",
      "-1    111\n",
      " 0     91\n",
      "Name: DBSCAN, dtype: int64\n"
     ]
    }
   ],
   "source": [
    "print('Original data classes:')\n",
    "print(df['species'].value_counts())\n",
    "print('-----------------------------')\n",
    "print('Predicted data classes:')\n",
    "print(df_scikit['DBSCAN'].value_counts())"
   ]
  },
  {
   "cell_type": "markdown",
   "metadata": {},
   "source": [
    "## Použití knihovny mlxtend"
   ]
  },
  {
   "cell_type": "markdown",
   "metadata": {},
   "source": [
    "## K-Means"
   ]
  },
  {
   "cell_type": "code",
   "execution_count": 21,
   "metadata": {},
   "outputs": [],
   "source": [
    "from mlxtend.preprocessing import minmax_scaling\n",
    "\n",
    "#Normalizace datasetu\n",
    "X_mlxtend_normalized = minmax_scaling(X.values, columns=[0, 1, 2, 3, 4, 5])"
   ]
  },
  {
   "cell_type": "code",
   "execution_count": 22,
   "metadata": {},
   "outputs": [],
   "source": [
    "import mlxtend.cluster\n",
    "#vytvoreni modelu, trenovani a zarazeni\n",
    "kmeans_mlxtend = mlxtend.cluster.Kmeans(k=3)\n",
    "kmeans_mlxtend.fit(X_normalized)\n",
    "kmeans_mlxtend_clusters = kmeans_mlxtend.predict(X_normalized)"
   ]
  },
  {
   "cell_type": "markdown",
   "metadata": {},
   "source": [
    "Porovnani s originalnim datasetem"
   ]
  },
  {
   "cell_type": "code",
   "execution_count": 23,
   "metadata": {},
   "outputs": [
    {
     "data": {
      "text/plain": [
       "<AxesSubplot:title={'center':'Mlxtend k-Means'}, xlabel='culmen_length_mm', ylabel='culmen_depth_mm'>"
      ]
     },
     "execution_count": 23,
     "metadata": {},
     "output_type": "execute_result"
    },
    {
     "data": {
      "image/png": "[encoded data removed]",
      "text/plain": [
       "<Figure size 864x360 with 2 Axes>"
      ]
     },
     "metadata": {
      "needs_background": "light"
     },
     "output_type": "display_data"
    }
   ],
   "source": [
    "df_mlxtend= df.copy(deep=True)\n",
    "df_mlxtend['k-Means'] = kmeans_mlxtend_clusters\n",
    "plt.figure(figsize=(12,5))\n",
    "plt.subplot(1,2,1).set_title('Original Classe')\n",
    "sns.scatterplot(x='culmen_length_mm', y='culmen_depth_mm', hue='species', style='species', palette= 'pastel',data=df)\n",
    "plt.subplot(1,2,2).set_title('Mlxtend k-Means')\n",
    "sns.scatterplot(x='culmen_length_mm', y='culmen_depth_mm', hue='k-Means', style='k-Means', palette= 'pastel',data=df_mlxtend)"
   ]
  },
  {
   "cell_type": "code",
   "execution_count": 24,
   "metadata": {},
   "outputs": [
    {
     "name": "stdout",
     "output_type": "stream",
     "text": [
      "Original data classes:\n",
      "Adelie       146\n",
      "Gentoo       119\n",
      "Chinstrap     68\n",
      "Name: species, dtype: int64\n",
      "-----------------------------\n",
      "Predicted data classes:\n",
      "1    134\n",
      "2    127\n",
      "0     72\n",
      "Name: k-Means, dtype: int64\n"
     ]
    }
   ],
   "source": [
    "print('Original data classes:')\n",
    "print(df['species'].value_counts())\n",
    "print('-----------------------------')\n",
    "print('Predicted data classes:')\n",
    "print(df_mlxtend['k-Means'].value_counts())"
   ]
  },
  {
   "cell_type": "markdown",
   "metadata": {},
   "source": [
    "## Použití knihovny PyCaret"
   ]
  },
  {
   "cell_type": "code",
   "execution_count": 25,
   "metadata": {},
   "outputs": [],
   "source": [
    "from pycaret.clustering import *"
   ]
  },
  {
   "cell_type": "code",
   "execution_count": 26,
   "metadata": {},
   "outputs": [
    {
     "data": {
      "text/html": [
       "<style type=\"text/css\">\n",
       "#T_df8c8_row21_col1 {\n",
       "  background-color: lightgreen;\n",
       "}\n",
       "</style>\n",
       "<table id=\"T_df8c8\">\n",
       "  <thead>\n",
       "    <tr>\n",
       "      <th class=\"blank level0\" >&nbsp;</th>\n",
       "      <th id=\"T_df8c8_level0_col0\" class=\"col_heading level0 col0\" >Description</th>\n",
       "      <th id=\"T_df8c8_level0_col1\" class=\"col_heading level0 col1\" >Value</th>\n",
       "    </tr>\n",
       "  </thead>\n",
       "  <tbody>\n",
       "    <tr>\n",
       "      <th id=\"T_df8c8_level0_row0\" class=\"row_heading level0 row0\" >0</th>\n",
       "      <td id=\"T_df8c8_row0_col0\" class=\"data row0 col0\" >session_id</td>\n",
       "      <td id=\"T_df8c8_row0_col1\" class=\"data row0 col1\" >184</td>\n",
       "    </tr>\n",
       "    <tr>\n",
       "      <th id=\"T_df8c8_level0_row1\" class=\"row_heading level0 row1\" >1</th>\n",
       "      <td id=\"T_df8c8_row1_col0\" class=\"data row1 col0\" >Original Data</td>\n",
       "      <td id=\"T_df8c8_row1_col1\" class=\"data row1 col1\" >(333, 7)</td>\n",
       "    </tr>\n",
       "    <tr>\n",
       "      <th id=\"T_df8c8_level0_row2\" class=\"row_heading level0 row2\" >2</th>\n",
       "      <td id=\"T_df8c8_row2_col0\" class=\"data row2 col0\" >Missing Values</td>\n",
       "      <td id=\"T_df8c8_row2_col1\" class=\"data row2 col1\" >False</td>\n",
       "    </tr>\n",
       "    <tr>\n",
       "      <th id=\"T_df8c8_level0_row3\" class=\"row_heading level0 row3\" >3</th>\n",
       "      <td id=\"T_df8c8_row3_col0\" class=\"data row3 col0\" >Numeric Features</td>\n",
       "      <td id=\"T_df8c8_row3_col1\" class=\"data row3 col1\" >4</td>\n",
       "    </tr>\n",
       "    <tr>\n",
       "      <th id=\"T_df8c8_level0_row4\" class=\"row_heading level0 row4\" >4</th>\n",
       "      <td id=\"T_df8c8_row4_col0\" class=\"data row4 col0\" >Categorical Features</td>\n",
       "      <td id=\"T_df8c8_row4_col1\" class=\"data row4 col1\" >2</td>\n",
       "    </tr>\n",
       "    <tr>\n",
       "      <th id=\"T_df8c8_level0_row5\" class=\"row_heading level0 row5\" >5</th>\n",
       "      <td id=\"T_df8c8_row5_col0\" class=\"data row5 col0\" >Ordinal Features</td>\n",
       "      <td id=\"T_df8c8_row5_col1\" class=\"data row5 col1\" >False</td>\n",
       "    </tr>\n",
       "    <tr>\n",
       "      <th id=\"T_df8c8_level0_row6\" class=\"row_heading level0 row6\" >6</th>\n",
       "      <td id=\"T_df8c8_row6_col0\" class=\"data row6 col0\" >High Cardinality Features</td>\n",
       "      <td id=\"T_df8c8_row6_col1\" class=\"data row6 col1\" >False</td>\n",
       "    </tr>\n",
       "    <tr>\n",
       "      <th id=\"T_df8c8_level0_row7\" class=\"row_heading level0 row7\" >7</th>\n",
       "      <td id=\"T_df8c8_row7_col0\" class=\"data row7 col0\" >High Cardinality Method</td>\n",
       "      <td id=\"T_df8c8_row7_col1\" class=\"data row7 col1\" >None</td>\n",
       "    </tr>\n",
       "    <tr>\n",
       "      <th id=\"T_df8c8_level0_row8\" class=\"row_heading level0 row8\" >8</th>\n",
       "      <td id=\"T_df8c8_row8_col0\" class=\"data row8 col0\" >Transformed Data</td>\n",
       "      <td id=\"T_df8c8_row8_col1\" class=\"data row8 col1\" >(333, 9)</td>\n",
       "    </tr>\n",
       "    <tr>\n",
       "      <th id=\"T_df8c8_level0_row9\" class=\"row_heading level0 row9\" >9</th>\n",
       "      <td id=\"T_df8c8_row9_col0\" class=\"data row9 col0\" >CPU Jobs</td>\n",
       "      <td id=\"T_df8c8_row9_col1\" class=\"data row9 col1\" >-1</td>\n",
       "    </tr>\n",
       "    <tr>\n",
       "      <th id=\"T_df8c8_level0_row10\" class=\"row_heading level0 row10\" >10</th>\n",
       "      <td id=\"T_df8c8_row10_col0\" class=\"data row10 col0\" >Use GPU</td>\n",
       "      <td id=\"T_df8c8_row10_col1\" class=\"data row10 col1\" >False</td>\n",
       "    </tr>\n",
       "    <tr>\n",
       "      <th id=\"T_df8c8_level0_row11\" class=\"row_heading level0 row11\" >11</th>\n",
       "      <td id=\"T_df8c8_row11_col0\" class=\"data row11 col0\" >Log Experiment</td>\n",
       "      <td id=\"T_df8c8_row11_col1\" class=\"data row11 col1\" >False</td>\n",
       "    </tr>\n",
       "    <tr>\n",
       "      <th id=\"T_df8c8_level0_row12\" class=\"row_heading level0 row12\" >12</th>\n",
       "      <td id=\"T_df8c8_row12_col0\" class=\"data row12 col0\" >Experiment Name</td>\n",
       "      <td id=\"T_df8c8_row12_col1\" class=\"data row12 col1\" >cluster-default-name</td>\n",
       "    </tr>\n",
       "    <tr>\n",
       "      <th id=\"T_df8c8_level0_row13\" class=\"row_heading level0 row13\" >13</th>\n",
       "      <td id=\"T_df8c8_row13_col0\" class=\"data row13 col0\" >USI</td>\n",
       "      <td id=\"T_df8c8_row13_col1\" class=\"data row13 col1\" >0749</td>\n",
       "    </tr>\n",
       "    <tr>\n",
       "      <th id=\"T_df8c8_level0_row14\" class=\"row_heading level0 row14\" >14</th>\n",
       "      <td id=\"T_df8c8_row14_col0\" class=\"data row14 col0\" >Imputation Type</td>\n",
       "      <td id=\"T_df8c8_row14_col1\" class=\"data row14 col1\" >simple</td>\n",
       "    </tr>\n",
       "    <tr>\n",
       "      <th id=\"T_df8c8_level0_row15\" class=\"row_heading level0 row15\" >15</th>\n",
       "      <td id=\"T_df8c8_row15_col0\" class=\"data row15 col0\" >Iterative Imputation Iteration</td>\n",
       "      <td id=\"T_df8c8_row15_col1\" class=\"data row15 col1\" >None</td>\n",
       "    </tr>\n",
       "    <tr>\n",
       "      <th id=\"T_df8c8_level0_row16\" class=\"row_heading level0 row16\" >16</th>\n",
       "      <td id=\"T_df8c8_row16_col0\" class=\"data row16 col0\" >Numeric Imputer</td>\n",
       "      <td id=\"T_df8c8_row16_col1\" class=\"data row16 col1\" >mean</td>\n",
       "    </tr>\n",
       "    <tr>\n",
       "      <th id=\"T_df8c8_level0_row17\" class=\"row_heading level0 row17\" >17</th>\n",
       "      <td id=\"T_df8c8_row17_col0\" class=\"data row17 col0\" >Iterative Imputation Numeric Model</td>\n",
       "      <td id=\"T_df8c8_row17_col1\" class=\"data row17 col1\" >None</td>\n",
       "    </tr>\n",
       "    <tr>\n",
       "      <th id=\"T_df8c8_level0_row18\" class=\"row_heading level0 row18\" >18</th>\n",
       "      <td id=\"T_df8c8_row18_col0\" class=\"data row18 col0\" >Categorical Imputer</td>\n",
       "      <td id=\"T_df8c8_row18_col1\" class=\"data row18 col1\" >mode</td>\n",
       "    </tr>\n",
       "    <tr>\n",
       "      <th id=\"T_df8c8_level0_row19\" class=\"row_heading level0 row19\" >19</th>\n",
       "      <td id=\"T_df8c8_row19_col0\" class=\"data row19 col0\" >Iterative Imputation Categorical Model</td>\n",
       "      <td id=\"T_df8c8_row19_col1\" class=\"data row19 col1\" >None</td>\n",
       "    </tr>\n",
       "    <tr>\n",
       "      <th id=\"T_df8c8_level0_row20\" class=\"row_heading level0 row20\" >20</th>\n",
       "      <td id=\"T_df8c8_row20_col0\" class=\"data row20 col0\" >Unknown Categoricals Handling</td>\n",
       "      <td id=\"T_df8c8_row20_col1\" class=\"data row20 col1\" >least_frequent</td>\n",
       "    </tr>\n",
       "    <tr>\n",
       "      <th id=\"T_df8c8_level0_row21\" class=\"row_heading level0 row21\" >21</th>\n",
       "      <td id=\"T_df8c8_row21_col0\" class=\"data row21 col0\" >Normalize</td>\n",
       "      <td id=\"T_df8c8_row21_col1\" class=\"data row21 col1\" >True</td>\n",
       "    </tr>\n",
       "    <tr>\n",
       "      <th id=\"T_df8c8_level0_row22\" class=\"row_heading level0 row22\" >22</th>\n",
       "      <td id=\"T_df8c8_row22_col0\" class=\"data row22 col0\" >Normalize Method</td>\n",
       "      <td id=\"T_df8c8_row22_col1\" class=\"data row22 col1\" >zscore</td>\n",
       "    </tr>\n",
       "    <tr>\n",
       "      <th id=\"T_df8c8_level0_row23\" class=\"row_heading level0 row23\" >23</th>\n",
       "      <td id=\"T_df8c8_row23_col0\" class=\"data row23 col0\" >Transformation</td>\n",
       "      <td id=\"T_df8c8_row23_col1\" class=\"data row23 col1\" >False</td>\n",
       "    </tr>\n",
       "    <tr>\n",
       "      <th id=\"T_df8c8_level0_row24\" class=\"row_heading level0 row24\" >24</th>\n",
       "      <td id=\"T_df8c8_row24_col0\" class=\"data row24 col0\" >Transformation Method</td>\n",
       "      <td id=\"T_df8c8_row24_col1\" class=\"data row24 col1\" >None</td>\n",
       "    </tr>\n",
       "    <tr>\n",
       "      <th id=\"T_df8c8_level0_row25\" class=\"row_heading level0 row25\" >25</th>\n",
       "      <td id=\"T_df8c8_row25_col0\" class=\"data row25 col0\" >PCA</td>\n",
       "      <td id=\"T_df8c8_row25_col1\" class=\"data row25 col1\" >False</td>\n",
       "    </tr>\n",
       "    <tr>\n",
       "      <th id=\"T_df8c8_level0_row26\" class=\"row_heading level0 row26\" >26</th>\n",
       "      <td id=\"T_df8c8_row26_col0\" class=\"data row26 col0\" >PCA Method</td>\n",
       "      <td id=\"T_df8c8_row26_col1\" class=\"data row26 col1\" >None</td>\n",
       "    </tr>\n",
       "    <tr>\n",
       "      <th id=\"T_df8c8_level0_row27\" class=\"row_heading level0 row27\" >27</th>\n",
       "      <td id=\"T_df8c8_row27_col0\" class=\"data row27 col0\" >PCA Components</td>\n",
       "      <td id=\"T_df8c8_row27_col1\" class=\"data row27 col1\" >None</td>\n",
       "    </tr>\n",
       "    <tr>\n",
       "      <th id=\"T_df8c8_level0_row28\" class=\"row_heading level0 row28\" >28</th>\n",
       "      <td id=\"T_df8c8_row28_col0\" class=\"data row28 col0\" >Ignore Low Variance</td>\n",
       "      <td id=\"T_df8c8_row28_col1\" class=\"data row28 col1\" >False</td>\n",
       "    </tr>\n",
       "    <tr>\n",
       "      <th id=\"T_df8c8_level0_row29\" class=\"row_heading level0 row29\" >29</th>\n",
       "      <td id=\"T_df8c8_row29_col0\" class=\"data row29 col0\" >Combine Rare Levels</td>\n",
       "      <td id=\"T_df8c8_row29_col1\" class=\"data row29 col1\" >False</td>\n",
       "    </tr>\n",
       "    <tr>\n",
       "      <th id=\"T_df8c8_level0_row30\" class=\"row_heading level0 row30\" >30</th>\n",
       "      <td id=\"T_df8c8_row30_col0\" class=\"data row30 col0\" >Rare Level Threshold</td>\n",
       "      <td id=\"T_df8c8_row30_col1\" class=\"data row30 col1\" >None</td>\n",
       "    </tr>\n",
       "    <tr>\n",
       "      <th id=\"T_df8c8_level0_row31\" class=\"row_heading level0 row31\" >31</th>\n",
       "      <td id=\"T_df8c8_row31_col0\" class=\"data row31 col0\" >Numeric Binning</td>\n",
       "      <td id=\"T_df8c8_row31_col1\" class=\"data row31 col1\" >False</td>\n",
       "    </tr>\n",
       "    <tr>\n",
       "      <th id=\"T_df8c8_level0_row32\" class=\"row_heading level0 row32\" >32</th>\n",
       "      <td id=\"T_df8c8_row32_col0\" class=\"data row32 col0\" >Remove Outliers</td>\n",
       "      <td id=\"T_df8c8_row32_col1\" class=\"data row32 col1\" >False</td>\n",
       "    </tr>\n",
       "    <tr>\n",
       "      <th id=\"T_df8c8_level0_row33\" class=\"row_heading level0 row33\" >33</th>\n",
       "      <td id=\"T_df8c8_row33_col0\" class=\"data row33 col0\" >Outliers Threshold</td>\n",
       "      <td id=\"T_df8c8_row33_col1\" class=\"data row33 col1\" >None</td>\n",
       "    </tr>\n",
       "    <tr>\n",
       "      <th id=\"T_df8c8_level0_row34\" class=\"row_heading level0 row34\" >34</th>\n",
       "      <td id=\"T_df8c8_row34_col0\" class=\"data row34 col0\" >Remove Multicollinearity</td>\n",
       "      <td id=\"T_df8c8_row34_col1\" class=\"data row34 col1\" >False</td>\n",
       "    </tr>\n",
       "    <tr>\n",
       "      <th id=\"T_df8c8_level0_row35\" class=\"row_heading level0 row35\" >35</th>\n",
       "      <td id=\"T_df8c8_row35_col0\" class=\"data row35 col0\" >Multicollinearity Threshold</td>\n",
       "      <td id=\"T_df8c8_row35_col1\" class=\"data row35 col1\" >None</td>\n",
       "    </tr>\n",
       "    <tr>\n",
       "      <th id=\"T_df8c8_level0_row36\" class=\"row_heading level0 row36\" >36</th>\n",
       "      <td id=\"T_df8c8_row36_col0\" class=\"data row36 col0\" >Remove Perfect Collinearity</td>\n",
       "      <td id=\"T_df8c8_row36_col1\" class=\"data row36 col1\" >False</td>\n",
       "    </tr>\n",
       "    <tr>\n",
       "      <th id=\"T_df8c8_level0_row37\" class=\"row_heading level0 row37\" >37</th>\n",
       "      <td id=\"T_df8c8_row37_col0\" class=\"data row37 col0\" >Clustering</td>\n",
       "      <td id=\"T_df8c8_row37_col1\" class=\"data row37 col1\" >False</td>\n",
       "    </tr>\n",
       "    <tr>\n",
       "      <th id=\"T_df8c8_level0_row38\" class=\"row_heading level0 row38\" >38</th>\n",
       "      <td id=\"T_df8c8_row38_col0\" class=\"data row38 col0\" >Clustering Iteration</td>\n",
       "      <td id=\"T_df8c8_row38_col1\" class=\"data row38 col1\" >None</td>\n",
       "    </tr>\n",
       "    <tr>\n",
       "      <th id=\"T_df8c8_level0_row39\" class=\"row_heading level0 row39\" >39</th>\n",
       "      <td id=\"T_df8c8_row39_col0\" class=\"data row39 col0\" >Polynomial Features</td>\n",
       "      <td id=\"T_df8c8_row39_col1\" class=\"data row39 col1\" >False</td>\n",
       "    </tr>\n",
       "    <tr>\n",
       "      <th id=\"T_df8c8_level0_row40\" class=\"row_heading level0 row40\" >40</th>\n",
       "      <td id=\"T_df8c8_row40_col0\" class=\"data row40 col0\" >Polynomial Degree</td>\n",
       "      <td id=\"T_df8c8_row40_col1\" class=\"data row40 col1\" >None</td>\n",
       "    </tr>\n",
       "    <tr>\n",
       "      <th id=\"T_df8c8_level0_row41\" class=\"row_heading level0 row41\" >41</th>\n",
       "      <td id=\"T_df8c8_row41_col0\" class=\"data row41 col0\" >Trignometry Features</td>\n",
       "      <td id=\"T_df8c8_row41_col1\" class=\"data row41 col1\" >False</td>\n",
       "    </tr>\n",
       "    <tr>\n",
       "      <th id=\"T_df8c8_level0_row42\" class=\"row_heading level0 row42\" >42</th>\n",
       "      <td id=\"T_df8c8_row42_col0\" class=\"data row42 col0\" >Polynomial Threshold</td>\n",
       "      <td id=\"T_df8c8_row42_col1\" class=\"data row42 col1\" >None</td>\n",
       "    </tr>\n",
       "    <tr>\n",
       "      <th id=\"T_df8c8_level0_row43\" class=\"row_heading level0 row43\" >43</th>\n",
       "      <td id=\"T_df8c8_row43_col0\" class=\"data row43 col0\" >Group Features</td>\n",
       "      <td id=\"T_df8c8_row43_col1\" class=\"data row43 col1\" >False</td>\n",
       "    </tr>\n",
       "    <tr>\n",
       "      <th id=\"T_df8c8_level0_row44\" class=\"row_heading level0 row44\" >44</th>\n",
       "      <td id=\"T_df8c8_row44_col0\" class=\"data row44 col0\" >Feature Selection</td>\n",
       "      <td id=\"T_df8c8_row44_col1\" class=\"data row44 col1\" >False</td>\n",
       "    </tr>\n",
       "    <tr>\n",
       "      <th id=\"T_df8c8_level0_row45\" class=\"row_heading level0 row45\" >45</th>\n",
       "      <td id=\"T_df8c8_row45_col0\" class=\"data row45 col0\" >Feature Selection Method</td>\n",
       "      <td id=\"T_df8c8_row45_col1\" class=\"data row45 col1\" >classic</td>\n",
       "    </tr>\n",
       "    <tr>\n",
       "      <th id=\"T_df8c8_level0_row46\" class=\"row_heading level0 row46\" >46</th>\n",
       "      <td id=\"T_df8c8_row46_col0\" class=\"data row46 col0\" >Features Selection Threshold</td>\n",
       "      <td id=\"T_df8c8_row46_col1\" class=\"data row46 col1\" >None</td>\n",
       "    </tr>\n",
       "    <tr>\n",
       "      <th id=\"T_df8c8_level0_row47\" class=\"row_heading level0 row47\" >47</th>\n",
       "      <td id=\"T_df8c8_row47_col0\" class=\"data row47 col0\" >Feature Interaction</td>\n",
       "      <td id=\"T_df8c8_row47_col1\" class=\"data row47 col1\" >False</td>\n",
       "    </tr>\n",
       "    <tr>\n",
       "      <th id=\"T_df8c8_level0_row48\" class=\"row_heading level0 row48\" >48</th>\n",
       "      <td id=\"T_df8c8_row48_col0\" class=\"data row48 col0\" >Feature Ratio</td>\n",
       "      <td id=\"T_df8c8_row48_col1\" class=\"data row48 col1\" >False</td>\n",
       "    </tr>\n",
       "    <tr>\n",
       "      <th id=\"T_df8c8_level0_row49\" class=\"row_heading level0 row49\" >49</th>\n",
       "      <td id=\"T_df8c8_row49_col0\" class=\"data row49 col0\" >Interaction Threshold</td>\n",
       "      <td id=\"T_df8c8_row49_col1\" class=\"data row49 col1\" >None</td>\n",
       "    </tr>\n",
       "  </tbody>\n",
       "</table>\n"
      ],
      "text/plain": [
       "<pandas.io.formats.style.Styler at 0xffff50898af0>"
      ]
     },
     "metadata": {},
     "output_type": "display_data"
    }
   ],
   "source": [
    "#predzpracovani dat, nastavi se normalizace na true, ktery atribut se ma ignorovat, aby se provedla shlukova analyza na jeho zaklade a interaktivni mod vypnuty \n",
    "exp = setup(df, normalize=True, ignore_features=['species'], silent=True)"
   ]
  },
  {
   "cell_type": "markdown",
   "metadata": {},
   "source": [
    "## K-Means"
   ]
  },
  {
   "cell_type": "code",
   "execution_count": 27,
   "metadata": {},
   "outputs": [
    {
     "data": {
      "text/html": [
       "<div>\n",
       "<style scoped>\n",
       "    .dataframe tbody tr th:only-of-type {\n",
       "        vertical-align: middle;\n",
       "    }\n",
       "\n",
       "    .dataframe tbody tr th {\n",
       "        vertical-align: top;\n",
       "    }\n",
       "\n",
       "    .dataframe thead th {\n",
       "        text-align: right;\n",
       "    }\n",
       "</style>\n",
       "<table border=\"1\" class=\"dataframe\">\n",
       "  <thead>\n",
       "    <tr style=\"text-align: right;\">\n",
       "      <th></th>\n",
       "      <th>Silhouette</th>\n",
       "      <th>Calinski-Harabasz</th>\n",
       "      <th>Davies-Bouldin</th>\n",
       "      <th>Homogeneity</th>\n",
       "      <th>Rand Index</th>\n",
       "      <th>Completeness</th>\n",
       "    </tr>\n",
       "  </thead>\n",
       "  <tbody>\n",
       "    <tr>\n",
       "      <th>0</th>\n",
       "      <td>0.3809</td>\n",
       "      <td>260.5776</td>\n",
       "      <td>1.0267</td>\n",
       "      <td>0</td>\n",
       "      <td>0</td>\n",
       "      <td>0</td>\n",
       "    </tr>\n",
       "  </tbody>\n",
       "</table>\n",
       "</div>"
      ],
      "text/plain": [
       "   Silhouette  Calinski-Harabasz  Davies-Bouldin  Homogeneity  Rand Index  \\\n",
       "0      0.3809           260.5776          1.0267            0           0   \n",
       "\n",
       "   Completeness  \n",
       "0             0  "
      ]
     },
     "metadata": {},
     "output_type": "display_data"
    }
   ],
   "source": [
    "#vytvoreni modelu, trenovani a predikce\n",
    "k_means = create_model('kmeans')"
   ]
  },
  {
   "cell_type": "code",
   "execution_count": 28,
   "metadata": {},
   "outputs": [
    {
     "name": "stderr",
     "output_type": "stream",
     "text": [
      "findfont: Font family ['sans-serif'] not found. Falling back to DejaVu Sans.\n",
      "findfont: Generic family 'sans-serif' not found because none of the following families were found: Arial, Liberation Sans, Bitstream Vera Sans, sans-serif\n",
      "findfont: Font family ['sans-serif'] not found. Falling back to DejaVu Sans.\n",
      "findfont: Generic family 'sans-serif' not found because none of the following families were found: Arial, Liberation Sans, Bitstream Vera Sans, sans-serif\n",
      "findfont: Font family ['sans-serif'] not found. Falling back to DejaVu Sans.\n",
      "findfont: Generic family 'sans-serif' not found because none of the following families were found: Arial, Liberation Sans, Bitstream Vera Sans, sans-serif\n"
     ]
    },
    {
     "data": {
      "image/png": "[encoded data removed]",
      "text/plain": [
       "<Figure size 576x396 with 1 Axes>"
      ]
     },
     "metadata": {},
     "output_type": "display_data"
    }
   ],
   "source": [
    "#vykresleni grafu pro nepresnot v zavislosti na shluku\n",
    "plot_model(k_means, 'elbow')"
   ]
  },
  {
   "cell_type": "markdown",
   "metadata": {},
   "source": [
    "Jsou 3 druhy tucnaku, ale PyCaret nabizi 5 sluku jako optimalni hodnotu"
   ]
  },
  {
   "cell_type": "code",
   "execution_count": 29,
   "metadata": {},
   "outputs": [
    {
     "data": {
      "text/html": [
       "<div>\n",
       "<style scoped>\n",
       "    .dataframe tbody tr th:only-of-type {\n",
       "        vertical-align: middle;\n",
       "    }\n",
       "\n",
       "    .dataframe tbody tr th {\n",
       "        vertical-align: top;\n",
       "    }\n",
       "\n",
       "    .dataframe thead th {\n",
       "        text-align: right;\n",
       "    }\n",
       "</style>\n",
       "<table border=\"1\" class=\"dataframe\">\n",
       "  <thead>\n",
       "    <tr style=\"text-align: right;\">\n",
       "      <th></th>\n",
       "      <th>Silhouette</th>\n",
       "      <th>Calinski-Harabasz</th>\n",
       "      <th>Davies-Bouldin</th>\n",
       "      <th>Homogeneity</th>\n",
       "      <th>Rand Index</th>\n",
       "      <th>Completeness</th>\n",
       "    </tr>\n",
       "  </thead>\n",
       "  <tbody>\n",
       "    <tr>\n",
       "      <th>0</th>\n",
       "      <td>0.4148</td>\n",
       "      <td>291.32</td>\n",
       "      <td>0.9862</td>\n",
       "      <td>0</td>\n",
       "      <td>0</td>\n",
       "      <td>0</td>\n",
       "    </tr>\n",
       "  </tbody>\n",
       "</table>\n",
       "</div>"
      ],
      "text/plain": [
       "   Silhouette  Calinski-Harabasz  Davies-Bouldin  Homogeneity  Rand Index  \\\n",
       "0      0.4148             291.32          0.9862            0           0   \n",
       "\n",
       "   Completeness  \n",
       "0             0  "
      ]
     },
     "metadata": {},
     "output_type": "display_data"
    }
   ],
   "source": [
    "k_means2 = create_model('kmeans', num_clusters = 5)"
   ]
  },
  {
   "cell_type": "code",
   "execution_count": 58,
   "metadata": {},
   "outputs": [
    {
     "data": {
      "application/vnd.plotly.v1+json": {
       "config": {
        "plotlyServerURL": "https://plot.ly"
       },
       "data": [
        {
         "customdata": [
          [
           "Adelie"
          ],
          [
           "Adelie"
          ],
          [
           "Adelie"
          ],
          [
           "Adelie"
          ],
          [
           "Adelie"
          ],
          [
           "Adelie"
          ],
          [
           "Adelie"
          ],
          [
           "Adelie"
          ],
          [
           "Adelie"
          ],
          [
           "Adelie"
          ],
          [
           "Adelie"
          ],
          [
           "Adelie"
          ],
          [
           "Adelie"
          ],
          [
           "Adelie"
          ],
          [
           "Adelie"
          ],
          [
           "Adelie"
          ],
          [
           "Adelie"
          ],
          [
           "Adelie"
          ],
          [
           "Adelie"
          ],
          [
           "Adelie"
          ],
          [
           "Adelie"
          ],
          [
           "Adelie"
          ],
          [
           "Adelie"
          ],
          [
           "Adelie"
          ],
          [
           "Adelie"
          ],
          [
           "Adelie"
          ],
          [
           "Adelie"
          ],
          [
           "Adelie"
          ],
          [
           "Adelie"
          ],
          [
           "Adelie"
          ],
          [
           "Adelie"
          ],
          [
           "Adelie"
          ],
          [
           "Adelie"
          ],
          [
           "Adelie"
          ],
          [
           "Adelie"
          ],
          [
           "Adelie"
          ],
          [
           "Adelie"
          ],
          [
           "Adelie"
          ],
          [
           "Adelie"
          ],
          [
           "Adelie"
          ],
          [
           "Adelie"
          ],
          [
           "Adelie"
          ],
          [
           "Adelie"
          ],
          [
           "Adelie"
          ],
          [
           "Adelie"
          ],
          [
           "Adelie"
          ],
          [
           "Adelie"
          ],
          [
           "Adelie"
          ],
          [
           "Adelie"
          ],
          [
           "Adelie"
          ],
          [
           "Adelie"
          ],
          [
           "Adelie"
          ],
          [
           "Adelie"
          ],
          [
           "Adelie"
          ],
          [
           "Adelie"
          ],
          [
           "Adelie"
          ],
          [
           "Adelie"
          ],
          [
           "Adelie"
          ],
          [
           "Adelie"
          ],
          [
           "Adelie"
          ],
          [
           "Adelie"
          ],
          [
           "Adelie"
          ],
          [
           "Adelie"
          ],
          [
           "Adelie"
          ],
          [
           "Adelie"
          ],
          [
           "Adelie"
          ],
          [
           "Adelie"
          ],
          [
           "Adelie"
          ],
          [
           "Adelie"
          ],
          [
           null
          ],
          [
           "Adelie"
          ],
          [
           null
          ],
          [
           "Adelie"
          ],
          [
           null
          ]
         ],
         "hovertemplate": "Cluster=Cluster 0<br>PCA1=%{x}<br>PCA2=%{y}<br>Feature=%{customdata[0]}<extra></extra>",
         "legendgroup": "Cluster 0",
         "marker": {
          "color": "#636efa",
          "opacity": 0.5,
          "symbol": "circle"
         },
         "mode": "markers",
         "name": "Cluster 0",
         "orientation": "v",
         "showlegend": true,
         "textposition": "top center",
         "type": "scatter",
         "x": [
          -1.8139327764511108,
          -0.8406956791877747,
          -0.7395395636558533,
          -0.33413365483283997,
          -1.047355055809021,
          -0.27476245164871216,
          -1.5782493352890015,
          -1.8530524969100952,
          -1.6276707649230957,
          -1.4817906618118286,
          -0.06995302438735962,
          -0.933042049407959,
          -1.8778268098831177,
          -0.5942689180374146,
          -0.4258820116519928,
          -1.4087883234024048,
          -1.2500073909759521,
          -0.5934195518493652,
          -0.9550672769546509,
          -0.6437615156173706,
          -0.654476523399353,
          -0.8482145667076111,
          -0.12133924663066864,
          -1.223449468612671,
          -1.2066324949264526,
          -1.4102528095245361,
          -1.1505091190338135,
          -1.0750173330307007,
          -1.023651123046875,
          -1.7870665788650513,
          -0.7542526721954346,
          -1.1505558490753174,
          -1.1303702592849731,
          -1.3783354759216309,
          0.03358703851699829,
          -0.6818175911903381,
          -0.6230794787406921,
          -0.871145486831665,
          -0.6761138439178467,
          -1.627559781074524,
          -1.605366587638855,
          -1.5704528093338013,
          -0.37332427501678467,
          -1.55173659324646,
          -0.4714653491973877,
          -0.383087158203125,
          0.03892027959227562,
          -1.5533599853515625,
          -0.9378666281700134,
          -0.8561745285987854,
          -1.0228296518325806,
          -1.9216117858886719,
          -0.983418881893158,
          -1.4648091793060303,
          -1.550129771232605,
          -1.4645421504974365,
          -1.2846574783325195,
          -1.2065799236297607,
          -1.6549603939056396,
          -1.7959160804748535,
          -1.1715705394744873,
          -1.0014216899871826,
          -0.6433303356170654,
          -0.7978023886680603,
          -0.9235142469406128,
          -1.382023811340332,
          -1.4416836500167847,
          -1.9522199630737305,
          -1.8763251304626465,
          -1.9069863557815552,
          -0.8032203316688538,
          -0.5185196995735168,
          -0.8599094152450562,
          -1.51784086227417
         ],
         "xaxis": "x",
         "y": [
          0.44127485156059265,
          0.9426077604293823,
          0.7606515884399414,
          0.9447504878044128,
          0.5712692737579346,
          0.6893894672393799,
          0.7749663591384888,
          0.7006590366363525,
          1.331120491027832,
          0.45532211661338806,
          0.5245192646980286,
          0.868587076663971,
          0.5609020590782166,
          0.7553868889808655,
          1.1133586168289185,
          0.19114311039447784,
          0.41958245635032654,
          1.0214240550994873,
          0.6244416236877441,
          0.2675301730632782,
          0.31273019313812256,
          1.3822603225708008,
          1.0413694381713867,
          0.30607008934020996,
          0.7025817632675171,
          0.6798418164253235,
          1.2499854564666748,
          0.17255456745624542,
          0.40236392617225647,
          0.6063282489776611,
          0.5659497976303101,
          0.6863080859184265,
          0.9063735008239746,
          0.3325731158256531,
          0.6656339764595032,
          0.8065944314002991,
          0.5932489633560181,
          0.7227129340171814,
          0.5978145599365234,
          0.6937268376350403,
          0.507425844669342,
          0.9466900825500488,
          0.48055300116539,
          0.27636030316352844,
          0.8859636783599854,
          1.4675354957580566,
          0.8689215779304504,
          0.35703977942466736,
          0.44277772307395935,
          0.4886001944541931,
          0.6946592926979065,
          0.28962430357933044,
          0.4183342456817627,
          0.32269901037216187,
          0.8600098490715027,
          1.5374958515167236,
          -0.2636694014072418,
          0.028370562940835953,
          1.0899772644042969,
          0.13528883457183838,
          0.9585534930229187,
          2.0259244441986084,
          1.4761804342269897,
          1.5288724899291992,
          0.8399845361709595,
          0.47565749287605286,
          1.806540846824646,
          0.8342505693435669,
          1.1057723760604858,
          1.2818113565444946,
          0.918631374835968,
          0.8396559953689575,
          0.508720874786377,
          1.037660837173462
         ],
         "yaxis": "y"
        },
        {
         "customdata": [
          [
           "Gentoo"
          ],
          [
           "Gentoo"
          ],
          [
           "Gentoo"
          ],
          [
           "Gentoo"
          ],
          [
           "Gentoo"
          ],
          [
           "Gentoo"
          ],
          [
           "Gentoo"
          ],
          [
           "Gentoo"
          ],
          [
           "Gentoo"
          ],
          [
           "Gentoo"
          ],
          [
           "Gentoo"
          ],
          [
           "Gentoo"
          ],
          [
           "Gentoo"
          ],
          [
           "Gentoo"
          ],
          [
           "Gentoo"
          ],
          [
           "Gentoo"
          ],
          [
           "Gentoo"
          ],
          [
           "Chinstrap"
          ],
          [
           "Gentoo"
          ],
          [
           "Chinstrap"
          ],
          [
           "Gentoo"
          ],
          [
           "Chinstrap"
          ],
          [
           null
          ],
          [
           "Gentoo"
          ],
          [
           "Gentoo"
          ],
          [
           "Gentoo"
          ],
          [
           "Gentoo"
          ],
          [
           "Gentoo"
          ],
          [
           "Gentoo"
          ],
          [
           "Gentoo"
          ],
          [
           "Gentoo"
          ],
          [
           "Gentoo"
          ],
          [
           "Gentoo"
          ],
          [
           "Gentoo"
          ],
          [
           "Gentoo"
          ],
          [
           "Gentoo"
          ],
          [
           "Gentoo"
          ],
          [
           "Gentoo"
          ],
          [
           "Gentoo"
          ],
          [
           "Gentoo"
          ],
          [
           "Gentoo"
          ],
          [
           "Gentoo"
          ],
          [
           "Gentoo"
          ],
          [
           "Gentoo"
          ],
          [
           "Gentoo"
          ],
          [
           "Gentoo"
          ],
          [
           "Gentoo"
          ],
          [
           "Gentoo"
          ],
          [
           "Gentoo"
          ],
          [
           "Gentoo"
          ],
          [
           "Gentoo"
          ],
          [
           null
          ],
          [
           "Gentoo"
          ],
          [
           "Gentoo"
          ],
          [
           "Gentoo"
          ],
          [
           "Gentoo"
          ],
          [
           "Gentoo"
          ],
          [
           "Gentoo"
          ],
          [
           "Gentoo"
          ],
          [
           "Gentoo"
          ],
          [
           "Gentoo"
          ]
         ],
         "hovertemplate": "Cluster=Cluster 1<br>PCA1=%{x}<br>PCA2=%{y}<br>Feature=%{customdata[0]}<extra></extra>",
         "legendgroup": "Cluster 1",
         "marker": {
          "color": "#EF553B",
          "opacity": 0.5,
          "symbol": "circle"
         },
         "mode": "markers",
         "name": "Cluster 1",
         "orientation": "v",
         "showlegend": true,
         "textposition": "top center",
         "type": "scatter",
         "x": [
          3.2228097915649414,
          2.8899788856506348,
          3.5831692218780518,
          2.6723551750183105,
          2.573086738586426,
          2.656782865524292,
          2.0004541873931885,
          2.6059138774871826,
          2.835942268371582,
          2.816988468170166,
          3.2038300037384033,
          2.3302369117736816,
          3.2172353267669678,
          1.9868643283843994,
          2.9959700107574463,
          2.1912949085235596,
          2.7114553451538086,
          2.391716480255127,
          2.0856080055236816,
          2.7632086277008057,
          2.142260789871216,
          3.0272061824798584,
          3.0098378658294678,
          2.9550156593322754,
          2.7621872425079346,
          1.803137183189392,
          1.885184645652771,
          2.671494483947754,
          2.523078203201294,
          1.9787101745605469,
          2.9159529209136963,
          2.0618250370025635,
          2.8318679332733154,
          2.913177251815796,
          2.37679123878479,
          3.48484206199646,
          2.262331247329712,
          2.9144787788391113,
          3.034972667694092,
          2.0551180839538574,
          3.0435781478881836,
          2.953660726547241,
          2.743574857711792,
          2.631298303604126,
          2.754732847213745,
          1.9571223258972168,
          2.477818727493286,
          2.7227885723114014,
          2.3909800052642822,
          2.954068899154663,
          2.7247517108917236,
          3.873352289199829,
          1.6571420431137085,
          1.9319616556167603,
          2.7904322147369385,
          2.748478412628174,
          2.855299234390259,
          2.054093599319458,
          2.3032968044281006,
          2.619014263153076,
          2.1802585124969482
         ],
         "xaxis": "x",
         "y": [
          0.29585152864456177,
          0.47762492299079895,
          0.9720003604888916,
          0.4009925425052643,
          0.7338382005691528,
          -0.05206475406885147,
          0.29950278997421265,
          0.07771622389554977,
          0.5633981823921204,
          0.7030036449432373,
          1.3367154598236084,
          0.467617392539978,
          0.5394657850265503,
          -0.006829611025750637,
          0.10530143231153488,
          -0.0361059308052063,
          0.42927220463752747,
          -0.2153107076883316,
          0.28749901056289673,
          0.26188749074935913,
          0.03734806180000305,
          0.6552591323852539,
          0.7411670684814453,
          0.2310042530298233,
          1.052477478981018,
          0.07630234956741333,
          0.02920340932905674,
          -0.29164910316467285,
          0.3456636071205139,
          -0.15578345954418182,
          0.7740832567214966,
          -0.2619960606098175,
          0.5591749548912048,
          0.31201833486557007,
          -0.19444534182548523,
          0.7772258520126343,
          0.17083001136779785,
          0.8114678263664246,
          0.5961089134216309,
          0.015423968434333801,
          0.4586828649044037,
          -0.03173431009054184,
          0.504126250743866,
          0.456248015165329,
          0.5322222709655762,
          -0.17203478515148163,
          0.010481645353138447,
          0.2757410407066345,
          0.022131744772195816,
          1.0360069274902344,
          0.5233356952667236,
          1.6963551044464111,
          0.47974035143852234,
          0.26576945185661316,
          -0.04206983000040054,
          1.0430546998977661,
          0.5146318078041077,
          0.01330607756972313,
          0.4717318117618561,
          0.10228243470191956,
          0.5106748342514038
         ],
         "yaxis": "y"
        },
        {
         "customdata": [
          [
           "Gentoo"
          ],
          [
           "Gentoo"
          ],
          [
           "Gentoo"
          ],
          [
           "Gentoo"
          ],
          [
           "Gentoo"
          ],
          [
           "Gentoo"
          ],
          [
           "Gentoo"
          ],
          [
           "Gentoo"
          ],
          [
           "Gentoo"
          ],
          [
           "Gentoo"
          ],
          [
           "Gentoo"
          ],
          [
           "Gentoo"
          ],
          [
           "Gentoo"
          ],
          [
           "Gentoo"
          ],
          [
           null
          ],
          [
           "Gentoo"
          ],
          [
           "Gentoo"
          ],
          [
           "Gentoo"
          ],
          [
           "Chinstrap"
          ],
          [
           "Gentoo"
          ],
          [
           "Gentoo"
          ],
          [
           "Gentoo"
          ],
          [
           "Gentoo"
          ],
          [
           "Gentoo"
          ],
          [
           "Gentoo"
          ],
          [
           "Gentoo"
          ],
          [
           "Gentoo"
          ],
          [
           "Gentoo"
          ],
          [
           "Gentoo"
          ],
          [
           "Gentoo"
          ],
          [
           "Gentoo"
          ],
          [
           "Gentoo"
          ],
          [
           "Gentoo"
          ],
          [
           "Chinstrap"
          ],
          [
           "Gentoo"
          ],
          [
           "Chinstrap"
          ],
          [
           "Gentoo"
          ],
          [
           "Gentoo"
          ],
          [
           "Gentoo"
          ],
          [
           "Gentoo"
          ],
          [
           "Gentoo"
          ],
          [
           "Gentoo"
          ],
          [
           "Gentoo"
          ],
          [
           "Gentoo"
          ],
          [
           "Gentoo"
          ],
          [
           "Gentoo"
          ],
          [
           "Gentoo"
          ],
          [
           "Gentoo"
          ],
          [
           "Gentoo"
          ],
          [
           "Gentoo"
          ],
          [
           "Gentoo"
          ],
          [
           "Gentoo"
          ],
          [
           "Gentoo"
          ],
          [
           "Gentoo"
          ],
          [
           "Gentoo"
          ],
          [
           "Gentoo"
          ],
          [
           "Gentoo"
          ],
          [
           "Gentoo"
          ]
         ],
         "hovertemplate": "Cluster=Cluster 2<br>PCA1=%{x}<br>PCA2=%{y}<br>Feature=%{customdata[0]}<extra></extra>",
         "legendgroup": "Cluster 2",
         "marker": {
          "color": "#00cc96",
          "opacity": 0.5,
          "symbol": "circle"
         },
         "mode": "markers",
         "name": "Cluster 2",
         "orientation": "v",
         "showlegend": true,
         "textposition": "top center",
         "type": "scatter",
         "x": [
          1.7060688734054565,
          1.1865791082382202,
          1.9795639514923096,
          1.6499122381210327,
          1.1924309730529785,
          1.9154841899871826,
          1.0416778326034546,
          0.9789900183677673,
          1.1108158826828003,
          1.4955469369888306,
          1.8453221321105957,
          1.8752658367156982,
          1.751897931098938,
          2.0389840602874756,
          1.6171497106552124,
          1.5124824047088623,
          1.7868624925613403,
          1.2769458293914795,
          1.6103472709655762,
          0.7601382732391357,
          1.4014312028884888,
          1.7745078802108765,
          1.2136412858963013,
          1.487127661705017,
          1.489551305770874,
          0.9582758545875549,
          1.0739164352416992,
          1.7506250143051147,
          2.327302932739258,
          1.3283953666687012,
          1.6221611499786377,
          1.2067939043045044,
          1.4850361347198486,
          1.576920986175537,
          1.1490800380706787,
          1.5645382404327393,
          1.6865261793136597,
          1.7149596214294434,
          1.5873608589172363,
          2.0900535583496094,
          1.3215872049331665,
          1.6302508115768433,
          1.7269213199615479,
          1.548508882522583,
          1.0706567764282227,
          1.5185272693634033,
          1.1677755117416382,
          2.098714828491211,
          2.0006914138793945,
          1.1995363235473633,
          1.7387144565582275,
          1.950100064277649,
          1.8552361726760864,
          1.598278284072876,
          1.6078332662582397,
          1.5127222537994385,
          2.0033345222473145,
          1.8451107740402222
         ],
         "xaxis": "x",
         "y": [
          -1.4927093982696533,
          -1.5300334692001343,
          -1.6404694318771362,
          -1.241389513015747,
          -1.3586078882217407,
          -1.163734793663025,
          -1.64946711063385,
          -1.4669393301010132,
          -1.5825247764587402,
          -1.4785393476486206,
          -1.3150867223739624,
          -1.8775590658187866,
          -0.8886402249336243,
          -0.9801597595214844,
          -0.9974585771560669,
          -1.2111384868621826,
          -1.5610874891281128,
          -1.5989104509353638,
          -1.6763814687728882,
          -1.8575958013534546,
          -1.2114793062210083,
          -1.2254786491394043,
          -1.5613563060760498,
          -1.1784288883209229,
          -1.2281087636947632,
          -1.9473990201950073,
          -1.2662231922149658,
          -1.4966410398483276,
          -0.7817324995994568,
          -1.8821617364883423,
          -1.7050509452819824,
          -1.8434500694274902,
          -1.20372474193573,
          -1.535802960395813,
          -1.7292755842208862,
          -1.1739357709884644,
          -1.524335503578186,
          -0.9758991003036499,
          -1.1210424900054932,
          -1.0613070726394653,
          -1.0763181447982788,
          -1.0583983659744263,
          -0.7224370241165161,
          -1.2278163433074951,
          -1.4738662242889404,
          -1.236702799797058,
          -1.6116931438446045,
          -0.5636584758758545,
          -0.8071509599685669,
          -1.165903091430664,
          -1.08773672580719,
          -0.8708425164222717,
          -1.233658790588379,
          -1.3709137439727783,
          -1.5238486528396606,
          -1.4497498273849487,
          -1.3497806787490845,
          -1.1850260496139526
         ],
         "yaxis": "y"
        },
        {
         "customdata": [
          [
           "Adelie"
          ],
          [
           "Adelie"
          ],
          [
           "Adelie"
          ],
          [
           "Adelie"
          ],
          [
           "Adelie"
          ],
          [
           "Adelie"
          ],
          [
           "Adelie"
          ],
          [
           null
          ],
          [
           "Adelie"
          ],
          [
           "Adelie"
          ],
          [
           null
          ],
          [
           "Adelie"
          ],
          [
           null
          ],
          [
           "Adelie"
          ],
          [
           "Adelie"
          ],
          [
           "Adelie"
          ],
          [
           "Adelie"
          ],
          [
           "Adelie"
          ],
          [
           "Adelie"
          ],
          [
           "Adelie"
          ],
          [
           "Adelie"
          ],
          [
           "Adelie"
          ],
          [
           "Adelie"
          ],
          [
           "Adelie"
          ],
          [
           "Adelie"
          ],
          [
           "Adelie"
          ],
          [
           "Adelie"
          ],
          [
           "Adelie"
          ],
          [
           "Adelie"
          ],
          [
           "Adelie"
          ],
          [
           "Adelie"
          ],
          [
           "Adelie"
          ],
          [
           "Adelie"
          ],
          [
           "Adelie"
          ],
          [
           "Adelie"
          ],
          [
           "Adelie"
          ],
          [
           "Adelie"
          ],
          [
           "Adelie"
          ],
          [
           "Adelie"
          ],
          [
           "Adelie"
          ],
          [
           "Adelie"
          ],
          [
           "Adelie"
          ],
          [
           "Adelie"
          ],
          [
           "Adelie"
          ],
          [
           "Adelie"
          ],
          [
           "Adelie"
          ],
          [
           "Adelie"
          ],
          [
           "Adelie"
          ],
          [
           "Adelie"
          ],
          [
           "Adelie"
          ],
          [
           "Chinstrap"
          ],
          [
           "Chinstrap"
          ],
          [
           "Chinstrap"
          ],
          [
           "Adelie"
          ],
          [
           "Adelie"
          ],
          [
           "Chinstrap"
          ],
          [
           "Adelie"
          ],
          [
           "Adelie"
          ],
          [
           "Adelie"
          ],
          [
           "Adelie"
          ],
          [
           "Adelie"
          ],
          [
           "Adelie"
          ],
          [
           "Adelie"
          ],
          [
           "Adelie"
          ],
          [
           "Chinstrap"
          ],
          [
           "Chinstrap"
          ],
          [
           "Adelie"
          ],
          [
           "Adelie"
          ],
          [
           "Adelie"
          ],
          [
           "Adelie"
          ],
          [
           "Adelie"
          ],
          [
           "Adelie"
          ],
          [
           "Adelie"
          ],
          [
           "Adelie"
          ],
          [
           "Adelie"
          ],
          [
           "Adelie"
          ],
          [
           "Adelie"
          ],
          [
           "Adelie"
          ]
         ],
         "hovertemplate": "Cluster=Cluster 3<br>PCA1=%{x}<br>PCA2=%{y}<br>Feature=%{customdata[0]}<extra></extra>",
         "legendgroup": "Cluster 3",
         "marker": {
          "color": "#ab63fa",
          "opacity": 0.5,
          "symbol": "circle"
         },
         "mode": "markers",
         "name": "Cluster 3",
         "orientation": "v",
         "showlegend": true,
         "textposition": "top center",
         "type": "scatter",
         "x": [
          -1.7593809366226196,
          -1.8611646890640259,
          -1.451857089996338,
          -1.6950271129608154,
          -2.2376983165740967,
          -2.0267677307128906,
          -2.441459894180298,
          -1.7015007734298706,
          -2.187398672103882,
          -1.8030343055725098,
          -1.8622500896453857,
          -1.5167738199234009,
          -1.9951263666152954,
          -1.4525152444839478,
          -1.9278525114059448,
          -1.8927375078201294,
          -2.0424327850341797,
          -1.90207839012146,
          -2.4651405811309814,
          -1.7630696296691895,
          -2.4547665119171143,
          -2.183272123336792,
          -1.9545435905456543,
          -2.5609323978424072,
          -1.4361568689346313,
          -1.91947603225708,
          -1.7074406147003174,
          -2.2735776901245117,
          -1.4104695320129395,
          -2.0988080501556396,
          -1.8589130640029907,
          -1.6333051919937134,
          -1.4285837411880493,
          -2.0843141078948975,
          -1.8428573608398438,
          -1.2061980962753296,
          -1.9205012321472168,
          -2.0607690811157227,
          -2.2047903537750244,
          -1.1747825145721436,
          -2.535517692565918,
          -1.690537452697754,
          -1.5663634538650513,
          -1.0942926406860352,
          -1.5840493440628052,
          -2.0774993896484375,
          -1.8372477293014526,
          -0.7316152453422546,
          -1.4433608055114746,
          -2.6772122383117676,
          -1.4018248319625854,
          -1.6075729131698608,
          -1.6297322511672974,
          -1.7364970445632935,
          -1.7508416175842285,
          -1.5184118747711182,
          -1.7862300872802734,
          -2.2270889282226562,
          -1.85587477684021,
          -1.8689595460891724,
          -1.8618022203445435,
          -2.052604913711548,
          -2.13974928855896,
          -1.7360533475875854,
          -1.0800142288208008,
          -1.597380518913269,
          -1.852384328842163,
          -1.6582523584365845,
          -1.8503892421722412,
          -1.386207103729248,
          -1.8339719772338867,
          -0.6240289211273193,
          -1.3509141206741333,
          -1.9682555198669434,
          -2.0660929679870605,
          -1.952517032623291,
          -1.6983057260513306,
          -1.9982273578643799
         ],
         "xaxis": "x",
         "y": [
          -0.2380375862121582,
          -0.627659797668457,
          -0.7142075300216675,
          -0.5447236895561218,
          -0.7870120406150818,
          -0.36344823241233826,
          -0.8430633544921875,
          -0.2690247595310211,
          -1.1248828172683716,
          -0.12248776108026505,
          -0.8190567493438721,
          -0.5188722610473633,
          -0.3241223096847534,
          -0.6384446024894714,
          -0.6185232400894165,
          -0.6568455100059509,
          -0.8978487253189087,
          -0.44977661967277527,
          -0.5332313776016235,
          -0.6970379948616028,
          -0.6635720729827881,
          -1.0217738151550293,
          -0.680334210395813,
          -0.10962191224098206,
          -0.8222398161888123,
          0.010555915534496307,
          -1.1138914823532104,
          -1.1725798845291138,
          -0.9299259185791016,
          -1.5477391481399536,
          -1.4555864334106445,
          -0.971180260181427,
          -1.204192876815796,
          -1.3798797130584717,
          -0.4680904448032379,
          -1.6679378747940063,
          -1.3793121576309204,
          -0.8665743470191956,
          -0.6568953990936279,
          -0.8006970286369324,
          -0.7172214984893799,
          -1.0012311935424805,
          -0.7283951044082642,
          -0.8203572630882263,
          -1.4546775817871094,
          -1.252527117729187,
          -1.0976381301879883,
          -1.0165507793426514,
          -1.068995714187622,
          -1.6243947744369507,
          -0.6062082052230835,
          -0.7881035804748535,
          -0.6553522348403931,
          -0.9651116728782654,
          -0.9205638766288757,
          -0.40008896589279175,
          -0.6881551742553711,
          -0.46579092741012573,
          -0.400418758392334,
          -0.6277568340301514,
          -1.0237574577331543,
          -0.8898874521255493,
          -1.872317910194397,
          -0.708235502243042,
          -0.4407585561275482,
          -0.3771423399448395,
          -1.212585687637329,
          -1.623310923576355,
          -0.7247433662414551,
          -0.6322718858718872,
          -1.2358561754226685,
          -1.285668134689331,
          -0.8515893220901489,
          -1.057532787322998,
          -1.138339877128601,
          -0.8639270663261414,
          -0.7742816209793091,
          -1.6793993711471558
         ],
         "yaxis": "y"
        },
        {
         "customdata": [
          [
           "Chinstrap"
          ],
          [
           "Chinstrap"
          ],
          [
           "Chinstrap"
          ],
          [
           "Chinstrap"
          ],
          [
           "Chinstrap"
          ],
          [
           "Chinstrap"
          ],
          [
           "Chinstrap"
          ],
          [
           "Chinstrap"
          ],
          [
           "Chinstrap"
          ],
          [
           "Chinstrap"
          ],
          [
           "Chinstrap"
          ],
          [
           "Chinstrap"
          ],
          [
           "Chinstrap"
          ],
          [
           "Chinstrap"
          ],
          [
           "Chinstrap"
          ],
          [
           "Chinstrap"
          ],
          [
           "Chinstrap"
          ],
          [
           "Adelie"
          ],
          [
           "Adelie"
          ],
          [
           "Adelie"
          ],
          [
           "Adelie"
          ],
          [
           "Adelie"
          ],
          [
           "Adelie"
          ],
          [
           "Chinstrap"
          ],
          [
           "Chinstrap"
          ],
          [
           "Chinstrap"
          ],
          [
           "Chinstrap"
          ],
          [
           "Chinstrap"
          ],
          [
           "Chinstrap"
          ],
          [
           "Chinstrap"
          ],
          [
           "Chinstrap"
          ],
          [
           "Chinstrap"
          ],
          [
           "Chinstrap"
          ],
          [
           "Chinstrap"
          ],
          [
           "Chinstrap"
          ],
          [
           "Chinstrap"
          ],
          [
           "Chinstrap"
          ],
          [
           "Chinstrap"
          ],
          [
           "Chinstrap"
          ],
          [
           "Chinstrap"
          ],
          [
           "Chinstrap"
          ],
          [
           "Chinstrap"
          ],
          [
           "Chinstrap"
          ],
          [
           "Chinstrap"
          ],
          [
           "Chinstrap"
          ],
          [
           "Chinstrap"
          ],
          [
           "Chinstrap"
          ],
          [
           "Chinstrap"
          ],
          [
           "Chinstrap"
          ],
          [
           "Chinstrap"
          ],
          [
           "Chinstrap"
          ],
          [
           "Chinstrap"
          ],
          [
           "Chinstrap"
          ],
          [
           "Chinstrap"
          ],
          [
           "Chinstrap"
          ],
          [
           "Chinstrap"
          ],
          [
           "Chinstrap"
          ],
          [
           "Chinstrap"
          ],
          [
           "Chinstrap"
          ],
          [
           "Chinstrap"
          ],
          [
           "Chinstrap"
          ],
          [
           "Chinstrap"
          ]
         ],
         "hovertemplate": "Cluster=Cluster 4<br>PCA1=%{x}<br>PCA2=%{y}<br>Feature=%{customdata[0]}<extra></extra>",
         "legendgroup": "Cluster 4",
         "marker": {
          "color": "#FFA15A",
          "opacity": 0.5,
          "symbol": "circle"
         },
         "mode": "markers",
         "name": "Cluster 4",
         "orientation": "v",
         "showlegend": true,
         "textposition": "top center",
         "type": "scatter",
         "x": [
          -0.16133378446102142,
          -0.6912652254104614,
          -0.9169387221336365,
          -0.9444906115531921,
          -0.41293227672576904,
          -0.6008672118186951,
          0.005384714808315039,
          -0.743090808391571,
          0.24691668152809143,
          -1.2808760404586792,
          -1.0129281282424927,
          -0.18748459219932556,
          -0.7556573748588562,
          -0.511541485786438,
          -0.7017282843589783,
          -1.0230543613433838,
          -1.8383984565734863,
          -0.5649822950363159,
          -0.40615686774253845,
          -1.407479166984558,
          -0.6081192493438721,
          -0.48050105571746826,
          -1.023910641670227,
          -0.667065441608429,
          -0.020136777311563492,
          -0.5582301020622253,
          -0.3300997018814087,
          -1.002562165260315,
          -0.29415178298950195,
          -0.4465734660625458,
          -0.041751984506845474,
          -0.8627197742462158,
          -0.08557070791721344,
          0.327501118183136,
          -0.4623154401779175,
          -0.9652941823005676,
          -0.2334294617176056,
          -0.15711526572704315,
          -1.289056658744812,
          0.09907779097557068,
          -0.7473395466804504,
          -0.435227632522583,
          -0.8903331160545349,
          0.344066321849823,
          -0.40472277998924255,
          -0.9179264903068542,
          0.43462803959846497,
          0.061240095645189285,
          -0.4679728150367737,
          0.14620478451251984,
          -0.5700124502182007,
          0.37045350670814514,
          -0.6617982983589172,
          0.6030715107917786,
          -1.2767618894577026,
          0.4750199615955353,
          0.0325467623770237,
          -1.067988395690918,
          -0.56746906042099,
          -0.7676368355751038,
          0.41776561737060547,
          -0.18533024191856384
         ],
         "xaxis": "x",
         "y": [
          1.892269492149353,
          -0.19774073362350464,
          1.8935587406158447,
          -0.16582226753234863,
          1.0235086679458618,
          1.7825497388839722,
          1.3563109636306763,
          0.9023517370223999,
          1.4936519861221313,
          0.3691375255584717,
          0.0012327783042564988,
          1.4222302436828613,
          0.16759473085403442,
          1.9998329877853394,
          0.5552443265914917,
          0.13537199795246124,
          0.16212785243988037,
          0.08822424709796906,
          2.076939582824707,
          0.3346620500087738,
          1.7452141046524048,
          1.7894887924194336,
          0.14671744406223297,
          2.1747400760650635,
          1.8130569458007812,
          0.6245735287666321,
          1.5686025619506836,
          1.5197139978408813,
          0.2319689691066742,
          -0.26201552152633667,
          1.740771770477295,
          -0.10495555400848389,
          1.9447613954544067,
          1.8282500505447388,
          1.2886751890182495,
          -0.0204234030097723,
          1.9045641422271729,
          1.5569286346435547,
          0.5984352231025696,
          1.9578845500946045,
          -0.29168298840522766,
          1.6521974802017212,
          0.4087870419025421,
          1.5992683172225952,
          0.5210754871368408,
          0.13406914472579956,
          2.2906930446624756,
          2.630793571472168,
          0.7594184279441833,
          1.6666111946105957,
          1.4095202684402466,
          1.7287933826446533,
          0.42742395401000977,
          2.5138561725616455,
          -0.3918575346469879,
          2.30309796333313,
          1.7374602556228638,
          0.0025963098742067814,
          1.6682299375534058,
          -0.23508881032466888,
          2.373302459716797,
          -0.08279886841773987
         ],
         "yaxis": "y"
        }
       ],
       "layout": {
        "height": 600,
        "legend": {
         "title": {
          "text": "Cluster"
         },
         "tracegroupgap": 0
        },
        "margin": {
         "t": 60
        },
        "plot_bgcolor": "rgb(240,240,240)",
        "template": {
         "data": {
          "bar": [
           {
            "error_x": {
             "color": "#2a3f5f"
            },
            "error_y": {
             "color": "#2a3f5f"
            },
            "marker": {
             "line": {
              "color": "#E5ECF6",
              "width": 0.5
             },
             "pattern": {
              "fillmode": "overlay",
              "size": 10,
              "solidity": 0.2
             }
            },
            "type": "bar"
           }
          ],
          "barpolar": [
           {
            "marker": {
             "line": {
              "color": "#E5ECF6",
              "width": 0.5
             },
             "pattern": {
              "fillmode": "overlay",
              "size": 10,
              "solidity": 0.2
             }
            },
            "type": "barpolar"
           }
          ],
          "carpet": [
           {
            "aaxis": {
             "endlinecolor": "#2a3f5f",
             "gridcolor": "white",
             "linecolor": "white",
             "minorgridcolor": "white",
             "startlinecolor": "#2a3f5f"
            },
            "baxis": {
             "endlinecolor": "#2a3f5f",
             "gridcolor": "white",
             "linecolor": "white",
             "minorgridcolor": "white",
             "startlinecolor": "#2a3f5f"
            },
            "type": "carpet"
           }
          ],
          "choropleth": [
           {
            "colorbar": {
             "outlinewidth": 0,
             "ticks": ""
            },
            "type": "choropleth"
           }
          ],
          "contour": [
           {
            "colorbar": {
             "outlinewidth": 0,
             "ticks": ""
            },
            "colorscale": [
             [
              0,
              "#0d0887"
             ],
             [
              0.1111111111111111,
              "#46039f"
             ],
             [
              0.2222222222222222,
              "#7201a8"
             ],
             [
              0.3333333333333333,
              "#9c179e"
             ],
             [
              0.4444444444444444,
              "#bd3786"
             ],
             [
              0.5555555555555556,
              "#d8576b"
             ],
             [
              0.6666666666666666,
              "#ed7953"
             ],
             [
              0.7777777777777778,
              "#fb9f3a"
             ],
             [
              0.8888888888888888,
              "#fdca26"
             ],
             [
              1,
              "#f0f921"
             ]
            ],
            "type": "contour"
           }
          ],
          "contourcarpet": [
           {
            "colorbar": {
             "outlinewidth": 0,
             "ticks": ""
            },
            "type": "contourcarpet"
           }
          ],
          "heatmap": [
           {
            "colorbar": {
             "outlinewidth": 0,
             "ticks": ""
            },
            "colorscale": [
             [
              0,
              "#0d0887"
             ],
             [
              0.1111111111111111,
              "#46039f"
             ],
             [
              0.2222222222222222,
              "#7201a8"
             ],
             [
              0.3333333333333333,
              "#9c179e"
             ],
             [
              0.4444444444444444,
              "#bd3786"
             ],
             [
              0.5555555555555556,
              "#d8576b"
             ],
             [
              0.6666666666666666,
              "#ed7953"
             ],
             [
              0.7777777777777778,
              "#fb9f3a"
             ],
             [
              0.8888888888888888,
              "#fdca26"
             ],
             [
              1,
              "#f0f921"
             ]
            ],
            "type": "heatmap"
           }
          ],
          "heatmapgl": [
           {
            "colorbar": {
             "outlinewidth": 0,
             "ticks": ""
            },
            "colorscale": [
             [
              0,
              "#0d0887"
             ],
             [
              0.1111111111111111,
              "#46039f"
             ],
             [
              0.2222222222222222,
              "#7201a8"
             ],
             [
              0.3333333333333333,
              "#9c179e"
             ],
             [
              0.4444444444444444,
              "#bd3786"
             ],
             [
              0.5555555555555556,
              "#d8576b"
             ],
             [
              0.6666666666666666,
              "#ed7953"
             ],
             [
              0.7777777777777778,
              "#fb9f3a"
             ],
             [
              0.8888888888888888,
              "#fdca26"
             ],
             [
              1,
              "#f0f921"
             ]
            ],
            "type": "heatmapgl"
           }
          ],
          "histogram": [
           {
            "marker": {
             "pattern": {
              "fillmode": "overlay",
              "size": 10,
              "solidity": 0.2
             }
            },
            "type": "histogram"
           }
          ],
          "histogram2d": [
           {
            "colorbar": {
             "outlinewidth": 0,
             "ticks": ""
            },
            "colorscale": [
             [
              0,
              "#0d0887"
             ],
             [
              0.1111111111111111,
              "#46039f"
             ],
             [
              0.2222222222222222,
              "#7201a8"
             ],
             [
              0.3333333333333333,
              "#9c179e"
             ],
             [
              0.4444444444444444,
              "#bd3786"
             ],
             [
              0.5555555555555556,
              "#d8576b"
             ],
             [
              0.6666666666666666,
              "#ed7953"
             ],
             [
              0.7777777777777778,
              "#fb9f3a"
             ],
             [
              0.8888888888888888,
              "#fdca26"
             ],
             [
              1,
              "#f0f921"
             ]
            ],
            "type": "histogram2d"
           }
          ],
          "histogram2dcontour": [
           {
            "colorbar": {
             "outlinewidth": 0,
             "ticks": ""
            },
            "colorscale": [
             [
              0,
              "#0d0887"
             ],
             [
              0.1111111111111111,
              "#46039f"
             ],
             [
              0.2222222222222222,
              "#7201a8"
             ],
             [
              0.3333333333333333,
              "#9c179e"
             ],
             [
              0.4444444444444444,
              "#bd3786"
             ],
             [
              0.5555555555555556,
              "#d8576b"
             ],
             [
              0.6666666666666666,
              "#ed7953"
             ],
             [
              0.7777777777777778,
              "#fb9f3a"
             ],
             [
              0.8888888888888888,
              "#fdca26"
             ],
             [
              1,
              "#f0f921"
             ]
            ],
            "type": "histogram2dcontour"
           }
          ],
          "mesh3d": [
           {
            "colorbar": {
             "outlinewidth": 0,
             "ticks": ""
            },
            "type": "mesh3d"
           }
          ],
          "parcoords": [
           {
            "line": {
             "colorbar": {
              "outlinewidth": 0,
              "ticks": ""
             }
            },
            "type": "parcoords"
           }
          ],
          "pie": [
           {
            "automargin": true,
            "type": "pie"
           }
          ],
          "scatter": [
           {
            "fillpattern": {
             "fillmode": "overlay",
             "size": 10,
             "solidity": 0.2
            },
            "type": "scatter"
           }
          ],
          "scatter3d": [
           {
            "line": {
             "colorbar": {
              "outlinewidth": 0,
              "ticks": ""
             }
            },
            "marker": {
             "colorbar": {
              "outlinewidth": 0,
              "ticks": ""
             }
            },
            "type": "scatter3d"
           }
          ],
          "scattercarpet": [
           {
            "marker": {
             "colorbar": {
              "outlinewidth": 0,
              "ticks": ""
             }
            },
            "type": "scattercarpet"
           }
          ],
          "scattergeo": [
           {
            "marker": {
             "colorbar": {
              "outlinewidth": 0,
              "ticks": ""
             }
            },
            "type": "scattergeo"
           }
          ],
          "scattergl": [
           {
            "marker": {
             "colorbar": {
              "outlinewidth": 0,
              "ticks": ""
             }
            },
            "type": "scattergl"
           }
          ],
          "scattermapbox": [
           {
            "marker": {
             "colorbar": {
              "outlinewidth": 0,
              "ticks": ""
             }
            },
            "type": "scattermapbox"
           }
          ],
          "scatterpolar": [
           {
            "marker": {
             "colorbar": {
              "outlinewidth": 0,
              "ticks": ""
             }
            },
            "type": "scatterpolar"
           }
          ],
          "scatterpolargl": [
           {
            "marker": {
             "colorbar": {
              "outlinewidth": 0,
              "ticks": ""
             }
            },
            "type": "scatterpolargl"
           }
          ],
          "scatterternary": [
           {
            "marker": {
             "colorbar": {
              "outlinewidth": 0,
              "ticks": ""
             }
            },
            "type": "scatterternary"
           }
          ],
          "surface": [
           {
            "colorbar": {
             "outlinewidth": 0,
             "ticks": ""
            },
            "colorscale": [
             [
              0,
              "#0d0887"
             ],
             [
              0.1111111111111111,
              "#46039f"
             ],
             [
              0.2222222222222222,
              "#7201a8"
             ],
             [
              0.3333333333333333,
              "#9c179e"
             ],
             [
              0.4444444444444444,
              "#bd3786"
             ],
             [
              0.5555555555555556,
              "#d8576b"
             ],
             [
              0.6666666666666666,
              "#ed7953"
             ],
             [
              0.7777777777777778,
              "#fb9f3a"
             ],
             [
              0.8888888888888888,
              "#fdca26"
             ],
             [
              1,
              "#f0f921"
             ]
            ],
            "type": "surface"
           }
          ],
          "table": [
           {
            "cells": {
             "fill": {
              "color": "#EBF0F8"
             },
             "line": {
              "color": "white"
             }
            },
            "header": {
             "fill": {
              "color": "#C8D4E3"
             },
             "line": {
              "color": "white"
             }
            },
            "type": "table"
           }
          ]
         },
         "layout": {
          "annotationdefaults": {
           "arrowcolor": "#2a3f5f",
           "arrowhead": 0,
           "arrowwidth": 1
          },
          "autotypenumbers": "strict",
          "coloraxis": {
           "colorbar": {
            "outlinewidth": 0,
            "ticks": ""
           }
          },
          "colorscale": {
           "diverging": [
            [
             0,
             "#8e0152"
            ],
            [
             0.1,
             "#c51b7d"
            ],
            [
             0.2,
             "#de77ae"
            ],
            [
             0.3,
             "#f1b6da"
            ],
            [
             0.4,
             "#fde0ef"
            ],
            [
             0.5,
             "#f7f7f7"
            ],
            [
             0.6,
             "#e6f5d0"
            ],
            [
             0.7,
             "#b8e186"
            ],
            [
             0.8,
             "#7fbc41"
            ],
            [
             0.9,
             "#4d9221"
            ],
            [
             1,
             "#276419"
            ]
           ],
           "sequential": [
            [
             0,
             "#0d0887"
            ],
            [
             0.1111111111111111,
             "#46039f"
            ],
            [
             0.2222222222222222,
             "#7201a8"
            ],
            [
             0.3333333333333333,
             "#9c179e"
            ],
            [
             0.4444444444444444,
             "#bd3786"
            ],
            [
             0.5555555555555556,
             "#d8576b"
            ],
            [
             0.6666666666666666,
             "#ed7953"
            ],
            [
             0.7777777777777778,
             "#fb9f3a"
            ],
            [
             0.8888888888888888,
             "#fdca26"
            ],
            [
             1,
             "#f0f921"
            ]
           ],
           "sequentialminus": [
            [
             0,
             "#0d0887"
            ],
            [
             0.1111111111111111,
             "#46039f"
            ],
            [
             0.2222222222222222,
             "#7201a8"
            ],
            [
             0.3333333333333333,
             "#9c179e"
            ],
            [
             0.4444444444444444,
             "#bd3786"
            ],
            [
             0.5555555555555556,
             "#d8576b"
            ],
            [
             0.6666666666666666,
             "#ed7953"
            ],
            [
             0.7777777777777778,
             "#fb9f3a"
            ],
            [
             0.8888888888888888,
             "#fdca26"
            ],
            [
             1,
             "#f0f921"
            ]
           ]
          },
          "colorway": [
           "#636efa",
           "#EF553B",
           "#00cc96",
           "#ab63fa",
           "#FFA15A",
           "#19d3f3",
           "#FF6692",
           "#B6E880",
           "#FF97FF",
           "#FECB52"
          ],
          "font": {
           "color": "#2a3f5f"
          },
          "geo": {
           "bgcolor": "white",
           "lakecolor": "white",
           "landcolor": "#E5ECF6",
           "showlakes": true,
           "showland": true,
           "subunitcolor": "white"
          },
          "hoverlabel": {
           "align": "left"
          },
          "hovermode": "closest",
          "mapbox": {
           "style": "light"
          },
          "paper_bgcolor": "white",
          "plot_bgcolor": "#E5ECF6",
          "polar": {
           "angularaxis": {
            "gridcolor": "white",
            "linecolor": "white",
            "ticks": ""
           },
           "bgcolor": "#E5ECF6",
           "radialaxis": {
            "gridcolor": "white",
            "linecolor": "white",
            "ticks": ""
           }
          },
          "scene": {
           "xaxis": {
            "backgroundcolor": "#E5ECF6",
            "gridcolor": "white",
            "gridwidth": 2,
            "linecolor": "white",
            "showbackground": true,
            "ticks": "",
            "zerolinecolor": "white"
           },
           "yaxis": {
            "backgroundcolor": "#E5ECF6",
            "gridcolor": "white",
            "gridwidth": 2,
            "linecolor": "white",
            "showbackground": true,
            "ticks": "",
            "zerolinecolor": "white"
           },
           "zaxis": {
            "backgroundcolor": "#E5ECF6",
            "gridcolor": "white",
            "gridwidth": 2,
            "linecolor": "white",
            "showbackground": true,
            "ticks": "",
            "zerolinecolor": "white"
           }
          },
          "shapedefaults": {
           "line": {
            "color": "#2a3f5f"
           }
          },
          "ternary": {
           "aaxis": {
            "gridcolor": "white",
            "linecolor": "white",
            "ticks": ""
           },
           "baxis": {
            "gridcolor": "white",
            "linecolor": "white",
            "ticks": ""
           },
           "bgcolor": "#E5ECF6",
           "caxis": {
            "gridcolor": "white",
            "linecolor": "white",
            "ticks": ""
           }
          },
          "title": {
           "x": 0.05
          },
          "xaxis": {
           "automargin": true,
           "gridcolor": "white",
           "linecolor": "white",
           "ticks": "",
           "title": {
            "standoff": 15
           },
           "zerolinecolor": "white",
           "zerolinewidth": 2
          },
          "yaxis": {
           "automargin": true,
           "gridcolor": "white",
           "linecolor": "white",
           "ticks": "",
           "title": {
            "standoff": 15
           },
           "zerolinecolor": "white",
           "zerolinewidth": 2
          }
         }
        },
        "title": {
         "text": "2D Cluster PCA Plot"
        },
        "xaxis": {
         "anchor": "y",
         "domain": [
          0,
          1
         ],
         "title": {
          "text": "PCA1"
         }
        },
        "yaxis": {
         "anchor": "x",
         "domain": [
          0,
          1
         ],
         "title": {
          "text": "PCA2"
         }
        }
       }
      },
      "text/html": [
       "<div>                            <div id=\"fb0e8845-bb7b-4228-96e5-7a89a39e554f\" class=\"plotly-graph-div\" style=\"height:600px; width:100%;\"></div>            <script type=\"text/javascript\">                require([\"plotly\"], function(Plotly) {                    window.PLOTLYENV=window.PLOTLYENV || {};                                    if (document.getElementById(\"fb0e8845-bb7b-4228-96e5-7a89a39e554f\")) {                    Plotly.newPlot(                        \"fb0e8845-bb7b-4228-96e5-7a89a39e554f\",                        [{\"customdata\":[[\"Adelie\"],[\"Adelie\"],[\"Adelie\"],[\"Adelie\"],[\"Adelie\"],[\"Adelie\"],[\"Adelie\"],[\"Adelie\"],[\"Adelie\"],[\"Adelie\"],[\"Adelie\"],[\"Adelie\"],[\"Adelie\"],[\"Adelie\"],[\"Adelie\"],[\"Adelie\"],[\"Adelie\"],[\"Adelie\"],[\"Adelie\"],[\"Adelie\"],[\"Adelie\"],[\"Adelie\"],[\"Adelie\"],[\"Adelie\"],[\"Adelie\"],[\"Adelie\"],[\"Adelie\"],[\"Adelie\"],[\"Adelie\"],[\"Adelie\"],[\"Adelie\"],[\"Adelie\"],[\"Adelie\"],[\"Adelie\"],[\"Adelie\"],[\"Adelie\"],[\"Adelie\"],[\"Adelie\"],[\"Adelie\"],[\"Adelie\"],[\"Adelie\"],[\"Adelie\"],[\"Adelie\"],[\"Adelie\"],[\"Adelie\"],[\"Adelie\"],[\"Adelie\"],[\"Adelie\"],[\"Adelie\"],[\"Adelie\"],[\"Adelie\"],[\"Adelie\"],[\"Adelie\"],[\"Adelie\"],[\"Adelie\"],[\"Adelie\"],[\"Adelie\"],[\"Adelie\"],[\"Adelie\"],[\"Adelie\"],[\"Adelie\"],[\"Adelie\"],[\"Adelie\"],[\"Adelie\"],[\"Adelie\"],[\"Adelie\"],[\"Adelie\"],[\"Adelie\"],[\"Adelie\"],[null],[\"Adelie\"],[null],[\"Adelie\"],[null]],\"hovertemplate\":\"Cluster=Cluster 0<br>PCA1=%{x}<br>PCA2=%{y}<br>Feature=%{customdata[0]}<extra></extra>\",\"legendgroup\":\"Cluster 0\",\"marker\":{\"color\":\"#636efa\",\"opacity\":0.5,\"symbol\":\"circle\"},\"mode\":\"markers\",\"name\":\"Cluster 0\",\"orientation\":\"v\",\"showlegend\":true,\"x\":[-1.8139327764511108,-0.8406956791877747,-0.7395395636558533,-0.33413365483283997,-1.047355055809021,-0.27476245164871216,-1.5782493352890015,-1.8530524969100952,-1.6276707649230957,-1.4817906618118286,-0.06995302438735962,-0.933042049407959,-1.8778268098831177,-0.5942689180374146,-0.4258820116519928,-1.4087883234024048,-1.2500073909759521,-0.5934195518493652,-0.9550672769546509,-0.6437615156173706,-0.654476523399353,-0.8482145667076111,-0.12133924663066864,-1.223449468612671,-1.2066324949264526,-1.4102528095245361,-1.1505091190338135,-1.0750173330307007,-1.023651123046875,-1.7870665788650513,-0.7542526721954346,-1.1505558490753174,-1.1303702592849731,-1.3783354759216309,0.03358703851699829,-0.6818175911903381,-0.6230794787406921,-0.871145486831665,-0.6761138439178467,-1.627559781074524,-1.605366587638855,-1.5704528093338013,-0.37332427501678467,-1.55173659324646,-0.4714653491973877,-0.383087158203125,0.03892027959227562,-1.5533599853515625,-0.9378666281700134,-0.8561745285987854,-1.0228296518325806,-1.9216117858886719,-0.983418881893158,-1.4648091793060303,-1.550129771232605,-1.4645421504974365,-1.2846574783325195,-1.2065799236297607,-1.6549603939056396,-1.7959160804748535,-1.1715705394744873,-1.0014216899871826,-0.6433303356170654,-0.7978023886680603,-0.9235142469406128,-1.382023811340332,-1.4416836500167847,-1.9522199630737305,-1.8763251304626465,-1.9069863557815552,-0.8032203316688538,-0.5185196995735168,-0.8599094152450562,-1.51784086227417],\"xaxis\":\"x\",\"y\":[0.44127485156059265,0.9426077604293823,0.7606515884399414,0.9447504878044128,0.5712692737579346,0.6893894672393799,0.7749663591384888,0.7006590366363525,1.331120491027832,0.45532211661338806,0.5245192646980286,0.868587076663971,0.5609020590782166,0.7553868889808655,1.1133586168289185,0.19114311039447784,0.41958245635032654,1.0214240550994873,0.6244416236877441,0.2675301730632782,0.31273019313812256,1.3822603225708008,1.0413694381713867,0.30607008934020996,0.7025817632675171,0.6798418164253235,1.2499854564666748,0.17255456745624542,0.40236392617225647,0.6063282489776611,0.5659497976303101,0.6863080859184265,0.9063735008239746,0.3325731158256531,0.6656339764595032,0.8065944314002991,0.5932489633560181,0.7227129340171814,0.5978145599365234,0.6937268376350403,0.507425844669342,0.9466900825500488,0.48055300116539,0.27636030316352844,0.8859636783599854,1.4675354957580566,0.8689215779304504,0.35703977942466736,0.44277772307395935,0.4886001944541931,0.6946592926979065,0.28962430357933044,0.4183342456817627,0.32269901037216187,0.8600098490715027,1.5374958515167236,-0.2636694014072418,0.028370562940835953,1.0899772644042969,0.13528883457183838,0.9585534930229187,2.0259244441986084,1.4761804342269897,1.5288724899291992,0.8399845361709595,0.47565749287605286,1.806540846824646,0.8342505693435669,1.1057723760604858,1.2818113565444946,0.918631374835968,0.8396559953689575,0.508720874786377,1.037660837173462],\"yaxis\":\"y\",\"type\":\"scatter\",\"textposition\":\"top center\"},{\"customdata\":[[\"Gentoo\"],[\"Gentoo\"],[\"Gentoo\"],[\"Gentoo\"],[\"Gentoo\"],[\"Gentoo\"],[\"Gentoo\"],[\"Gentoo\"],[\"Gentoo\"],[\"Gentoo\"],[\"Gentoo\"],[\"Gentoo\"],[\"Gentoo\"],[\"Gentoo\"],[\"Gentoo\"],[\"Gentoo\"],[\"Gentoo\"],[\"Chinstrap\"],[\"Gentoo\"],[\"Chinstrap\"],[\"Gentoo\"],[\"Chinstrap\"],[null],[\"Gentoo\"],[\"Gentoo\"],[\"Gentoo\"],[\"Gentoo\"],[\"Gentoo\"],[\"Gentoo\"],[\"Gentoo\"],[\"Gentoo\"],[\"Gentoo\"],[\"Gentoo\"],[\"Gentoo\"],[\"Gentoo\"],[\"Gentoo\"],[\"Gentoo\"],[\"Gentoo\"],[\"Gentoo\"],[\"Gentoo\"],[\"Gentoo\"],[\"Gentoo\"],[\"Gentoo\"],[\"Gentoo\"],[\"Gentoo\"],[\"Gentoo\"],[\"Gentoo\"],[\"Gentoo\"],[\"Gentoo\"],[\"Gentoo\"],[\"Gentoo\"],[null],[\"Gentoo\"],[\"Gentoo\"],[\"Gentoo\"],[\"Gentoo\"],[\"Gentoo\"],[\"Gentoo\"],[\"Gentoo\"],[\"Gentoo\"],[\"Gentoo\"]],\"hovertemplate\":\"Cluster=Cluster 1<br>PCA1=%{x}<br>PCA2=%{y}<br>Feature=%{customdata[0]}<extra></extra>\",\"legendgroup\":\"Cluster 1\",\"marker\":{\"color\":\"#EF553B\",\"opacity\":0.5,\"symbol\":\"circle\"},\"mode\":\"markers\",\"name\":\"Cluster 1\",\"orientation\":\"v\",\"showlegend\":true,\"x\":[3.2228097915649414,2.8899788856506348,3.5831692218780518,2.6723551750183105,2.573086738586426,2.656782865524292,2.0004541873931885,2.6059138774871826,2.835942268371582,2.816988468170166,3.2038300037384033,2.3302369117736816,3.2172353267669678,1.9868643283843994,2.9959700107574463,2.1912949085235596,2.7114553451538086,2.391716480255127,2.0856080055236816,2.7632086277008057,2.142260789871216,3.0272061824798584,3.0098378658294678,2.9550156593322754,2.7621872425079346,1.803137183189392,1.885184645652771,2.671494483947754,2.523078203201294,1.9787101745605469,2.9159529209136963,2.0618250370025635,2.8318679332733154,2.913177251815796,2.37679123878479,3.48484206199646,2.262331247329712,2.9144787788391113,3.034972667694092,2.0551180839538574,3.0435781478881836,2.953660726547241,2.743574857711792,2.631298303604126,2.754732847213745,1.9571223258972168,2.477818727493286,2.7227885723114014,2.3909800052642822,2.954068899154663,2.7247517108917236,3.873352289199829,1.6571420431137085,1.9319616556167603,2.7904322147369385,2.748478412628174,2.855299234390259,2.054093599319458,2.3032968044281006,2.619014263153076,2.1802585124969482],\"xaxis\":\"x\",\"y\":[0.29585152864456177,0.47762492299079895,0.9720003604888916,0.4009925425052643,0.7338382005691528,-0.05206475406885147,0.29950278997421265,0.07771622389554977,0.5633981823921204,0.7030036449432373,1.3367154598236084,0.467617392539978,0.5394657850265503,-0.006829611025750637,0.10530143231153488,-0.0361059308052063,0.42927220463752747,-0.2153107076883316,0.28749901056289673,0.26188749074935913,0.03734806180000305,0.6552591323852539,0.7411670684814453,0.2310042530298233,1.052477478981018,0.07630234956741333,0.02920340932905674,-0.29164910316467285,0.3456636071205139,-0.15578345954418182,0.7740832567214966,-0.2619960606098175,0.5591749548912048,0.31201833486557007,-0.19444534182548523,0.7772258520126343,0.17083001136779785,0.8114678263664246,0.5961089134216309,0.015423968434333801,0.4586828649044037,-0.03173431009054184,0.504126250743866,0.456248015165329,0.5322222709655762,-0.17203478515148163,0.010481645353138447,0.2757410407066345,0.022131744772195816,1.0360069274902344,0.5233356952667236,1.6963551044464111,0.47974035143852234,0.26576945185661316,-0.04206983000040054,1.0430546998977661,0.5146318078041077,0.01330607756972313,0.4717318117618561,0.10228243470191956,0.5106748342514038],\"yaxis\":\"y\",\"type\":\"scatter\",\"textposition\":\"top center\"},{\"customdata\":[[\"Gentoo\"],[\"Gentoo\"],[\"Gentoo\"],[\"Gentoo\"],[\"Gentoo\"],[\"Gentoo\"],[\"Gentoo\"],[\"Gentoo\"],[\"Gentoo\"],[\"Gentoo\"],[\"Gentoo\"],[\"Gentoo\"],[\"Gentoo\"],[\"Gentoo\"],[null],[\"Gentoo\"],[\"Gentoo\"],[\"Gentoo\"],[\"Chinstrap\"],[\"Gentoo\"],[\"Gentoo\"],[\"Gentoo\"],[\"Gentoo\"],[\"Gentoo\"],[\"Gentoo\"],[\"Gentoo\"],[\"Gentoo\"],[\"Gentoo\"],[\"Gentoo\"],[\"Gentoo\"],[\"Gentoo\"],[\"Gentoo\"],[\"Gentoo\"],[\"Chinstrap\"],[\"Gentoo\"],[\"Chinstrap\"],[\"Gentoo\"],[\"Gentoo\"],[\"Gentoo\"],[\"Gentoo\"],[\"Gentoo\"],[\"Gentoo\"],[\"Gentoo\"],[\"Gentoo\"],[\"Gentoo\"],[\"Gentoo\"],[\"Gentoo\"],[\"Gentoo\"],[\"Gentoo\"],[\"Gentoo\"],[\"Gentoo\"],[\"Gentoo\"],[\"Gentoo\"],[\"Gentoo\"],[\"Gentoo\"],[\"Gentoo\"],[\"Gentoo\"],[\"Gentoo\"]],\"hovertemplate\":\"Cluster=Cluster 2<br>PCA1=%{x}<br>PCA2=%{y}<br>Feature=%{customdata[0]}<extra></extra>\",\"legendgroup\":\"Cluster 2\",\"marker\":{\"color\":\"#00cc96\",\"opacity\":0.5,\"symbol\":\"circle\"},\"mode\":\"markers\",\"name\":\"Cluster 2\",\"orientation\":\"v\",\"showlegend\":true,\"x\":[1.7060688734054565,1.1865791082382202,1.9795639514923096,1.6499122381210327,1.1924309730529785,1.9154841899871826,1.0416778326034546,0.9789900183677673,1.1108158826828003,1.4955469369888306,1.8453221321105957,1.8752658367156982,1.751897931098938,2.0389840602874756,1.6171497106552124,1.5124824047088623,1.7868624925613403,1.2769458293914795,1.6103472709655762,0.7601382732391357,1.4014312028884888,1.7745078802108765,1.2136412858963013,1.487127661705017,1.489551305770874,0.9582758545875549,1.0739164352416992,1.7506250143051147,2.327302932739258,1.3283953666687012,1.6221611499786377,1.2067939043045044,1.4850361347198486,1.576920986175537,1.1490800380706787,1.5645382404327393,1.6865261793136597,1.7149596214294434,1.5873608589172363,2.0900535583496094,1.3215872049331665,1.6302508115768433,1.7269213199615479,1.548508882522583,1.0706567764282227,1.5185272693634033,1.1677755117416382,2.098714828491211,2.0006914138793945,1.1995363235473633,1.7387144565582275,1.950100064277649,1.8552361726760864,1.598278284072876,1.6078332662582397,1.5127222537994385,2.0033345222473145,1.8451107740402222],\"xaxis\":\"x\",\"y\":[-1.4927093982696533,-1.5300334692001343,-1.6404694318771362,-1.241389513015747,-1.3586078882217407,-1.163734793663025,-1.64946711063385,-1.4669393301010132,-1.5825247764587402,-1.4785393476486206,-1.3150867223739624,-1.8775590658187866,-0.8886402249336243,-0.9801597595214844,-0.9974585771560669,-1.2111384868621826,-1.5610874891281128,-1.5989104509353638,-1.6763814687728882,-1.8575958013534546,-1.2114793062210083,-1.2254786491394043,-1.5613563060760498,-1.1784288883209229,-1.2281087636947632,-1.9473990201950073,-1.2662231922149658,-1.4966410398483276,-0.7817324995994568,-1.8821617364883423,-1.7050509452819824,-1.8434500694274902,-1.20372474193573,-1.535802960395813,-1.7292755842208862,-1.1739357709884644,-1.524335503578186,-0.9758991003036499,-1.1210424900054932,-1.0613070726394653,-1.0763181447982788,-1.0583983659744263,-0.7224370241165161,-1.2278163433074951,-1.4738662242889404,-1.236702799797058,-1.6116931438446045,-0.5636584758758545,-0.8071509599685669,-1.165903091430664,-1.08773672580719,-0.8708425164222717,-1.233658790588379,-1.3709137439727783,-1.5238486528396606,-1.4497498273849487,-1.3497806787490845,-1.1850260496139526],\"yaxis\":\"y\",\"type\":\"scatter\",\"textposition\":\"top center\"},{\"customdata\":[[\"Adelie\"],[\"Adelie\"],[\"Adelie\"],[\"Adelie\"],[\"Adelie\"],[\"Adelie\"],[\"Adelie\"],[null],[\"Adelie\"],[\"Adelie\"],[null],[\"Adelie\"],[null],[\"Adelie\"],[\"Adelie\"],[\"Adelie\"],[\"Adelie\"],[\"Adelie\"],[\"Adelie\"],[\"Adelie\"],[\"Adelie\"],[\"Adelie\"],[\"Adelie\"],[\"Adelie\"],[\"Adelie\"],[\"Adelie\"],[\"Adelie\"],[\"Adelie\"],[\"Adelie\"],[\"Adelie\"],[\"Adelie\"],[\"Adelie\"],[\"Adelie\"],[\"Adelie\"],[\"Adelie\"],[\"Adelie\"],[\"Adelie\"],[\"Adelie\"],[\"Adelie\"],[\"Adelie\"],[\"Adelie\"],[\"Adelie\"],[\"Adelie\"],[\"Adelie\"],[\"Adelie\"],[\"Adelie\"],[\"Adelie\"],[\"Adelie\"],[\"Adelie\"],[\"Adelie\"],[\"Chinstrap\"],[\"Chinstrap\"],[\"Chinstrap\"],[\"Adelie\"],[\"Adelie\"],[\"Chinstrap\"],[\"Adelie\"],[\"Adelie\"],[\"Adelie\"],[\"Adelie\"],[\"Adelie\"],[\"Adelie\"],[\"Adelie\"],[\"Adelie\"],[\"Chinstrap\"],[\"Chinstrap\"],[\"Adelie\"],[\"Adelie\"],[\"Adelie\"],[\"Adelie\"],[\"Adelie\"],[\"Adelie\"],[\"Adelie\"],[\"Adelie\"],[\"Adelie\"],[\"Adelie\"],[\"Adelie\"],[\"Adelie\"]],\"hovertemplate\":\"Cluster=Cluster 3<br>PCA1=%{x}<br>PCA2=%{y}<br>Feature=%{customdata[0]}<extra></extra>\",\"legendgroup\":\"Cluster 3\",\"marker\":{\"color\":\"#ab63fa\",\"opacity\":0.5,\"symbol\":\"circle\"},\"mode\":\"markers\",\"name\":\"Cluster 3\",\"orientation\":\"v\",\"showlegend\":true,\"x\":[-1.7593809366226196,-1.8611646890640259,-1.451857089996338,-1.6950271129608154,-2.2376983165740967,-2.0267677307128906,-2.441459894180298,-1.7015007734298706,-2.187398672103882,-1.8030343055725098,-1.8622500896453857,-1.5167738199234009,-1.9951263666152954,-1.4525152444839478,-1.9278525114059448,-1.8927375078201294,-2.0424327850341797,-1.90207839012146,-2.4651405811309814,-1.7630696296691895,-2.4547665119171143,-2.183272123336792,-1.9545435905456543,-2.5609323978424072,-1.4361568689346313,-1.91947603225708,-1.7074406147003174,-2.2735776901245117,-1.4104695320129395,-2.0988080501556396,-1.8589130640029907,-1.6333051919937134,-1.4285837411880493,-2.0843141078948975,-1.8428573608398438,-1.2061980962753296,-1.9205012321472168,-2.0607690811157227,-2.2047903537750244,-1.1747825145721436,-2.535517692565918,-1.690537452697754,-1.5663634538650513,-1.0942926406860352,-1.5840493440628052,-2.0774993896484375,-1.8372477293014526,-0.7316152453422546,-1.4433608055114746,-2.6772122383117676,-1.4018248319625854,-1.6075729131698608,-1.6297322511672974,-1.7364970445632935,-1.7508416175842285,-1.5184118747711182,-1.7862300872802734,-2.2270889282226562,-1.85587477684021,-1.8689595460891724,-1.8618022203445435,-2.052604913711548,-2.13974928855896,-1.7360533475875854,-1.0800142288208008,-1.597380518913269,-1.852384328842163,-1.6582523584365845,-1.8503892421722412,-1.386207103729248,-1.8339719772338867,-0.6240289211273193,-1.3509141206741333,-1.9682555198669434,-2.0660929679870605,-1.952517032623291,-1.6983057260513306,-1.9982273578643799],\"xaxis\":\"x\",\"y\":[-0.2380375862121582,-0.627659797668457,-0.7142075300216675,-0.5447236895561218,-0.7870120406150818,-0.36344823241233826,-0.8430633544921875,-0.2690247595310211,-1.1248828172683716,-0.12248776108026505,-0.8190567493438721,-0.5188722610473633,-0.3241223096847534,-0.6384446024894714,-0.6185232400894165,-0.6568455100059509,-0.8978487253189087,-0.44977661967277527,-0.5332313776016235,-0.6970379948616028,-0.6635720729827881,-1.0217738151550293,-0.680334210395813,-0.10962191224098206,-0.8222398161888123,0.010555915534496307,-1.1138914823532104,-1.1725798845291138,-0.9299259185791016,-1.5477391481399536,-1.4555864334106445,-0.971180260181427,-1.204192876815796,-1.3798797130584717,-0.4680904448032379,-1.6679378747940063,-1.3793121576309204,-0.8665743470191956,-0.6568953990936279,-0.8006970286369324,-0.7172214984893799,-1.0012311935424805,-0.7283951044082642,-0.8203572630882263,-1.4546775817871094,-1.252527117729187,-1.0976381301879883,-1.0165507793426514,-1.068995714187622,-1.6243947744369507,-0.6062082052230835,-0.7881035804748535,-0.6553522348403931,-0.9651116728782654,-0.9205638766288757,-0.40008896589279175,-0.6881551742553711,-0.46579092741012573,-0.400418758392334,-0.6277568340301514,-1.0237574577331543,-0.8898874521255493,-1.872317910194397,-0.708235502243042,-0.4407585561275482,-0.3771423399448395,-1.212585687637329,-1.623310923576355,-0.7247433662414551,-0.6322718858718872,-1.2358561754226685,-1.285668134689331,-0.8515893220901489,-1.057532787322998,-1.138339877128601,-0.8639270663261414,-0.7742816209793091,-1.6793993711471558],\"yaxis\":\"y\",\"type\":\"scatter\",\"textposition\":\"top center\"},{\"customdata\":[[\"Chinstrap\"],[\"Chinstrap\"],[\"Chinstrap\"],[\"Chinstrap\"],[\"Chinstrap\"],[\"Chinstrap\"],[\"Chinstrap\"],[\"Chinstrap\"],[\"Chinstrap\"],[\"Chinstrap\"],[\"Chinstrap\"],[\"Chinstrap\"],[\"Chinstrap\"],[\"Chinstrap\"],[\"Chinstrap\"],[\"Chinstrap\"],[\"Chinstrap\"],[\"Adelie\"],[\"Adelie\"],[\"Adelie\"],[\"Adelie\"],[\"Adelie\"],[\"Adelie\"],[\"Chinstrap\"],[\"Chinstrap\"],[\"Chinstrap\"],[\"Chinstrap\"],[\"Chinstrap\"],[\"Chinstrap\"],[\"Chinstrap\"],[\"Chinstrap\"],[\"Chinstrap\"],[\"Chinstrap\"],[\"Chinstrap\"],[\"Chinstrap\"],[\"Chinstrap\"],[\"Chinstrap\"],[\"Chinstrap\"],[\"Chinstrap\"],[\"Chinstrap\"],[\"Chinstrap\"],[\"Chinstrap\"],[\"Chinstrap\"],[\"Chinstrap\"],[\"Chinstrap\"],[\"Chinstrap\"],[\"Chinstrap\"],[\"Chinstrap\"],[\"Chinstrap\"],[\"Chinstrap\"],[\"Chinstrap\"],[\"Chinstrap\"],[\"Chinstrap\"],[\"Chinstrap\"],[\"Chinstrap\"],[\"Chinstrap\"],[\"Chinstrap\"],[\"Chinstrap\"],[\"Chinstrap\"],[\"Chinstrap\"],[\"Chinstrap\"],[\"Chinstrap\"]],\"hovertemplate\":\"Cluster=Cluster 4<br>PCA1=%{x}<br>PCA2=%{y}<br>Feature=%{customdata[0]}<extra></extra>\",\"legendgroup\":\"Cluster 4\",\"marker\":{\"color\":\"#FFA15A\",\"opacity\":0.5,\"symbol\":\"circle\"},\"mode\":\"markers\",\"name\":\"Cluster 4\",\"orientation\":\"v\",\"showlegend\":true,\"x\":[-0.16133378446102142,-0.6912652254104614,-0.9169387221336365,-0.9444906115531921,-0.41293227672576904,-0.6008672118186951,0.005384714808315039,-0.743090808391571,0.24691668152809143,-1.2808760404586792,-1.0129281282424927,-0.18748459219932556,-0.7556573748588562,-0.511541485786438,-0.7017282843589783,-1.0230543613433838,-1.8383984565734863,-0.5649822950363159,-0.40615686774253845,-1.407479166984558,-0.6081192493438721,-0.48050105571746826,-1.023910641670227,-0.667065441608429,-0.020136777311563492,-0.5582301020622253,-0.3300997018814087,-1.002562165260315,-0.29415178298950195,-0.4465734660625458,-0.041751984506845474,-0.8627197742462158,-0.08557070791721344,0.327501118183136,-0.4623154401779175,-0.9652941823005676,-0.2334294617176056,-0.15711526572704315,-1.289056658744812,0.09907779097557068,-0.7473395466804504,-0.435227632522583,-0.8903331160545349,0.344066321849823,-0.40472277998924255,-0.9179264903068542,0.43462803959846497,0.061240095645189285,-0.4679728150367737,0.14620478451251984,-0.5700124502182007,0.37045350670814514,-0.6617982983589172,0.6030715107917786,-1.2767618894577026,0.4750199615955353,0.0325467623770237,-1.067988395690918,-0.56746906042099,-0.7676368355751038,0.41776561737060547,-0.18533024191856384],\"xaxis\":\"x\",\"y\":[1.892269492149353,-0.19774073362350464,1.8935587406158447,-0.16582226753234863,1.0235086679458618,1.7825497388839722,1.3563109636306763,0.9023517370223999,1.4936519861221313,0.3691375255584717,0.0012327783042564988,1.4222302436828613,0.16759473085403442,1.9998329877853394,0.5552443265914917,0.13537199795246124,0.16212785243988037,0.08822424709796906,2.076939582824707,0.3346620500087738,1.7452141046524048,1.7894887924194336,0.14671744406223297,2.1747400760650635,1.8130569458007812,0.6245735287666321,1.5686025619506836,1.5197139978408813,0.2319689691066742,-0.26201552152633667,1.740771770477295,-0.10495555400848389,1.9447613954544067,1.8282500505447388,1.2886751890182495,-0.0204234030097723,1.9045641422271729,1.5569286346435547,0.5984352231025696,1.9578845500946045,-0.29168298840522766,1.6521974802017212,0.4087870419025421,1.5992683172225952,0.5210754871368408,0.13406914472579956,2.2906930446624756,2.630793571472168,0.7594184279441833,1.6666111946105957,1.4095202684402466,1.7287933826446533,0.42742395401000977,2.5138561725616455,-0.3918575346469879,2.30309796333313,1.7374602556228638,0.0025963098742067814,1.6682299375534058,-0.23508881032466888,2.373302459716797,-0.08279886841773987],\"yaxis\":\"y\",\"type\":\"scatter\",\"textposition\":\"top center\"}],                        {\"template\":{\"data\":{\"histogram2dcontour\":[{\"type\":\"histogram2dcontour\",\"colorbar\":{\"outlinewidth\":0,\"ticks\":\"\"},\"colorscale\":[[0.0,\"#0d0887\"],[0.1111111111111111,\"#46039f\"],[0.2222222222222222,\"#7201a8\"],[0.3333333333333333,\"#9c179e\"],[0.4444444444444444,\"#bd3786\"],[0.5555555555555556,\"#d8576b\"],[0.6666666666666666,\"#ed7953\"],[0.7777777777777778,\"#fb9f3a\"],[0.8888888888888888,\"#fdca26\"],[1.0,\"#f0f921\"]]}],\"choropleth\":[{\"type\":\"choropleth\",\"colorbar\":{\"outlinewidth\":0,\"ticks\":\"\"}}],\"histogram2d\":[{\"type\":\"histogram2d\",\"colorbar\":{\"outlinewidth\":0,\"ticks\":\"\"},\"colorscale\":[[0.0,\"#0d0887\"],[0.1111111111111111,\"#46039f\"],[0.2222222222222222,\"#7201a8\"],[0.3333333333333333,\"#9c179e\"],[0.4444444444444444,\"#bd3786\"],[0.5555555555555556,\"#d8576b\"],[0.6666666666666666,\"#ed7953\"],[0.7777777777777778,\"#fb9f3a\"],[0.8888888888888888,\"#fdca26\"],[1.0,\"#f0f921\"]]}],\"heatmap\":[{\"type\":\"heatmap\",\"colorbar\":{\"outlinewidth\":0,\"ticks\":\"\"},\"colorscale\":[[0.0,\"#0d0887\"],[0.1111111111111111,\"#46039f\"],[0.2222222222222222,\"#7201a8\"],[0.3333333333333333,\"#9c179e\"],[0.4444444444444444,\"#bd3786\"],[0.5555555555555556,\"#d8576b\"],[0.6666666666666666,\"#ed7953\"],[0.7777777777777778,\"#fb9f3a\"],[0.8888888888888888,\"#fdca26\"],[1.0,\"#f0f921\"]]}],\"heatmapgl\":[{\"type\":\"heatmapgl\",\"colorbar\":{\"outlinewidth\":0,\"ticks\":\"\"},\"colorscale\":[[0.0,\"#0d0887\"],[0.1111111111111111,\"#46039f\"],[0.2222222222222222,\"#7201a8\"],[0.3333333333333333,\"#9c179e\"],[0.4444444444444444,\"#bd3786\"],[0.5555555555555556,\"#d8576b\"],[0.6666666666666666,\"#ed7953\"],[0.7777777777777778,\"#fb9f3a\"],[0.8888888888888888,\"#fdca26\"],[1.0,\"#f0f921\"]]}],\"contourcarpet\":[{\"type\":\"contourcarpet\",\"colorbar\":{\"outlinewidth\":0,\"ticks\":\"\"}}],\"contour\":[{\"type\":\"contour\",\"colorbar\":{\"outlinewidth\":0,\"ticks\":\"\"},\"colorscale\":[[0.0,\"#0d0887\"],[0.1111111111111111,\"#46039f\"],[0.2222222222222222,\"#7201a8\"],[0.3333333333333333,\"#9c179e\"],[0.4444444444444444,\"#bd3786\"],[0.5555555555555556,\"#d8576b\"],[0.6666666666666666,\"#ed7953\"],[0.7777777777777778,\"#fb9f3a\"],[0.8888888888888888,\"#fdca26\"],[1.0,\"#f0f921\"]]}],\"surface\":[{\"type\":\"surface\",\"colorbar\":{\"outlinewidth\":0,\"ticks\":\"\"},\"colorscale\":[[0.0,\"#0d0887\"],[0.1111111111111111,\"#46039f\"],[0.2222222222222222,\"#7201a8\"],[0.3333333333333333,\"#9c179e\"],[0.4444444444444444,\"#bd3786\"],[0.5555555555555556,\"#d8576b\"],[0.6666666666666666,\"#ed7953\"],[0.7777777777777778,\"#fb9f3a\"],[0.8888888888888888,\"#fdca26\"],[1.0,\"#f0f921\"]]}],\"mesh3d\":[{\"type\":\"mesh3d\",\"colorbar\":{\"outlinewidth\":0,\"ticks\":\"\"}}],\"scatter\":[{\"fillpattern\":{\"fillmode\":\"overlay\",\"size\":10,\"solidity\":0.2},\"type\":\"scatter\"}],\"parcoords\":[{\"type\":\"parcoords\",\"line\":{\"colorbar\":{\"outlinewidth\":0,\"ticks\":\"\"}}}],\"scatterpolargl\":[{\"type\":\"scatterpolargl\",\"marker\":{\"colorbar\":{\"outlinewidth\":0,\"ticks\":\"\"}}}],\"bar\":[{\"error_x\":{\"color\":\"#2a3f5f\"},\"error_y\":{\"color\":\"#2a3f5f\"},\"marker\":{\"line\":{\"color\":\"#E5ECF6\",\"width\":0.5},\"pattern\":{\"fillmode\":\"overlay\",\"size\":10,\"solidity\":0.2}},\"type\":\"bar\"}],\"scattergeo\":[{\"type\":\"scattergeo\",\"marker\":{\"colorbar\":{\"outlinewidth\":0,\"ticks\":\"\"}}}],\"scatterpolar\":[{\"type\":\"scatterpolar\",\"marker\":{\"colorbar\":{\"outlinewidth\":0,\"ticks\":\"\"}}}],\"histogram\":[{\"marker\":{\"pattern\":{\"fillmode\":\"overlay\",\"size\":10,\"solidity\":0.2}},\"type\":\"histogram\"}],\"scattergl\":[{\"type\":\"scattergl\",\"marker\":{\"colorbar\":{\"outlinewidth\":0,\"ticks\":\"\"}}}],\"scatter3d\":[{\"type\":\"scatter3d\",\"line\":{\"colorbar\":{\"outlinewidth\":0,\"ticks\":\"\"}},\"marker\":{\"colorbar\":{\"outlinewidth\":0,\"ticks\":\"\"}}}],\"scattermapbox\":[{\"type\":\"scattermapbox\",\"marker\":{\"colorbar\":{\"outlinewidth\":0,\"ticks\":\"\"}}}],\"scatterternary\":[{\"type\":\"scatterternary\",\"marker\":{\"colorbar\":{\"outlinewidth\":0,\"ticks\":\"\"}}}],\"scattercarpet\":[{\"type\":\"scattercarpet\",\"marker\":{\"colorbar\":{\"outlinewidth\":0,\"ticks\":\"\"}}}],\"carpet\":[{\"aaxis\":{\"endlinecolor\":\"#2a3f5f\",\"gridcolor\":\"white\",\"linecolor\":\"white\",\"minorgridcolor\":\"white\",\"startlinecolor\":\"#2a3f5f\"},\"baxis\":{\"endlinecolor\":\"#2a3f5f\",\"gridcolor\":\"white\",\"linecolor\":\"white\",\"minorgridcolor\":\"white\",\"startlinecolor\":\"#2a3f5f\"},\"type\":\"carpet\"}],\"table\":[{\"cells\":{\"fill\":{\"color\":\"#EBF0F8\"},\"line\":{\"color\":\"white\"}},\"header\":{\"fill\":{\"color\":\"#C8D4E3\"},\"line\":{\"color\":\"white\"}},\"type\":\"table\"}],\"barpolar\":[{\"marker\":{\"line\":{\"color\":\"#E5ECF6\",\"width\":0.5},\"pattern\":{\"fillmode\":\"overlay\",\"size\":10,\"solidity\":0.2}},\"type\":\"barpolar\"}],\"pie\":[{\"automargin\":true,\"type\":\"pie\"}]},\"layout\":{\"autotypenumbers\":\"strict\",\"colorway\":[\"#636efa\",\"#EF553B\",\"#00cc96\",\"#ab63fa\",\"#FFA15A\",\"#19d3f3\",\"#FF6692\",\"#B6E880\",\"#FF97FF\",\"#FECB52\"],\"font\":{\"color\":\"#2a3f5f\"},\"hovermode\":\"closest\",\"hoverlabel\":{\"align\":\"left\"},\"paper_bgcolor\":\"white\",\"plot_bgcolor\":\"#E5ECF6\",\"polar\":{\"bgcolor\":\"#E5ECF6\",\"angularaxis\":{\"gridcolor\":\"white\",\"linecolor\":\"white\",\"ticks\":\"\"},\"radialaxis\":{\"gridcolor\":\"white\",\"linecolor\":\"white\",\"ticks\":\"\"}},\"ternary\":{\"bgcolor\":\"#E5ECF6\",\"aaxis\":{\"gridcolor\":\"white\",\"linecolor\":\"white\",\"ticks\":\"\"},\"baxis\":{\"gridcolor\":\"white\",\"linecolor\":\"white\",\"ticks\":\"\"},\"caxis\":{\"gridcolor\":\"white\",\"linecolor\":\"white\",\"ticks\":\"\"}},\"coloraxis\":{\"colorbar\":{\"outlinewidth\":0,\"ticks\":\"\"}},\"colorscale\":{\"sequential\":[[0.0,\"#0d0887\"],[0.1111111111111111,\"#46039f\"],[0.2222222222222222,\"#7201a8\"],[0.3333333333333333,\"#9c179e\"],[0.4444444444444444,\"#bd3786\"],[0.5555555555555556,\"#d8576b\"],[0.6666666666666666,\"#ed7953\"],[0.7777777777777778,\"#fb9f3a\"],[0.8888888888888888,\"#fdca26\"],[1.0,\"#f0f921\"]],\"sequentialminus\":[[0.0,\"#0d0887\"],[0.1111111111111111,\"#46039f\"],[0.2222222222222222,\"#7201a8\"],[0.3333333333333333,\"#9c179e\"],[0.4444444444444444,\"#bd3786\"],[0.5555555555555556,\"#d8576b\"],[0.6666666666666666,\"#ed7953\"],[0.7777777777777778,\"#fb9f3a\"],[0.8888888888888888,\"#fdca26\"],[1.0,\"#f0f921\"]],\"diverging\":[[0,\"#8e0152\"],[0.1,\"#c51b7d\"],[0.2,\"#de77ae\"],[0.3,\"#f1b6da\"],[0.4,\"#fde0ef\"],[0.5,\"#f7f7f7\"],[0.6,\"#e6f5d0\"],[0.7,\"#b8e186\"],[0.8,\"#7fbc41\"],[0.9,\"#4d9221\"],[1,\"#276419\"]]},\"xaxis\":{\"gridcolor\":\"white\",\"linecolor\":\"white\",\"ticks\":\"\",\"title\":{\"standoff\":15},\"zerolinecolor\":\"white\",\"automargin\":true,\"zerolinewidth\":2},\"yaxis\":{\"gridcolor\":\"white\",\"linecolor\":\"white\",\"ticks\":\"\",\"title\":{\"standoff\":15},\"zerolinecolor\":\"white\",\"automargin\":true,\"zerolinewidth\":2},\"scene\":{\"xaxis\":{\"backgroundcolor\":\"#E5ECF6\",\"gridcolor\":\"white\",\"linecolor\":\"white\",\"showbackground\":true,\"ticks\":\"\",\"zerolinecolor\":\"white\",\"gridwidth\":2},\"yaxis\":{\"backgroundcolor\":\"#E5ECF6\",\"gridcolor\":\"white\",\"linecolor\":\"white\",\"showbackground\":true,\"ticks\":\"\",\"zerolinecolor\":\"white\",\"gridwidth\":2},\"zaxis\":{\"backgroundcolor\":\"#E5ECF6\",\"gridcolor\":\"white\",\"linecolor\":\"white\",\"showbackground\":true,\"ticks\":\"\",\"zerolinecolor\":\"white\",\"gridwidth\":2}},\"shapedefaults\":{\"line\":{\"color\":\"#2a3f5f\"}},\"annotationdefaults\":{\"arrowcolor\":\"#2a3f5f\",\"arrowhead\":0,\"arrowwidth\":1},\"geo\":{\"bgcolor\":\"white\",\"landcolor\":\"#E5ECF6\",\"subunitcolor\":\"white\",\"showland\":true,\"showlakes\":true,\"lakecolor\":\"white\"},\"title\":{\"x\":0.05},\"mapbox\":{\"style\":\"light\"}}},\"xaxis\":{\"anchor\":\"y\",\"domain\":[0.0,1.0],\"title\":{\"text\":\"PCA1\"}},\"yaxis\":{\"anchor\":\"x\",\"domain\":[0.0,1.0],\"title\":{\"text\":\"PCA2\"}},\"legend\":{\"title\":{\"text\":\"Cluster\"},\"tracegroupgap\":0},\"margin\":{\"t\":60},\"plot_bgcolor\":\"rgb(240,240,240)\",\"title\":{\"text\":\"2D Cluster PCA Plot\"},\"height\":600},                        {\"responsive\": true}                    ).then(function(){\n",
       "                            \n",
       "var gd = document.getElementById('fb0e8845-bb7b-4228-96e5-7a89a39e554f');\n",
       "var x = new MutationObserver(function (mutations, observer) {{\n",
       "        var display = window.getComputedStyle(gd).display;\n",
       "        if (!display || display === 'none') {{\n",
       "            console.log([gd, 'removed!']);\n",
       "            Plotly.purge(gd);\n",
       "            observer.disconnect();\n",
       "        }}\n",
       "}});\n",
       "\n",
       "// Listen for the removal of the full notebook cells\n",
       "var notebookContainer = gd.closest('#notebook-container');\n",
       "if (notebookContainer) {{\n",
       "    x.observe(notebookContainer, {childList: true});\n",
       "}}\n",
       "\n",
       "// Listen for the clearing of the current output cell\n",
       "var outputEl = gd.closest('.output');\n",
       "if (outputEl) {{\n",
       "    x.observe(outputEl, {childList: true});\n",
       "}}\n",
       "\n",
       "                        })                };                });            </script>        </div>"
      ]
     },
     "metadata": {},
     "output_type": "display_data"
    }
   ],
   "source": [
    "plot_model(k_means2, 'cluster', scale=1)"
   ]
  },
  {
   "cell_type": "code",
   "execution_count": 31,
   "metadata": {},
   "outputs": [],
   "source": [
    "#prideleni datasetu jendotlive shluky\n",
    "k_means2_results=assign_model(k_means2)"
   ]
  },
  {
   "cell_type": "markdown",
   "metadata": {},
   "source": [
    "Porovani s originalnim datasetem"
   ]
  },
  {
   "cell_type": "code",
   "execution_count": 32,
   "metadata": {},
   "outputs": [
    {
     "data": {
      "text/plain": [
       "<AxesSubplot:title={'center':'PyCaret k-Means'}, xlabel='culmen_length_mm', ylabel='culmen_depth_mm'>"
      ]
     },
     "execution_count": 32,
     "metadata": {},
     "output_type": "execute_result"
    },
    {
     "data": {
      "image/png": "[encoded data removed]",
      "text/plain": [
       "<Figure size 864x360 with 2 Axes>"
      ]
     },
     "metadata": {},
     "output_type": "display_data"
    }
   ],
   "source": [
    "#porovnani originalni dataset s modelem k-means od PyCaretu\n",
    "df_PyCaret = df.copy()\n",
    "df_PyCaret['k-Means'] = k_means2_results['Cluster']\n",
    "\n",
    "import matplotlib.pyplot as plt\n",
    "import seaborn as sns\n",
    "\n",
    "plt.figure(figsize=(12,5))\n",
    "plt.subplot(1,2,1).set_title('Original Classe')\n",
    "sns.scatterplot(x='culmen_length_mm', y='culmen_depth_mm', hue='species', style='species', palette= 'pastel',data=df)\n",
    "plt.subplot(1,2,2).set_title('PyCaret k-Means')\n",
    "sns.scatterplot(x='culmen_length_mm', y='culmen_depth_mm', hue='k-Means', style='k-Means', palette= 'pastel' ,data=df_PyCaret)"
   ]
  },
  {
   "cell_type": "code",
   "execution_count": 33,
   "metadata": {},
   "outputs": [
    {
     "name": "stdout",
     "output_type": "stream",
     "text": [
      "Original data classes:\n",
      "Adelie       146\n",
      "Gentoo       119\n",
      "Chinstrap     68\n",
      "Name: species, dtype: int64\n",
      "-----------------------------\n",
      "Predicted data classes:\n",
      "Cluster 3    78\n",
      "Cluster 0    74\n",
      "Cluster 4    62\n",
      "Cluster 1    61\n",
      "Cluster 2    58\n",
      "Name: k-Means, dtype: int64\n"
     ]
    }
   ],
   "source": [
    "print('Original data classes:')\n",
    "print(df['species'].value_counts())\n",
    "print('-----------------------------')\n",
    "print('Predicted data classes:')\n",
    "print(df_PyCaret['k-Means'].value_counts())"
   ]
  },
  {
   "cell_type": "markdown",
   "metadata": {},
   "source": [
    "## Agglomerative Clustering"
   ]
  },
  {
   "cell_type": "code",
   "execution_count": 34,
   "metadata": {},
   "outputs": [
    {
     "data": {
      "text/html": [
       "<div>\n",
       "<style scoped>\n",
       "    .dataframe tbody tr th:only-of-type {\n",
       "        vertical-align: middle;\n",
       "    }\n",
       "\n",
       "    .dataframe tbody tr th {\n",
       "        vertical-align: top;\n",
       "    }\n",
       "\n",
       "    .dataframe thead th {\n",
       "        text-align: right;\n",
       "    }\n",
       "</style>\n",
       "<table border=\"1\" class=\"dataframe\">\n",
       "  <thead>\n",
       "    <tr style=\"text-align: right;\">\n",
       "      <th></th>\n",
       "      <th>Silhouette</th>\n",
       "      <th>Calinski-Harabasz</th>\n",
       "      <th>Davies-Bouldin</th>\n",
       "      <th>Homogeneity</th>\n",
       "      <th>Rand Index</th>\n",
       "      <th>Completeness</th>\n",
       "    </tr>\n",
       "  </thead>\n",
       "  <tbody>\n",
       "    <tr>\n",
       "      <th>0</th>\n",
       "      <td>0.4029</td>\n",
       "      <td>255.9719</td>\n",
       "      <td>1.1039</td>\n",
       "      <td>0</td>\n",
       "      <td>0</td>\n",
       "      <td>0</td>\n",
       "    </tr>\n",
       "  </tbody>\n",
       "</table>\n",
       "</div>"
      ],
      "text/plain": [
       "   Silhouette  Calinski-Harabasz  Davies-Bouldin  Homogeneity  Rand Index  \\\n",
       "0      0.4029           255.9719          1.1039            0           0   \n",
       "\n",
       "   Completeness  \n",
       "0             0  "
      ]
     },
     "metadata": {},
     "output_type": "display_data"
    }
   ],
   "source": [
    "#vytvoreni, trenovani modelu\n",
    "hclust = create_model('hclust')"
   ]
  },
  {
   "cell_type": "code",
   "execution_count": 35,
   "metadata": {},
   "outputs": [
    {
     "data": {
      "image/png": "[encoded data removed]",
      "text/plain": [
       "<Figure size 403.2x277.2 with 1 Axes>"
      ]
     },
     "metadata": {},
     "output_type": "display_data"
    }
   ],
   "source": [
    "plot_model(hclust, 'elbow', scale=0.7)"
   ]
  },
  {
   "cell_type": "code",
   "execution_count": 36,
   "metadata": {},
   "outputs": [
    {
     "data": {
      "text/html": [
       "<div>\n",
       "<style scoped>\n",
       "    .dataframe tbody tr th:only-of-type {\n",
       "        vertical-align: middle;\n",
       "    }\n",
       "\n",
       "    .dataframe tbody tr th {\n",
       "        vertical-align: top;\n",
       "    }\n",
       "\n",
       "    .dataframe thead th {\n",
       "        text-align: right;\n",
       "    }\n",
       "</style>\n",
       "<table border=\"1\" class=\"dataframe\">\n",
       "  <thead>\n",
       "    <tr style=\"text-align: right;\">\n",
       "      <th></th>\n",
       "      <th>Silhouette</th>\n",
       "      <th>Calinski-Harabasz</th>\n",
       "      <th>Davies-Bouldin</th>\n",
       "      <th>Homogeneity</th>\n",
       "      <th>Rand Index</th>\n",
       "      <th>Completeness</th>\n",
       "    </tr>\n",
       "  </thead>\n",
       "  <tbody>\n",
       "    <tr>\n",
       "      <th>0</th>\n",
       "      <td>0.413</td>\n",
       "      <td>288.1105</td>\n",
       "      <td>0.9897</td>\n",
       "      <td>0</td>\n",
       "      <td>0</td>\n",
       "      <td>0</td>\n",
       "    </tr>\n",
       "  </tbody>\n",
       "</table>\n",
       "</div>"
      ],
      "text/plain": [
       "   Silhouette  Calinski-Harabasz  Davies-Bouldin  Homogeneity  Rand Index  \\\n",
       "0       0.413           288.1105          0.9897            0           0   \n",
       "\n",
       "   Completeness  \n",
       "0             0  "
      ]
     },
     "metadata": {},
     "output_type": "display_data"
    }
   ],
   "source": [
    "hclust = create_model('hclust', num_clusters=5)\n",
    "#prideleni datasetu jendotlive shluky\n",
    "hclust_results=assign_model(hclust)"
   ]
  },
  {
   "cell_type": "markdown",
   "metadata": {},
   "source": [
    "Porovnani s originalnim datasetem"
   ]
  },
  {
   "cell_type": "code",
   "execution_count": 37,
   "metadata": {},
   "outputs": [
    {
     "data": {
      "text/plain": [
       "<AxesSubplot:title={'center':'PyCaret Agglomerative Clustering'}, xlabel='culmen_length_mm', ylabel='culmen_depth_mm'>"
      ]
     },
     "execution_count": 37,
     "metadata": {},
     "output_type": "execute_result"
    },
    {
     "data": {
      "image/png": "[encoded data removed]",
      "text/plain": [
       "<Figure size 864x360 with 2 Axes>"
      ]
     },
     "metadata": {},
     "output_type": "display_data"
    }
   ],
   "source": [
    "#porovnani originalni dataset s modelem Agglomerative Clustering od PyCaretu\n",
    "df_PyCaret['Agglomerative'] = hclust_results['Cluster']\n",
    "plt.figure(figsize=(12,5))\n",
    "plt.subplot(1,2,1).set_title('Original Classe')\n",
    "sns.scatterplot(x='culmen_length_mm', y='culmen_depth_mm', hue='species', style='species', palette= 'pastel',data=df)\n",
    "plt.subplot(1,2,2).set_title('PyCaret Agglomerative Clustering')\n",
    "sns.scatterplot(x='culmen_length_mm', y='culmen_depth_mm', hue='Agglomerative', style='Agglomerative', palette= 'pastel' ,data=df_PyCaret)"
   ]
  },
  {
   "cell_type": "code",
   "execution_count": 38,
   "metadata": {},
   "outputs": [
    {
     "name": "stdout",
     "output_type": "stream",
     "text": [
      "Original Data Classes:\n",
      "Adelie       146\n",
      "Gentoo       119\n",
      "Chinstrap     68\n",
      "Name: species, dtype: int64\n",
      "------------------------------\n",
      "Predicted Data Classes:\n",
      "Cluster 2    78\n",
      "Cluster 1    73\n",
      "Cluster 0    63\n",
      "Cluster 3    61\n",
      "Cluster 4    58\n",
      "Name: Agglomerative, dtype: int64\n"
     ]
    }
   ],
   "source": [
    "print('Original Data Classes:')\n",
    "print(df.species.value_counts())\n",
    "print('-' * 30)\n",
    "print('Predicted Data Classes:')\n",
    "print(df_PyCaret['Agglomerative'].value_counts())"
   ]
  },
  {
   "cell_type": "markdown",
   "metadata": {},
   "source": [
    "## DBSCAN"
   ]
  },
  {
   "cell_type": "code",
   "execution_count": 39,
   "metadata": {},
   "outputs": [
    {
     "data": {
      "text/html": [
       "<div>\n",
       "<style scoped>\n",
       "    .dataframe tbody tr th:only-of-type {\n",
       "        vertical-align: middle;\n",
       "    }\n",
       "\n",
       "    .dataframe tbody tr th {\n",
       "        vertical-align: top;\n",
       "    }\n",
       "\n",
       "    .dataframe thead th {\n",
       "        text-align: right;\n",
       "    }\n",
       "</style>\n",
       "<table border=\"1\" class=\"dataframe\">\n",
       "  <thead>\n",
       "    <tr style=\"text-align: right;\">\n",
       "      <th></th>\n",
       "      <th>Silhouette</th>\n",
       "      <th>Calinski-Harabasz</th>\n",
       "      <th>Davies-Bouldin</th>\n",
       "      <th>Homogeneity</th>\n",
       "      <th>Rand Index</th>\n",
       "      <th>Completeness</th>\n",
       "    </tr>\n",
       "  </thead>\n",
       "  <tbody>\n",
       "    <tr>\n",
       "      <th>0</th>\n",
       "      <td>0.0874</td>\n",
       "      <td>57.6482</td>\n",
       "      <td>1.425</td>\n",
       "      <td>0</td>\n",
       "      <td>0</td>\n",
       "      <td>0</td>\n",
       "    </tr>\n",
       "  </tbody>\n",
       "</table>\n",
       "</div>"
      ],
      "text/plain": [
       "   Silhouette  Calinski-Harabasz  Davies-Bouldin  Homogeneity  Rand Index  \\\n",
       "0      0.0874            57.6482           1.425            0           0   \n",
       "\n",
       "   Completeness  \n",
       "0             0  "
      ]
     },
     "metadata": {},
     "output_type": "display_data"
    }
   ],
   "source": [
    "dbscan = create_model('dbscan')"
   ]
  },
  {
   "cell_type": "code",
   "execution_count": 40,
   "metadata": {},
   "outputs": [
    {
     "data": {
      "application/vnd.plotly.v1+json": {
       "config": {
        "plotlyServerURL": "https://plot.ly"
       },
       "data": [
        {
         "customdata": [
          [
           "Adelie"
          ],
          [
           "Adelie"
          ],
          [
           "Adelie"
          ],
          [
           "Adelie"
          ],
          [
           "Adelie"
          ],
          [
           "Adelie"
          ],
          [
           "Adelie"
          ],
          [
           "Adelie"
          ],
          [
           "Adelie"
          ],
          [
           "Adelie"
          ],
          [
           "Adelie"
          ],
          [
           "Adelie"
          ],
          [
           "Adelie"
          ],
          [
           "Adelie"
          ],
          [
           "Adelie"
          ],
          [
           "Adelie"
          ],
          [
           "Adelie"
          ],
          [
           "Adelie"
          ],
          [
           "Adelie"
          ],
          [
           "Adelie"
          ],
          [
           "Adelie"
          ],
          [
           "Adelie"
          ],
          [
           "Adelie"
          ],
          [
           "Adelie"
          ],
          [
           "Adelie"
          ],
          [
           "Adelie"
          ],
          [
           "Adelie"
          ],
          [
           "Adelie"
          ],
          [
           "Adelie"
          ],
          [
           "Adelie"
          ],
          [
           "Adelie"
          ],
          [
           "Adelie"
          ],
          [
           "Adelie"
          ],
          [
           "Adelie"
          ],
          [
           "Adelie"
          ],
          [
           "Adelie"
          ],
          [
           "Adelie"
          ],
          [
           "Adelie"
          ],
          [
           "Adelie"
          ],
          [
           "Adelie"
          ],
          [
           "Adelie"
          ],
          [
           "Adelie"
          ],
          [
           "Adelie"
          ],
          [
           "Chinstrap"
          ],
          [
           "Chinstrap"
          ],
          [
           "Chinstrap"
          ],
          [
           "Chinstrap"
          ],
          [
           "Chinstrap"
          ],
          [
           "Chinstrap"
          ],
          [
           "Gentoo"
          ],
          [
           null
          ],
          [
           "Gentoo"
          ],
          [
           "Gentoo"
          ],
          [
           "Gentoo"
          ],
          [
           "Gentoo"
          ],
          [
           "Gentoo"
          ],
          [
           "Gentoo"
          ],
          [
           "Gentoo"
          ],
          [
           "Gentoo"
          ],
          [
           "Gentoo"
          ],
          [
           "Gentoo"
          ],
          [
           "Chinstrap"
          ],
          [
           "Chinstrap"
          ],
          [
           "Chinstrap"
          ],
          [
           "Chinstrap"
          ],
          [
           "Chinstrap"
          ],
          [
           "Chinstrap"
          ],
          [
           "Chinstrap"
          ],
          [
           "Chinstrap"
          ],
          [
           "Chinstrap"
          ],
          [
           "Chinstrap"
          ],
          [
           "Chinstrap"
          ],
          [
           "Chinstrap"
          ],
          [
           "Adelie"
          ],
          [
           "Chinstrap"
          ],
          [
           "Chinstrap"
          ],
          [
           "Chinstrap"
          ],
          [
           "Chinstrap"
          ],
          [
           "Chinstrap"
          ],
          [
           "Chinstrap"
          ],
          [
           "Chinstrap"
          ],
          [
           "Chinstrap"
          ],
          [
           "Chinstrap"
          ],
          [
           "Chinstrap"
          ],
          [
           "Adelie"
          ],
          [
           "Chinstrap"
          ],
          [
           "Adelie"
          ],
          [
           "Adelie"
          ],
          [
           "Adelie"
          ],
          [
           "Adelie"
          ],
          [
           "Adelie"
          ],
          [
           "Adelie"
          ],
          [
           "Adelie"
          ],
          [
           null
          ],
          [
           "Adelie"
          ],
          [
           "Adelie"
          ],
          [
           "Adelie"
          ],
          [
           "Adelie"
          ],
          [
           "Adelie"
          ],
          [
           "Adelie"
          ],
          [
           "Adelie"
          ],
          [
           "Adelie"
          ],
          [
           "Adelie"
          ],
          [
           "Adelie"
          ],
          [
           "Adelie"
          ],
          [
           "Adelie"
          ],
          [
           "Adelie"
          ],
          [
           "Adelie"
          ],
          [
           "Adelie"
          ],
          [
           "Adelie"
          ],
          [
           "Adelie"
          ],
          [
           "Adelie"
          ],
          [
           "Adelie"
          ],
          [
           "Adelie"
          ],
          [
           "Adelie"
          ],
          [
           "Adelie"
          ],
          [
           "Adelie"
          ],
          [
           "Adelie"
          ],
          [
           "Adelie"
          ],
          [
           "Adelie"
          ],
          [
           "Adelie"
          ],
          [
           "Adelie"
          ],
          [
           "Adelie"
          ],
          [
           "Adelie"
          ],
          [
           "Adelie"
          ],
          [
           "Adelie"
          ],
          [
           "Adelie"
          ],
          [
           "Adelie"
          ],
          [
           "Adelie"
          ],
          [
           "Adelie"
          ],
          [
           "Adelie"
          ],
          [
           "Adelie"
          ],
          [
           "Adelie"
          ],
          [
           null
          ],
          [
           "Adelie"
          ],
          [
           "Adelie"
          ],
          [
           "Adelie"
          ],
          [
           "Adelie"
          ],
          [
           "Adelie"
          ],
          [
           null
          ],
          [
           "Adelie"
          ],
          [
           "Adelie"
          ],
          [
           "Adelie"
          ],
          [
           "Adelie"
          ],
          [
           "Adelie"
          ],
          [
           null
          ],
          [
           "Adelie"
          ],
          [
           null
          ],
          [
           "Adelie"
          ],
          [
           "Adelie"
          ],
          [
           "Adelie"
          ],
          [
           null
          ],
          [
           "Adelie"
          ],
          [
           "Adelie"
          ],
          [
           "Adelie"
          ],
          [
           "Adelie"
          ],
          [
           "Adelie"
          ]
         ],
         "hovertemplate": "Cluster=Cluster -1<br>PCA1=%{x}<br>PCA2=%{y}<br>Feature=%{customdata[0]}<extra></extra>",
         "legendgroup": "Cluster -1",
         "marker": {
          "color": "#636efa",
          "opacity": 0.5,
          "symbol": "circle"
         },
         "mode": "markers",
         "name": "Cluster -1",
         "orientation": "v",
         "showlegend": true,
         "textposition": "top center",
         "type": "scatter",
         "x": [
          -1.8139327764511108,
          -0.871145486831665,
          -1.6983057260513306,
          -0.6230794787406921,
          -1.7364970445632935,
          0.03358703851699829,
          -1.7862300872802734,
          -1.1303702592849731,
          -0.7542526721954346,
          -1.023651123046875,
          -1.1505091190338135,
          -1.386207103729248,
          -1.4087883234024048,
          -2.13974928855896,
          -1.0750173330307007,
          -1.8618022203445435,
          -1.7870665788650513,
          -1.3783354759216309,
          -0.6761138439178467,
          -1.952517032623291,
          -1.627559781074524,
          -1.605366587638855,
          -0.8406956791877747,
          -1.4433608055114746,
          -0.12133924663066864,
          -1.6582523584365845,
          -1.2066324949264526,
          -1.8503892421722412,
          -1.5533599853515625,
          -0.7316152453422546,
          -1.7508416175842285,
          -1.4102528095245361,
          0.03892027959227562,
          -0.6240289211273193,
          -0.383087158203125,
          -1.3509141206741333,
          -0.4714653491973877,
          -1.55173659324646,
          -1.9682555198669434,
          -1.5704528093338013,
          -1.8339719772338867,
          -2.6772122383117676,
          -0.6818175911903381,
          -1.8383984565734863,
          -1.5184118747711182,
          -1.289056658744812,
          0.41776561737060547,
          -0.9652941823005676,
          -0.4679728150367737,
          3.2228097915649414,
          3.873352289199829,
          1.6571420431137085,
          1.9319616556167603,
          2.054093599319458,
          1.9795639514923096,
          2.671494483947754,
          3.48484206199646,
          2.523078203201294,
          2.7904322147369385,
          3.2038300037384033,
          3.5831692218780518,
          -0.4465734660625458,
          -0.29415178298950195,
          -1.002562165260315,
          0.327501118183136,
          -0.7017282843589783,
          -0.9169387221336365,
          -0.41293227672576904,
          0.005384714808315039,
          -0.743090808391571,
          -1.6297322511672974,
          -0.5582301020622253,
          0.43462803959846497,
          -1.407479166984558,
          -1.6075729131698608,
          -1.4018248319625854,
          -0.18533024191856384,
          0.6030715107917786,
          -1.2767618894577026,
          0.4750199615955353,
          0.0325467623770237,
          -0.40472277998924255,
          -0.8903331160545349,
          0.061240095645189285,
          -0.33413365483283997,
          -1.597380518913269,
          -2.2376983165740967,
          -2.2735776901245117,
          -1.5663634538650513,
          -1.4104695320129395,
          -1.4648091793060303,
          -1.7630696296691895,
          -1.2846574783325195,
          -0.5185196995735168,
          -1.2065799236297607,
          -1.6950271129608154,
          -1.223449468612671,
          -1.7959160804748535,
          -1.8589130640029907,
          -0.8482145667076111,
          -1.4285837411880493,
          -2.0988080501556396,
          -2.4651405811309814,
          -1.7074406147003174,
          -2.535517692565918,
          -1.0228296518325806,
          -2.4547665119171143,
          -1.1715705394744873,
          -2.5609323978424072,
          -1.91947603225708,
          -1.6549603939056396,
          -0.8599094152450562,
          -1.4645421504974365,
          -1.550129771232605,
          -1.9216117858886719,
          -1.4416836500167847,
          -1.4361568689346313,
          -2.0607690811157227,
          -1.382023811340332,
          -1.9522199630737305,
          -2.0843141078948975,
          -0.27476245164871216,
          -1.2061980962753296,
          -0.06995302438735962,
          -1.90207839012146,
          -1.4817906618118286,
          -1.9278525114059448,
          -1.6276707649230957,
          -1.8530524969100952,
          -1.0014216899871826,
          -0.8032203316688538,
          -1.8927375078201294,
          -1.8763251304626465,
          -1.9951263666152954,
          -1.4525152444839478,
          -1.5167738199234009,
          -1.451857089996338,
          -1.5782493352890015,
          -0.933042049407959,
          -1.9069863557815552,
          -1.8778268098831177,
          -2.441459894180298,
          -0.9550672769546509,
          -0.7978023886680603,
          -0.5934195518493652,
          -1.7015007734298706,
          -2.2047903537750244,
          -1.8622500896453857,
          -1.5840493440628052,
          -1.2500073909759521,
          -1.1747825145721436,
          -1.51784086227417,
          -0.4258820116519928,
          -1.690537452697754,
          -0.5942689180374146,
          -1.0942926406860352,
          -0.6433303356170654
         ],
         "xaxis": "x",
         "y": [
          0.44127485156059265,
          0.7227129340171814,
          -0.7742816209793091,
          0.5932489633560181,
          -0.9651116728782654,
          0.6656339764595032,
          -0.6881551742553711,
          0.9063735008239746,
          0.5659497976303101,
          0.40236392617225647,
          1.2499854564666748,
          -0.6322718858718872,
          0.19114311039447784,
          -1.872317910194397,
          0.17255456745624542,
          -1.0237574577331543,
          0.6063282489776611,
          0.3325731158256531,
          0.5978145599365234,
          -0.8639270663261414,
          0.6937268376350403,
          0.507425844669342,
          0.9426077604293823,
          -1.068995714187622,
          1.0413694381713867,
          -1.623310923576355,
          0.7025817632675171,
          -0.7247433662414551,
          0.35703977942466736,
          -1.0165507793426514,
          -0.9205638766288757,
          0.6798418164253235,
          0.8689215779304504,
          -1.285668134689331,
          1.4675354957580566,
          -0.8515893220901489,
          0.8859636783599854,
          0.27636030316352844,
          -1.057532787322998,
          0.9466900825500488,
          -1.2358561754226685,
          -1.6243947744369507,
          0.8065944314002991,
          0.16212785243988037,
          -0.40008896589279175,
          0.5984352231025696,
          2.373302459716797,
          -0.0204234030097723,
          0.7594184279441833,
          0.29585152864456177,
          1.6963551044464111,
          0.47974035143852234,
          0.26576945185661316,
          0.01330607756972313,
          -1.6404694318771362,
          -0.29164910316467285,
          0.7772258520126343,
          0.3456636071205139,
          -0.04206983000040054,
          1.3367154598236084,
          0.9720003604888916,
          -0.26201552152633667,
          0.2319689691066742,
          1.5197139978408813,
          1.8282500505447388,
          0.5552443265914917,
          1.8935587406158447,
          1.0235086679458618,
          1.3563109636306763,
          0.9023517370223999,
          -0.6553522348403931,
          0.6245735287666321,
          2.2906930446624756,
          0.3346620500087738,
          -0.7881035804748535,
          -0.6062082052230835,
          -0.08279886841773987,
          2.5138561725616455,
          -0.3918575346469879,
          2.30309796333313,
          1.7374602556228638,
          0.5210754871368408,
          0.4087870419025421,
          2.630793571472168,
          0.9447504878044128,
          -0.3771423399448395,
          -0.7870120406150818,
          -1.1725798845291138,
          -0.7283951044082642,
          -0.9299259185791016,
          0.32269901037216187,
          -0.6970379948616028,
          -0.2636694014072418,
          0.8396559953689575,
          0.028370562940835953,
          -0.5447236895561218,
          0.30607008934020996,
          0.13528883457183838,
          -1.4555864334106445,
          1.3822603225708008,
          -1.204192876815796,
          -1.5477391481399536,
          -0.5332313776016235,
          -1.1138914823532104,
          -0.7172214984893799,
          0.6946592926979065,
          -0.6635720729827881,
          0.9585534930229187,
          -0.10962191224098206,
          0.010555915534496307,
          1.0899772644042969,
          0.508720874786377,
          1.5374958515167236,
          0.8600098490715027,
          0.28962430357933044,
          1.806540846824646,
          -0.8222398161888123,
          -0.8665743470191956,
          0.47565749287605286,
          0.8342505693435669,
          -1.3798797130584717,
          0.6893894672393799,
          -1.6679378747940063,
          0.5245192646980286,
          -0.44977661967277527,
          0.45532211661338806,
          -0.6185232400894165,
          1.331120491027832,
          0.7006590366363525,
          2.0259244441986084,
          0.918631374835968,
          -0.6568455100059509,
          1.1057723760604858,
          -0.3241223096847534,
          -0.6384446024894714,
          -0.5188722610473633,
          -0.7142075300216675,
          0.7749663591384888,
          0.868587076663971,
          1.2818113565444946,
          0.5609020590782166,
          -0.8430633544921875,
          0.6244416236877441,
          1.5288724899291992,
          1.0214240550994873,
          -0.2690247595310211,
          -0.6568953990936279,
          -0.8190567493438721,
          -1.4546775817871094,
          0.41958245635032654,
          -0.8006970286369324,
          1.037660837173462,
          1.1133586168289185,
          -1.0012311935424805,
          0.7553868889808655,
          -0.8203572630882263,
          1.4761804342269897
         ],
         "yaxis": "y"
        },
        {
         "customdata": [
          [
           "Adelie"
          ],
          [
           "Adelie"
          ],
          [
           "Adelie"
          ],
          [
           "Adelie"
          ],
          [
           "Adelie"
          ],
          [
           "Adelie"
          ],
          [
           "Adelie"
          ],
          [
           "Adelie"
          ],
          [
           "Adelie"
          ],
          [
           "Adelie"
          ],
          [
           "Adelie"
          ],
          [
           "Adelie"
          ],
          [
           "Adelie"
          ],
          [
           "Adelie"
          ],
          [
           "Adelie"
          ],
          [
           "Adelie"
          ]
         ],
         "hovertemplate": "Cluster=Cluster 0<br>PCA1=%{x}<br>PCA2=%{y}<br>Feature=%{customdata[0]}<extra></extra>",
         "legendgroup": "Cluster 0",
         "marker": {
          "color": "#EF553B",
          "opacity": 0.5,
          "symbol": "circle"
         },
         "mode": "markers",
         "name": "Cluster 0",
         "orientation": "v",
         "showlegend": true,
         "textposition": "top center",
         "type": "scatter",
         "x": [
          -1.8428573608398438,
          -1.6333051919937134,
          -2.187398672103882,
          -2.183272123336792,
          -1.8689595460891724,
          -2.052604913711548,
          -1.9545435905456543,
          -1.7360533475875854,
          -2.2270889282226562,
          -1.8611646890640259,
          -1.85587477684021,
          -1.8030343055725098,
          -1.7593809366226196,
          -2.0424327850341797,
          -1.8372477293014526,
          -2.0267677307128906
         ],
         "xaxis": "x",
         "y": [
          -0.4680904448032379,
          -0.971180260181427,
          -1.1248828172683716,
          -1.0217738151550293,
          -0.6277568340301514,
          -0.8898874521255493,
          -0.680334210395813,
          -0.708235502243042,
          -0.46579092741012573,
          -0.627659797668457,
          -0.400418758392334,
          -0.12248776108026505,
          -0.2380375862121582,
          -0.8978487253189087,
          -1.0976381301879883,
          -0.36344823241233826
         ],
         "yaxis": "y"
        },
        {
         "customdata": [
          [
           "Adelie"
          ],
          [
           "Adelie"
          ],
          [
           "Adelie"
          ],
          [
           "Adelie"
          ],
          [
           "Adelie"
          ]
         ],
         "hovertemplate": "Cluster=Cluster 1<br>PCA1=%{x}<br>PCA2=%{y}<br>Feature=%{customdata[0]}<extra></extra>",
         "legendgroup": "Cluster 1",
         "marker": {
          "color": "#00cc96",
          "opacity": 0.5,
          "symbol": "circle"
         },
         "mode": "markers",
         "name": "Cluster 1",
         "orientation": "v",
         "showlegend": true,
         "textposition": "top center",
         "type": "scatter",
         "x": [
          -0.654476523399353,
          -0.37332427501678467,
          -0.9378666281700134,
          -0.6437615156173706,
          -0.983418881893158
         ],
         "xaxis": "x",
         "y": [
          0.31273019313812256,
          0.48055300116539,
          0.44277772307395935,
          0.2675301730632782,
          0.4183342456817627
         ],
         "yaxis": "y"
        },
        {
         "customdata": [
          [
           "Adelie"
          ],
          [
           "Adelie"
          ],
          [
           "Adelie"
          ],
          [
           "Adelie"
          ],
          [
           "Adelie"
          ]
         ],
         "hovertemplate": "Cluster=Cluster 2<br>PCA1=%{x}<br>PCA2=%{y}<br>Feature=%{customdata[0]}<extra></extra>",
         "legendgroup": "Cluster 2",
         "marker": {
          "color": "#ab63fa",
          "opacity": 0.5,
          "symbol": "circle"
         },
         "mode": "markers",
         "name": "Cluster 2",
         "orientation": "v",
         "showlegend": true,
         "textposition": "top center",
         "type": "scatter",
         "x": [
          -2.0660929679870605,
          -1.9982273578643799,
          -1.9205012321472168,
          -1.852384328842163,
          -2.0774993896484375
         ],
         "xaxis": "x",
         "y": [
          -1.138339877128601,
          -1.6793993711471558,
          -1.3793121576309204,
          -1.212585687637329,
          -1.252527117729187
         ],
         "yaxis": "y"
        },
        {
         "customdata": [
          [
           "Adelie"
          ],
          [
           "Adelie"
          ],
          [
           "Adelie"
          ],
          [
           "Adelie"
          ],
          [
           "Adelie"
          ]
         ],
         "hovertemplate": "Cluster=Cluster 3<br>PCA1=%{x}<br>PCA2=%{y}<br>Feature=%{customdata[0]}<extra></extra>",
         "legendgroup": "Cluster 3",
         "marker": {
          "color": "#FFA15A",
          "opacity": 0.5,
          "symbol": "circle"
         },
         "mode": "markers",
         "name": "Cluster 3",
         "orientation": "v",
         "showlegend": true,
         "textposition": "top center",
         "type": "scatter",
         "x": [
          -1.1505558490753174,
          -0.7395395636558533,
          -1.047355055809021,
          -0.8561745285987854,
          -0.9235142469406128
         ],
         "xaxis": "x",
         "y": [
          0.6863080859184265,
          0.7606515884399414,
          0.5712692737579346,
          0.4886001944541931,
          0.8399845361709595
         ],
         "yaxis": "y"
        },
        {
         "customdata": [
          [
           "Chinstrap"
          ],
          [
           "Chinstrap"
          ],
          [
           "Chinstrap"
          ],
          [
           "Chinstrap"
          ],
          [
           "Chinstrap"
          ],
          [
           "Chinstrap"
          ],
          [
           "Adelie"
          ],
          [
           "Chinstrap"
          ],
          [
           "Adelie"
          ],
          [
           "Chinstrap"
          ],
          [
           "Chinstrap"
          ],
          [
           "Chinstrap"
          ],
          [
           "Chinstrap"
          ],
          [
           "Chinstrap"
          ],
          [
           "Chinstrap"
          ]
         ],
         "hovertemplate": "Cluster=Cluster 4<br>PCA1=%{x}<br>PCA2=%{y}<br>Feature=%{customdata[0]}<extra></extra>",
         "legendgroup": "Cluster 4",
         "marker": {
          "color": "#19d3f3",
          "opacity": 0.5,
          "symbol": "circle"
         },
         "mode": "markers",
         "name": "Cluster 4",
         "orientation": "v",
         "showlegend": true,
         "textposition": "top center",
         "type": "scatter",
         "x": [
          -0.6912652254104614,
          -1.0800142288208008,
          -0.8627197742462158,
          -0.7473395466804504,
          -0.9444906115531921,
          -0.7676368355751038,
          -0.5649822950363159,
          -1.067988395690918,
          -1.023910641670227,
          -0.6617982983589172,
          -1.0129281282424927,
          -1.2808760404586792,
          -0.9179264903068542,
          -1.0230543613433838,
          -0.7556573748588562
         ],
         "xaxis": "x",
         "y": [
          -0.19774073362350464,
          -0.4407585561275482,
          -0.10495555400848389,
          -0.29168298840522766,
          -0.16582226753234863,
          -0.23508881032466888,
          0.08822424709796906,
          0.0025963098742067814,
          0.14671744406223297,
          0.42742395401000977,
          0.0012327783042564988,
          0.3691375255584717,
          0.13406914472579956,
          0.13537199795246124,
          0.16759473085403442
         ],
         "yaxis": "y"
        },
        {
         "customdata": [
          [
           "Chinstrap"
          ],
          [
           "Chinstrap"
          ],
          [
           "Chinstrap"
          ],
          [
           "Chinstrap"
          ],
          [
           "Chinstrap"
          ],
          [
           "Chinstrap"
          ],
          [
           "Chinstrap"
          ],
          [
           "Chinstrap"
          ],
          [
           "Chinstrap"
          ],
          [
           "Chinstrap"
          ],
          [
           "Adelie"
          ],
          [
           "Chinstrap"
          ],
          [
           "Adelie"
          ],
          [
           "Chinstrap"
          ],
          [
           "Chinstrap"
          ],
          [
           "Chinstrap"
          ],
          [
           "Chinstrap"
          ],
          [
           "Adelie"
          ],
          [
           "Chinstrap"
          ],
          [
           "Chinstrap"
          ],
          [
           "Chinstrap"
          ],
          [
           "Chinstrap"
          ],
          [
           "Chinstrap"
          ]
         ],
         "hovertemplate": "Cluster=Cluster 5<br>PCA1=%{x}<br>PCA2=%{y}<br>Feature=%{customdata[0]}<extra></extra>",
         "legendgroup": "Cluster 5",
         "marker": {
          "color": "#FF6692",
          "opacity": 0.5,
          "symbol": "circle"
         },
         "mode": "markers",
         "name": "Cluster 5",
         "orientation": "v",
         "showlegend": true,
         "textposition": "top center",
         "type": "scatter",
         "x": [
          -0.3300997018814087,
          -0.667065441608429,
          0.344066321849823,
          -0.511541485786438,
          0.24691668152809143,
          -0.6008672118186951,
          -0.020136777311563492,
          -0.18748459219932556,
          0.37045350670814514,
          -0.16133378446102142,
          -0.40615686774253845,
          -0.4623154401779175,
          -0.6081192493438721,
          -0.56746906042099,
          0.09907779097557068,
          -0.041751984506845474,
          -0.08557070791721344,
          -0.48050105571746826,
          -0.2334294617176056,
          0.14620478451251984,
          -0.15711526572704315,
          -0.435227632522583,
          -0.5700124502182007
         ],
         "xaxis": "x",
         "y": [
          1.5686025619506836,
          2.1747400760650635,
          1.5992683172225952,
          1.9998329877853394,
          1.4936519861221313,
          1.7825497388839722,
          1.8130569458007812,
          1.4222302436828613,
          1.7287933826446533,
          1.892269492149353,
          2.076939582824707,
          1.2886751890182495,
          1.7452141046524048,
          1.6682299375534058,
          1.9578845500946045,
          1.740771770477295,
          1.9447613954544067,
          1.7894887924194336,
          1.9045641422271729,
          1.6666111946105957,
          1.5569286346435547,
          1.6521974802017212,
          1.4095202684402466
         ],
         "yaxis": "y"
        },
        {
         "customdata": [
          [
           "Gentoo"
          ],
          [
           "Gentoo"
          ],
          [
           "Gentoo"
          ],
          [
           "Gentoo"
          ],
          [
           "Gentoo"
          ],
          [
           "Gentoo"
          ],
          [
           "Gentoo"
          ],
          [
           "Gentoo"
          ],
          [
           "Gentoo"
          ],
          [
           "Gentoo"
          ],
          [
           "Gentoo"
          ],
          [
           "Gentoo"
          ],
          [
           "Gentoo"
          ],
          [
           "Gentoo"
          ],
          [
           "Gentoo"
          ],
          [
           "Gentoo"
          ],
          [
           "Gentoo"
          ],
          [
           null
          ],
          [
           "Gentoo"
          ],
          [
           "Gentoo"
          ],
          [
           "Gentoo"
          ],
          [
           "Gentoo"
          ],
          [
           "Gentoo"
          ],
          [
           "Gentoo"
          ],
          [
           "Gentoo"
          ],
          [
           "Gentoo"
          ],
          [
           "Gentoo"
          ],
          [
           "Gentoo"
          ],
          [
           "Gentoo"
          ],
          [
           "Gentoo"
          ],
          [
           "Chinstrap"
          ],
          [
           "Chinstrap"
          ],
          [
           "Gentoo"
          ],
          [
           "Gentoo"
          ],
          [
           "Chinstrap"
          ],
          [
           "Gentoo"
          ],
          [
           "Gentoo"
          ],
          [
           "Gentoo"
          ],
          [
           "Gentoo"
          ],
          [
           "Gentoo"
          ],
          [
           "Gentoo"
          ],
          [
           "Gentoo"
          ],
          [
           "Gentoo"
          ],
          [
           "Gentoo"
          ],
          [
           "Gentoo"
          ],
          [
           "Gentoo"
          ],
          [
           "Gentoo"
          ],
          [
           "Gentoo"
          ],
          [
           "Gentoo"
          ],
          [
           "Gentoo"
          ],
          [
           "Gentoo"
          ],
          [
           "Gentoo"
          ],
          [
           "Gentoo"
          ],
          [
           "Gentoo"
          ],
          [
           "Gentoo"
          ],
          [
           "Gentoo"
          ],
          [
           "Gentoo"
          ]
         ],
         "hovertemplate": "Cluster=Cluster 6<br>PCA1=%{x}<br>PCA2=%{y}<br>Feature=%{customdata[0]}<extra></extra>",
         "legendgroup": "Cluster 6",
         "marker": {
          "color": "#B6E880",
          "opacity": 0.5,
          "symbol": "circle"
         },
         "mode": "markers",
         "name": "Cluster 6",
         "orientation": "v",
         "showlegend": true,
         "textposition": "top center",
         "type": "scatter",
         "x": [
          1.9154841899871826,
          1.1924309730529785,
          2.0006914138793945,
          1.6499122381210327,
          1.3215872049331665,
          1.1865791082382202,
          1.7868624925613403,
          1.2769458293914795,
          1.7387144565582275,
          1.0416778326034546,
          1.1108158826828003,
          0.9789900183677673,
          1.6302508115768433,
          1.7149596214294434,
          1.7506250143051147,
          1.8552361726760864,
          1.5124824047088623,
          1.6171497106552124,
          2.0900535583496094,
          2.0389840602874756,
          1.751897931098938,
          1.5185272693634033,
          1.7060688734054565,
          1.548508882522583,
          1.8453221321105957,
          1.4955469369888306,
          1.950100064277649,
          1.7269213199615479,
          1.2136412858963013,
          1.1490800380706787,
          1.6103472709655762,
          1.5645382404327393,
          1.8451107740402222,
          2.0033345222473145,
          1.576920986175537,
          1.4850361347198486,
          1.2067939043045044,
          1.3283953666687012,
          1.598278284072876,
          1.6865261793136597,
          1.0739164352416992,
          1.1995363235473633,
          0.9582758545875549,
          0.7601382732391357,
          2.098714828491211,
          1.487127661705017,
          1.5873608589172363,
          1.6221611499786377,
          2.327302932739258,
          1.489551305770874,
          1.5127222537994385,
          1.0706567764282227,
          1.7745078802108765,
          1.1677755117416382,
          1.6078332662582397,
          1.8752658367156982,
          1.4014312028884888
         ],
         "xaxis": "x",
         "y": [
          -1.163734793663025,
          -1.3586078882217407,
          -0.8071509599685669,
          -1.241389513015747,
          -1.0763181447982788,
          -1.5300334692001343,
          -1.5610874891281128,
          -1.5989104509353638,
          -1.08773672580719,
          -1.64946711063385,
          -1.5825247764587402,
          -1.4669393301010132,
          -1.0583983659744263,
          -0.9758991003036499,
          -1.4966410398483276,
          -1.233658790588379,
          -1.2111384868621826,
          -0.9974585771560669,
          -1.0613070726394653,
          -0.9801597595214844,
          -0.8886402249336243,
          -1.236702799797058,
          -1.4927093982696533,
          -1.2278163433074951,
          -1.3150867223739624,
          -1.4785393476486206,
          -0.8708425164222717,
          -0.7224370241165161,
          -1.5613563060760498,
          -1.7292755842208862,
          -1.6763814687728882,
          -1.1739357709884644,
          -1.1850260496139526,
          -1.3497806787490845,
          -1.535802960395813,
          -1.20372474193573,
          -1.8434500694274902,
          -1.8821617364883423,
          -1.3709137439727783,
          -1.524335503578186,
          -1.2662231922149658,
          -1.165903091430664,
          -1.9473990201950073,
          -1.8575958013534546,
          -0.5636584758758545,
          -1.1784288883209229,
          -1.1210424900054932,
          -1.7050509452819824,
          -0.7817324995994568,
          -1.2281087636947632,
          -1.4497498273849487,
          -1.4738662242889404,
          -1.2254786491394043,
          -1.6116931438446045,
          -1.5238486528396606,
          -1.8775590658187866,
          -1.2114793062210083
         ],
         "yaxis": "y"
        },
        {
         "customdata": [
          [
           "Gentoo"
          ],
          [
           "Gentoo"
          ],
          [
           "Gentoo"
          ],
          [
           "Gentoo"
          ],
          [
           "Gentoo"
          ],
          [
           "Gentoo"
          ],
          [
           "Gentoo"
          ],
          [
           "Gentoo"
          ],
          [
           "Gentoo"
          ],
          [
           "Gentoo"
          ],
          [
           "Gentoo"
          ],
          [
           "Gentoo"
          ],
          [
           null
          ],
          [
           "Gentoo"
          ],
          [
           "Gentoo"
          ],
          [
           "Gentoo"
          ],
          [
           "Gentoo"
          ],
          [
           "Gentoo"
          ],
          [
           "Gentoo"
          ],
          [
           "Gentoo"
          ],
          [
           "Gentoo"
          ],
          [
           "Gentoo"
          ],
          [
           "Gentoo"
          ],
          [
           "Gentoo"
          ],
          [
           "Gentoo"
          ],
          [
           "Gentoo"
          ],
          [
           "Gentoo"
          ],
          [
           "Chinstrap"
          ],
          [
           "Chinstrap"
          ],
          [
           "Chinstrap"
          ],
          [
           "Gentoo"
          ],
          [
           "Gentoo"
          ],
          [
           "Gentoo"
          ],
          [
           "Gentoo"
          ],
          [
           "Gentoo"
          ],
          [
           "Gentoo"
          ],
          [
           "Gentoo"
          ],
          [
           "Gentoo"
          ],
          [
           "Gentoo"
          ],
          [
           "Gentoo"
          ],
          [
           "Gentoo"
          ],
          [
           "Gentoo"
          ],
          [
           "Gentoo"
          ],
          [
           "Gentoo"
          ],
          [
           "Gentoo"
          ],
          [
           "Gentoo"
          ],
          [
           "Gentoo"
          ],
          [
           "Gentoo"
          ],
          [
           "Gentoo"
          ],
          [
           "Gentoo"
          ]
         ],
         "hovertemplate": "Cluster=Cluster 7<br>PCA1=%{x}<br>PCA2=%{y}<br>Feature=%{customdata[0]}<extra></extra>",
         "legendgroup": "Cluster 7",
         "marker": {
          "color": "#FF97FF",
          "opacity": 0.5,
          "symbol": "circle"
         },
         "mode": "markers",
         "name": "Cluster 7",
         "orientation": "v",
         "showlegend": true,
         "textposition": "top center",
         "type": "scatter",
         "x": [
          2.754732847213745,
          2.816988468170166,
          2.7621872425079346,
          2.573086738586426,
          2.835942268371582,
          2.954068899154663,
          2.0856080055236816,
          2.142260789871216,
          2.7114553451538086,
          2.9959700107574463,
          2.8899788856506348,
          3.2172353267669678,
          3.0098378658294678,
          2.0004541873931885,
          1.885184645652771,
          2.631298303604126,
          2.7227885723114014,
          2.477818727493286,
          1.9571223258972168,
          1.803137183189392,
          2.953660726547241,
          2.6059138774871826,
          2.3909800052642822,
          2.6723551750183105,
          2.3302369117736816,
          1.9868643283843994,
          2.1912949085235596,
          2.391716480255127,
          2.7632086277008057,
          3.0272061824798584,
          2.656782865524292,
          2.748478412628174,
          2.3032968044281006,
          2.7247517108917236,
          2.8318679332733154,
          2.9159529209136963,
          3.0435781478881836,
          2.262331247329712,
          2.0551180839538574,
          2.9550156593322754,
          2.855299234390259,
          3.034972667694092,
          2.37679123878479,
          2.913177251815796,
          2.0618250370025635,
          1.9787101745605469,
          2.619014263153076,
          2.743574857711792,
          2.9144787788391113,
          2.1802585124969482
         ],
         "xaxis": "x",
         "y": [
          0.5322222709655762,
          0.7030036449432373,
          1.052477478981018,
          0.7338382005691528,
          0.5633981823921204,
          1.0360069274902344,
          0.28749901056289673,
          0.03734806180000305,
          0.42927220463752747,
          0.10530143231153488,
          0.47762492299079895,
          0.5394657850265503,
          0.7411670684814453,
          0.29950278997421265,
          0.02920340932905674,
          0.456248015165329,
          0.2757410407066345,
          0.010481645353138447,
          -0.17203478515148163,
          0.07630234956741333,
          -0.03173431009054184,
          0.07771622389554977,
          0.022131744772195816,
          0.4009925425052643,
          0.467617392539978,
          -0.006829611025750637,
          -0.0361059308052063,
          -0.2153107076883316,
          0.26188749074935913,
          0.6552591323852539,
          -0.05206475406885147,
          1.0430546998977661,
          0.4717318117618561,
          0.5233356952667236,
          0.5591749548912048,
          0.7740832567214966,
          0.4586828649044037,
          0.17083001136779785,
          0.015423968434333801,
          0.2310042530298233,
          0.5146318078041077,
          0.5961089134216309,
          -0.19444534182548523,
          0.31201833486557007,
          -0.2619960606098175,
          -0.15578345954418182,
          0.10228243470191956,
          0.504126250743866,
          0.8114678263664246,
          0.5106748342514038
         ],
         "yaxis": "y"
        }
       ],
       "layout": {
        "height": 600,
        "legend": {
         "title": {
          "text": "Cluster"
         },
         "tracegroupgap": 0
        },
        "margin": {
         "t": 60
        },
        "plot_bgcolor": "rgb(240,240,240)",
        "template": {
         "data": {
          "bar": [
           {
            "error_x": {
             "color": "#2a3f5f"
            },
            "error_y": {
             "color": "#2a3f5f"
            },
            "marker": {
             "line": {
              "color": "#E5ECF6",
              "width": 0.5
             },
             "pattern": {
              "fillmode": "overlay",
              "size": 10,
              "solidity": 0.2
             }
            },
            "type": "bar"
           }
          ],
          "barpolar": [
           {
            "marker": {
             "line": {
              "color": "#E5ECF6",
              "width": 0.5
             },
             "pattern": {
              "fillmode": "overlay",
              "size": 10,
              "solidity": 0.2
             }
            },
            "type": "barpolar"
           }
          ],
          "carpet": [
           {
            "aaxis": {
             "endlinecolor": "#2a3f5f",
             "gridcolor": "white",
             "linecolor": "white",
             "minorgridcolor": "white",
             "startlinecolor": "#2a3f5f"
            },
            "baxis": {
             "endlinecolor": "#2a3f5f",
             "gridcolor": "white",
             "linecolor": "white",
             "minorgridcolor": "white",
             "startlinecolor": "#2a3f5f"
            },
            "type": "carpet"
           }
          ],
          "choropleth": [
           {
            "colorbar": {
             "outlinewidth": 0,
             "ticks": ""
            },
            "type": "choropleth"
           }
          ],
          "contour": [
           {
            "colorbar": {
             "outlinewidth": 0,
             "ticks": ""
            },
            "colorscale": [
             [
              0,
              "#0d0887"
             ],
             [
              0.1111111111111111,
              "#46039f"
             ],
             [
              0.2222222222222222,
              "#7201a8"
             ],
             [
              0.3333333333333333,
              "#9c179e"
             ],
             [
              0.4444444444444444,
              "#bd3786"
             ],
             [
              0.5555555555555556,
              "#d8576b"
             ],
             [
              0.6666666666666666,
              "#ed7953"
             ],
             [
              0.7777777777777778,
              "#fb9f3a"
             ],
             [
              0.8888888888888888,
              "#fdca26"
             ],
             [
              1,
              "#f0f921"
             ]
            ],
            "type": "contour"
           }
          ],
          "contourcarpet": [
           {
            "colorbar": {
             "outlinewidth": 0,
             "ticks": ""
            },
            "type": "contourcarpet"
           }
          ],
          "heatmap": [
           {
            "colorbar": {
             "outlinewidth": 0,
             "ticks": ""
            },
            "colorscale": [
             [
              0,
              "#0d0887"
             ],
             [
              0.1111111111111111,
              "#46039f"
             ],
             [
              0.2222222222222222,
              "#7201a8"
             ],
             [
              0.3333333333333333,
              "#9c179e"
             ],
             [
              0.4444444444444444,
              "#bd3786"
             ],
             [
              0.5555555555555556,
              "#d8576b"
             ],
             [
              0.6666666666666666,
              "#ed7953"
             ],
             [
              0.7777777777777778,
              "#fb9f3a"
             ],
             [
              0.8888888888888888,
              "#fdca26"
             ],
             [
              1,
              "#f0f921"
             ]
            ],
            "type": "heatmap"
           }
          ],
          "heatmapgl": [
           {
            "colorbar": {
             "outlinewidth": 0,
             "ticks": ""
            },
            "colorscale": [
             [
              0,
              "#0d0887"
             ],
             [
              0.1111111111111111,
              "#46039f"
             ],
             [
              0.2222222222222222,
              "#7201a8"
             ],
             [
              0.3333333333333333,
              "#9c179e"
             ],
             [
              0.4444444444444444,
              "#bd3786"
             ],
             [
              0.5555555555555556,
              "#d8576b"
             ],
             [
              0.6666666666666666,
              "#ed7953"
             ],
             [
              0.7777777777777778,
              "#fb9f3a"
             ],
             [
              0.8888888888888888,
              "#fdca26"
             ],
             [
              1,
              "#f0f921"
             ]
            ],
            "type": "heatmapgl"
           }
          ],
          "histogram": [
           {
            "marker": {
             "pattern": {
              "fillmode": "overlay",
              "size": 10,
              "solidity": 0.2
             }
            },
            "type": "histogram"
           }
          ],
          "histogram2d": [
           {
            "colorbar": {
             "outlinewidth": 0,
             "ticks": ""
            },
            "colorscale": [
             [
              0,
              "#0d0887"
             ],
             [
              0.1111111111111111,
              "#46039f"
             ],
             [
              0.2222222222222222,
              "#7201a8"
             ],
             [
              0.3333333333333333,
              "#9c179e"
             ],
             [
              0.4444444444444444,
              "#bd3786"
             ],
             [
              0.5555555555555556,
              "#d8576b"
             ],
             [
              0.6666666666666666,
              "#ed7953"
             ],
             [
              0.7777777777777778,
              "#fb9f3a"
             ],
             [
              0.8888888888888888,
              "#fdca26"
             ],
             [
              1,
              "#f0f921"
             ]
            ],
            "type": "histogram2d"
           }
          ],
          "histogram2dcontour": [
           {
            "colorbar": {
             "outlinewidth": 0,
             "ticks": ""
            },
            "colorscale": [
             [
              0,
              "#0d0887"
             ],
             [
              0.1111111111111111,
              "#46039f"
             ],
             [
              0.2222222222222222,
              "#7201a8"
             ],
             [
              0.3333333333333333,
              "#9c179e"
             ],
             [
              0.4444444444444444,
              "#bd3786"
             ],
             [
              0.5555555555555556,
              "#d8576b"
             ],
             [
              0.6666666666666666,
              "#ed7953"
             ],
             [
              0.7777777777777778,
              "#fb9f3a"
             ],
             [
              0.8888888888888888,
              "#fdca26"
             ],
             [
              1,
              "#f0f921"
             ]
            ],
            "type": "histogram2dcontour"
           }
          ],
          "mesh3d": [
           {
            "colorbar": {
             "outlinewidth": 0,
             "ticks": ""
            },
            "type": "mesh3d"
           }
          ],
          "parcoords": [
           {
            "line": {
             "colorbar": {
              "outlinewidth": 0,
              "ticks": ""
             }
            },
            "type": "parcoords"
           }
          ],
          "pie": [
           {
            "automargin": true,
            "type": "pie"
           }
          ],
          "scatter": [
           {
            "fillpattern": {
             "fillmode": "overlay",
             "size": 10,
             "solidity": 0.2
            },
            "type": "scatter"
           }
          ],
          "scatter3d": [
           {
            "line": {
             "colorbar": {
              "outlinewidth": 0,
              "ticks": ""
             }
            },
            "marker": {
             "colorbar": {
              "outlinewidth": 0,
              "ticks": ""
             }
            },
            "type": "scatter3d"
           }
          ],
          "scattercarpet": [
           {
            "marker": {
             "colorbar": {
              "outlinewidth": 0,
              "ticks": ""
             }
            },
            "type": "scattercarpet"
           }
          ],
          "scattergeo": [
           {
            "marker": {
             "colorbar": {
              "outlinewidth": 0,
              "ticks": ""
             }
            },
            "type": "scattergeo"
           }
          ],
          "scattergl": [
           {
            "marker": {
             "colorbar": {
              "outlinewidth": 0,
              "ticks": ""
             }
            },
            "type": "scattergl"
           }
          ],
          "scattermapbox": [
           {
            "marker": {
             "colorbar": {
              "outlinewidth": 0,
              "ticks": ""
             }
            },
            "type": "scattermapbox"
           }
          ],
          "scatterpolar": [
           {
            "marker": {
             "colorbar": {
              "outlinewidth": 0,
              "ticks": ""
             }
            },
            "type": "scatterpolar"
           }
          ],
          "scatterpolargl": [
           {
            "marker": {
             "colorbar": {
              "outlinewidth": 0,
              "ticks": ""
             }
            },
            "type": "scatterpolargl"
           }
          ],
          "scatterternary": [
           {
            "marker": {
             "colorbar": {
              "outlinewidth": 0,
              "ticks": ""
             }
            },
            "type": "scatterternary"
           }
          ],
          "surface": [
           {
            "colorbar": {
             "outlinewidth": 0,
             "ticks": ""
            },
            "colorscale": [
             [
              0,
              "#0d0887"
             ],
             [
              0.1111111111111111,
              "#46039f"
             ],
             [
              0.2222222222222222,
              "#7201a8"
             ],
             [
              0.3333333333333333,
              "#9c179e"
             ],
             [
              0.4444444444444444,
              "#bd3786"
             ],
             [
              0.5555555555555556,
              "#d8576b"
             ],
             [
              0.6666666666666666,
              "#ed7953"
             ],
             [
              0.7777777777777778,
              "#fb9f3a"
             ],
             [
              0.8888888888888888,
              "#fdca26"
             ],
             [
              1,
              "#f0f921"
             ]
            ],
            "type": "surface"
           }
          ],
          "table": [
           {
            "cells": {
             "fill": {
              "color": "#EBF0F8"
             },
             "line": {
              "color": "white"
             }
            },
            "header": {
             "fill": {
              "color": "#C8D4E3"
             },
             "line": {
              "color": "white"
             }
            },
            "type": "table"
           }
          ]
         },
         "layout": {
          "annotationdefaults": {
           "arrowcolor": "#2a3f5f",
           "arrowhead": 0,
           "arrowwidth": 1
          },
          "autotypenumbers": "strict",
          "coloraxis": {
           "colorbar": {
            "outlinewidth": 0,
            "ticks": ""
           }
          },
          "colorscale": {
           "diverging": [
            [
             0,
             "#8e0152"
            ],
            [
             0.1,
             "#c51b7d"
            ],
            [
             0.2,
             "#de77ae"
            ],
            [
             0.3,
             "#f1b6da"
            ],
            [
             0.4,
             "#fde0ef"
            ],
            [
             0.5,
             "#f7f7f7"
            ],
            [
             0.6,
             "#e6f5d0"
            ],
            [
             0.7,
             "#b8e186"
            ],
            [
             0.8,
             "#7fbc41"
            ],
            [
             0.9,
             "#4d9221"
            ],
            [
             1,
             "#276419"
            ]
           ],
           "sequential": [
            [
             0,
             "#0d0887"
            ],
            [
             0.1111111111111111,
             "#46039f"
            ],
            [
             0.2222222222222222,
             "#7201a8"
            ],
            [
             0.3333333333333333,
             "#9c179e"
            ],
            [
             0.4444444444444444,
             "#bd3786"
            ],
            [
             0.5555555555555556,
             "#d8576b"
            ],
            [
             0.6666666666666666,
             "#ed7953"
            ],
            [
             0.7777777777777778,
             "#fb9f3a"
            ],
            [
             0.8888888888888888,
             "#fdca26"
            ],
            [
             1,
             "#f0f921"
            ]
           ],
           "sequentialminus": [
            [
             0,
             "#0d0887"
            ],
            [
             0.1111111111111111,
             "#46039f"
            ],
            [
             0.2222222222222222,
             "#7201a8"
            ],
            [
             0.3333333333333333,
             "#9c179e"
            ],
            [
             0.4444444444444444,
             "#bd3786"
            ],
            [
             0.5555555555555556,
             "#d8576b"
            ],
            [
             0.6666666666666666,
             "#ed7953"
            ],
            [
             0.7777777777777778,
             "#fb9f3a"
            ],
            [
             0.8888888888888888,
             "#fdca26"
            ],
            [
             1,
             "#f0f921"
            ]
           ]
          },
          "colorway": [
           "#636efa",
           "#EF553B",
           "#00cc96",
           "#ab63fa",
           "#FFA15A",
           "#19d3f3",
           "#FF6692",
           "#B6E880",
           "#FF97FF",
           "#FECB52"
          ],
          "font": {
           "color": "#2a3f5f"
          },
          "geo": {
           "bgcolor": "white",
           "lakecolor": "white",
           "landcolor": "#E5ECF6",
           "showlakes": true,
           "showland": true,
           "subunitcolor": "white"
          },
          "hoverlabel": {
           "align": "left"
          },
          "hovermode": "closest",
          "mapbox": {
           "style": "light"
          },
          "paper_bgcolor": "white",
          "plot_bgcolor": "#E5ECF6",
          "polar": {
           "angularaxis": {
            "gridcolor": "white",
            "linecolor": "white",
            "ticks": ""
           },
           "bgcolor": "#E5ECF6",
           "radialaxis": {
            "gridcolor": "white",
            "linecolor": "white",
            "ticks": ""
           }
          },
          "scene": {
           "xaxis": {
            "backgroundcolor": "#E5ECF6",
            "gridcolor": "white",
            "gridwidth": 2,
            "linecolor": "white",
            "showbackground": true,
            "ticks": "",
            "zerolinecolor": "white"
           },
           "yaxis": {
            "backgroundcolor": "#E5ECF6",
            "gridcolor": "white",
            "gridwidth": 2,
            "linecolor": "white",
            "showbackground": true,
            "ticks": "",
            "zerolinecolor": "white"
           },
           "zaxis": {
            "backgroundcolor": "#E5ECF6",
            "gridcolor": "white",
            "gridwidth": 2,
            "linecolor": "white",
            "showbackground": true,
            "ticks": "",
            "zerolinecolor": "white"
           }
          },
          "shapedefaults": {
           "line": {
            "color": "#2a3f5f"
           }
          },
          "ternary": {
           "aaxis": {
            "gridcolor": "white",
            "linecolor": "white",
            "ticks": ""
           },
           "baxis": {
            "gridcolor": "white",
            "linecolor": "white",
            "ticks": ""
           },
           "bgcolor": "#E5ECF6",
           "caxis": {
            "gridcolor": "white",
            "linecolor": "white",
            "ticks": ""
           }
          },
          "title": {
           "x": 0.05
          },
          "xaxis": {
           "automargin": true,
           "gridcolor": "white",
           "linecolor": "white",
           "ticks": "",
           "title": {
            "standoff": 15
           },
           "zerolinecolor": "white",
           "zerolinewidth": 2
          },
          "yaxis": {
           "automargin": true,
           "gridcolor": "white",
           "linecolor": "white",
           "ticks": "",
           "title": {
            "standoff": 15
           },
           "zerolinecolor": "white",
           "zerolinewidth": 2
          }
         }
        },
        "title": {
         "text": "2D Cluster PCA Plot"
        },
        "xaxis": {
         "anchor": "y",
         "domain": [
          0,
          1
         ],
         "title": {
          "text": "PCA1"
         }
        },
        "yaxis": {
         "anchor": "x",
         "domain": [
          0,
          1
         ],
         "title": {
          "text": "PCA2"
         }
        }
       }
      },
      "text/html": [
       "<div>                            <div id=\"3bf40f88-23a4-403b-8afe-07a7e2d264e9\" class=\"plotly-graph-div\" style=\"height:600px; width:100%;\"></div>            <script type=\"text/javascript\">                require([\"plotly\"], function(Plotly) {                    window.PLOTLYENV=window.PLOTLYENV || {};                                    if (document.getElementById(\"3bf40f88-23a4-403b-8afe-07a7e2d264e9\")) {                    Plotly.newPlot(                        \"3bf40f88-23a4-403b-8afe-07a7e2d264e9\",                        [{\"customdata\":[[\"Adelie\"],[\"Adelie\"],[\"Adelie\"],[\"Adelie\"],[\"Adelie\"],[\"Adelie\"],[\"Adelie\"],[\"Adelie\"],[\"Adelie\"],[\"Adelie\"],[\"Adelie\"],[\"Adelie\"],[\"Adelie\"],[\"Adelie\"],[\"Adelie\"],[\"Adelie\"],[\"Adelie\"],[\"Adelie\"],[\"Adelie\"],[\"Adelie\"],[\"Adelie\"],[\"Adelie\"],[\"Adelie\"],[\"Adelie\"],[\"Adelie\"],[\"Adelie\"],[\"Adelie\"],[\"Adelie\"],[\"Adelie\"],[\"Adelie\"],[\"Adelie\"],[\"Adelie\"],[\"Adelie\"],[\"Adelie\"],[\"Adelie\"],[\"Adelie\"],[\"Adelie\"],[\"Adelie\"],[\"Adelie\"],[\"Adelie\"],[\"Adelie\"],[\"Adelie\"],[\"Adelie\"],[\"Chinstrap\"],[\"Chinstrap\"],[\"Chinstrap\"],[\"Chinstrap\"],[\"Chinstrap\"],[\"Chinstrap\"],[\"Gentoo\"],[null],[\"Gentoo\"],[\"Gentoo\"],[\"Gentoo\"],[\"Gentoo\"],[\"Gentoo\"],[\"Gentoo\"],[\"Gentoo\"],[\"Gentoo\"],[\"Gentoo\"],[\"Gentoo\"],[\"Chinstrap\"],[\"Chinstrap\"],[\"Chinstrap\"],[\"Chinstrap\"],[\"Chinstrap\"],[\"Chinstrap\"],[\"Chinstrap\"],[\"Chinstrap\"],[\"Chinstrap\"],[\"Chinstrap\"],[\"Chinstrap\"],[\"Chinstrap\"],[\"Adelie\"],[\"Chinstrap\"],[\"Chinstrap\"],[\"Chinstrap\"],[\"Chinstrap\"],[\"Chinstrap\"],[\"Chinstrap\"],[\"Chinstrap\"],[\"Chinstrap\"],[\"Chinstrap\"],[\"Chinstrap\"],[\"Adelie\"],[\"Chinstrap\"],[\"Adelie\"],[\"Adelie\"],[\"Adelie\"],[\"Adelie\"],[\"Adelie\"],[\"Adelie\"],[\"Adelie\"],[null],[\"Adelie\"],[\"Adelie\"],[\"Adelie\"],[\"Adelie\"],[\"Adelie\"],[\"Adelie\"],[\"Adelie\"],[\"Adelie\"],[\"Adelie\"],[\"Adelie\"],[\"Adelie\"],[\"Adelie\"],[\"Adelie\"],[\"Adelie\"],[\"Adelie\"],[\"Adelie\"],[\"Adelie\"],[\"Adelie\"],[\"Adelie\"],[\"Adelie\"],[\"Adelie\"],[\"Adelie\"],[\"Adelie\"],[\"Adelie\"],[\"Adelie\"],[\"Adelie\"],[\"Adelie\"],[\"Adelie\"],[\"Adelie\"],[\"Adelie\"],[\"Adelie\"],[\"Adelie\"],[\"Adelie\"],[\"Adelie\"],[\"Adelie\"],[\"Adelie\"],[\"Adelie\"],[\"Adelie\"],[\"Adelie\"],[null],[\"Adelie\"],[\"Adelie\"],[\"Adelie\"],[\"Adelie\"],[\"Adelie\"],[null],[\"Adelie\"],[\"Adelie\"],[\"Adelie\"],[\"Adelie\"],[\"Adelie\"],[null],[\"Adelie\"],[null],[\"Adelie\"],[\"Adelie\"],[\"Adelie\"],[null],[\"Adelie\"],[\"Adelie\"],[\"Adelie\"],[\"Adelie\"],[\"Adelie\"]],\"hovertemplate\":\"Cluster=Cluster -1<br>PCA1=%{x}<br>PCA2=%{y}<br>Feature=%{customdata[0]}<extra></extra>\",\"legendgroup\":\"Cluster -1\",\"marker\":{\"color\":\"#636efa\",\"opacity\":0.5,\"symbol\":\"circle\"},\"mode\":\"markers\",\"name\":\"Cluster -1\",\"orientation\":\"v\",\"showlegend\":true,\"x\":[-1.8139327764511108,-0.871145486831665,-1.6983057260513306,-0.6230794787406921,-1.7364970445632935,0.03358703851699829,-1.7862300872802734,-1.1303702592849731,-0.7542526721954346,-1.023651123046875,-1.1505091190338135,-1.386207103729248,-1.4087883234024048,-2.13974928855896,-1.0750173330307007,-1.8618022203445435,-1.7870665788650513,-1.3783354759216309,-0.6761138439178467,-1.952517032623291,-1.627559781074524,-1.605366587638855,-0.8406956791877747,-1.4433608055114746,-0.12133924663066864,-1.6582523584365845,-1.2066324949264526,-1.8503892421722412,-1.5533599853515625,-0.7316152453422546,-1.7508416175842285,-1.4102528095245361,0.03892027959227562,-0.6240289211273193,-0.383087158203125,-1.3509141206741333,-0.4714653491973877,-1.55173659324646,-1.9682555198669434,-1.5704528093338013,-1.8339719772338867,-2.6772122383117676,-0.6818175911903381,-1.8383984565734863,-1.5184118747711182,-1.289056658744812,0.41776561737060547,-0.9652941823005676,-0.4679728150367737,3.2228097915649414,3.873352289199829,1.6571420431137085,1.9319616556167603,2.054093599319458,1.9795639514923096,2.671494483947754,3.48484206199646,2.523078203201294,2.7904322147369385,3.2038300037384033,3.5831692218780518,-0.4465734660625458,-0.29415178298950195,-1.002562165260315,0.327501118183136,-0.7017282843589783,-0.9169387221336365,-0.41293227672576904,0.005384714808315039,-0.743090808391571,-1.6297322511672974,-0.5582301020622253,0.43462803959846497,-1.407479166984558,-1.6075729131698608,-1.4018248319625854,-0.18533024191856384,0.6030715107917786,-1.2767618894577026,0.4750199615955353,0.0325467623770237,-0.40472277998924255,-0.8903331160545349,0.061240095645189285,-0.33413365483283997,-1.597380518913269,-2.2376983165740967,-2.2735776901245117,-1.5663634538650513,-1.4104695320129395,-1.4648091793060303,-1.7630696296691895,-1.2846574783325195,-0.5185196995735168,-1.2065799236297607,-1.6950271129608154,-1.223449468612671,-1.7959160804748535,-1.8589130640029907,-0.8482145667076111,-1.4285837411880493,-2.0988080501556396,-2.4651405811309814,-1.7074406147003174,-2.535517692565918,-1.0228296518325806,-2.4547665119171143,-1.1715705394744873,-2.5609323978424072,-1.91947603225708,-1.6549603939056396,-0.8599094152450562,-1.4645421504974365,-1.550129771232605,-1.9216117858886719,-1.4416836500167847,-1.4361568689346313,-2.0607690811157227,-1.382023811340332,-1.9522199630737305,-2.0843141078948975,-0.27476245164871216,-1.2061980962753296,-0.06995302438735962,-1.90207839012146,-1.4817906618118286,-1.9278525114059448,-1.6276707649230957,-1.8530524969100952,-1.0014216899871826,-0.8032203316688538,-1.8927375078201294,-1.8763251304626465,-1.9951263666152954,-1.4525152444839478,-1.5167738199234009,-1.451857089996338,-1.5782493352890015,-0.933042049407959,-1.9069863557815552,-1.8778268098831177,-2.441459894180298,-0.9550672769546509,-0.7978023886680603,-0.5934195518493652,-1.7015007734298706,-2.2047903537750244,-1.8622500896453857,-1.5840493440628052,-1.2500073909759521,-1.1747825145721436,-1.51784086227417,-0.4258820116519928,-1.690537452697754,-0.5942689180374146,-1.0942926406860352,-0.6433303356170654],\"xaxis\":\"x\",\"y\":[0.44127485156059265,0.7227129340171814,-0.7742816209793091,0.5932489633560181,-0.9651116728782654,0.6656339764595032,-0.6881551742553711,0.9063735008239746,0.5659497976303101,0.40236392617225647,1.2499854564666748,-0.6322718858718872,0.19114311039447784,-1.872317910194397,0.17255456745624542,-1.0237574577331543,0.6063282489776611,0.3325731158256531,0.5978145599365234,-0.8639270663261414,0.6937268376350403,0.507425844669342,0.9426077604293823,-1.068995714187622,1.0413694381713867,-1.623310923576355,0.7025817632675171,-0.7247433662414551,0.35703977942466736,-1.0165507793426514,-0.9205638766288757,0.6798418164253235,0.8689215779304504,-1.285668134689331,1.4675354957580566,-0.8515893220901489,0.8859636783599854,0.27636030316352844,-1.057532787322998,0.9466900825500488,-1.2358561754226685,-1.6243947744369507,0.8065944314002991,0.16212785243988037,-0.40008896589279175,0.5984352231025696,2.373302459716797,-0.0204234030097723,0.7594184279441833,0.29585152864456177,1.6963551044464111,0.47974035143852234,0.26576945185661316,0.01330607756972313,-1.6404694318771362,-0.29164910316467285,0.7772258520126343,0.3456636071205139,-0.04206983000040054,1.3367154598236084,0.9720003604888916,-0.26201552152633667,0.2319689691066742,1.5197139978408813,1.8282500505447388,0.5552443265914917,1.8935587406158447,1.0235086679458618,1.3563109636306763,0.9023517370223999,-0.6553522348403931,0.6245735287666321,2.2906930446624756,0.3346620500087738,-0.7881035804748535,-0.6062082052230835,-0.08279886841773987,2.5138561725616455,-0.3918575346469879,2.30309796333313,1.7374602556228638,0.5210754871368408,0.4087870419025421,2.630793571472168,0.9447504878044128,-0.3771423399448395,-0.7870120406150818,-1.1725798845291138,-0.7283951044082642,-0.9299259185791016,0.32269901037216187,-0.6970379948616028,-0.2636694014072418,0.8396559953689575,0.028370562940835953,-0.5447236895561218,0.30607008934020996,0.13528883457183838,-1.4555864334106445,1.3822603225708008,-1.204192876815796,-1.5477391481399536,-0.5332313776016235,-1.1138914823532104,-0.7172214984893799,0.6946592926979065,-0.6635720729827881,0.9585534930229187,-0.10962191224098206,0.010555915534496307,1.0899772644042969,0.508720874786377,1.5374958515167236,0.8600098490715027,0.28962430357933044,1.806540846824646,-0.8222398161888123,-0.8665743470191956,0.47565749287605286,0.8342505693435669,-1.3798797130584717,0.6893894672393799,-1.6679378747940063,0.5245192646980286,-0.44977661967277527,0.45532211661338806,-0.6185232400894165,1.331120491027832,0.7006590366363525,2.0259244441986084,0.918631374835968,-0.6568455100059509,1.1057723760604858,-0.3241223096847534,-0.6384446024894714,-0.5188722610473633,-0.7142075300216675,0.7749663591384888,0.868587076663971,1.2818113565444946,0.5609020590782166,-0.8430633544921875,0.6244416236877441,1.5288724899291992,1.0214240550994873,-0.2690247595310211,-0.6568953990936279,-0.8190567493438721,-1.4546775817871094,0.41958245635032654,-0.8006970286369324,1.037660837173462,1.1133586168289185,-1.0012311935424805,0.7553868889808655,-0.8203572630882263,1.4761804342269897],\"yaxis\":\"y\",\"type\":\"scatter\",\"textposition\":\"top center\"},{\"customdata\":[[\"Adelie\"],[\"Adelie\"],[\"Adelie\"],[\"Adelie\"],[\"Adelie\"],[\"Adelie\"],[\"Adelie\"],[\"Adelie\"],[\"Adelie\"],[\"Adelie\"],[\"Adelie\"],[\"Adelie\"],[\"Adelie\"],[\"Adelie\"],[\"Adelie\"],[\"Adelie\"]],\"hovertemplate\":\"Cluster=Cluster 0<br>PCA1=%{x}<br>PCA2=%{y}<br>Feature=%{customdata[0]}<extra></extra>\",\"legendgroup\":\"Cluster 0\",\"marker\":{\"color\":\"#EF553B\",\"opacity\":0.5,\"symbol\":\"circle\"},\"mode\":\"markers\",\"name\":\"Cluster 0\",\"orientation\":\"v\",\"showlegend\":true,\"x\":[-1.8428573608398438,-1.6333051919937134,-2.187398672103882,-2.183272123336792,-1.8689595460891724,-2.052604913711548,-1.9545435905456543,-1.7360533475875854,-2.2270889282226562,-1.8611646890640259,-1.85587477684021,-1.8030343055725098,-1.7593809366226196,-2.0424327850341797,-1.8372477293014526,-2.0267677307128906],\"xaxis\":\"x\",\"y\":[-0.4680904448032379,-0.971180260181427,-1.1248828172683716,-1.0217738151550293,-0.6277568340301514,-0.8898874521255493,-0.680334210395813,-0.708235502243042,-0.46579092741012573,-0.627659797668457,-0.400418758392334,-0.12248776108026505,-0.2380375862121582,-0.8978487253189087,-1.0976381301879883,-0.36344823241233826],\"yaxis\":\"y\",\"type\":\"scatter\",\"textposition\":\"top center\"},{\"customdata\":[[\"Adelie\"],[\"Adelie\"],[\"Adelie\"],[\"Adelie\"],[\"Adelie\"]],\"hovertemplate\":\"Cluster=Cluster 1<br>PCA1=%{x}<br>PCA2=%{y}<br>Feature=%{customdata[0]}<extra></extra>\",\"legendgroup\":\"Cluster 1\",\"marker\":{\"color\":\"#00cc96\",\"opacity\":0.5,\"symbol\":\"circle\"},\"mode\":\"markers\",\"name\":\"Cluster 1\",\"orientation\":\"v\",\"showlegend\":true,\"x\":[-0.654476523399353,-0.37332427501678467,-0.9378666281700134,-0.6437615156173706,-0.983418881893158],\"xaxis\":\"x\",\"y\":[0.31273019313812256,0.48055300116539,0.44277772307395935,0.2675301730632782,0.4183342456817627],\"yaxis\":\"y\",\"type\":\"scatter\",\"textposition\":\"top center\"},{\"customdata\":[[\"Adelie\"],[\"Adelie\"],[\"Adelie\"],[\"Adelie\"],[\"Adelie\"]],\"hovertemplate\":\"Cluster=Cluster 2<br>PCA1=%{x}<br>PCA2=%{y}<br>Feature=%{customdata[0]}<extra></extra>\",\"legendgroup\":\"Cluster 2\",\"marker\":{\"color\":\"#ab63fa\",\"opacity\":0.5,\"symbol\":\"circle\"},\"mode\":\"markers\",\"name\":\"Cluster 2\",\"orientation\":\"v\",\"showlegend\":true,\"x\":[-2.0660929679870605,-1.9982273578643799,-1.9205012321472168,-1.852384328842163,-2.0774993896484375],\"xaxis\":\"x\",\"y\":[-1.138339877128601,-1.6793993711471558,-1.3793121576309204,-1.212585687637329,-1.252527117729187],\"yaxis\":\"y\",\"type\":\"scatter\",\"textposition\":\"top center\"},{\"customdata\":[[\"Adelie\"],[\"Adelie\"],[\"Adelie\"],[\"Adelie\"],[\"Adelie\"]],\"hovertemplate\":\"Cluster=Cluster 3<br>PCA1=%{x}<br>PCA2=%{y}<br>Feature=%{customdata[0]}<extra></extra>\",\"legendgroup\":\"Cluster 3\",\"marker\":{\"color\":\"#FFA15A\",\"opacity\":0.5,\"symbol\":\"circle\"},\"mode\":\"markers\",\"name\":\"Cluster 3\",\"orientation\":\"v\",\"showlegend\":true,\"x\":[-1.1505558490753174,-0.7395395636558533,-1.047355055809021,-0.8561745285987854,-0.9235142469406128],\"xaxis\":\"x\",\"y\":[0.6863080859184265,0.7606515884399414,0.5712692737579346,0.4886001944541931,0.8399845361709595],\"yaxis\":\"y\",\"type\":\"scatter\",\"textposition\":\"top center\"},{\"customdata\":[[\"Chinstrap\"],[\"Chinstrap\"],[\"Chinstrap\"],[\"Chinstrap\"],[\"Chinstrap\"],[\"Chinstrap\"],[\"Adelie\"],[\"Chinstrap\"],[\"Adelie\"],[\"Chinstrap\"],[\"Chinstrap\"],[\"Chinstrap\"],[\"Chinstrap\"],[\"Chinstrap\"],[\"Chinstrap\"]],\"hovertemplate\":\"Cluster=Cluster 4<br>PCA1=%{x}<br>PCA2=%{y}<br>Feature=%{customdata[0]}<extra></extra>\",\"legendgroup\":\"Cluster 4\",\"marker\":{\"color\":\"#19d3f3\",\"opacity\":0.5,\"symbol\":\"circle\"},\"mode\":\"markers\",\"name\":\"Cluster 4\",\"orientation\":\"v\",\"showlegend\":true,\"x\":[-0.6912652254104614,-1.0800142288208008,-0.8627197742462158,-0.7473395466804504,-0.9444906115531921,-0.7676368355751038,-0.5649822950363159,-1.067988395690918,-1.023910641670227,-0.6617982983589172,-1.0129281282424927,-1.2808760404586792,-0.9179264903068542,-1.0230543613433838,-0.7556573748588562],\"xaxis\":\"x\",\"y\":[-0.19774073362350464,-0.4407585561275482,-0.10495555400848389,-0.29168298840522766,-0.16582226753234863,-0.23508881032466888,0.08822424709796906,0.0025963098742067814,0.14671744406223297,0.42742395401000977,0.0012327783042564988,0.3691375255584717,0.13406914472579956,0.13537199795246124,0.16759473085403442],\"yaxis\":\"y\",\"type\":\"scatter\",\"textposition\":\"top center\"},{\"customdata\":[[\"Chinstrap\"],[\"Chinstrap\"],[\"Chinstrap\"],[\"Chinstrap\"],[\"Chinstrap\"],[\"Chinstrap\"],[\"Chinstrap\"],[\"Chinstrap\"],[\"Chinstrap\"],[\"Chinstrap\"],[\"Adelie\"],[\"Chinstrap\"],[\"Adelie\"],[\"Chinstrap\"],[\"Chinstrap\"],[\"Chinstrap\"],[\"Chinstrap\"],[\"Adelie\"],[\"Chinstrap\"],[\"Chinstrap\"],[\"Chinstrap\"],[\"Chinstrap\"],[\"Chinstrap\"]],\"hovertemplate\":\"Cluster=Cluster 5<br>PCA1=%{x}<br>PCA2=%{y}<br>Feature=%{customdata[0]}<extra></extra>\",\"legendgroup\":\"Cluster 5\",\"marker\":{\"color\":\"#FF6692\",\"opacity\":0.5,\"symbol\":\"circle\"},\"mode\":\"markers\",\"name\":\"Cluster 5\",\"orientation\":\"v\",\"showlegend\":true,\"x\":[-0.3300997018814087,-0.667065441608429,0.344066321849823,-0.511541485786438,0.24691668152809143,-0.6008672118186951,-0.020136777311563492,-0.18748459219932556,0.37045350670814514,-0.16133378446102142,-0.40615686774253845,-0.4623154401779175,-0.6081192493438721,-0.56746906042099,0.09907779097557068,-0.041751984506845474,-0.08557070791721344,-0.48050105571746826,-0.2334294617176056,0.14620478451251984,-0.15711526572704315,-0.435227632522583,-0.5700124502182007],\"xaxis\":\"x\",\"y\":[1.5686025619506836,2.1747400760650635,1.5992683172225952,1.9998329877853394,1.4936519861221313,1.7825497388839722,1.8130569458007812,1.4222302436828613,1.7287933826446533,1.892269492149353,2.076939582824707,1.2886751890182495,1.7452141046524048,1.6682299375534058,1.9578845500946045,1.740771770477295,1.9447613954544067,1.7894887924194336,1.9045641422271729,1.6666111946105957,1.5569286346435547,1.6521974802017212,1.4095202684402466],\"yaxis\":\"y\",\"type\":\"scatter\",\"textposition\":\"top center\"},{\"customdata\":[[\"Gentoo\"],[\"Gentoo\"],[\"Gentoo\"],[\"Gentoo\"],[\"Gentoo\"],[\"Gentoo\"],[\"Gentoo\"],[\"Gentoo\"],[\"Gentoo\"],[\"Gentoo\"],[\"Gentoo\"],[\"Gentoo\"],[\"Gentoo\"],[\"Gentoo\"],[\"Gentoo\"],[\"Gentoo\"],[\"Gentoo\"],[null],[\"Gentoo\"],[\"Gentoo\"],[\"Gentoo\"],[\"Gentoo\"],[\"Gentoo\"],[\"Gentoo\"],[\"Gentoo\"],[\"Gentoo\"],[\"Gentoo\"],[\"Gentoo\"],[\"Gentoo\"],[\"Gentoo\"],[\"Chinstrap\"],[\"Chinstrap\"],[\"Gentoo\"],[\"Gentoo\"],[\"Chinstrap\"],[\"Gentoo\"],[\"Gentoo\"],[\"Gentoo\"],[\"Gentoo\"],[\"Gentoo\"],[\"Gentoo\"],[\"Gentoo\"],[\"Gentoo\"],[\"Gentoo\"],[\"Gentoo\"],[\"Gentoo\"],[\"Gentoo\"],[\"Gentoo\"],[\"Gentoo\"],[\"Gentoo\"],[\"Gentoo\"],[\"Gentoo\"],[\"Gentoo\"],[\"Gentoo\"],[\"Gentoo\"],[\"Gentoo\"],[\"Gentoo\"]],\"hovertemplate\":\"Cluster=Cluster 6<br>PCA1=%{x}<br>PCA2=%{y}<br>Feature=%{customdata[0]}<extra></extra>\",\"legendgroup\":\"Cluster 6\",\"marker\":{\"color\":\"#B6E880\",\"opacity\":0.5,\"symbol\":\"circle\"},\"mode\":\"markers\",\"name\":\"Cluster 6\",\"orientation\":\"v\",\"showlegend\":true,\"x\":[1.9154841899871826,1.1924309730529785,2.0006914138793945,1.6499122381210327,1.3215872049331665,1.1865791082382202,1.7868624925613403,1.2769458293914795,1.7387144565582275,1.0416778326034546,1.1108158826828003,0.9789900183677673,1.6302508115768433,1.7149596214294434,1.7506250143051147,1.8552361726760864,1.5124824047088623,1.6171497106552124,2.0900535583496094,2.0389840602874756,1.751897931098938,1.5185272693634033,1.7060688734054565,1.548508882522583,1.8453221321105957,1.4955469369888306,1.950100064277649,1.7269213199615479,1.2136412858963013,1.1490800380706787,1.6103472709655762,1.5645382404327393,1.8451107740402222,2.0033345222473145,1.576920986175537,1.4850361347198486,1.2067939043045044,1.3283953666687012,1.598278284072876,1.6865261793136597,1.0739164352416992,1.1995363235473633,0.9582758545875549,0.7601382732391357,2.098714828491211,1.487127661705017,1.5873608589172363,1.6221611499786377,2.327302932739258,1.489551305770874,1.5127222537994385,1.0706567764282227,1.7745078802108765,1.1677755117416382,1.6078332662582397,1.8752658367156982,1.4014312028884888],\"xaxis\":\"x\",\"y\":[-1.163734793663025,-1.3586078882217407,-0.8071509599685669,-1.241389513015747,-1.0763181447982788,-1.5300334692001343,-1.5610874891281128,-1.5989104509353638,-1.08773672580719,-1.64946711063385,-1.5825247764587402,-1.4669393301010132,-1.0583983659744263,-0.9758991003036499,-1.4966410398483276,-1.233658790588379,-1.2111384868621826,-0.9974585771560669,-1.0613070726394653,-0.9801597595214844,-0.8886402249336243,-1.236702799797058,-1.4927093982696533,-1.2278163433074951,-1.3150867223739624,-1.4785393476486206,-0.8708425164222717,-0.7224370241165161,-1.5613563060760498,-1.7292755842208862,-1.6763814687728882,-1.1739357709884644,-1.1850260496139526,-1.3497806787490845,-1.535802960395813,-1.20372474193573,-1.8434500694274902,-1.8821617364883423,-1.3709137439727783,-1.524335503578186,-1.2662231922149658,-1.165903091430664,-1.9473990201950073,-1.8575958013534546,-0.5636584758758545,-1.1784288883209229,-1.1210424900054932,-1.7050509452819824,-0.7817324995994568,-1.2281087636947632,-1.4497498273849487,-1.4738662242889404,-1.2254786491394043,-1.6116931438446045,-1.5238486528396606,-1.8775590658187866,-1.2114793062210083],\"yaxis\":\"y\",\"type\":\"scatter\",\"textposition\":\"top center\"},{\"customdata\":[[\"Gentoo\"],[\"Gentoo\"],[\"Gentoo\"],[\"Gentoo\"],[\"Gentoo\"],[\"Gentoo\"],[\"Gentoo\"],[\"Gentoo\"],[\"Gentoo\"],[\"Gentoo\"],[\"Gentoo\"],[\"Gentoo\"],[null],[\"Gentoo\"],[\"Gentoo\"],[\"Gentoo\"],[\"Gentoo\"],[\"Gentoo\"],[\"Gentoo\"],[\"Gentoo\"],[\"Gentoo\"],[\"Gentoo\"],[\"Gentoo\"],[\"Gentoo\"],[\"Gentoo\"],[\"Gentoo\"],[\"Gentoo\"],[\"Chinstrap\"],[\"Chinstrap\"],[\"Chinstrap\"],[\"Gentoo\"],[\"Gentoo\"],[\"Gentoo\"],[\"Gentoo\"],[\"Gentoo\"],[\"Gentoo\"],[\"Gentoo\"],[\"Gentoo\"],[\"Gentoo\"],[\"Gentoo\"],[\"Gentoo\"],[\"Gentoo\"],[\"Gentoo\"],[\"Gentoo\"],[\"Gentoo\"],[\"Gentoo\"],[\"Gentoo\"],[\"Gentoo\"],[\"Gentoo\"],[\"Gentoo\"]],\"hovertemplate\":\"Cluster=Cluster 7<br>PCA1=%{x}<br>PCA2=%{y}<br>Feature=%{customdata[0]}<extra></extra>\",\"legendgroup\":\"Cluster 7\",\"marker\":{\"color\":\"#FF97FF\",\"opacity\":0.5,\"symbol\":\"circle\"},\"mode\":\"markers\",\"name\":\"Cluster 7\",\"orientation\":\"v\",\"showlegend\":true,\"x\":[2.754732847213745,2.816988468170166,2.7621872425079346,2.573086738586426,2.835942268371582,2.954068899154663,2.0856080055236816,2.142260789871216,2.7114553451538086,2.9959700107574463,2.8899788856506348,3.2172353267669678,3.0098378658294678,2.0004541873931885,1.885184645652771,2.631298303604126,2.7227885723114014,2.477818727493286,1.9571223258972168,1.803137183189392,2.953660726547241,2.6059138774871826,2.3909800052642822,2.6723551750183105,2.3302369117736816,1.9868643283843994,2.1912949085235596,2.391716480255127,2.7632086277008057,3.0272061824798584,2.656782865524292,2.748478412628174,2.3032968044281006,2.7247517108917236,2.8318679332733154,2.9159529209136963,3.0435781478881836,2.262331247329712,2.0551180839538574,2.9550156593322754,2.855299234390259,3.034972667694092,2.37679123878479,2.913177251815796,2.0618250370025635,1.9787101745605469,2.619014263153076,2.743574857711792,2.9144787788391113,2.1802585124969482],\"xaxis\":\"x\",\"y\":[0.5322222709655762,0.7030036449432373,1.052477478981018,0.7338382005691528,0.5633981823921204,1.0360069274902344,0.28749901056289673,0.03734806180000305,0.42927220463752747,0.10530143231153488,0.47762492299079895,0.5394657850265503,0.7411670684814453,0.29950278997421265,0.02920340932905674,0.456248015165329,0.2757410407066345,0.010481645353138447,-0.17203478515148163,0.07630234956741333,-0.03173431009054184,0.07771622389554977,0.022131744772195816,0.4009925425052643,0.467617392539978,-0.006829611025750637,-0.0361059308052063,-0.2153107076883316,0.26188749074935913,0.6552591323852539,-0.05206475406885147,1.0430546998977661,0.4717318117618561,0.5233356952667236,0.5591749548912048,0.7740832567214966,0.4586828649044037,0.17083001136779785,0.015423968434333801,0.2310042530298233,0.5146318078041077,0.5961089134216309,-0.19444534182548523,0.31201833486557007,-0.2619960606098175,-0.15578345954418182,0.10228243470191956,0.504126250743866,0.8114678263664246,0.5106748342514038],\"yaxis\":\"y\",\"type\":\"scatter\",\"textposition\":\"top center\"}],                        {\"template\":{\"data\":{\"histogram2dcontour\":[{\"type\":\"histogram2dcontour\",\"colorbar\":{\"outlinewidth\":0,\"ticks\":\"\"},\"colorscale\":[[0.0,\"#0d0887\"],[0.1111111111111111,\"#46039f\"],[0.2222222222222222,\"#7201a8\"],[0.3333333333333333,\"#9c179e\"],[0.4444444444444444,\"#bd3786\"],[0.5555555555555556,\"#d8576b\"],[0.6666666666666666,\"#ed7953\"],[0.7777777777777778,\"#fb9f3a\"],[0.8888888888888888,\"#fdca26\"],[1.0,\"#f0f921\"]]}],\"choropleth\":[{\"type\":\"choropleth\",\"colorbar\":{\"outlinewidth\":0,\"ticks\":\"\"}}],\"histogram2d\":[{\"type\":\"histogram2d\",\"colorbar\":{\"outlinewidth\":0,\"ticks\":\"\"},\"colorscale\":[[0.0,\"#0d0887\"],[0.1111111111111111,\"#46039f\"],[0.2222222222222222,\"#7201a8\"],[0.3333333333333333,\"#9c179e\"],[0.4444444444444444,\"#bd3786\"],[0.5555555555555556,\"#d8576b\"],[0.6666666666666666,\"#ed7953\"],[0.7777777777777778,\"#fb9f3a\"],[0.8888888888888888,\"#fdca26\"],[1.0,\"#f0f921\"]]}],\"heatmap\":[{\"type\":\"heatmap\",\"colorbar\":{\"outlinewidth\":0,\"ticks\":\"\"},\"colorscale\":[[0.0,\"#0d0887\"],[0.1111111111111111,\"#46039f\"],[0.2222222222222222,\"#7201a8\"],[0.3333333333333333,\"#9c179e\"],[0.4444444444444444,\"#bd3786\"],[0.5555555555555556,\"#d8576b\"],[0.6666666666666666,\"#ed7953\"],[0.7777777777777778,\"#fb9f3a\"],[0.8888888888888888,\"#fdca26\"],[1.0,\"#f0f921\"]]}],\"heatmapgl\":[{\"type\":\"heatmapgl\",\"colorbar\":{\"outlinewidth\":0,\"ticks\":\"\"},\"colorscale\":[[0.0,\"#0d0887\"],[0.1111111111111111,\"#46039f\"],[0.2222222222222222,\"#7201a8\"],[0.3333333333333333,\"#9c179e\"],[0.4444444444444444,\"#bd3786\"],[0.5555555555555556,\"#d8576b\"],[0.6666666666666666,\"#ed7953\"],[0.7777777777777778,\"#fb9f3a\"],[0.8888888888888888,\"#fdca26\"],[1.0,\"#f0f921\"]]}],\"contourcarpet\":[{\"type\":\"contourcarpet\",\"colorbar\":{\"outlinewidth\":0,\"ticks\":\"\"}}],\"contour\":[{\"type\":\"contour\",\"colorbar\":{\"outlinewidth\":0,\"ticks\":\"\"},\"colorscale\":[[0.0,\"#0d0887\"],[0.1111111111111111,\"#46039f\"],[0.2222222222222222,\"#7201a8\"],[0.3333333333333333,\"#9c179e\"],[0.4444444444444444,\"#bd3786\"],[0.5555555555555556,\"#d8576b\"],[0.6666666666666666,\"#ed7953\"],[0.7777777777777778,\"#fb9f3a\"],[0.8888888888888888,\"#fdca26\"],[1.0,\"#f0f921\"]]}],\"surface\":[{\"type\":\"surface\",\"colorbar\":{\"outlinewidth\":0,\"ticks\":\"\"},\"colorscale\":[[0.0,\"#0d0887\"],[0.1111111111111111,\"#46039f\"],[0.2222222222222222,\"#7201a8\"],[0.3333333333333333,\"#9c179e\"],[0.4444444444444444,\"#bd3786\"],[0.5555555555555556,\"#d8576b\"],[0.6666666666666666,\"#ed7953\"],[0.7777777777777778,\"#fb9f3a\"],[0.8888888888888888,\"#fdca26\"],[1.0,\"#f0f921\"]]}],\"mesh3d\":[{\"type\":\"mesh3d\",\"colorbar\":{\"outlinewidth\":0,\"ticks\":\"\"}}],\"scatter\":[{\"fillpattern\":{\"fillmode\":\"overlay\",\"size\":10,\"solidity\":0.2},\"type\":\"scatter\"}],\"parcoords\":[{\"type\":\"parcoords\",\"line\":{\"colorbar\":{\"outlinewidth\":0,\"ticks\":\"\"}}}],\"scatterpolargl\":[{\"type\":\"scatterpolargl\",\"marker\":{\"colorbar\":{\"outlinewidth\":0,\"ticks\":\"\"}}}],\"bar\":[{\"error_x\":{\"color\":\"#2a3f5f\"},\"error_y\":{\"color\":\"#2a3f5f\"},\"marker\":{\"line\":{\"color\":\"#E5ECF6\",\"width\":0.5},\"pattern\":{\"fillmode\":\"overlay\",\"size\":10,\"solidity\":0.2}},\"type\":\"bar\"}],\"scattergeo\":[{\"type\":\"scattergeo\",\"marker\":{\"colorbar\":{\"outlinewidth\":0,\"ticks\":\"\"}}}],\"scatterpolar\":[{\"type\":\"scatterpolar\",\"marker\":{\"colorbar\":{\"outlinewidth\":0,\"ticks\":\"\"}}}],\"histogram\":[{\"marker\":{\"pattern\":{\"fillmode\":\"overlay\",\"size\":10,\"solidity\":0.2}},\"type\":\"histogram\"}],\"scattergl\":[{\"type\":\"scattergl\",\"marker\":{\"colorbar\":{\"outlinewidth\":0,\"ticks\":\"\"}}}],\"scatter3d\":[{\"type\":\"scatter3d\",\"line\":{\"colorbar\":{\"outlinewidth\":0,\"ticks\":\"\"}},\"marker\":{\"colorbar\":{\"outlinewidth\":0,\"ticks\":\"\"}}}],\"scattermapbox\":[{\"type\":\"scattermapbox\",\"marker\":{\"colorbar\":{\"outlinewidth\":0,\"ticks\":\"\"}}}],\"scatterternary\":[{\"type\":\"scatterternary\",\"marker\":{\"colorbar\":{\"outlinewidth\":0,\"ticks\":\"\"}}}],\"scattercarpet\":[{\"type\":\"scattercarpet\",\"marker\":{\"colorbar\":{\"outlinewidth\":0,\"ticks\":\"\"}}}],\"carpet\":[{\"aaxis\":{\"endlinecolor\":\"#2a3f5f\",\"gridcolor\":\"white\",\"linecolor\":\"white\",\"minorgridcolor\":\"white\",\"startlinecolor\":\"#2a3f5f\"},\"baxis\":{\"endlinecolor\":\"#2a3f5f\",\"gridcolor\":\"white\",\"linecolor\":\"white\",\"minorgridcolor\":\"white\",\"startlinecolor\":\"#2a3f5f\"},\"type\":\"carpet\"}],\"table\":[{\"cells\":{\"fill\":{\"color\":\"#EBF0F8\"},\"line\":{\"color\":\"white\"}},\"header\":{\"fill\":{\"color\":\"#C8D4E3\"},\"line\":{\"color\":\"white\"}},\"type\":\"table\"}],\"barpolar\":[{\"marker\":{\"line\":{\"color\":\"#E5ECF6\",\"width\":0.5},\"pattern\":{\"fillmode\":\"overlay\",\"size\":10,\"solidity\":0.2}},\"type\":\"barpolar\"}],\"pie\":[{\"automargin\":true,\"type\":\"pie\"}]},\"layout\":{\"autotypenumbers\":\"strict\",\"colorway\":[\"#636efa\",\"#EF553B\",\"#00cc96\",\"#ab63fa\",\"#FFA15A\",\"#19d3f3\",\"#FF6692\",\"#B6E880\",\"#FF97FF\",\"#FECB52\"],\"font\":{\"color\":\"#2a3f5f\"},\"hovermode\":\"closest\",\"hoverlabel\":{\"align\":\"left\"},\"paper_bgcolor\":\"white\",\"plot_bgcolor\":\"#E5ECF6\",\"polar\":{\"bgcolor\":\"#E5ECF6\",\"angularaxis\":{\"gridcolor\":\"white\",\"linecolor\":\"white\",\"ticks\":\"\"},\"radialaxis\":{\"gridcolor\":\"white\",\"linecolor\":\"white\",\"ticks\":\"\"}},\"ternary\":{\"bgcolor\":\"#E5ECF6\",\"aaxis\":{\"gridcolor\":\"white\",\"linecolor\":\"white\",\"ticks\":\"\"},\"baxis\":{\"gridcolor\":\"white\",\"linecolor\":\"white\",\"ticks\":\"\"},\"caxis\":{\"gridcolor\":\"white\",\"linecolor\":\"white\",\"ticks\":\"\"}},\"coloraxis\":{\"colorbar\":{\"outlinewidth\":0,\"ticks\":\"\"}},\"colorscale\":{\"sequential\":[[0.0,\"#0d0887\"],[0.1111111111111111,\"#46039f\"],[0.2222222222222222,\"#7201a8\"],[0.3333333333333333,\"#9c179e\"],[0.4444444444444444,\"#bd3786\"],[0.5555555555555556,\"#d8576b\"],[0.6666666666666666,\"#ed7953\"],[0.7777777777777778,\"#fb9f3a\"],[0.8888888888888888,\"#fdca26\"],[1.0,\"#f0f921\"]],\"sequentialminus\":[[0.0,\"#0d0887\"],[0.1111111111111111,\"#46039f\"],[0.2222222222222222,\"#7201a8\"],[0.3333333333333333,\"#9c179e\"],[0.4444444444444444,\"#bd3786\"],[0.5555555555555556,\"#d8576b\"],[0.6666666666666666,\"#ed7953\"],[0.7777777777777778,\"#fb9f3a\"],[0.8888888888888888,\"#fdca26\"],[1.0,\"#f0f921\"]],\"diverging\":[[0,\"#8e0152\"],[0.1,\"#c51b7d\"],[0.2,\"#de77ae\"],[0.3,\"#f1b6da\"],[0.4,\"#fde0ef\"],[0.5,\"#f7f7f7\"],[0.6,\"#e6f5d0\"],[0.7,\"#b8e186\"],[0.8,\"#7fbc41\"],[0.9,\"#4d9221\"],[1,\"#276419\"]]},\"xaxis\":{\"gridcolor\":\"white\",\"linecolor\":\"white\",\"ticks\":\"\",\"title\":{\"standoff\":15},\"zerolinecolor\":\"white\",\"automargin\":true,\"zerolinewidth\":2},\"yaxis\":{\"gridcolor\":\"white\",\"linecolor\":\"white\",\"ticks\":\"\",\"title\":{\"standoff\":15},\"zerolinecolor\":\"white\",\"automargin\":true,\"zerolinewidth\":2},\"scene\":{\"xaxis\":{\"backgroundcolor\":\"#E5ECF6\",\"gridcolor\":\"white\",\"linecolor\":\"white\",\"showbackground\":true,\"ticks\":\"\",\"zerolinecolor\":\"white\",\"gridwidth\":2},\"yaxis\":{\"backgroundcolor\":\"#E5ECF6\",\"gridcolor\":\"white\",\"linecolor\":\"white\",\"showbackground\":true,\"ticks\":\"\",\"zerolinecolor\":\"white\",\"gridwidth\":2},\"zaxis\":{\"backgroundcolor\":\"#E5ECF6\",\"gridcolor\":\"white\",\"linecolor\":\"white\",\"showbackground\":true,\"ticks\":\"\",\"zerolinecolor\":\"white\",\"gridwidth\":2}},\"shapedefaults\":{\"line\":{\"color\":\"#2a3f5f\"}},\"annotationdefaults\":{\"arrowcolor\":\"#2a3f5f\",\"arrowhead\":0,\"arrowwidth\":1},\"geo\":{\"bgcolor\":\"white\",\"landcolor\":\"#E5ECF6\",\"subunitcolor\":\"white\",\"showland\":true,\"showlakes\":true,\"lakecolor\":\"white\"},\"title\":{\"x\":0.05},\"mapbox\":{\"style\":\"light\"}}},\"xaxis\":{\"anchor\":\"y\",\"domain\":[0.0,1.0],\"title\":{\"text\":\"PCA1\"}},\"yaxis\":{\"anchor\":\"x\",\"domain\":[0.0,1.0],\"title\":{\"text\":\"PCA2\"}},\"legend\":{\"title\":{\"text\":\"Cluster\"},\"tracegroupgap\":0},\"margin\":{\"t\":60},\"plot_bgcolor\":\"rgb(240,240,240)\",\"title\":{\"text\":\"2D Cluster PCA Plot\"},\"height\":600},                        {\"responsive\": true}                    ).then(function(){\n",
       "                            \n",
       "var gd = document.getElementById('3bf40f88-23a4-403b-8afe-07a7e2d264e9');\n",
       "var x = new MutationObserver(function (mutations, observer) {{\n",
       "        var display = window.getComputedStyle(gd).display;\n",
       "        if (!display || display === 'none') {{\n",
       "            console.log([gd, 'removed!']);\n",
       "            Plotly.purge(gd);\n",
       "            observer.disconnect();\n",
       "        }}\n",
       "}});\n",
       "\n",
       "// Listen for the removal of the full notebook cells\n",
       "var notebookContainer = gd.closest('#notebook-container');\n",
       "if (notebookContainer) {{\n",
       "    x.observe(notebookContainer, {childList: true});\n",
       "}}\n",
       "\n",
       "// Listen for the clearing of the current output cell\n",
       "var outputEl = gd.closest('.output');\n",
       "if (outputEl) {{\n",
       "    x.observe(outputEl, {childList: true});\n",
       "}}\n",
       "\n",
       "                        })                };                });            </script>        </div>"
      ]
     },
     "metadata": {},
     "output_type": "display_data"
    }
   ],
   "source": [
    "plot_model(dbscan, plot='cluster')"
   ]
  },
  {
   "cell_type": "code",
   "execution_count": 41,
   "metadata": {},
   "outputs": [],
   "source": [
    "dbscan_results=assign_model(dbscan)"
   ]
  },
  {
   "cell_type": "code",
   "execution_count": 42,
   "metadata": {},
   "outputs": [],
   "source": [
    "df_PyCaret['DBSCAN'] = dbscan_results['Cluster']"
   ]
  },
  {
   "cell_type": "markdown",
   "metadata": {},
   "source": [
    "Porovani s originalnim datasetem"
   ]
  },
  {
   "cell_type": "code",
   "execution_count": 43,
   "metadata": {},
   "outputs": [
    {
     "data": {
      "text/plain": [
       "<AxesSubplot:title={'center':'PyCaret DBSCAN'}, xlabel='culmen_length_mm', ylabel='culmen_depth_mm'>"
      ]
     },
     "execution_count": 43,
     "metadata": {},
     "output_type": "execute_result"
    },
    {
     "data": {
      "image/png": "[encoded data removed]",
      "text/plain": [
       "<Figure size 864x360 with 2 Axes>"
      ]
     },
     "metadata": {},
     "output_type": "display_data"
    }
   ],
   "source": [
    "plt.figure(figsize=(12,5))\n",
    "plt.subplot(1,2,1).set_title('Original Classe')\n",
    "sns.scatterplot(x='culmen_length_mm', y='culmen_depth_mm', hue='species', style='species', palette= 'pastel',data=df)\n",
    "plt.subplot(1,2,2).set_title('PyCaret DBSCAN')\n",
    "sns.scatterplot(x='culmen_length_mm', y='culmen_depth_mm', hue='DBSCAN', style='DBSCAN', palette= 'pastel' ,data=df_PyCaret)"
   ]
  },
  {
   "cell_type": "code",
   "execution_count": 44,
   "metadata": {},
   "outputs": [
    {
     "name": "stdout",
     "output_type": "stream",
     "text": [
      "Original Data Classes:\n",
      "Adelie       146\n",
      "Gentoo       119\n",
      "Chinstrap     68\n",
      "Name: species, dtype: int64\n",
      "------------------------------\n",
      "Predicted Data Classes:\n",
      "Cluster -1    157\n",
      "Cluster 6      57\n",
      "Cluster 7      50\n",
      "Cluster 5      23\n",
      "Cluster 0      16\n",
      "Cluster 4      15\n",
      "Cluster 3       5\n",
      "Cluster 1       5\n",
      "Cluster 2       5\n",
      "Name: DBSCAN, dtype: int64\n"
     ]
    }
   ],
   "source": [
    "print('Original Data Classes:')\n",
    "print(df['species'].value_counts())\n",
    "print('-' * 30)\n",
    "print('Predicted Data Classes:')\n",
    "print(df_PyCaret['DBSCAN'].value_counts())"
   ]
  }
 ],
 "metadata": {
  "kernelspec": {
   "display_name": "Python 3.8.0 ('.python38': venv)",
   "language": "python",
   "name": "python3"
  },
  "language_info": {
   "codemirror_mode": {
    "name": "ipython",
    "version": 3
   },
   "file_extension": ".py",
   "mimetype": "text/x-python",
   "name": "python",
   "nbconvert_exporter": "python",
   "pygments_lexer": "ipython3",
   "version": "3.8.0"
  },
  "orig_nbformat": 4,
  "vscode": {
   "interpreter": {
    "hash": "218ed2090466719c788686619e7484846e5f5bb6c8780fb50ffd2ff7462ad566"
   }
  }
 },
 "nbformat": 4,
 "nbformat_minor": 2
}
