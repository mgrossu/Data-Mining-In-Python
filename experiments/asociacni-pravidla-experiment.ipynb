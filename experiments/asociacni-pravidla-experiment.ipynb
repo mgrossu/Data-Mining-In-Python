{
 "cells": [
  {
   "cell_type": "markdown",
   "metadata": {},
   "source": [
    "# Asociační pravidla"
   ]
  },
  {
   "cell_type": "markdown",
   "metadata": {},
   "source": [
    "### Dataset pro tuto metodu dolování dat\n",
    "\n",
    " Tento dataset patří pekárně \"The Bread Basket\" v Edinburghu. Dataset má 20 507 řádku a má 5 sloupců.\n",
    " Dataset obsahuje transakce zákazníků kteří objednali různé položky z pekárny online.\n",
    "\n",
    " https://www.kaggle.com/datasets/mittalvasu95/the-bread-basket?resource=download"
   ]
  },
  {
   "cell_type": "markdown",
   "metadata": {},
   "source": [
    "Dataset se načte pomocí knihovny Pandas využitím funcke *read_csv()*"
   ]
  },
  {
   "cell_type": "code",
   "execution_count": 1,
   "metadata": {},
   "outputs": [
    {
     "data": {
      "text/html": [
       "<div>\n",
       "<style scoped>\n",
       "    .dataframe tbody tr th:only-of-type {\n",
       "        vertical-align: middle;\n",
       "    }\n",
       "\n",
       "    .dataframe tbody tr th {\n",
       "        vertical-align: top;\n",
       "    }\n",
       "\n",
       "    .dataframe thead th {\n",
       "        text-align: right;\n",
       "    }\n",
       "</style>\n",
       "<table border=\"1\" class=\"dataframe\">\n",
       "  <thead>\n",
       "    <tr style=\"text-align: right;\">\n",
       "      <th></th>\n",
       "      <th>Transaction</th>\n",
       "      <th>Item</th>\n",
       "      <th>date_time</th>\n",
       "      <th>period_day</th>\n",
       "      <th>weekday_weekend</th>\n",
       "    </tr>\n",
       "  </thead>\n",
       "  <tbody>\n",
       "    <tr>\n",
       "      <th>0</th>\n",
       "      <td>1</td>\n",
       "      <td>Bread</td>\n",
       "      <td>30-10-2016 09:58</td>\n",
       "      <td>morning</td>\n",
       "      <td>weekend</td>\n",
       "    </tr>\n",
       "    <tr>\n",
       "      <th>1</th>\n",
       "      <td>2</td>\n",
       "      <td>Scandinavian</td>\n",
       "      <td>30-10-2016 10:05</td>\n",
       "      <td>morning</td>\n",
       "      <td>weekend</td>\n",
       "    </tr>\n",
       "    <tr>\n",
       "      <th>2</th>\n",
       "      <td>2</td>\n",
       "      <td>Scandinavian</td>\n",
       "      <td>30-10-2016 10:05</td>\n",
       "      <td>morning</td>\n",
       "      <td>weekend</td>\n",
       "    </tr>\n",
       "    <tr>\n",
       "      <th>3</th>\n",
       "      <td>3</td>\n",
       "      <td>Hot chocolate</td>\n",
       "      <td>30-10-2016 10:07</td>\n",
       "      <td>morning</td>\n",
       "      <td>weekend</td>\n",
       "    </tr>\n",
       "    <tr>\n",
       "      <th>4</th>\n",
       "      <td>3</td>\n",
       "      <td>Jam</td>\n",
       "      <td>30-10-2016 10:07</td>\n",
       "      <td>morning</td>\n",
       "      <td>weekend</td>\n",
       "    </tr>\n",
       "  </tbody>\n",
       "</table>\n",
       "</div>"
      ],
      "text/plain": [
       "   Transaction           Item         date_time period_day weekday_weekend\n",
       "0            1          Bread  30-10-2016 09:58    morning         weekend\n",
       "1            2   Scandinavian  30-10-2016 10:05    morning         weekend\n",
       "2            2   Scandinavian  30-10-2016 10:05    morning         weekend\n",
       "3            3  Hot chocolate  30-10-2016 10:07    morning         weekend\n",
       "4            3            Jam  30-10-2016 10:07    morning         weekend"
      ]
     },
     "execution_count": 1,
     "metadata": {},
     "output_type": "execute_result"
    }
   ],
   "source": [
    "#nacteni knivony\n",
    "import pandas as pd\n",
    "\n",
    "df = pd.read_csv(\"datasets/bread-basket.csv\")\n",
    "df.head()"
   ]
  },
  {
   "cell_type": "markdown",
   "metadata": {},
   "source": [
    "Knihovna pandas nabízí řadu užitečných funkcí které pomáhají prozkoumat daný dataset."
   ]
  },
  {
   "cell_type": "code",
   "execution_count": 2,
   "metadata": {},
   "outputs": [
    {
     "name": "stdout",
     "output_type": "stream",
     "text": [
      "<class 'pandas.core.frame.DataFrame'>\n",
      "RangeIndex: 20507 entries, 0 to 20506\n",
      "Data columns (total 5 columns):\n",
      " #   Column           Non-Null Count  Dtype \n",
      "---  ------           --------------  ----- \n",
      " 0   Transaction      20507 non-null  int64 \n",
      " 1   Item             20507 non-null  object\n",
      " 2   date_time        20507 non-null  object\n",
      " 3   period_day       20507 non-null  object\n",
      " 4   weekday_weekend  20507 non-null  object\n",
      "dtypes: int64(1), object(4)\n",
      "memory usage: 801.2+ KB\n"
     ]
    }
   ],
   "source": [
    "df.info()"
   ]
  },
  {
   "cell_type": "code",
   "execution_count": 3,
   "metadata": {},
   "outputs": [
    {
     "data": {
      "text/plain": [
       "weekday_weekend       2\n",
       "period_day            4\n",
       "Item                 94\n",
       "date_time          9182\n",
       "Transaction        9465\n",
       "dtype: int64"
      ]
     },
     "execution_count": 3,
     "metadata": {},
     "output_type": "execute_result"
    }
   ],
   "source": [
    "df.nunique().sort_values()"
   ]
  },
  {
   "cell_type": "code",
   "execution_count": 4,
   "metadata": {},
   "outputs": [
    {
     "name": "stdout",
     "output_type": "stream",
     "text": [
      "Celkový počet transakcí je 9465 a počet jednotlivých položek z kterých se budou vytvářet asociačním pravidla je 94.\n"
     ]
    }
   ],
   "source": [
    "print(\"Celkový počet transakcí je {} a počet jednotlivých položek z kterých se budou vytvářet asociačním pravidla je {}.\".format(len(df['Transaction'].unique()), len(df['Item'].unique())))"
   ]
  },
  {
   "cell_type": "code",
   "execution_count": null,
   "metadata": {},
   "outputs": [],
   "source": [
    "#zda dataset obsahuje chybejici hodnoty\n",
    "df.isna().sum()"
   ]
  },
  {
   "cell_type": "markdown",
   "metadata": {},
   "source": [
    "Vizualizace 10 nejprodávanějších položek "
   ]
  },
  {
   "cell_type": "code",
   "execution_count": 5,
   "metadata": {},
   "outputs": [
    {
     "data": {
      "image/png": "[encoded data removed]",
      "text/plain": [
       "<Figure size 1080x360 with 1 Axes>"
      ]
     },
     "metadata": {
      "needs_background": "light"
     },
     "output_type": "display_data"
    }
   ],
   "source": [
    "import matplotlib.pyplot as plt\n",
    "import seaborn as sns\n",
    "plt.figure(figsize=(15,5))\n",
    "sns.barplot(x = df.Item.value_counts().head(10).index, y = df.Item.value_counts().head(10).values)\n",
    "plt.xlabel('Položky', size = 15)\n",
    "plt.xticks(rotation=45)\n",
    "plt.ylabel('Počet prodaných kusů', size = 15)\n",
    "plt.title('10 nejprodávanějších položek', size = 20)\n",
    "plt.show()"
   ]
  },
  {
   "cell_type": "markdown",
   "metadata": {},
   "source": [
    "### Implementace Apriori "
   ]
  },
  {
   "cell_type": "markdown",
   "metadata": {},
   "source": [
    "Tento dataset je potřeba předzpracovat do vhodné podoby pro Apriori algoritmus. Dataset pomoci další funkce z knihovny Pandas *groupby()* je transformován na transakční tabulku která obsahuje 2 sloupce: číslo transakce a položky, které byly koupené v té transakci. Jednotlivé položky byly uložené jako *fronzenset*, aby usnadnili práci s množinami."
   ]
  },
  {
   "cell_type": "code",
   "execution_count": 6,
   "metadata": {},
   "outputs": [
    {
     "data": {
      "text/html": [
       "<div>\n",
       "<style scoped>\n",
       "    .dataframe tbody tr th:only-of-type {\n",
       "        vertical-align: middle;\n",
       "    }\n",
       "\n",
       "    .dataframe tbody tr th {\n",
       "        vertical-align: top;\n",
       "    }\n",
       "\n",
       "    .dataframe thead th {\n",
       "        text-align: right;\n",
       "    }\n",
       "</style>\n",
       "<table border=\"1\" class=\"dataframe\">\n",
       "  <thead>\n",
       "    <tr style=\"text-align: right;\">\n",
       "      <th></th>\n",
       "      <th>Transaction</th>\n",
       "      <th>Item</th>\n",
       "    </tr>\n",
       "  </thead>\n",
       "  <tbody>\n",
       "    <tr>\n",
       "      <th>0</th>\n",
       "      <td>1</td>\n",
       "      <td>(Bread)</td>\n",
       "    </tr>\n",
       "    <tr>\n",
       "      <th>1</th>\n",
       "      <td>2</td>\n",
       "      <td>(Scandinavian)</td>\n",
       "    </tr>\n",
       "    <tr>\n",
       "      <th>2</th>\n",
       "      <td>3</td>\n",
       "      <td>(Jam, Cookies, Hot chocolate)</td>\n",
       "    </tr>\n",
       "    <tr>\n",
       "      <th>3</th>\n",
       "      <td>4</td>\n",
       "      <td>(Muffin)</td>\n",
       "    </tr>\n",
       "    <tr>\n",
       "      <th>4</th>\n",
       "      <td>5</td>\n",
       "      <td>(Pastry, Coffee, Bread)</td>\n",
       "    </tr>\n",
       "    <tr>\n",
       "      <th>...</th>\n",
       "      <td>...</td>\n",
       "      <td>...</td>\n",
       "    </tr>\n",
       "    <tr>\n",
       "      <th>9460</th>\n",
       "      <td>9680</td>\n",
       "      <td>(Bread)</td>\n",
       "    </tr>\n",
       "    <tr>\n",
       "      <th>9461</th>\n",
       "      <td>9681</td>\n",
       "      <td>(Truffles, Christmas common, Tea, Spanish Brunch)</td>\n",
       "    </tr>\n",
       "    <tr>\n",
       "      <th>9462</th>\n",
       "      <td>9682</td>\n",
       "      <td>(Muffin, Coffee, Tacos/Fajita, Tea)</td>\n",
       "    </tr>\n",
       "    <tr>\n",
       "      <th>9463</th>\n",
       "      <td>9683</td>\n",
       "      <td>(Pastry, Coffee)</td>\n",
       "    </tr>\n",
       "    <tr>\n",
       "      <th>9464</th>\n",
       "      <td>9684</td>\n",
       "      <td>(Smoothies)</td>\n",
       "    </tr>\n",
       "  </tbody>\n",
       "</table>\n",
       "<p>9465 rows × 2 columns</p>\n",
       "</div>"
      ],
      "text/plain": [
       "      Transaction                                               Item\n",
       "0               1                                            (Bread)\n",
       "1               2                                     (Scandinavian)\n",
       "2               3                      (Jam, Cookies, Hot chocolate)\n",
       "3               4                                           (Muffin)\n",
       "4               5                            (Pastry, Coffee, Bread)\n",
       "...           ...                                                ...\n",
       "9460         9680                                            (Bread)\n",
       "9461         9681  (Truffles, Christmas common, Tea, Spanish Brunch)\n",
       "9462         9682                (Muffin, Coffee, Tacos/Fajita, Tea)\n",
       "9463         9683                                   (Pastry, Coffee)\n",
       "9464         9684                                        (Smoothies)\n",
       "\n",
       "[9465 rows x 2 columns]"
      ]
     },
     "execution_count": 6,
     "metadata": {},
     "output_type": "execute_result"
    }
   ],
   "source": [
    "transaction_df = df.groupby(['Transaction'])['Item'].apply(frozenset).reset_index()\n",
    "transaction_df.columns = ['Transaction', 'Item']\n",
    "transaction_df"
   ]
  },
  {
   "cell_type": "code",
   "execution_count": 7,
   "metadata": {},
   "outputs": [],
   "source": [
    "transactions = transaction_df['Item']\n",
    "transaction_dict = transactions.to_dict()"
   ]
  },
  {
   "cell_type": "markdown",
   "metadata": {},
   "source": [
    "Zde se vytvoří množina frektentovaných vzorů, které mají jen jednu položku, které splňují minimální podporu. Zde minimální podpora byla zvolena 1%, aby jsme dostali nějaké zajímavé asociační pravidla"
   ]
  },
  {
   "cell_type": "code",
   "execution_count": 8,
   "metadata": {},
   "outputs": [],
   "source": [
    "#funkce na vyvoreni kandidatni mnoziny 1-prvkovych polozek, ktere splnuji minimalni podporu \n",
    "def get_k_1_itemset(min_support = 0.5, frequent_itemsets = {}, transactions=None):\n",
    "    #vytvari se vsechny kanditaty\n",
    "    count = {}\n",
    "    for items in transactions:\n",
    "        for item in items:\n",
    "            if item in count:\n",
    "                count[item] += 1\n",
    "            else:\n",
    "                count[item] = 1\n",
    "    #odstrani se polozky, ktere nesplnuji minimalni podporu\n",
    "    list_of_items_not_min = []\n",
    "    for item_count in count:\n",
    "        count[item_count] = float(count[item_count]/len(transactions))\n",
    "        if count[item_count] <= min_support:\n",
    "            list_of_items_not_min.append(item_count)\n",
    "    for item_eliminate in list_of_items_not_min:\n",
    "        count.pop(item_eliminate)\n",
    "    #vytvori se mnozina polozek, ktere splnuji minimalni podporu\n",
    "    l1 = {}\n",
    "    for key in count:\n",
    "        l1[frozenset([key])] = count[key]\n",
    "    \n",
    "    frequent_itemsets[1] = l1"
   ]
  },
  {
   "cell_type": "code",
   "execution_count": 9,
   "metadata": {},
   "outputs": [],
   "source": [
    "\n",
    "frequent_itemsets = {}\n",
    "min_support = 0.01 # 1%\n",
    "\n",
    "get_k_1_itemset(min_support, frequent_itemsets, transactions)\n"
   ]
  },
  {
   "cell_type": "code",
   "execution_count": 10,
   "metadata": {},
   "outputs": [],
   "source": [
    "from collections import defaultdict\n",
    "#funkce pro hledani frektventovane mnoziny\n",
    "def find_frequent_itemsets(transactions_dict, k_1_itemsets, min_support):\n",
    "    counter = defaultdict(int)\n",
    "    for transactions_id, items in transactions.items():\n",
    "        for itemset in k_1_itemsets:\n",
    "            if itemset.issubset(items):\n",
    "                for other_items in items - itemset:\n",
    "                    current_superset = itemset | frozenset((other_items,))\n",
    "                    counter[current_superset] += 1\n",
    "    for i in counter:\n",
    "        counter[i] = float(counter[i]/len(transactions))\n",
    "    \n",
    "    new_dict = {}\n",
    "    for itemset, f in counter.items():\n",
    "        if f >= min_support:\n",
    "            new_dict[itemset] = f\n",
    "    return new_dict"
   ]
  },
  {
   "cell_type": "code",
   "execution_count": 11,
   "metadata": {},
   "outputs": [
    {
     "name": "stdout",
     "output_type": "stream",
     "text": [
      "Zde je 30 položek, které splňují minimální podporu 1.0 %\n",
      "Našlo se 66 frekventovanývh množin o velikosti 2\n",
      "Našlo se 27 frekventovanývh množin o velikosti 3\n",
      "Nenašla se žádná frekventovaná množina o velikosti  4\n"
     ]
    }
   ],
   "source": [
    "import sys\n",
    "#cyklus pro vytvoreni frekventovanych mnozin o velikosti k, skonci kdyz aktualni frekventovana mnozina je 0\n",
    "print(\"Zde je {} položek, které splňují minimální podporu {} %\".format(len(frequent_itemsets[1]), (min_support*100)))\n",
    "sys.stdout.flush()\n",
    "k = 2 \n",
    "while True:\n",
    "    cur_frequent_itemsets = find_frequent_itemsets(transaction_dict, frequent_itemsets[k-1], min_support)\n",
    "    if len(cur_frequent_itemsets) == 0:\n",
    "        print(\"Nenašla se žádná frekventovaná množina o velikosti  {}\".format(k))\n",
    "        sys.stdout.flush()\n",
    "        break\n",
    "    else:\n",
    "        print(\"Našlo se {} frekventovanývh množin o velikosti {}\".format(len(cur_frequent_itemsets), k))\n",
    "        sys.stdout.flush()\n",
    "        frequent_itemsets[k] = cur_frequent_itemsets\n",
    "    k += 1\n",
    "#odstraneni mnoziny L1\n",
    "del frequent_itemsets[1]"
   ]
  },
  {
   "cell_type": "code",
   "execution_count": 12,
   "metadata": {},
   "outputs": [
    {
     "name": "stdout",
     "output_type": "stream",
     "text": [
      "Je zde 213 pravidel\n"
     ]
    }
   ],
   "source": [
    "candidate_rules = []\n",
    "#vytvoreni asociacnich pravidel z frekvetovane mnozine ve tvaru A->B\n",
    "for itemset_length, itemset_counts in frequent_itemsets.items():\n",
    "    for itemset in itemset_counts.keys():\n",
    "        for B in itemset:\n",
    "            A = itemset - set((B,))\n",
    "            candidate_rules.append((A,B))\n",
    "print(\"Je zde {} pravidel\".format(len(candidate_rules)))"
   ]
  },
  {
   "cell_type": "code",
   "execution_count": 13,
   "metadata": {},
   "outputs": [],
   "source": [
    "correct_counts = defaultdict(int)\n",
    "incorrect_counts = defaultdict(int)\n",
    "#pokud A i B patri do stejne frekventovane mnoziny, tak se vytvori spravne pravidlo, jinak je spatne. Soucet spravnych pravidel a spatnych vytvori S(A). \n",
    "for transactions_id, items in transaction_dict.items():\n",
    "    for candidate_rule in candidate_rules:\n",
    "        A,B = candidate_rule\n",
    "        if A.issubset(items):\n",
    "            if B in items:\n",
    "                correct_counts[candidate_rule] += 1\n",
    "            else:\n",
    "                incorrect_counts[candidate_rule] += 1\n",
    "#pocita se podpora pro jednotlive pravidla na zaklade vzorce s(A U B)/s(A), kde s(A U B) je pocet vyskytu \n",
    "rule_confidence = {candidate_rule: correct_counts[candidate_rule] / float(correct_counts[candidate_rule] + incorrect_counts[candidate_rule]) for candidate_rule in candidate_rules}"
   ]
  },
  {
   "cell_type": "code",
   "execution_count": 14,
   "metadata": {},
   "outputs": [],
   "source": [
    "from operator import itemgetter\n",
    "sorted_confidence = sorted(rule_confidence.items(), key=itemgetter(1), reverse=True)\n"
   ]
  },
  {
   "cell_type": "markdown",
   "metadata": {},
   "source": [
    "Vypis devíti pravidel s nejvetsi spolehlivosti a minimalni podporou 1%"
   ]
  },
  {
   "cell_type": "code",
   "execution_count": 17,
   "metadata": {},
   "outputs": [
    {
     "name": "stdout",
     "output_type": "stream",
     "text": [
      "Pravidlo 1: ['Toast'] -> Coffee | spolehlivost : 0.704\n",
      "Pravidlo 2: ['Cake', 'Sandwich'] -> Coffee | spolehlivost : 0.677\n",
      "Pravidlo 3: ['Pastry', 'Hot chocolate'] -> Coffee | spolehlivost : 0.667\n",
      "Pravidlo 4: ['Soup', 'Sandwich'] -> Coffee | spolehlivost : 0.654\n",
      "Pravidlo 5: ['Salad'] -> Coffee | spolehlivost : 0.626\n",
      "Pravidlo 6: ['Cookies', 'Hot chocolate'] -> Coffee | spolehlivost : 0.614\n",
      "Pravidlo 7: ['Juice', 'Cookies'] -> Coffee | spolehlivost : 0.603\n",
      "Pravidlo 8: ['Cake', 'Hot chocolate'] -> Coffee | spolehlivost : 0.602\n",
      "Pravidlo 9: ['Spanish Brunch'] -> Coffee | spolehlivost : 0.599\n"
     ]
    }
   ],
   "source": [
    "for index in range(9):\n",
    "    (A,B) = sorted_confidence[index][0]\n",
    "    print(\"Pravidlo {0}: {1} -> {2} | spolehlivost : {3:.3f}\".format(index+1, [x for x in A], B, rule_confidence[(A,B)]))"
   ]
  },
  {
   "cell_type": "markdown",
   "metadata": {},
   "source": [
    "## Použití knihovny mlxtend"
   ]
  },
  {
   "cell_type": "code",
   "execution_count": 18,
   "metadata": {},
   "outputs": [],
   "source": [
    "from mlxtend.frequent_patterns import apriori, association_rules"
   ]
  },
  {
   "cell_type": "markdown",
   "metadata": {},
   "source": [
    "Dataset je potřeba předzpracovat na vhodnou podobu pro funkci _apriori()_ z knihovny mlxtend, která má tvar _pandas.Dataframu_ ve tvaru MxN, kde M je počet transakcí a N jsou všechny dostupné položky a každá buňka má True hodnotu pokud je položka součástí transakce"
   ]
  },
  {
   "cell_type": "code",
   "execution_count": 19,
   "metadata": {},
   "outputs": [
    {
     "data": {
      "text/html": [
       "<div>\n",
       "<style scoped>\n",
       "    .dataframe tbody tr th:only-of-type {\n",
       "        vertical-align: middle;\n",
       "    }\n",
       "\n",
       "    .dataframe tbody tr th {\n",
       "        vertical-align: top;\n",
       "    }\n",
       "\n",
       "    .dataframe thead th {\n",
       "        text-align: right;\n",
       "    }\n",
       "</style>\n",
       "<table border=\"1\" class=\"dataframe\">\n",
       "  <thead>\n",
       "    <tr style=\"text-align: right;\">\n",
       "      <th>Item</th>\n",
       "      <th>Adjustment</th>\n",
       "      <th>Afternoon with the baker</th>\n",
       "      <th>Alfajores</th>\n",
       "      <th>Argentina Night</th>\n",
       "      <th>Art Tray</th>\n",
       "      <th>Bacon</th>\n",
       "      <th>Baguette</th>\n",
       "      <th>Bakewell</th>\n",
       "      <th>Bare Popcorn</th>\n",
       "      <th>Basket</th>\n",
       "      <th>...</th>\n",
       "      <th>The BART</th>\n",
       "      <th>The Nomad</th>\n",
       "      <th>Tiffin</th>\n",
       "      <th>Toast</th>\n",
       "      <th>Truffles</th>\n",
       "      <th>Tshirt</th>\n",
       "      <th>Valentine's card</th>\n",
       "      <th>Vegan Feast</th>\n",
       "      <th>Vegan mincepie</th>\n",
       "      <th>Victorian Sponge</th>\n",
       "    </tr>\n",
       "    <tr>\n",
       "      <th>Transaction</th>\n",
       "      <th></th>\n",
       "      <th></th>\n",
       "      <th></th>\n",
       "      <th></th>\n",
       "      <th></th>\n",
       "      <th></th>\n",
       "      <th></th>\n",
       "      <th></th>\n",
       "      <th></th>\n",
       "      <th></th>\n",
       "      <th></th>\n",
       "      <th></th>\n",
       "      <th></th>\n",
       "      <th></th>\n",
       "      <th></th>\n",
       "      <th></th>\n",
       "      <th></th>\n",
       "      <th></th>\n",
       "      <th></th>\n",
       "      <th></th>\n",
       "      <th></th>\n",
       "    </tr>\n",
       "  </thead>\n",
       "  <tbody>\n",
       "    <tr>\n",
       "      <th>1</th>\n",
       "      <td>0.0</td>\n",
       "      <td>0.0</td>\n",
       "      <td>0.0</td>\n",
       "      <td>0.0</td>\n",
       "      <td>0.0</td>\n",
       "      <td>0.0</td>\n",
       "      <td>0.0</td>\n",
       "      <td>0.0</td>\n",
       "      <td>0.0</td>\n",
       "      <td>0.0</td>\n",
       "      <td>...</td>\n",
       "      <td>0.0</td>\n",
       "      <td>0.0</td>\n",
       "      <td>0.0</td>\n",
       "      <td>0.0</td>\n",
       "      <td>0.0</td>\n",
       "      <td>0.0</td>\n",
       "      <td>0.0</td>\n",
       "      <td>0.0</td>\n",
       "      <td>0.0</td>\n",
       "      <td>0.0</td>\n",
       "    </tr>\n",
       "    <tr>\n",
       "      <th>2</th>\n",
       "      <td>0.0</td>\n",
       "      <td>0.0</td>\n",
       "      <td>0.0</td>\n",
       "      <td>0.0</td>\n",
       "      <td>0.0</td>\n",
       "      <td>0.0</td>\n",
       "      <td>0.0</td>\n",
       "      <td>0.0</td>\n",
       "      <td>0.0</td>\n",
       "      <td>0.0</td>\n",
       "      <td>...</td>\n",
       "      <td>0.0</td>\n",
       "      <td>0.0</td>\n",
       "      <td>0.0</td>\n",
       "      <td>0.0</td>\n",
       "      <td>0.0</td>\n",
       "      <td>0.0</td>\n",
       "      <td>0.0</td>\n",
       "      <td>0.0</td>\n",
       "      <td>0.0</td>\n",
       "      <td>0.0</td>\n",
       "    </tr>\n",
       "    <tr>\n",
       "      <th>3</th>\n",
       "      <td>0.0</td>\n",
       "      <td>0.0</td>\n",
       "      <td>0.0</td>\n",
       "      <td>0.0</td>\n",
       "      <td>0.0</td>\n",
       "      <td>0.0</td>\n",
       "      <td>0.0</td>\n",
       "      <td>0.0</td>\n",
       "      <td>0.0</td>\n",
       "      <td>0.0</td>\n",
       "      <td>...</td>\n",
       "      <td>0.0</td>\n",
       "      <td>0.0</td>\n",
       "      <td>0.0</td>\n",
       "      <td>0.0</td>\n",
       "      <td>0.0</td>\n",
       "      <td>0.0</td>\n",
       "      <td>0.0</td>\n",
       "      <td>0.0</td>\n",
       "      <td>0.0</td>\n",
       "      <td>0.0</td>\n",
       "    </tr>\n",
       "    <tr>\n",
       "      <th>4</th>\n",
       "      <td>0.0</td>\n",
       "      <td>0.0</td>\n",
       "      <td>0.0</td>\n",
       "      <td>0.0</td>\n",
       "      <td>0.0</td>\n",
       "      <td>0.0</td>\n",
       "      <td>0.0</td>\n",
       "      <td>0.0</td>\n",
       "      <td>0.0</td>\n",
       "      <td>0.0</td>\n",
       "      <td>...</td>\n",
       "      <td>0.0</td>\n",
       "      <td>0.0</td>\n",
       "      <td>0.0</td>\n",
       "      <td>0.0</td>\n",
       "      <td>0.0</td>\n",
       "      <td>0.0</td>\n",
       "      <td>0.0</td>\n",
       "      <td>0.0</td>\n",
       "      <td>0.0</td>\n",
       "      <td>0.0</td>\n",
       "    </tr>\n",
       "    <tr>\n",
       "      <th>5</th>\n",
       "      <td>0.0</td>\n",
       "      <td>0.0</td>\n",
       "      <td>0.0</td>\n",
       "      <td>0.0</td>\n",
       "      <td>0.0</td>\n",
       "      <td>0.0</td>\n",
       "      <td>0.0</td>\n",
       "      <td>0.0</td>\n",
       "      <td>0.0</td>\n",
       "      <td>0.0</td>\n",
       "      <td>...</td>\n",
       "      <td>0.0</td>\n",
       "      <td>0.0</td>\n",
       "      <td>0.0</td>\n",
       "      <td>0.0</td>\n",
       "      <td>0.0</td>\n",
       "      <td>0.0</td>\n",
       "      <td>0.0</td>\n",
       "      <td>0.0</td>\n",
       "      <td>0.0</td>\n",
       "      <td>0.0</td>\n",
       "    </tr>\n",
       "  </tbody>\n",
       "</table>\n",
       "<p>5 rows × 94 columns</p>\n",
       "</div>"
      ],
      "text/plain": [
       "Item         Adjustment  Afternoon with the baker  Alfajores  Argentina Night  \\\n",
       "Transaction                                                                     \n",
       "1                   0.0                       0.0        0.0              0.0   \n",
       "2                   0.0                       0.0        0.0              0.0   \n",
       "3                   0.0                       0.0        0.0              0.0   \n",
       "4                   0.0                       0.0        0.0              0.0   \n",
       "5                   0.0                       0.0        0.0              0.0   \n",
       "\n",
       "Item         Art Tray  Bacon  Baguette  Bakewell  Bare Popcorn  Basket  ...  \\\n",
       "Transaction                                                             ...   \n",
       "1                 0.0    0.0       0.0       0.0           0.0     0.0  ...   \n",
       "2                 0.0    0.0       0.0       0.0           0.0     0.0  ...   \n",
       "3                 0.0    0.0       0.0       0.0           0.0     0.0  ...   \n",
       "4                 0.0    0.0       0.0       0.0           0.0     0.0  ...   \n",
       "5                 0.0    0.0       0.0       0.0           0.0     0.0  ...   \n",
       "\n",
       "Item         The BART  The Nomad  Tiffin  Toast  Truffles  Tshirt  \\\n",
       "Transaction                                                         \n",
       "1                 0.0        0.0     0.0    0.0       0.0     0.0   \n",
       "2                 0.0        0.0     0.0    0.0       0.0     0.0   \n",
       "3                 0.0        0.0     0.0    0.0       0.0     0.0   \n",
       "4                 0.0        0.0     0.0    0.0       0.0     0.0   \n",
       "5                 0.0        0.0     0.0    0.0       0.0     0.0   \n",
       "\n",
       "Item         Valentine's card  Vegan Feast  Vegan mincepie  Victorian Sponge  \n",
       "Transaction                                                                   \n",
       "1                         0.0          0.0             0.0               0.0  \n",
       "2                         0.0          0.0             0.0               0.0  \n",
       "3                         0.0          0.0             0.0               0.0  \n",
       "4                         0.0          0.0             0.0               0.0  \n",
       "5                         0.0          0.0             0.0               0.0  \n",
       "\n",
       "[5 rows x 94 columns]"
      ]
     },
     "execution_count": 19,
     "metadata": {},
     "output_type": "execute_result"
    }
   ],
   "source": [
    "xtend_basket_data = df.groupby(['Transaction', 'Item'])['Item'].count().reset_index(name='Count')\n",
    "xtend_data = xtend_basket_data.pivot_table(index='Transaction', columns='Item', values='Count', aggfunc='sum').fillna(0)\n",
    "xtend_data.head()"
   ]
  },
  {
   "cell_type": "code",
   "execution_count": 20,
   "metadata": {},
   "outputs": [],
   "source": [
    "\n",
    "def one_hot_encode(x):\n",
    "    if x >= 1:\n",
    "        return True\n",
    "    if x <= 0:\n",
    "        return False"
   ]
  },
  {
   "cell_type": "code",
   "execution_count": 21,
   "metadata": {},
   "outputs": [
    {
     "data": {
      "text/html": [
       "<div>\n",
       "<style scoped>\n",
       "    .dataframe tbody tr th:only-of-type {\n",
       "        vertical-align: middle;\n",
       "    }\n",
       "\n",
       "    .dataframe tbody tr th {\n",
       "        vertical-align: top;\n",
       "    }\n",
       "\n",
       "    .dataframe thead th {\n",
       "        text-align: right;\n",
       "    }\n",
       "</style>\n",
       "<table border=\"1\" class=\"dataframe\">\n",
       "  <thead>\n",
       "    <tr style=\"text-align: right;\">\n",
       "      <th>Item</th>\n",
       "      <th>Adjustment</th>\n",
       "      <th>Afternoon with the baker</th>\n",
       "      <th>Alfajores</th>\n",
       "      <th>Argentina Night</th>\n",
       "      <th>Art Tray</th>\n",
       "      <th>Bacon</th>\n",
       "      <th>Baguette</th>\n",
       "      <th>Bakewell</th>\n",
       "      <th>Bare Popcorn</th>\n",
       "      <th>Basket</th>\n",
       "      <th>...</th>\n",
       "      <th>The BART</th>\n",
       "      <th>The Nomad</th>\n",
       "      <th>Tiffin</th>\n",
       "      <th>Toast</th>\n",
       "      <th>Truffles</th>\n",
       "      <th>Tshirt</th>\n",
       "      <th>Valentine's card</th>\n",
       "      <th>Vegan Feast</th>\n",
       "      <th>Vegan mincepie</th>\n",
       "      <th>Victorian Sponge</th>\n",
       "    </tr>\n",
       "    <tr>\n",
       "      <th>Transaction</th>\n",
       "      <th></th>\n",
       "      <th></th>\n",
       "      <th></th>\n",
       "      <th></th>\n",
       "      <th></th>\n",
       "      <th></th>\n",
       "      <th></th>\n",
       "      <th></th>\n",
       "      <th></th>\n",
       "      <th></th>\n",
       "      <th></th>\n",
       "      <th></th>\n",
       "      <th></th>\n",
       "      <th></th>\n",
       "      <th></th>\n",
       "      <th></th>\n",
       "      <th></th>\n",
       "      <th></th>\n",
       "      <th></th>\n",
       "      <th></th>\n",
       "      <th></th>\n",
       "    </tr>\n",
       "  </thead>\n",
       "  <tbody>\n",
       "    <tr>\n",
       "      <th>1</th>\n",
       "      <td>False</td>\n",
       "      <td>False</td>\n",
       "      <td>False</td>\n",
       "      <td>False</td>\n",
       "      <td>False</td>\n",
       "      <td>False</td>\n",
       "      <td>False</td>\n",
       "      <td>False</td>\n",
       "      <td>False</td>\n",
       "      <td>False</td>\n",
       "      <td>...</td>\n",
       "      <td>False</td>\n",
       "      <td>False</td>\n",
       "      <td>False</td>\n",
       "      <td>False</td>\n",
       "      <td>False</td>\n",
       "      <td>False</td>\n",
       "      <td>False</td>\n",
       "      <td>False</td>\n",
       "      <td>False</td>\n",
       "      <td>False</td>\n",
       "    </tr>\n",
       "    <tr>\n",
       "      <th>2</th>\n",
       "      <td>False</td>\n",
       "      <td>False</td>\n",
       "      <td>False</td>\n",
       "      <td>False</td>\n",
       "      <td>False</td>\n",
       "      <td>False</td>\n",
       "      <td>False</td>\n",
       "      <td>False</td>\n",
       "      <td>False</td>\n",
       "      <td>False</td>\n",
       "      <td>...</td>\n",
       "      <td>False</td>\n",
       "      <td>False</td>\n",
       "      <td>False</td>\n",
       "      <td>False</td>\n",
       "      <td>False</td>\n",
       "      <td>False</td>\n",
       "      <td>False</td>\n",
       "      <td>False</td>\n",
       "      <td>False</td>\n",
       "      <td>False</td>\n",
       "    </tr>\n",
       "    <tr>\n",
       "      <th>3</th>\n",
       "      <td>False</td>\n",
       "      <td>False</td>\n",
       "      <td>False</td>\n",
       "      <td>False</td>\n",
       "      <td>False</td>\n",
       "      <td>False</td>\n",
       "      <td>False</td>\n",
       "      <td>False</td>\n",
       "      <td>False</td>\n",
       "      <td>False</td>\n",
       "      <td>...</td>\n",
       "      <td>False</td>\n",
       "      <td>False</td>\n",
       "      <td>False</td>\n",
       "      <td>False</td>\n",
       "      <td>False</td>\n",
       "      <td>False</td>\n",
       "      <td>False</td>\n",
       "      <td>False</td>\n",
       "      <td>False</td>\n",
       "      <td>False</td>\n",
       "    </tr>\n",
       "    <tr>\n",
       "      <th>4</th>\n",
       "      <td>False</td>\n",
       "      <td>False</td>\n",
       "      <td>False</td>\n",
       "      <td>False</td>\n",
       "      <td>False</td>\n",
       "      <td>False</td>\n",
       "      <td>False</td>\n",
       "      <td>False</td>\n",
       "      <td>False</td>\n",
       "      <td>False</td>\n",
       "      <td>...</td>\n",
       "      <td>False</td>\n",
       "      <td>False</td>\n",
       "      <td>False</td>\n",
       "      <td>False</td>\n",
       "      <td>False</td>\n",
       "      <td>False</td>\n",
       "      <td>False</td>\n",
       "      <td>False</td>\n",
       "      <td>False</td>\n",
       "      <td>False</td>\n",
       "    </tr>\n",
       "    <tr>\n",
       "      <th>5</th>\n",
       "      <td>False</td>\n",
       "      <td>False</td>\n",
       "      <td>False</td>\n",
       "      <td>False</td>\n",
       "      <td>False</td>\n",
       "      <td>False</td>\n",
       "      <td>False</td>\n",
       "      <td>False</td>\n",
       "      <td>False</td>\n",
       "      <td>False</td>\n",
       "      <td>...</td>\n",
       "      <td>False</td>\n",
       "      <td>False</td>\n",
       "      <td>False</td>\n",
       "      <td>False</td>\n",
       "      <td>False</td>\n",
       "      <td>False</td>\n",
       "      <td>False</td>\n",
       "      <td>False</td>\n",
       "      <td>False</td>\n",
       "      <td>False</td>\n",
       "    </tr>\n",
       "  </tbody>\n",
       "</table>\n",
       "<p>5 rows × 94 columns</p>\n",
       "</div>"
      ],
      "text/plain": [
       "Item         Adjustment  Afternoon with the baker  Alfajores  Argentina Night  \\\n",
       "Transaction                                                                     \n",
       "1                 False                     False      False            False   \n",
       "2                 False                     False      False            False   \n",
       "3                 False                     False      False            False   \n",
       "4                 False                     False      False            False   \n",
       "5                 False                     False      False            False   \n",
       "\n",
       "Item         Art Tray  Bacon  Baguette  Bakewell  Bare Popcorn  Basket  ...  \\\n",
       "Transaction                                                             ...   \n",
       "1               False  False     False     False         False   False  ...   \n",
       "2               False  False     False     False         False   False  ...   \n",
       "3               False  False     False     False         False   False  ...   \n",
       "4               False  False     False     False         False   False  ...   \n",
       "5               False  False     False     False         False   False  ...   \n",
       "\n",
       "Item         The BART  The Nomad  Tiffin  Toast  Truffles  Tshirt  \\\n",
       "Transaction                                                         \n",
       "1               False      False   False  False     False   False   \n",
       "2               False      False   False  False     False   False   \n",
       "3               False      False   False  False     False   False   \n",
       "4               False      False   False  False     False   False   \n",
       "5               False      False   False  False     False   False   \n",
       "\n",
       "Item         Valentine's card  Vegan Feast  Vegan mincepie  Victorian Sponge  \n",
       "Transaction                                                                   \n",
       "1                       False        False           False             False  \n",
       "2                       False        False           False             False  \n",
       "3                       False        False           False             False  \n",
       "4                       False        False           False             False  \n",
       "5                       False        False           False             False  \n",
       "\n",
       "[5 rows x 94 columns]"
      ]
     },
     "execution_count": 21,
     "metadata": {},
     "output_type": "execute_result"
    }
   ],
   "source": [
    "xtend_data = xtend_data.applymap(one_hot_encode)\n",
    "xtend_data.head()"
   ]
  },
  {
   "cell_type": "markdown",
   "metadata": {},
   "source": [
    "### mlxtend implementace algoritmu apriori"
   ]
  },
  {
   "cell_type": "code",
   "execution_count": 22,
   "metadata": {},
   "outputs": [
    {
     "data": {
      "text/html": [
       "<div>\n",
       "<style scoped>\n",
       "    .dataframe tbody tr th:only-of-type {\n",
       "        vertical-align: middle;\n",
       "    }\n",
       "\n",
       "    .dataframe tbody tr th {\n",
       "        vertical-align: top;\n",
       "    }\n",
       "\n",
       "    .dataframe thead th {\n",
       "        text-align: right;\n",
       "    }\n",
       "</style>\n",
       "<table border=\"1\" class=\"dataframe\">\n",
       "  <thead>\n",
       "    <tr style=\"text-align: right;\">\n",
       "      <th></th>\n",
       "      <th>support</th>\n",
       "      <th>itemsets</th>\n",
       "      <th>lenght</th>\n",
       "    </tr>\n",
       "  </thead>\n",
       "  <tbody>\n",
       "    <tr>\n",
       "      <th>0</th>\n",
       "      <td>0.036344</td>\n",
       "      <td>(Alfajores)</td>\n",
       "      <td>1</td>\n",
       "    </tr>\n",
       "    <tr>\n",
       "      <th>1</th>\n",
       "      <td>0.016059</td>\n",
       "      <td>(Baguette)</td>\n",
       "      <td>1</td>\n",
       "    </tr>\n",
       "    <tr>\n",
       "      <th>2</th>\n",
       "      <td>0.327205</td>\n",
       "      <td>(Bread)</td>\n",
       "      <td>1</td>\n",
       "    </tr>\n",
       "    <tr>\n",
       "      <th>3</th>\n",
       "      <td>0.040042</td>\n",
       "      <td>(Brownie)</td>\n",
       "      <td>1</td>\n",
       "    </tr>\n",
       "    <tr>\n",
       "      <th>4</th>\n",
       "      <td>0.103856</td>\n",
       "      <td>(Cake)</td>\n",
       "      <td>1</td>\n",
       "    </tr>\n",
       "    <tr>\n",
       "      <th>...</th>\n",
       "      <td>...</td>\n",
       "      <td>...</td>\n",
       "      <td>...</td>\n",
       "    </tr>\n",
       "    <tr>\n",
       "      <th>56</th>\n",
       "      <td>0.023666</td>\n",
       "      <td>(Toast, Coffee)</td>\n",
       "      <td>2</td>\n",
       "    </tr>\n",
       "    <tr>\n",
       "      <th>57</th>\n",
       "      <td>0.014369</td>\n",
       "      <td>(Tea, Sandwich)</td>\n",
       "      <td>2</td>\n",
       "    </tr>\n",
       "    <tr>\n",
       "      <th>58</th>\n",
       "      <td>0.010037</td>\n",
       "      <td>(Cake, Coffee, Bread)</td>\n",
       "      <td>3</td>\n",
       "    </tr>\n",
       "    <tr>\n",
       "      <th>59</th>\n",
       "      <td>0.011199</td>\n",
       "      <td>(Pastry, Coffee, Bread)</td>\n",
       "      <td>3</td>\n",
       "    </tr>\n",
       "    <tr>\n",
       "      <th>60</th>\n",
       "      <td>0.010037</td>\n",
       "      <td>(Cake, Coffee, Tea)</td>\n",
       "      <td>3</td>\n",
       "    </tr>\n",
       "  </tbody>\n",
       "</table>\n",
       "<p>61 rows × 3 columns</p>\n",
       "</div>"
      ],
      "text/plain": [
       "     support                 itemsets  lenght\n",
       "0   0.036344              (Alfajores)       1\n",
       "1   0.016059               (Baguette)       1\n",
       "2   0.327205                  (Bread)       1\n",
       "3   0.040042                (Brownie)       1\n",
       "4   0.103856                   (Cake)       1\n",
       "..       ...                      ...     ...\n",
       "56  0.023666          (Toast, Coffee)       2\n",
       "57  0.014369          (Tea, Sandwich)       2\n",
       "58  0.010037    (Cake, Coffee, Bread)       3\n",
       "59  0.011199  (Pastry, Coffee, Bread)       3\n",
       "60  0.010037      (Cake, Coffee, Tea)       3\n",
       "\n",
       "[61 rows x 3 columns]"
      ]
     },
     "execution_count": 22,
     "metadata": {},
     "output_type": "execute_result"
    }
   ],
   "source": [
    "#vytvoreni frekventovanych mnozin pomoci Apriori\n",
    "fitems = apriori(xtend_data, min_support = 0.01, use_colnames = True)\n",
    "#vysledek je klasicky DataFrame, ktery je mozne upravit, zde je pridano sloupec s delkou frekventovane mnoziny\n",
    "fitems['lenght'] = fitems['itemsets'].apply(lambda x: len(x))\n",
    "fitems"
   ]
  },
  {
   "cell_type": "code",
   "execution_count": 23,
   "metadata": {},
   "outputs": [
    {
     "data": {
      "text/html": [
       "<div>\n",
       "<style scoped>\n",
       "    .dataframe tbody tr th:only-of-type {\n",
       "        vertical-align: middle;\n",
       "    }\n",
       "\n",
       "    .dataframe tbody tr th {\n",
       "        vertical-align: top;\n",
       "    }\n",
       "\n",
       "    .dataframe thead th {\n",
       "        text-align: right;\n",
       "    }\n",
       "</style>\n",
       "<table border=\"1\" class=\"dataframe\">\n",
       "  <thead>\n",
       "    <tr style=\"text-align: right;\">\n",
       "      <th></th>\n",
       "      <th>antecedents</th>\n",
       "      <th>consequents</th>\n",
       "      <th>antecedent support</th>\n",
       "      <th>consequent support</th>\n",
       "      <th>support</th>\n",
       "      <th>confidence</th>\n",
       "    </tr>\n",
       "  </thead>\n",
       "  <tbody>\n",
       "    <tr>\n",
       "      <th>0</th>\n",
       "      <td>(Toast)</td>\n",
       "      <td>(Coffee)</td>\n",
       "      <td>0.033597</td>\n",
       "      <td>0.478394</td>\n",
       "      <td>0.023666</td>\n",
       "      <td>0.704403</td>\n",
       "    </tr>\n",
       "    <tr>\n",
       "      <th>1</th>\n",
       "      <td>(Spanish Brunch)</td>\n",
       "      <td>(Coffee)</td>\n",
       "      <td>0.018172</td>\n",
       "      <td>0.478394</td>\n",
       "      <td>0.010882</td>\n",
       "      <td>0.598837</td>\n",
       "    </tr>\n",
       "    <tr>\n",
       "      <th>2</th>\n",
       "      <td>(Medialuna)</td>\n",
       "      <td>(Coffee)</td>\n",
       "      <td>0.061807</td>\n",
       "      <td>0.478394</td>\n",
       "      <td>0.035182</td>\n",
       "      <td>0.569231</td>\n",
       "    </tr>\n",
       "    <tr>\n",
       "      <th>3</th>\n",
       "      <td>(Pastry)</td>\n",
       "      <td>(Coffee)</td>\n",
       "      <td>0.086107</td>\n",
       "      <td>0.478394</td>\n",
       "      <td>0.047544</td>\n",
       "      <td>0.552147</td>\n",
       "    </tr>\n",
       "    <tr>\n",
       "      <th>4</th>\n",
       "      <td>(Alfajores)</td>\n",
       "      <td>(Coffee)</td>\n",
       "      <td>0.036344</td>\n",
       "      <td>0.478394</td>\n",
       "      <td>0.019651</td>\n",
       "      <td>0.540698</td>\n",
       "    </tr>\n",
       "    <tr>\n",
       "      <th>5</th>\n",
       "      <td>(Juice)</td>\n",
       "      <td>(Coffee)</td>\n",
       "      <td>0.038563</td>\n",
       "      <td>0.478394</td>\n",
       "      <td>0.020602</td>\n",
       "      <td>0.534247</td>\n",
       "    </tr>\n",
       "    <tr>\n",
       "      <th>6</th>\n",
       "      <td>(Sandwich)</td>\n",
       "      <td>(Coffee)</td>\n",
       "      <td>0.071844</td>\n",
       "      <td>0.478394</td>\n",
       "      <td>0.038246</td>\n",
       "      <td>0.532353</td>\n",
       "    </tr>\n",
       "    <tr>\n",
       "      <th>7</th>\n",
       "      <td>(Cake)</td>\n",
       "      <td>(Coffee)</td>\n",
       "      <td>0.103856</td>\n",
       "      <td>0.478394</td>\n",
       "      <td>0.054728</td>\n",
       "      <td>0.526958</td>\n",
       "    </tr>\n",
       "    <tr>\n",
       "      <th>8</th>\n",
       "      <td>(Scone)</td>\n",
       "      <td>(Coffee)</td>\n",
       "      <td>0.034548</td>\n",
       "      <td>0.478394</td>\n",
       "      <td>0.018067</td>\n",
       "      <td>0.522936</td>\n",
       "    </tr>\n",
       "    <tr>\n",
       "      <th>9</th>\n",
       "      <td>(Cookies)</td>\n",
       "      <td>(Coffee)</td>\n",
       "      <td>0.054411</td>\n",
       "      <td>0.478394</td>\n",
       "      <td>0.028209</td>\n",
       "      <td>0.518447</td>\n",
       "    </tr>\n",
       "    <tr>\n",
       "      <th>10</th>\n",
       "      <td>(Hot chocolate)</td>\n",
       "      <td>(Coffee)</td>\n",
       "      <td>0.058320</td>\n",
       "      <td>0.478394</td>\n",
       "      <td>0.029583</td>\n",
       "      <td>0.507246</td>\n",
       "    </tr>\n",
       "    <tr>\n",
       "      <th>11</th>\n",
       "      <td>(Brownie)</td>\n",
       "      <td>(Coffee)</td>\n",
       "      <td>0.040042</td>\n",
       "      <td>0.478394</td>\n",
       "      <td>0.019651</td>\n",
       "      <td>0.490765</td>\n",
       "    </tr>\n",
       "    <tr>\n",
       "      <th>12</th>\n",
       "      <td>(Muffin)</td>\n",
       "      <td>(Coffee)</td>\n",
       "      <td>0.038457</td>\n",
       "      <td>0.478394</td>\n",
       "      <td>0.018806</td>\n",
       "      <td>0.489011</td>\n",
       "    </tr>\n",
       "    <tr>\n",
       "      <th>13</th>\n",
       "      <td>(Soup)</td>\n",
       "      <td>(Coffee)</td>\n",
       "      <td>0.034443</td>\n",
       "      <td>0.478394</td>\n",
       "      <td>0.015848</td>\n",
       "      <td>0.460123</td>\n",
       "    </tr>\n",
       "    <tr>\n",
       "      <th>14</th>\n",
       "      <td>(Cake, Bread)</td>\n",
       "      <td>(Coffee)</td>\n",
       "      <td>0.023349</td>\n",
       "      <td>0.478394</td>\n",
       "      <td>0.010037</td>\n",
       "      <td>0.429864</td>\n",
       "    </tr>\n",
       "    <tr>\n",
       "      <th>15</th>\n",
       "      <td>(Cake, Tea)</td>\n",
       "      <td>(Coffee)</td>\n",
       "      <td>0.023772</td>\n",
       "      <td>0.478394</td>\n",
       "      <td>0.010037</td>\n",
       "      <td>0.422222</td>\n",
       "    </tr>\n",
       "    <tr>\n",
       "      <th>16</th>\n",
       "      <td>(Pastry, Bread)</td>\n",
       "      <td>(Coffee)</td>\n",
       "      <td>0.029160</td>\n",
       "      <td>0.478394</td>\n",
       "      <td>0.011199</td>\n",
       "      <td>0.384058</td>\n",
       "    </tr>\n",
       "    <tr>\n",
       "      <th>17</th>\n",
       "      <td>(Tea)</td>\n",
       "      <td>(Coffee)</td>\n",
       "      <td>0.142631</td>\n",
       "      <td>0.478394</td>\n",
       "      <td>0.049868</td>\n",
       "      <td>0.349630</td>\n",
       "    </tr>\n",
       "    <tr>\n",
       "      <th>18</th>\n",
       "      <td>(Pastry)</td>\n",
       "      <td>(Bread)</td>\n",
       "      <td>0.086107</td>\n",
       "      <td>0.327205</td>\n",
       "      <td>0.029160</td>\n",
       "      <td>0.338650</td>\n",
       "    </tr>\n",
       "  </tbody>\n",
       "</table>\n",
       "</div>"
      ],
      "text/plain": [
       "         antecedents consequents  antecedent support  consequent support  \\\n",
       "0            (Toast)    (Coffee)            0.033597            0.478394   \n",
       "1   (Spanish Brunch)    (Coffee)            0.018172            0.478394   \n",
       "2        (Medialuna)    (Coffee)            0.061807            0.478394   \n",
       "3           (Pastry)    (Coffee)            0.086107            0.478394   \n",
       "4        (Alfajores)    (Coffee)            0.036344            0.478394   \n",
       "5            (Juice)    (Coffee)            0.038563            0.478394   \n",
       "6         (Sandwich)    (Coffee)            0.071844            0.478394   \n",
       "7             (Cake)    (Coffee)            0.103856            0.478394   \n",
       "8            (Scone)    (Coffee)            0.034548            0.478394   \n",
       "9          (Cookies)    (Coffee)            0.054411            0.478394   \n",
       "10   (Hot chocolate)    (Coffee)            0.058320            0.478394   \n",
       "11         (Brownie)    (Coffee)            0.040042            0.478394   \n",
       "12          (Muffin)    (Coffee)            0.038457            0.478394   \n",
       "13            (Soup)    (Coffee)            0.034443            0.478394   \n",
       "14     (Cake, Bread)    (Coffee)            0.023349            0.478394   \n",
       "15       (Cake, Tea)    (Coffee)            0.023772            0.478394   \n",
       "16   (Pastry, Bread)    (Coffee)            0.029160            0.478394   \n",
       "17             (Tea)    (Coffee)            0.142631            0.478394   \n",
       "18          (Pastry)     (Bread)            0.086107            0.327205   \n",
       "\n",
       "     support  confidence  \n",
       "0   0.023666    0.704403  \n",
       "1   0.010882    0.598837  \n",
       "2   0.035182    0.569231  \n",
       "3   0.047544    0.552147  \n",
       "4   0.019651    0.540698  \n",
       "5   0.020602    0.534247  \n",
       "6   0.038246    0.532353  \n",
       "7   0.054728    0.526958  \n",
       "8   0.018067    0.522936  \n",
       "9   0.028209    0.518447  \n",
       "10  0.029583    0.507246  \n",
       "11  0.019651    0.490765  \n",
       "12  0.018806    0.489011  \n",
       "13  0.015848    0.460123  \n",
       "14  0.010037    0.429864  \n",
       "15  0.010037    0.422222  \n",
       "16  0.011199    0.384058  \n",
       "17  0.049868    0.349630  \n",
       "18  0.029160    0.338650  "
      ]
     },
     "execution_count": 23,
     "metadata": {},
     "output_type": "execute_result"
    }
   ],
   "source": [
    "#vytvoreni pravidel z frekventovanych mnozin vytvorene pomoci algoritmu Apriori\n",
    "rules = association_rules(fitems, metric='confidence', min_threshold=0.3)\n",
    "#upraveni dataFrame, aby se zobrazili pravidla sestupne podle metriky spolehlivosti\n",
    "rules = rules.sort_values(by=['confidence'], ascending=False)\n",
    "rules = rules.reset_index(drop=True)\n",
    "rules = rules[['antecedents', 'consequents', 'antecedent support', 'consequent support', 'support', 'confidence']]\n",
    "rules"
   ]
  },
  {
   "cell_type": "markdown",
   "metadata": {},
   "source": [
    "### mlxtend implementace FP-growth "
   ]
  },
  {
   "cell_type": "code",
   "execution_count": 24,
   "metadata": {},
   "outputs": [
    {
     "data": {
      "text/html": [
       "<div>\n",
       "<style scoped>\n",
       "    .dataframe tbody tr th:only-of-type {\n",
       "        vertical-align: middle;\n",
       "    }\n",
       "\n",
       "    .dataframe tbody tr th {\n",
       "        vertical-align: top;\n",
       "    }\n",
       "\n",
       "    .dataframe thead th {\n",
       "        text-align: right;\n",
       "    }\n",
       "</style>\n",
       "<table border=\"1\" class=\"dataframe\">\n",
       "  <thead>\n",
       "    <tr style=\"text-align: right;\">\n",
       "      <th></th>\n",
       "      <th>support</th>\n",
       "      <th>itemsets</th>\n",
       "    </tr>\n",
       "  </thead>\n",
       "  <tbody>\n",
       "    <tr>\n",
       "      <th>0</th>\n",
       "      <td>0.327205</td>\n",
       "      <td>(Bread)</td>\n",
       "    </tr>\n",
       "    <tr>\n",
       "      <th>1</th>\n",
       "      <td>0.029054</td>\n",
       "      <td>(Scandinavian)</td>\n",
       "    </tr>\n",
       "    <tr>\n",
       "      <th>2</th>\n",
       "      <td>0.058320</td>\n",
       "      <td>(Hot chocolate)</td>\n",
       "    </tr>\n",
       "    <tr>\n",
       "      <th>3</th>\n",
       "      <td>0.054411</td>\n",
       "      <td>(Cookies)</td>\n",
       "    </tr>\n",
       "    <tr>\n",
       "      <th>4</th>\n",
       "      <td>0.015003</td>\n",
       "      <td>(Jam)</td>\n",
       "    </tr>\n",
       "    <tr>\n",
       "      <th>...</th>\n",
       "      <td>...</td>\n",
       "      <td>...</td>\n",
       "    </tr>\n",
       "    <tr>\n",
       "      <th>56</th>\n",
       "      <td>0.019651</td>\n",
       "      <td>(Brownie, Coffee)</td>\n",
       "    </tr>\n",
       "    <tr>\n",
       "      <th>57</th>\n",
       "      <td>0.010777</td>\n",
       "      <td>(Brownie, Bread)</td>\n",
       "    </tr>\n",
       "    <tr>\n",
       "      <th>58</th>\n",
       "      <td>0.023666</td>\n",
       "      <td>(Toast, Coffee)</td>\n",
       "    </tr>\n",
       "    <tr>\n",
       "      <th>59</th>\n",
       "      <td>0.018067</td>\n",
       "      <td>(Coffee, Scone)</td>\n",
       "    </tr>\n",
       "    <tr>\n",
       "      <th>60</th>\n",
       "      <td>0.010882</td>\n",
       "      <td>(Coffee, Spanish Brunch)</td>\n",
       "    </tr>\n",
       "  </tbody>\n",
       "</table>\n",
       "<p>61 rows × 2 columns</p>\n",
       "</div>"
      ],
      "text/plain": [
       "     support                  itemsets\n",
       "0   0.327205                   (Bread)\n",
       "1   0.029054            (Scandinavian)\n",
       "2   0.058320           (Hot chocolate)\n",
       "3   0.054411                 (Cookies)\n",
       "4   0.015003                     (Jam)\n",
       "..       ...                       ...\n",
       "56  0.019651         (Brownie, Coffee)\n",
       "57  0.010777          (Brownie, Bread)\n",
       "58  0.023666           (Toast, Coffee)\n",
       "59  0.018067           (Coffee, Scone)\n",
       "60  0.010882  (Coffee, Spanish Brunch)\n",
       "\n",
       "[61 rows x 2 columns]"
      ]
     },
     "execution_count": 24,
     "metadata": {},
     "output_type": "execute_result"
    }
   ],
   "source": [
    "from mlxtend.frequent_patterns import fpgrowth\n",
    "\n",
    "#vytvoreni frekventovanych mnozin pomoci FP-growth\n",
    "fitems_fpg = fpgrowth(xtend_data, min_support = 0.01, use_colnames=True)\n",
    "fitems_fpg"
   ]
  },
  {
   "cell_type": "code",
   "execution_count": 25,
   "metadata": {},
   "outputs": [
    {
     "data": {
      "text/html": [
       "<div>\n",
       "<style scoped>\n",
       "    .dataframe tbody tr th:only-of-type {\n",
       "        vertical-align: middle;\n",
       "    }\n",
       "\n",
       "    .dataframe tbody tr th {\n",
       "        vertical-align: top;\n",
       "    }\n",
       "\n",
       "    .dataframe thead th {\n",
       "        text-align: right;\n",
       "    }\n",
       "</style>\n",
       "<table border=\"1\" class=\"dataframe\">\n",
       "  <thead>\n",
       "    <tr style=\"text-align: right;\">\n",
       "      <th></th>\n",
       "      <th>antecedents</th>\n",
       "      <th>consequents</th>\n",
       "      <th>antecedent support</th>\n",
       "      <th>consequent support</th>\n",
       "      <th>support</th>\n",
       "      <th>confidence</th>\n",
       "    </tr>\n",
       "  </thead>\n",
       "  <tbody>\n",
       "    <tr>\n",
       "      <th>0</th>\n",
       "      <td>(Toast)</td>\n",
       "      <td>(Coffee)</td>\n",
       "      <td>0.033597</td>\n",
       "      <td>0.478394</td>\n",
       "      <td>0.023666</td>\n",
       "      <td>0.704403</td>\n",
       "    </tr>\n",
       "    <tr>\n",
       "      <th>1</th>\n",
       "      <td>(Spanish Brunch)</td>\n",
       "      <td>(Coffee)</td>\n",
       "      <td>0.018172</td>\n",
       "      <td>0.478394</td>\n",
       "      <td>0.010882</td>\n",
       "      <td>0.598837</td>\n",
       "    </tr>\n",
       "    <tr>\n",
       "      <th>2</th>\n",
       "      <td>(Medialuna)</td>\n",
       "      <td>(Coffee)</td>\n",
       "      <td>0.061807</td>\n",
       "      <td>0.478394</td>\n",
       "      <td>0.035182</td>\n",
       "      <td>0.569231</td>\n",
       "    </tr>\n",
       "    <tr>\n",
       "      <th>3</th>\n",
       "      <td>(Pastry)</td>\n",
       "      <td>(Coffee)</td>\n",
       "      <td>0.086107</td>\n",
       "      <td>0.478394</td>\n",
       "      <td>0.047544</td>\n",
       "      <td>0.552147</td>\n",
       "    </tr>\n",
       "    <tr>\n",
       "      <th>4</th>\n",
       "      <td>(Alfajores)</td>\n",
       "      <td>(Coffee)</td>\n",
       "      <td>0.036344</td>\n",
       "      <td>0.478394</td>\n",
       "      <td>0.019651</td>\n",
       "      <td>0.540698</td>\n",
       "    </tr>\n",
       "    <tr>\n",
       "      <th>5</th>\n",
       "      <td>(Juice)</td>\n",
       "      <td>(Coffee)</td>\n",
       "      <td>0.038563</td>\n",
       "      <td>0.478394</td>\n",
       "      <td>0.020602</td>\n",
       "      <td>0.534247</td>\n",
       "    </tr>\n",
       "    <tr>\n",
       "      <th>6</th>\n",
       "      <td>(Sandwich)</td>\n",
       "      <td>(Coffee)</td>\n",
       "      <td>0.071844</td>\n",
       "      <td>0.478394</td>\n",
       "      <td>0.038246</td>\n",
       "      <td>0.532353</td>\n",
       "    </tr>\n",
       "    <tr>\n",
       "      <th>7</th>\n",
       "      <td>(Cake)</td>\n",
       "      <td>(Coffee)</td>\n",
       "      <td>0.103856</td>\n",
       "      <td>0.478394</td>\n",
       "      <td>0.054728</td>\n",
       "      <td>0.526958</td>\n",
       "    </tr>\n",
       "    <tr>\n",
       "      <th>8</th>\n",
       "      <td>(Scone)</td>\n",
       "      <td>(Coffee)</td>\n",
       "      <td>0.034548</td>\n",
       "      <td>0.478394</td>\n",
       "      <td>0.018067</td>\n",
       "      <td>0.522936</td>\n",
       "    </tr>\n",
       "    <tr>\n",
       "      <th>9</th>\n",
       "      <td>(Cookies)</td>\n",
       "      <td>(Coffee)</td>\n",
       "      <td>0.054411</td>\n",
       "      <td>0.478394</td>\n",
       "      <td>0.028209</td>\n",
       "      <td>0.518447</td>\n",
       "    </tr>\n",
       "    <tr>\n",
       "      <th>10</th>\n",
       "      <td>(Hot chocolate)</td>\n",
       "      <td>(Coffee)</td>\n",
       "      <td>0.058320</td>\n",
       "      <td>0.478394</td>\n",
       "      <td>0.029583</td>\n",
       "      <td>0.507246</td>\n",
       "    </tr>\n",
       "    <tr>\n",
       "      <th>11</th>\n",
       "      <td>(Brownie)</td>\n",
       "      <td>(Coffee)</td>\n",
       "      <td>0.040042</td>\n",
       "      <td>0.478394</td>\n",
       "      <td>0.019651</td>\n",
       "      <td>0.490765</td>\n",
       "    </tr>\n",
       "    <tr>\n",
       "      <th>12</th>\n",
       "      <td>(Muffin)</td>\n",
       "      <td>(Coffee)</td>\n",
       "      <td>0.038457</td>\n",
       "      <td>0.478394</td>\n",
       "      <td>0.018806</td>\n",
       "      <td>0.489011</td>\n",
       "    </tr>\n",
       "    <tr>\n",
       "      <th>13</th>\n",
       "      <td>(Soup)</td>\n",
       "      <td>(Coffee)</td>\n",
       "      <td>0.034443</td>\n",
       "      <td>0.478394</td>\n",
       "      <td>0.015848</td>\n",
       "      <td>0.460123</td>\n",
       "    </tr>\n",
       "    <tr>\n",
       "      <th>14</th>\n",
       "      <td>(Cake, Bread)</td>\n",
       "      <td>(Coffee)</td>\n",
       "      <td>0.023349</td>\n",
       "      <td>0.478394</td>\n",
       "      <td>0.010037</td>\n",
       "      <td>0.429864</td>\n",
       "    </tr>\n",
       "    <tr>\n",
       "      <th>15</th>\n",
       "      <td>(Cake, Tea)</td>\n",
       "      <td>(Coffee)</td>\n",
       "      <td>0.023772</td>\n",
       "      <td>0.478394</td>\n",
       "      <td>0.010037</td>\n",
       "      <td>0.422222</td>\n",
       "    </tr>\n",
       "    <tr>\n",
       "      <th>16</th>\n",
       "      <td>(Pastry, Bread)</td>\n",
       "      <td>(Coffee)</td>\n",
       "      <td>0.029160</td>\n",
       "      <td>0.478394</td>\n",
       "      <td>0.011199</td>\n",
       "      <td>0.384058</td>\n",
       "    </tr>\n",
       "    <tr>\n",
       "      <th>17</th>\n",
       "      <td>(Tea)</td>\n",
       "      <td>(Coffee)</td>\n",
       "      <td>0.142631</td>\n",
       "      <td>0.478394</td>\n",
       "      <td>0.049868</td>\n",
       "      <td>0.349630</td>\n",
       "    </tr>\n",
       "    <tr>\n",
       "      <th>18</th>\n",
       "      <td>(Pastry)</td>\n",
       "      <td>(Bread)</td>\n",
       "      <td>0.086107</td>\n",
       "      <td>0.327205</td>\n",
       "      <td>0.029160</td>\n",
       "      <td>0.338650</td>\n",
       "    </tr>\n",
       "  </tbody>\n",
       "</table>\n",
       "</div>"
      ],
      "text/plain": [
       "         antecedents consequents  antecedent support  consequent support  \\\n",
       "0            (Toast)    (Coffee)            0.033597            0.478394   \n",
       "1   (Spanish Brunch)    (Coffee)            0.018172            0.478394   \n",
       "2        (Medialuna)    (Coffee)            0.061807            0.478394   \n",
       "3           (Pastry)    (Coffee)            0.086107            0.478394   \n",
       "4        (Alfajores)    (Coffee)            0.036344            0.478394   \n",
       "5            (Juice)    (Coffee)            0.038563            0.478394   \n",
       "6         (Sandwich)    (Coffee)            0.071844            0.478394   \n",
       "7             (Cake)    (Coffee)            0.103856            0.478394   \n",
       "8            (Scone)    (Coffee)            0.034548            0.478394   \n",
       "9          (Cookies)    (Coffee)            0.054411            0.478394   \n",
       "10   (Hot chocolate)    (Coffee)            0.058320            0.478394   \n",
       "11         (Brownie)    (Coffee)            0.040042            0.478394   \n",
       "12          (Muffin)    (Coffee)            0.038457            0.478394   \n",
       "13            (Soup)    (Coffee)            0.034443            0.478394   \n",
       "14     (Cake, Bread)    (Coffee)            0.023349            0.478394   \n",
       "15       (Cake, Tea)    (Coffee)            0.023772            0.478394   \n",
       "16   (Pastry, Bread)    (Coffee)            0.029160            0.478394   \n",
       "17             (Tea)    (Coffee)            0.142631            0.478394   \n",
       "18          (Pastry)     (Bread)            0.086107            0.327205   \n",
       "\n",
       "     support  confidence  \n",
       "0   0.023666    0.704403  \n",
       "1   0.010882    0.598837  \n",
       "2   0.035182    0.569231  \n",
       "3   0.047544    0.552147  \n",
       "4   0.019651    0.540698  \n",
       "5   0.020602    0.534247  \n",
       "6   0.038246    0.532353  \n",
       "7   0.054728    0.526958  \n",
       "8   0.018067    0.522936  \n",
       "9   0.028209    0.518447  \n",
       "10  0.029583    0.507246  \n",
       "11  0.019651    0.490765  \n",
       "12  0.018806    0.489011  \n",
       "13  0.015848    0.460123  \n",
       "14  0.010037    0.429864  \n",
       "15  0.010037    0.422222  \n",
       "16  0.011199    0.384058  \n",
       "17  0.049868    0.349630  \n",
       "18  0.029160    0.338650  "
      ]
     },
     "execution_count": 25,
     "metadata": {},
     "output_type": "execute_result"
    }
   ],
   "source": [
    "#vytvoreni pravidel z frekventovanych mnozin vytvorene pomoci algoritmu FP-grow\n",
    "rules_fpg = association_rules(fitems_fpg, min_threshold=0.3)\n",
    "#upraveni dataFrame, aby se zobrazili pravidla sestupne podle metriky spolehlivosti\n",
    "rules_fpg = rules_fpg.sort_values(by=['confidence'], ascending=False)\n",
    "rules_fpg = rules_fpg.reset_index(drop=True)\n",
    "rules_fpg = rules_fpg[['antecedents', 'consequents', 'antecedent support', 'consequent support', 'support', 'confidence']]\n",
    "rules_fpg"
   ]
  },
  {
   "cell_type": "markdown",
   "metadata": {},
   "source": [
    " ### časové porovnání dvou algoritmu pro hledání množin frekventovaný vzoru"
   ]
  },
  {
   "cell_type": "code",
   "execution_count": 26,
   "metadata": {},
   "outputs": [
    {
     "name": "stdout",
     "output_type": "stream",
     "text": [
      "13.6 ms ± 297 µs per loop (mean ± std. dev. of 10 runs, 100 loops each)\n"
     ]
    }
   ],
   "source": [
    "%timeit -n 100 -r 10 apriori(xtend_data, min_support = 0.01)\n"
   ]
  },
  {
   "cell_type": "code",
   "execution_count": 27,
   "metadata": {},
   "outputs": [
    {
     "name": "stdout",
     "output_type": "stream",
     "text": [
      "32.2 ms ± 736 µs per loop (mean ± std. dev. of 10 runs, 100 loops each)\n"
     ]
    }
   ],
   "source": [
    "%timeit -n 100 -r 10 fpgrowth(xtend_data, min_support = 0.01)"
   ]
  },
  {
   "cell_type": "markdown",
   "metadata": {},
   "source": [
    "* FP-grow by mel byt radove rychlejsi, ale zde je opakem, kde je radove pomalejsi"
   ]
  },
  {
   "cell_type": "markdown",
   "metadata": {},
   "source": [
    "## Použití knihovny PyCaret"
   ]
  },
  {
   "cell_type": "code",
   "execution_count": 28,
   "metadata": {},
   "outputs": [],
   "source": [
    "from pycaret.arules import *"
   ]
  },
  {
   "cell_type": "code",
   "execution_count": 29,
   "metadata": {},
   "outputs": [
    {
     "data": {
      "text/html": [
       "<style type=\"text/css\">\n",
       "</style>\n",
       "<table id=\"T_881c4\">\n",
       "  <thead>\n",
       "    <tr>\n",
       "      <th id=\"T_881c4_level0_col0\" class=\"col_heading level0 col0\" >Description</th>\n",
       "      <th id=\"T_881c4_level0_col1\" class=\"col_heading level0 col1\" >Value</th>\n",
       "    </tr>\n",
       "  </thead>\n",
       "  <tbody>\n",
       "    <tr>\n",
       "      <td id=\"T_881c4_row0_col0\" class=\"data row0 col0\" >session_id</td>\n",
       "      <td id=\"T_881c4_row0_col1\" class=\"data row0 col1\" >7620</td>\n",
       "    </tr>\n",
       "    <tr>\n",
       "      <td id=\"T_881c4_row1_col0\" class=\"data row1 col0\" ># Transactions</td>\n",
       "      <td id=\"T_881c4_row1_col1\" class=\"data row1 col1\" >9465</td>\n",
       "    </tr>\n",
       "    <tr>\n",
       "      <td id=\"T_881c4_row2_col0\" class=\"data row2 col0\" ># Items</td>\n",
       "      <td id=\"T_881c4_row2_col1\" class=\"data row2 col1\" >94</td>\n",
       "    </tr>\n",
       "    <tr>\n",
       "      <td id=\"T_881c4_row3_col0\" class=\"data row3 col0\" >Ignore Items</td>\n",
       "      <td id=\"T_881c4_row3_col1\" class=\"data row3 col1\" >None</td>\n",
       "    </tr>\n",
       "  </tbody>\n",
       "</table>\n"
      ],
      "text/plain": [
       "<pandas.io.formats.style.Styler at 0xffff3dc68070>"
      ]
     },
     "metadata": {},
     "output_type": "display_data"
    }
   ],
   "source": [
    "#zpracovani datasetu, nastaveni atrubutu Transakce a nastaveni atributu polozka\n",
    "exp = setup(data=df, transaction_id='Transaction', item_id='Item')"
   ]
  },
  {
   "cell_type": "code",
   "execution_count": 30,
   "metadata": {},
   "outputs": [
    {
     "data": {
      "text/html": [
       "<div>\n",
       "<style scoped>\n",
       "    .dataframe tbody tr th:only-of-type {\n",
       "        vertical-align: middle;\n",
       "    }\n",
       "\n",
       "    .dataframe tbody tr th {\n",
       "        vertical-align: top;\n",
       "    }\n",
       "\n",
       "    .dataframe thead th {\n",
       "        text-align: right;\n",
       "    }\n",
       "</style>\n",
       "<table border=\"1\" class=\"dataframe\">\n",
       "  <thead>\n",
       "    <tr style=\"text-align: right;\">\n",
       "      <th></th>\n",
       "      <th>antecedents</th>\n",
       "      <th>consequents</th>\n",
       "      <th>antecedent support</th>\n",
       "      <th>consequent support</th>\n",
       "      <th>support</th>\n",
       "      <th>confidence</th>\n",
       "      <th>lift</th>\n",
       "      <th>leverage</th>\n",
       "      <th>conviction</th>\n",
       "    </tr>\n",
       "  </thead>\n",
       "  <tbody>\n",
       "    <tr>\n",
       "      <th>0</th>\n",
       "      <td>(Toast)</td>\n",
       "      <td>(Coffee)</td>\n",
       "      <td>0.0336</td>\n",
       "      <td>0.4784</td>\n",
       "      <td>0.0237</td>\n",
       "      <td>0.7044</td>\n",
       "      <td>1.4724</td>\n",
       "      <td>0.0076</td>\n",
       "      <td>1.7646</td>\n",
       "    </tr>\n",
       "    <tr>\n",
       "      <th>1</th>\n",
       "      <td>(Spanish Brunch)</td>\n",
       "      <td>(Coffee)</td>\n",
       "      <td>0.0182</td>\n",
       "      <td>0.4784</td>\n",
       "      <td>0.0109</td>\n",
       "      <td>0.5988</td>\n",
       "      <td>1.2518</td>\n",
       "      <td>0.0022</td>\n",
       "      <td>1.3002</td>\n",
       "    </tr>\n",
       "    <tr>\n",
       "      <th>2</th>\n",
       "      <td>(Medialuna)</td>\n",
       "      <td>(Coffee)</td>\n",
       "      <td>0.0618</td>\n",
       "      <td>0.4784</td>\n",
       "      <td>0.0352</td>\n",
       "      <td>0.5692</td>\n",
       "      <td>1.1899</td>\n",
       "      <td>0.0056</td>\n",
       "      <td>1.2109</td>\n",
       "    </tr>\n",
       "    <tr>\n",
       "      <th>3</th>\n",
       "      <td>(Pastry)</td>\n",
       "      <td>(Coffee)</td>\n",
       "      <td>0.0861</td>\n",
       "      <td>0.4784</td>\n",
       "      <td>0.0475</td>\n",
       "      <td>0.5521</td>\n",
       "      <td>1.1542</td>\n",
       "      <td>0.0064</td>\n",
       "      <td>1.1647</td>\n",
       "    </tr>\n",
       "    <tr>\n",
       "      <th>4</th>\n",
       "      <td>(Alfajores)</td>\n",
       "      <td>(Coffee)</td>\n",
       "      <td>0.0363</td>\n",
       "      <td>0.4784</td>\n",
       "      <td>0.0197</td>\n",
       "      <td>0.5407</td>\n",
       "      <td>1.1302</td>\n",
       "      <td>0.0023</td>\n",
       "      <td>1.1356</td>\n",
       "    </tr>\n",
       "    <tr>\n",
       "      <th>5</th>\n",
       "      <td>(Juice)</td>\n",
       "      <td>(Coffee)</td>\n",
       "      <td>0.0386</td>\n",
       "      <td>0.4784</td>\n",
       "      <td>0.0206</td>\n",
       "      <td>0.5342</td>\n",
       "      <td>1.1167</td>\n",
       "      <td>0.0022</td>\n",
       "      <td>1.1199</td>\n",
       "    </tr>\n",
       "    <tr>\n",
       "      <th>6</th>\n",
       "      <td>(Sandwich)</td>\n",
       "      <td>(Coffee)</td>\n",
       "      <td>0.0718</td>\n",
       "      <td>0.4784</td>\n",
       "      <td>0.0382</td>\n",
       "      <td>0.5324</td>\n",
       "      <td>1.1128</td>\n",
       "      <td>0.0039</td>\n",
       "      <td>1.1154</td>\n",
       "    </tr>\n",
       "    <tr>\n",
       "      <th>7</th>\n",
       "      <td>(Cake)</td>\n",
       "      <td>(Coffee)</td>\n",
       "      <td>0.1039</td>\n",
       "      <td>0.4784</td>\n",
       "      <td>0.0547</td>\n",
       "      <td>0.5270</td>\n",
       "      <td>1.1015</td>\n",
       "      <td>0.0050</td>\n",
       "      <td>1.1027</td>\n",
       "    </tr>\n",
       "    <tr>\n",
       "      <th>8</th>\n",
       "      <td>(Scone)</td>\n",
       "      <td>(Coffee)</td>\n",
       "      <td>0.0345</td>\n",
       "      <td>0.4784</td>\n",
       "      <td>0.0181</td>\n",
       "      <td>0.5229</td>\n",
       "      <td>1.0931</td>\n",
       "      <td>0.0015</td>\n",
       "      <td>1.0934</td>\n",
       "    </tr>\n",
       "    <tr>\n",
       "      <th>9</th>\n",
       "      <td>(Cookies)</td>\n",
       "      <td>(Coffee)</td>\n",
       "      <td>0.0544</td>\n",
       "      <td>0.4784</td>\n",
       "      <td>0.0282</td>\n",
       "      <td>0.5184</td>\n",
       "      <td>1.0837</td>\n",
       "      <td>0.0022</td>\n",
       "      <td>1.0832</td>\n",
       "    </tr>\n",
       "    <tr>\n",
       "      <th>10</th>\n",
       "      <td>(Hot chocolate)</td>\n",
       "      <td>(Coffee)</td>\n",
       "      <td>0.0583</td>\n",
       "      <td>0.4784</td>\n",
       "      <td>0.0296</td>\n",
       "      <td>0.5072</td>\n",
       "      <td>1.0603</td>\n",
       "      <td>0.0017</td>\n",
       "      <td>1.0586</td>\n",
       "    </tr>\n",
       "    <tr>\n",
       "      <th>11</th>\n",
       "      <td>(Brownie)</td>\n",
       "      <td>(Coffee)</td>\n",
       "      <td>0.0400</td>\n",
       "      <td>0.4784</td>\n",
       "      <td>0.0197</td>\n",
       "      <td>0.4908</td>\n",
       "      <td>1.0259</td>\n",
       "      <td>0.0005</td>\n",
       "      <td>1.0243</td>\n",
       "    </tr>\n",
       "    <tr>\n",
       "      <th>12</th>\n",
       "      <td>(Muffin)</td>\n",
       "      <td>(Coffee)</td>\n",
       "      <td>0.0385</td>\n",
       "      <td>0.4784</td>\n",
       "      <td>0.0188</td>\n",
       "      <td>0.4890</td>\n",
       "      <td>1.0222</td>\n",
       "      <td>0.0004</td>\n",
       "      <td>1.0208</td>\n",
       "    </tr>\n",
       "    <tr>\n",
       "      <th>13</th>\n",
       "      <td>(Soup)</td>\n",
       "      <td>(Coffee)</td>\n",
       "      <td>0.0344</td>\n",
       "      <td>0.4784</td>\n",
       "      <td>0.0158</td>\n",
       "      <td>0.4601</td>\n",
       "      <td>0.9618</td>\n",
       "      <td>-0.0006</td>\n",
       "      <td>0.9662</td>\n",
       "    </tr>\n",
       "    <tr>\n",
       "      <th>14</th>\n",
       "      <td>(Cake, Bread)</td>\n",
       "      <td>(Coffee)</td>\n",
       "      <td>0.0233</td>\n",
       "      <td>0.4784</td>\n",
       "      <td>0.0100</td>\n",
       "      <td>0.4299</td>\n",
       "      <td>0.8986</td>\n",
       "      <td>-0.0011</td>\n",
       "      <td>0.9149</td>\n",
       "    </tr>\n",
       "    <tr>\n",
       "      <th>15</th>\n",
       "      <td>(Cake, Tea)</td>\n",
       "      <td>(Coffee)</td>\n",
       "      <td>0.0238</td>\n",
       "      <td>0.4784</td>\n",
       "      <td>0.0100</td>\n",
       "      <td>0.4222</td>\n",
       "      <td>0.8826</td>\n",
       "      <td>-0.0013</td>\n",
       "      <td>0.9028</td>\n",
       "    </tr>\n",
       "    <tr>\n",
       "      <th>16</th>\n",
       "      <td>(Pastry, Bread)</td>\n",
       "      <td>(Coffee)</td>\n",
       "      <td>0.0292</td>\n",
       "      <td>0.4784</td>\n",
       "      <td>0.0112</td>\n",
       "      <td>0.3841</td>\n",
       "      <td>0.8028</td>\n",
       "      <td>-0.0028</td>\n",
       "      <td>0.8468</td>\n",
       "    </tr>\n",
       "    <tr>\n",
       "      <th>17</th>\n",
       "      <td>(Tea)</td>\n",
       "      <td>(Coffee)</td>\n",
       "      <td>0.1426</td>\n",
       "      <td>0.4784</td>\n",
       "      <td>0.0499</td>\n",
       "      <td>0.3496</td>\n",
       "      <td>0.7308</td>\n",
       "      <td>-0.0184</td>\n",
       "      <td>0.8020</td>\n",
       "    </tr>\n",
       "    <tr>\n",
       "      <th>18</th>\n",
       "      <td>(Pastry)</td>\n",
       "      <td>(Bread)</td>\n",
       "      <td>0.0861</td>\n",
       "      <td>0.3272</td>\n",
       "      <td>0.0292</td>\n",
       "      <td>0.3387</td>\n",
       "      <td>1.0350</td>\n",
       "      <td>0.0010</td>\n",
       "      <td>1.0173</td>\n",
       "    </tr>\n",
       "  </tbody>\n",
       "</table>\n",
       "</div>"
      ],
      "text/plain": [
       "         antecedents consequents  antecedent support  consequent support  \\\n",
       "0            (Toast)    (Coffee)              0.0336              0.4784   \n",
       "1   (Spanish Brunch)    (Coffee)              0.0182              0.4784   \n",
       "2        (Medialuna)    (Coffee)              0.0618              0.4784   \n",
       "3           (Pastry)    (Coffee)              0.0861              0.4784   \n",
       "4        (Alfajores)    (Coffee)              0.0363              0.4784   \n",
       "5            (Juice)    (Coffee)              0.0386              0.4784   \n",
       "6         (Sandwich)    (Coffee)              0.0718              0.4784   \n",
       "7             (Cake)    (Coffee)              0.1039              0.4784   \n",
       "8            (Scone)    (Coffee)              0.0345              0.4784   \n",
       "9          (Cookies)    (Coffee)              0.0544              0.4784   \n",
       "10   (Hot chocolate)    (Coffee)              0.0583              0.4784   \n",
       "11         (Brownie)    (Coffee)              0.0400              0.4784   \n",
       "12          (Muffin)    (Coffee)              0.0385              0.4784   \n",
       "13            (Soup)    (Coffee)              0.0344              0.4784   \n",
       "14     (Cake, Bread)    (Coffee)              0.0233              0.4784   \n",
       "15       (Cake, Tea)    (Coffee)              0.0238              0.4784   \n",
       "16   (Pastry, Bread)    (Coffee)              0.0292              0.4784   \n",
       "17             (Tea)    (Coffee)              0.1426              0.4784   \n",
       "18          (Pastry)     (Bread)              0.0861              0.3272   \n",
       "\n",
       "    support  confidence    lift  leverage  conviction  \n",
       "0    0.0237      0.7044  1.4724    0.0076      1.7646  \n",
       "1    0.0109      0.5988  1.2518    0.0022      1.3002  \n",
       "2    0.0352      0.5692  1.1899    0.0056      1.2109  \n",
       "3    0.0475      0.5521  1.1542    0.0064      1.1647  \n",
       "4    0.0197      0.5407  1.1302    0.0023      1.1356  \n",
       "5    0.0206      0.5342  1.1167    0.0022      1.1199  \n",
       "6    0.0382      0.5324  1.1128    0.0039      1.1154  \n",
       "7    0.0547      0.5270  1.1015    0.0050      1.1027  \n",
       "8    0.0181      0.5229  1.0931    0.0015      1.0934  \n",
       "9    0.0282      0.5184  1.0837    0.0022      1.0832  \n",
       "10   0.0296      0.5072  1.0603    0.0017      1.0586  \n",
       "11   0.0197      0.4908  1.0259    0.0005      1.0243  \n",
       "12   0.0188      0.4890  1.0222    0.0004      1.0208  \n",
       "13   0.0158      0.4601  0.9618   -0.0006      0.9662  \n",
       "14   0.0100      0.4299  0.8986   -0.0011      0.9149  \n",
       "15   0.0100      0.4222  0.8826   -0.0013      0.9028  \n",
       "16   0.0112      0.3841  0.8028   -0.0028      0.8468  \n",
       "17   0.0499      0.3496  0.7308   -0.0184      0.8020  \n",
       "18   0.0292      0.3387  1.0350    0.0010      1.0173  "
      ]
     },
     "execution_count": 30,
     "metadata": {},
     "output_type": "execute_result"
    }
   ],
   "source": [
    "#vytvoreni pravidel\n",
    "model1 = create_model(metric=\"confidence\", min_support=0.01, threshold=0.3)\n",
    "model1"
   ]
  },
  {
   "cell_type": "code",
   "execution_count": 31,
   "metadata": {},
   "outputs": [
    {
     "data": {
      "text/html": [
       "        <script type=\"text/javascript\">\n",
       "        window.PlotlyConfig = {MathJaxConfig: 'local'};\n",
       "        if (window.MathJax && window.MathJax.Hub && window.MathJax.Hub.Config) {window.MathJax.Hub.Config({SVG: {font: \"STIX-Web\"}});}\n",
       "        if (typeof require !== 'undefined') {\n",
       "        require.undef(\"plotly\");\n",
       "        requirejs.config({\n",
       "            paths: {\n",
       "                'plotly': ['https://cdn.plot.ly/plotly-2.12.1.min']\n",
       "            }\n",
       "        });\n",
       "        require(['plotly'], function(Plotly) {\n",
       "            window._Plotly = Plotly;\n",
       "        });\n",
       "        }\n",
       "        </script>\n",
       "        "
      ]
     },
     "metadata": {},
     "output_type": "display_data"
    },
    {
     "data": {
      "application/vnd.plotly.v1+json": {
       "config": {
        "plotlyServerURL": "https://plot.ly"
       },
       "data": [
        {
         "customdata": [
          [
           [
            "Toast"
           ],
           [
            "Coffee"
           ]
          ],
          [
           [
            "Spanish Brunch"
           ],
           [
            "Coffee"
           ]
          ],
          [
           [
            "Medialuna"
           ],
           [
            "Coffee"
           ]
          ],
          [
           [
            "Pastry"
           ],
           [
            "Coffee"
           ]
          ],
          [
           [
            "Alfajores"
           ],
           [
            "Coffee"
           ]
          ],
          [
           [
            "Juice"
           ],
           [
            "Coffee"
           ]
          ],
          [
           [
            "Sandwich"
           ],
           [
            "Coffee"
           ]
          ],
          [
           [
            "Cake"
           ],
           [
            "Coffee"
           ]
          ],
          [
           [
            "Scone"
           ],
           [
            "Coffee"
           ]
          ],
          [
           [
            "Cookies"
           ],
           [
            "Coffee"
           ]
          ],
          [
           [
            "Hot chocolate"
           ],
           [
            "Coffee"
           ]
          ],
          [
           [
            "Brownie"
           ],
           [
            "Coffee"
           ]
          ],
          [
           [
            "Muffin"
           ],
           [
            "Coffee"
           ]
          ],
          [
           [
            "Soup"
           ],
           [
            "Coffee"
           ]
          ],
          [
           [
            "Cake",
            "Bread"
           ],
           [
            "Coffee"
           ]
          ],
          [
           [
            "Cake",
            "Tea"
           ],
           [
            "Coffee"
           ]
          ],
          [
           [
            "Pastry",
            "Bread"
           ],
           [
            "Coffee"
           ]
          ],
          [
           [
            "Tea"
           ],
           [
            "Coffee"
           ]
          ],
          [
           [
            "Pastry"
           ],
           [
            "Bread"
           ]
          ]
         ],
         "hovertemplate": "support=%{x}<br>confidence=%{y}<br>antecedents_short=%{text}<br>antecedents=%{customdata[0]}<br>consequents=%{customdata[1]}<br>lift=%{marker.color}<extra></extra>",
         "legendgroup": "",
         "marker": {
          "color": [
           1.4724,
           1.2518,
           1.1899,
           1.1542,
           1.1302,
           1.1167,
           1.1128,
           1.1015,
           1.0931,
           1.0837,
           1.0603,
           1.0259,
           1.0222,
           0.9618,
           0.8986,
           0.8826,
           0.8028,
           0.7308,
           1.035
          ],
          "coloraxis": "coloraxis",
          "opacity": 0.5,
          "symbol": "circle"
         },
         "mode": "markers+text",
         "name": "",
         "orientation": "v",
         "showlegend": false,
         "text": [
          [
           "Toast"
          ],
          [
           "Spanish Brunch"
          ],
          [
           "Medialuna"
          ],
          [
           "Pastry"
          ],
          [
           "Alfajores"
          ],
          [
           "Juice"
          ],
          [
           "Sandwich"
          ],
          [
           "Cake"
          ],
          [
           "Scone"
          ],
          [
           "Cookies"
          ],
          [
           "Hot chocolate"
          ],
          [
           "Brownie"
          ],
          [
           "Muffin"
          ],
          [
           "Soup"
          ],
          [
           "Cake",
           "Bread"
          ],
          [
           "Cake",
           "Tea"
          ],
          [
           "Pastry",
           "Bread"
          ],
          [
           "Tea"
          ],
          [
           "Pastry"
          ]
         ],
         "textposition": "top center",
         "type": "scatter",
         "x": [
          0.0237,
          0.0109,
          0.0352,
          0.0475,
          0.0197,
          0.0206,
          0.0382,
          0.0547,
          0.0181,
          0.0282,
          0.0296,
          0.0197,
          0.0188,
          0.0158,
          0.01,
          0.01,
          0.0112,
          0.0499,
          0.0292
         ],
         "xaxis": "x",
         "y": [
          0.7044,
          0.5988,
          0.5692,
          0.5521,
          0.5407,
          0.5342,
          0.5324,
          0.527,
          0.5229,
          0.5184,
          0.5072,
          0.4908,
          0.489,
          0.4601,
          0.4299,
          0.4222,
          0.3841,
          0.3496,
          0.3387
         ],
         "yaxis": "y"
        }
       ],
       "layout": {
        "coloraxis": {
         "colorbar": {
          "title": {
           "text": "lift"
          }
         },
         "colorscale": [
          [
           0,
           "#0d0887"
          ],
          [
           0.1111111111111111,
           "#46039f"
          ],
          [
           0.2222222222222222,
           "#7201a8"
          ],
          [
           0.3333333333333333,
           "#9c179e"
          ],
          [
           0.4444444444444444,
           "#bd3786"
          ],
          [
           0.5555555555555556,
           "#d8576b"
          ],
          [
           0.6666666666666666,
           "#ed7953"
          ],
          [
           0.7777777777777778,
           "#fb9f3a"
          ],
          [
           0.8888888888888888,
           "#fdca26"
          ],
          [
           1,
           "#f0f921"
          ]
         ]
        },
        "height": 600,
        "legend": {
         "tracegroupgap": 0
        },
        "margin": {
         "t": 60
        },
        "plot_bgcolor": "rgb(240,240,240)",
        "template": {
         "data": {
          "bar": [
           {
            "error_x": {
             "color": "#2a3f5f"
            },
            "error_y": {
             "color": "#2a3f5f"
            },
            "marker": {
             "line": {
              "color": "#E5ECF6",
              "width": 0.5
             },
             "pattern": {
              "fillmode": "overlay",
              "size": 10,
              "solidity": 0.2
             }
            },
            "type": "bar"
           }
          ],
          "barpolar": [
           {
            "marker": {
             "line": {
              "color": "#E5ECF6",
              "width": 0.5
             },
             "pattern": {
              "fillmode": "overlay",
              "size": 10,
              "solidity": 0.2
             }
            },
            "type": "barpolar"
           }
          ],
          "carpet": [
           {
            "aaxis": {
             "endlinecolor": "#2a3f5f",
             "gridcolor": "white",
             "linecolor": "white",
             "minorgridcolor": "white",
             "startlinecolor": "#2a3f5f"
            },
            "baxis": {
             "endlinecolor": "#2a3f5f",
             "gridcolor": "white",
             "linecolor": "white",
             "minorgridcolor": "white",
             "startlinecolor": "#2a3f5f"
            },
            "type": "carpet"
           }
          ],
          "choropleth": [
           {
            "colorbar": {
             "outlinewidth": 0,
             "ticks": ""
            },
            "type": "choropleth"
           }
          ],
          "contour": [
           {
            "colorbar": {
             "outlinewidth": 0,
             "ticks": ""
            },
            "colorscale": [
             [
              0,
              "#0d0887"
             ],
             [
              0.1111111111111111,
              "#46039f"
             ],
             [
              0.2222222222222222,
              "#7201a8"
             ],
             [
              0.3333333333333333,
              "#9c179e"
             ],
             [
              0.4444444444444444,
              "#bd3786"
             ],
             [
              0.5555555555555556,
              "#d8576b"
             ],
             [
              0.6666666666666666,
              "#ed7953"
             ],
             [
              0.7777777777777778,
              "#fb9f3a"
             ],
             [
              0.8888888888888888,
              "#fdca26"
             ],
             [
              1,
              "#f0f921"
             ]
            ],
            "type": "contour"
           }
          ],
          "contourcarpet": [
           {
            "colorbar": {
             "outlinewidth": 0,
             "ticks": ""
            },
            "type": "contourcarpet"
           }
          ],
          "heatmap": [
           {
            "colorbar": {
             "outlinewidth": 0,
             "ticks": ""
            },
            "colorscale": [
             [
              0,
              "#0d0887"
             ],
             [
              0.1111111111111111,
              "#46039f"
             ],
             [
              0.2222222222222222,
              "#7201a8"
             ],
             [
              0.3333333333333333,
              "#9c179e"
             ],
             [
              0.4444444444444444,
              "#bd3786"
             ],
             [
              0.5555555555555556,
              "#d8576b"
             ],
             [
              0.6666666666666666,
              "#ed7953"
             ],
             [
              0.7777777777777778,
              "#fb9f3a"
             ],
             [
              0.8888888888888888,
              "#fdca26"
             ],
             [
              1,
              "#f0f921"
             ]
            ],
            "type": "heatmap"
           }
          ],
          "heatmapgl": [
           {
            "colorbar": {
             "outlinewidth": 0,
             "ticks": ""
            },
            "colorscale": [
             [
              0,
              "#0d0887"
             ],
             [
              0.1111111111111111,
              "#46039f"
             ],
             [
              0.2222222222222222,
              "#7201a8"
             ],
             [
              0.3333333333333333,
              "#9c179e"
             ],
             [
              0.4444444444444444,
              "#bd3786"
             ],
             [
              0.5555555555555556,
              "#d8576b"
             ],
             [
              0.6666666666666666,
              "#ed7953"
             ],
             [
              0.7777777777777778,
              "#fb9f3a"
             ],
             [
              0.8888888888888888,
              "#fdca26"
             ],
             [
              1,
              "#f0f921"
             ]
            ],
            "type": "heatmapgl"
           }
          ],
          "histogram": [
           {
            "marker": {
             "pattern": {
              "fillmode": "overlay",
              "size": 10,
              "solidity": 0.2
             }
            },
            "type": "histogram"
           }
          ],
          "histogram2d": [
           {
            "colorbar": {
             "outlinewidth": 0,
             "ticks": ""
            },
            "colorscale": [
             [
              0,
              "#0d0887"
             ],
             [
              0.1111111111111111,
              "#46039f"
             ],
             [
              0.2222222222222222,
              "#7201a8"
             ],
             [
              0.3333333333333333,
              "#9c179e"
             ],
             [
              0.4444444444444444,
              "#bd3786"
             ],
             [
              0.5555555555555556,
              "#d8576b"
             ],
             [
              0.6666666666666666,
              "#ed7953"
             ],
             [
              0.7777777777777778,
              "#fb9f3a"
             ],
             [
              0.8888888888888888,
              "#fdca26"
             ],
             [
              1,
              "#f0f921"
             ]
            ],
            "type": "histogram2d"
           }
          ],
          "histogram2dcontour": [
           {
            "colorbar": {
             "outlinewidth": 0,
             "ticks": ""
            },
            "colorscale": [
             [
              0,
              "#0d0887"
             ],
             [
              0.1111111111111111,
              "#46039f"
             ],
             [
              0.2222222222222222,
              "#7201a8"
             ],
             [
              0.3333333333333333,
              "#9c179e"
             ],
             [
              0.4444444444444444,
              "#bd3786"
             ],
             [
              0.5555555555555556,
              "#d8576b"
             ],
             [
              0.6666666666666666,
              "#ed7953"
             ],
             [
              0.7777777777777778,
              "#fb9f3a"
             ],
             [
              0.8888888888888888,
              "#fdca26"
             ],
             [
              1,
              "#f0f921"
             ]
            ],
            "type": "histogram2dcontour"
           }
          ],
          "mesh3d": [
           {
            "colorbar": {
             "outlinewidth": 0,
             "ticks": ""
            },
            "type": "mesh3d"
           }
          ],
          "parcoords": [
           {
            "line": {
             "colorbar": {
              "outlinewidth": 0,
              "ticks": ""
             }
            },
            "type": "parcoords"
           }
          ],
          "pie": [
           {
            "automargin": true,
            "type": "pie"
           }
          ],
          "scatter": [
           {
            "fillpattern": {
             "fillmode": "overlay",
             "size": 10,
             "solidity": 0.2
            },
            "type": "scatter"
           }
          ],
          "scatter3d": [
           {
            "line": {
             "colorbar": {
              "outlinewidth": 0,
              "ticks": ""
             }
            },
            "marker": {
             "colorbar": {
              "outlinewidth": 0,
              "ticks": ""
             }
            },
            "type": "scatter3d"
           }
          ],
          "scattercarpet": [
           {
            "marker": {
             "colorbar": {
              "outlinewidth": 0,
              "ticks": ""
             }
            },
            "type": "scattercarpet"
           }
          ],
          "scattergeo": [
           {
            "marker": {
             "colorbar": {
              "outlinewidth": 0,
              "ticks": ""
             }
            },
            "type": "scattergeo"
           }
          ],
          "scattergl": [
           {
            "marker": {
             "colorbar": {
              "outlinewidth": 0,
              "ticks": ""
             }
            },
            "type": "scattergl"
           }
          ],
          "scattermapbox": [
           {
            "marker": {
             "colorbar": {
              "outlinewidth": 0,
              "ticks": ""
             }
            },
            "type": "scattermapbox"
           }
          ],
          "scatterpolar": [
           {
            "marker": {
             "colorbar": {
              "outlinewidth": 0,
              "ticks": ""
             }
            },
            "type": "scatterpolar"
           }
          ],
          "scatterpolargl": [
           {
            "marker": {
             "colorbar": {
              "outlinewidth": 0,
              "ticks": ""
             }
            },
            "type": "scatterpolargl"
           }
          ],
          "scatterternary": [
           {
            "marker": {
             "colorbar": {
              "outlinewidth": 0,
              "ticks": ""
             }
            },
            "type": "scatterternary"
           }
          ],
          "surface": [
           {
            "colorbar": {
             "outlinewidth": 0,
             "ticks": ""
            },
            "colorscale": [
             [
              0,
              "#0d0887"
             ],
             [
              0.1111111111111111,
              "#46039f"
             ],
             [
              0.2222222222222222,
              "#7201a8"
             ],
             [
              0.3333333333333333,
              "#9c179e"
             ],
             [
              0.4444444444444444,
              "#bd3786"
             ],
             [
              0.5555555555555556,
              "#d8576b"
             ],
             [
              0.6666666666666666,
              "#ed7953"
             ],
             [
              0.7777777777777778,
              "#fb9f3a"
             ],
             [
              0.8888888888888888,
              "#fdca26"
             ],
             [
              1,
              "#f0f921"
             ]
            ],
            "type": "surface"
           }
          ],
          "table": [
           {
            "cells": {
             "fill": {
              "color": "#EBF0F8"
             },
             "line": {
              "color": "white"
             }
            },
            "header": {
             "fill": {
              "color": "#C8D4E3"
             },
             "line": {
              "color": "white"
             }
            },
            "type": "table"
           }
          ]
         },
         "layout": {
          "annotationdefaults": {
           "arrowcolor": "#2a3f5f",
           "arrowhead": 0,
           "arrowwidth": 1
          },
          "autotypenumbers": "strict",
          "coloraxis": {
           "colorbar": {
            "outlinewidth": 0,
            "ticks": ""
           }
          },
          "colorscale": {
           "diverging": [
            [
             0,
             "#8e0152"
            ],
            [
             0.1,
             "#c51b7d"
            ],
            [
             0.2,
             "#de77ae"
            ],
            [
             0.3,
             "#f1b6da"
            ],
            [
             0.4,
             "#fde0ef"
            ],
            [
             0.5,
             "#f7f7f7"
            ],
            [
             0.6,
             "#e6f5d0"
            ],
            [
             0.7,
             "#b8e186"
            ],
            [
             0.8,
             "#7fbc41"
            ],
            [
             0.9,
             "#4d9221"
            ],
            [
             1,
             "#276419"
            ]
           ],
           "sequential": [
            [
             0,
             "#0d0887"
            ],
            [
             0.1111111111111111,
             "#46039f"
            ],
            [
             0.2222222222222222,
             "#7201a8"
            ],
            [
             0.3333333333333333,
             "#9c179e"
            ],
            [
             0.4444444444444444,
             "#bd3786"
            ],
            [
             0.5555555555555556,
             "#d8576b"
            ],
            [
             0.6666666666666666,
             "#ed7953"
            ],
            [
             0.7777777777777778,
             "#fb9f3a"
            ],
            [
             0.8888888888888888,
             "#fdca26"
            ],
            [
             1,
             "#f0f921"
            ]
           ],
           "sequentialminus": [
            [
             0,
             "#0d0887"
            ],
            [
             0.1111111111111111,
             "#46039f"
            ],
            [
             0.2222222222222222,
             "#7201a8"
            ],
            [
             0.3333333333333333,
             "#9c179e"
            ],
            [
             0.4444444444444444,
             "#bd3786"
            ],
            [
             0.5555555555555556,
             "#d8576b"
            ],
            [
             0.6666666666666666,
             "#ed7953"
            ],
            [
             0.7777777777777778,
             "#fb9f3a"
            ],
            [
             0.8888888888888888,
             "#fdca26"
            ],
            [
             1,
             "#f0f921"
            ]
           ]
          },
          "colorway": [
           "#636efa",
           "#EF553B",
           "#00cc96",
           "#ab63fa",
           "#FFA15A",
           "#19d3f3",
           "#FF6692",
           "#B6E880",
           "#FF97FF",
           "#FECB52"
          ],
          "font": {
           "color": "#2a3f5f"
          },
          "geo": {
           "bgcolor": "white",
           "lakecolor": "white",
           "landcolor": "#E5ECF6",
           "showlakes": true,
           "showland": true,
           "subunitcolor": "white"
          },
          "hoverlabel": {
           "align": "left"
          },
          "hovermode": "closest",
          "mapbox": {
           "style": "light"
          },
          "paper_bgcolor": "white",
          "plot_bgcolor": "#E5ECF6",
          "polar": {
           "angularaxis": {
            "gridcolor": "white",
            "linecolor": "white",
            "ticks": ""
           },
           "bgcolor": "#E5ECF6",
           "radialaxis": {
            "gridcolor": "white",
            "linecolor": "white",
            "ticks": ""
           }
          },
          "scene": {
           "xaxis": {
            "backgroundcolor": "#E5ECF6",
            "gridcolor": "white",
            "gridwidth": 2,
            "linecolor": "white",
            "showbackground": true,
            "ticks": "",
            "zerolinecolor": "white"
           },
           "yaxis": {
            "backgroundcolor": "#E5ECF6",
            "gridcolor": "white",
            "gridwidth": 2,
            "linecolor": "white",
            "showbackground": true,
            "ticks": "",
            "zerolinecolor": "white"
           },
           "zaxis": {
            "backgroundcolor": "#E5ECF6",
            "gridcolor": "white",
            "gridwidth": 2,
            "linecolor": "white",
            "showbackground": true,
            "ticks": "",
            "zerolinecolor": "white"
           }
          },
          "shapedefaults": {
           "line": {
            "color": "#2a3f5f"
           }
          },
          "ternary": {
           "aaxis": {
            "gridcolor": "white",
            "linecolor": "white",
            "ticks": ""
           },
           "baxis": {
            "gridcolor": "white",
            "linecolor": "white",
            "ticks": ""
           },
           "bgcolor": "#E5ECF6",
           "caxis": {
            "gridcolor": "white",
            "linecolor": "white",
            "ticks": ""
           }
          },
          "title": {
           "x": 0.05
          },
          "xaxis": {
           "automargin": true,
           "gridcolor": "white",
           "linecolor": "white",
           "ticks": "",
           "title": {
            "standoff": 15
           },
           "zerolinecolor": "white",
           "zerolinewidth": 2
          },
          "yaxis": {
           "automargin": true,
           "gridcolor": "white",
           "linecolor": "white",
           "ticks": "",
           "title": {
            "standoff": 15
           },
           "zerolinecolor": "white",
           "zerolinewidth": 2
          }
         }
        },
        "title": {
         "text": "2D Plot of Support, Confidence and Lift"
        },
        "xaxis": {
         "anchor": "y",
         "domain": [
          0,
          1
         ],
         "title": {
          "text": "support"
         },
         "type": "log"
        },
        "yaxis": {
         "anchor": "x",
         "domain": [
          0,
          1
         ],
         "title": {
          "text": "confidence"
         }
        }
       }
      },
      "text/html": [
       "<div>                            <div id=\"a57c3ee8-3b0a-4a55-ab99-4752c147649d\" class=\"plotly-graph-div\" style=\"height:600.0px; width:100%;\"></div>            <script type=\"text/javascript\">                require([\"plotly\"], function(Plotly) {                    window.PLOTLYENV=window.PLOTLYENV || {};                                    if (document.getElementById(\"a57c3ee8-3b0a-4a55-ab99-4752c147649d\")) {                    Plotly.newPlot(                        \"a57c3ee8-3b0a-4a55-ab99-4752c147649d\",                        [{\"customdata\":[[[\"Toast\"],[\"Coffee\"]],[[\"Spanish Brunch\"],[\"Coffee\"]],[[\"Medialuna\"],[\"Coffee\"]],[[\"Pastry\"],[\"Coffee\"]],[[\"Alfajores\"],[\"Coffee\"]],[[\"Juice\"],[\"Coffee\"]],[[\"Sandwich\"],[\"Coffee\"]],[[\"Cake\"],[\"Coffee\"]],[[\"Scone\"],[\"Coffee\"]],[[\"Cookies\"],[\"Coffee\"]],[[\"Hot chocolate\"],[\"Coffee\"]],[[\"Brownie\"],[\"Coffee\"]],[[\"Muffin\"],[\"Coffee\"]],[[\"Soup\"],[\"Coffee\"]],[[\"Cake\",\"Bread\"],[\"Coffee\"]],[[\"Cake\",\"Tea\"],[\"Coffee\"]],[[\"Pastry\",\"Bread\"],[\"Coffee\"]],[[\"Tea\"],[\"Coffee\"]],[[\"Pastry\"],[\"Bread\"]]],\"hovertemplate\":\"support=%{x}<br>confidence=%{y}<br>antecedents_short=%{text}<br>antecedents=%{customdata[0]}<br>consequents=%{customdata[1]}<br>lift=%{marker.color}<extra></extra>\",\"legendgroup\":\"\",\"marker\":{\"color\":[1.4724,1.2518,1.1899,1.1542,1.1302,1.1167,1.1128,1.1015,1.0931,1.0837,1.0603,1.0259,1.0222,0.9618,0.8986,0.8826,0.8028,0.7308,1.035],\"coloraxis\":\"coloraxis\",\"opacity\":0.5,\"symbol\":\"circle\"},\"mode\":\"markers+text\",\"name\":\"\",\"orientation\":\"v\",\"showlegend\":false,\"text\":[[\"Toast\"],[\"Spanish Brunch\"],[\"Medialuna\"],[\"Pastry\"],[\"Alfajores\"],[\"Juice\"],[\"Sandwich\"],[\"Cake\"],[\"Scone\"],[\"Cookies\"],[\"Hot chocolate\"],[\"Brownie\"],[\"Muffin\"],[\"Soup\"],[\"Cake\",\"Bread\"],[\"Cake\",\"Tea\"],[\"Pastry\",\"Bread\"],[\"Tea\"],[\"Pastry\"]],\"x\":[0.0237,0.0109,0.0352,0.0475,0.0197,0.0206,0.0382,0.0547,0.0181,0.0282,0.0296,0.0197,0.0188,0.0158,0.01,0.01,0.0112,0.0499,0.0292],\"xaxis\":\"x\",\"y\":[0.7044,0.5988,0.5692,0.5521,0.5407,0.5342,0.5324,0.527,0.5229,0.5184,0.5072,0.4908,0.489,0.4601,0.4299,0.4222,0.3841,0.3496,0.3387],\"yaxis\":\"y\",\"type\":\"scatter\",\"textposition\":\"top center\"}],                        {\"template\":{\"data\":{\"histogram2dcontour\":[{\"type\":\"histogram2dcontour\",\"colorbar\":{\"outlinewidth\":0,\"ticks\":\"\"},\"colorscale\":[[0.0,\"#0d0887\"],[0.1111111111111111,\"#46039f\"],[0.2222222222222222,\"#7201a8\"],[0.3333333333333333,\"#9c179e\"],[0.4444444444444444,\"#bd3786\"],[0.5555555555555556,\"#d8576b\"],[0.6666666666666666,\"#ed7953\"],[0.7777777777777778,\"#fb9f3a\"],[0.8888888888888888,\"#fdca26\"],[1.0,\"#f0f921\"]]}],\"choropleth\":[{\"type\":\"choropleth\",\"colorbar\":{\"outlinewidth\":0,\"ticks\":\"\"}}],\"histogram2d\":[{\"type\":\"histogram2d\",\"colorbar\":{\"outlinewidth\":0,\"ticks\":\"\"},\"colorscale\":[[0.0,\"#0d0887\"],[0.1111111111111111,\"#46039f\"],[0.2222222222222222,\"#7201a8\"],[0.3333333333333333,\"#9c179e\"],[0.4444444444444444,\"#bd3786\"],[0.5555555555555556,\"#d8576b\"],[0.6666666666666666,\"#ed7953\"],[0.7777777777777778,\"#fb9f3a\"],[0.8888888888888888,\"#fdca26\"],[1.0,\"#f0f921\"]]}],\"heatmap\":[{\"type\":\"heatmap\",\"colorbar\":{\"outlinewidth\":0,\"ticks\":\"\"},\"colorscale\":[[0.0,\"#0d0887\"],[0.1111111111111111,\"#46039f\"],[0.2222222222222222,\"#7201a8\"],[0.3333333333333333,\"#9c179e\"],[0.4444444444444444,\"#bd3786\"],[0.5555555555555556,\"#d8576b\"],[0.6666666666666666,\"#ed7953\"],[0.7777777777777778,\"#fb9f3a\"],[0.8888888888888888,\"#fdca26\"],[1.0,\"#f0f921\"]]}],\"heatmapgl\":[{\"type\":\"heatmapgl\",\"colorbar\":{\"outlinewidth\":0,\"ticks\":\"\"},\"colorscale\":[[0.0,\"#0d0887\"],[0.1111111111111111,\"#46039f\"],[0.2222222222222222,\"#7201a8\"],[0.3333333333333333,\"#9c179e\"],[0.4444444444444444,\"#bd3786\"],[0.5555555555555556,\"#d8576b\"],[0.6666666666666666,\"#ed7953\"],[0.7777777777777778,\"#fb9f3a\"],[0.8888888888888888,\"#fdca26\"],[1.0,\"#f0f921\"]]}],\"contourcarpet\":[{\"type\":\"contourcarpet\",\"colorbar\":{\"outlinewidth\":0,\"ticks\":\"\"}}],\"contour\":[{\"type\":\"contour\",\"colorbar\":{\"outlinewidth\":0,\"ticks\":\"\"},\"colorscale\":[[0.0,\"#0d0887\"],[0.1111111111111111,\"#46039f\"],[0.2222222222222222,\"#7201a8\"],[0.3333333333333333,\"#9c179e\"],[0.4444444444444444,\"#bd3786\"],[0.5555555555555556,\"#d8576b\"],[0.6666666666666666,\"#ed7953\"],[0.7777777777777778,\"#fb9f3a\"],[0.8888888888888888,\"#fdca26\"],[1.0,\"#f0f921\"]]}],\"surface\":[{\"type\":\"surface\",\"colorbar\":{\"outlinewidth\":0,\"ticks\":\"\"},\"colorscale\":[[0.0,\"#0d0887\"],[0.1111111111111111,\"#46039f\"],[0.2222222222222222,\"#7201a8\"],[0.3333333333333333,\"#9c179e\"],[0.4444444444444444,\"#bd3786\"],[0.5555555555555556,\"#d8576b\"],[0.6666666666666666,\"#ed7953\"],[0.7777777777777778,\"#fb9f3a\"],[0.8888888888888888,\"#fdca26\"],[1.0,\"#f0f921\"]]}],\"mesh3d\":[{\"type\":\"mesh3d\",\"colorbar\":{\"outlinewidth\":0,\"ticks\":\"\"}}],\"scatter\":[{\"fillpattern\":{\"fillmode\":\"overlay\",\"size\":10,\"solidity\":0.2},\"type\":\"scatter\"}],\"parcoords\":[{\"type\":\"parcoords\",\"line\":{\"colorbar\":{\"outlinewidth\":0,\"ticks\":\"\"}}}],\"scatterpolargl\":[{\"type\":\"scatterpolargl\",\"marker\":{\"colorbar\":{\"outlinewidth\":0,\"ticks\":\"\"}}}],\"bar\":[{\"error_x\":{\"color\":\"#2a3f5f\"},\"error_y\":{\"color\":\"#2a3f5f\"},\"marker\":{\"line\":{\"color\":\"#E5ECF6\",\"width\":0.5},\"pattern\":{\"fillmode\":\"overlay\",\"size\":10,\"solidity\":0.2}},\"type\":\"bar\"}],\"scattergeo\":[{\"type\":\"scattergeo\",\"marker\":{\"colorbar\":{\"outlinewidth\":0,\"ticks\":\"\"}}}],\"scatterpolar\":[{\"type\":\"scatterpolar\",\"marker\":{\"colorbar\":{\"outlinewidth\":0,\"ticks\":\"\"}}}],\"histogram\":[{\"marker\":{\"pattern\":{\"fillmode\":\"overlay\",\"size\":10,\"solidity\":0.2}},\"type\":\"histogram\"}],\"scattergl\":[{\"type\":\"scattergl\",\"marker\":{\"colorbar\":{\"outlinewidth\":0,\"ticks\":\"\"}}}],\"scatter3d\":[{\"type\":\"scatter3d\",\"line\":{\"colorbar\":{\"outlinewidth\":0,\"ticks\":\"\"}},\"marker\":{\"colorbar\":{\"outlinewidth\":0,\"ticks\":\"\"}}}],\"scattermapbox\":[{\"type\":\"scattermapbox\",\"marker\":{\"colorbar\":{\"outlinewidth\":0,\"ticks\":\"\"}}}],\"scatterternary\":[{\"type\":\"scatterternary\",\"marker\":{\"colorbar\":{\"outlinewidth\":0,\"ticks\":\"\"}}}],\"scattercarpet\":[{\"type\":\"scattercarpet\",\"marker\":{\"colorbar\":{\"outlinewidth\":0,\"ticks\":\"\"}}}],\"carpet\":[{\"aaxis\":{\"endlinecolor\":\"#2a3f5f\",\"gridcolor\":\"white\",\"linecolor\":\"white\",\"minorgridcolor\":\"white\",\"startlinecolor\":\"#2a3f5f\"},\"baxis\":{\"endlinecolor\":\"#2a3f5f\",\"gridcolor\":\"white\",\"linecolor\":\"white\",\"minorgridcolor\":\"white\",\"startlinecolor\":\"#2a3f5f\"},\"type\":\"carpet\"}],\"table\":[{\"cells\":{\"fill\":{\"color\":\"#EBF0F8\"},\"line\":{\"color\":\"white\"}},\"header\":{\"fill\":{\"color\":\"#C8D4E3\"},\"line\":{\"color\":\"white\"}},\"type\":\"table\"}],\"barpolar\":[{\"marker\":{\"line\":{\"color\":\"#E5ECF6\",\"width\":0.5},\"pattern\":{\"fillmode\":\"overlay\",\"size\":10,\"solidity\":0.2}},\"type\":\"barpolar\"}],\"pie\":[{\"automargin\":true,\"type\":\"pie\"}]},\"layout\":{\"autotypenumbers\":\"strict\",\"colorway\":[\"#636efa\",\"#EF553B\",\"#00cc96\",\"#ab63fa\",\"#FFA15A\",\"#19d3f3\",\"#FF6692\",\"#B6E880\",\"#FF97FF\",\"#FECB52\"],\"font\":{\"color\":\"#2a3f5f\"},\"hovermode\":\"closest\",\"hoverlabel\":{\"align\":\"left\"},\"paper_bgcolor\":\"white\",\"plot_bgcolor\":\"#E5ECF6\",\"polar\":{\"bgcolor\":\"#E5ECF6\",\"angularaxis\":{\"gridcolor\":\"white\",\"linecolor\":\"white\",\"ticks\":\"\"},\"radialaxis\":{\"gridcolor\":\"white\",\"linecolor\":\"white\",\"ticks\":\"\"}},\"ternary\":{\"bgcolor\":\"#E5ECF6\",\"aaxis\":{\"gridcolor\":\"white\",\"linecolor\":\"white\",\"ticks\":\"\"},\"baxis\":{\"gridcolor\":\"white\",\"linecolor\":\"white\",\"ticks\":\"\"},\"caxis\":{\"gridcolor\":\"white\",\"linecolor\":\"white\",\"ticks\":\"\"}},\"coloraxis\":{\"colorbar\":{\"outlinewidth\":0,\"ticks\":\"\"}},\"colorscale\":{\"sequential\":[[0.0,\"#0d0887\"],[0.1111111111111111,\"#46039f\"],[0.2222222222222222,\"#7201a8\"],[0.3333333333333333,\"#9c179e\"],[0.4444444444444444,\"#bd3786\"],[0.5555555555555556,\"#d8576b\"],[0.6666666666666666,\"#ed7953\"],[0.7777777777777778,\"#fb9f3a\"],[0.8888888888888888,\"#fdca26\"],[1.0,\"#f0f921\"]],\"sequentialminus\":[[0.0,\"#0d0887\"],[0.1111111111111111,\"#46039f\"],[0.2222222222222222,\"#7201a8\"],[0.3333333333333333,\"#9c179e\"],[0.4444444444444444,\"#bd3786\"],[0.5555555555555556,\"#d8576b\"],[0.6666666666666666,\"#ed7953\"],[0.7777777777777778,\"#fb9f3a\"],[0.8888888888888888,\"#fdca26\"],[1.0,\"#f0f921\"]],\"diverging\":[[0,\"#8e0152\"],[0.1,\"#c51b7d\"],[0.2,\"#de77ae\"],[0.3,\"#f1b6da\"],[0.4,\"#fde0ef\"],[0.5,\"#f7f7f7\"],[0.6,\"#e6f5d0\"],[0.7,\"#b8e186\"],[0.8,\"#7fbc41\"],[0.9,\"#4d9221\"],[1,\"#276419\"]]},\"xaxis\":{\"gridcolor\":\"white\",\"linecolor\":\"white\",\"ticks\":\"\",\"title\":{\"standoff\":15},\"zerolinecolor\":\"white\",\"automargin\":true,\"zerolinewidth\":2},\"yaxis\":{\"gridcolor\":\"white\",\"linecolor\":\"white\",\"ticks\":\"\",\"title\":{\"standoff\":15},\"zerolinecolor\":\"white\",\"automargin\":true,\"zerolinewidth\":2},\"scene\":{\"xaxis\":{\"backgroundcolor\":\"#E5ECF6\",\"gridcolor\":\"white\",\"linecolor\":\"white\",\"showbackground\":true,\"ticks\":\"\",\"zerolinecolor\":\"white\",\"gridwidth\":2},\"yaxis\":{\"backgroundcolor\":\"#E5ECF6\",\"gridcolor\":\"white\",\"linecolor\":\"white\",\"showbackground\":true,\"ticks\":\"\",\"zerolinecolor\":\"white\",\"gridwidth\":2},\"zaxis\":{\"backgroundcolor\":\"#E5ECF6\",\"gridcolor\":\"white\",\"linecolor\":\"white\",\"showbackground\":true,\"ticks\":\"\",\"zerolinecolor\":\"white\",\"gridwidth\":2}},\"shapedefaults\":{\"line\":{\"color\":\"#2a3f5f\"}},\"annotationdefaults\":{\"arrowcolor\":\"#2a3f5f\",\"arrowhead\":0,\"arrowwidth\":1},\"geo\":{\"bgcolor\":\"white\",\"landcolor\":\"#E5ECF6\",\"subunitcolor\":\"white\",\"showland\":true,\"showlakes\":true,\"lakecolor\":\"white\"},\"title\":{\"x\":0.05},\"mapbox\":{\"style\":\"light\"}}},\"xaxis\":{\"anchor\":\"y\",\"domain\":[0.0,1.0],\"title\":{\"text\":\"support\"},\"type\":\"log\"},\"yaxis\":{\"anchor\":\"x\",\"domain\":[0.0,1.0],\"title\":{\"text\":\"confidence\"}},\"coloraxis\":{\"colorbar\":{\"title\":{\"text\":\"lift\"}},\"colorscale\":[[0.0,\"#0d0887\"],[0.1111111111111111,\"#46039f\"],[0.2222222222222222,\"#7201a8\"],[0.3333333333333333,\"#9c179e\"],[0.4444444444444444,\"#bd3786\"],[0.5555555555555556,\"#d8576b\"],[0.6666666666666666,\"#ed7953\"],[0.7777777777777778,\"#fb9f3a\"],[0.8888888888888888,\"#fdca26\"],[1.0,\"#f0f921\"]]},\"legend\":{\"tracegroupgap\":0},\"margin\":{\"t\":60},\"plot_bgcolor\":\"rgb(240,240,240)\",\"title\":{\"text\":\"2D Plot of Support, Confidence and Lift\"},\"height\":600.0},                        {\"responsive\": true}                    ).then(function(){\n",
       "                            \n",
       "var gd = document.getElementById('a57c3ee8-3b0a-4a55-ab99-4752c147649d');\n",
       "var x = new MutationObserver(function (mutations, observer) {{\n",
       "        var display = window.getComputedStyle(gd).display;\n",
       "        if (!display || display === 'none') {{\n",
       "            console.log([gd, 'removed!']);\n",
       "            Plotly.purge(gd);\n",
       "            observer.disconnect();\n",
       "        }}\n",
       "}});\n",
       "\n",
       "// Listen for the removal of the full notebook cells\n",
       "var notebookContainer = gd.closest('#notebook-container');\n",
       "if (notebookContainer) {{\n",
       "    x.observe(notebookContainer, {childList: true});\n",
       "}}\n",
       "\n",
       "// Listen for the clearing of the current output cell\n",
       "var outputEl = gd.closest('.output');\n",
       "if (outputEl) {{\n",
       "    x.observe(outputEl, {childList: true});\n",
       "}}\n",
       "\n",
       "                        })                };                });            </script>        </div>"
      ]
     },
     "metadata": {},
     "output_type": "display_data"
    }
   ],
   "source": [
    "#vykresleni pravidel\n",
    "plot_model(model1, plot='2d', scale=0.75)"
   ]
  },
  {
   "cell_type": "markdown",
   "metadata": {},
   "source": [
    "PyCaret knihovna nabízí funkci _get_rules()_, která kombinuje předchozí dvě funkce v jednu"
   ]
  },
  {
   "cell_type": "code",
   "execution_count": 33,
   "metadata": {},
   "outputs": [
    {
     "data": {
      "text/html": [
       "<style type=\"text/css\">\n",
       "</style>\n",
       "<table id=\"T_4ff04\">\n",
       "  <thead>\n",
       "    <tr>\n",
       "      <th id=\"T_4ff04_level0_col0\" class=\"col_heading level0 col0\" >Description</th>\n",
       "      <th id=\"T_4ff04_level0_col1\" class=\"col_heading level0 col1\" >Value</th>\n",
       "    </tr>\n",
       "  </thead>\n",
       "  <tbody>\n",
       "    <tr>\n",
       "      <td id=\"T_4ff04_row0_col0\" class=\"data row0 col0\" >session_id</td>\n",
       "      <td id=\"T_4ff04_row0_col1\" class=\"data row0 col1\" >844</td>\n",
       "    </tr>\n",
       "    <tr>\n",
       "      <td id=\"T_4ff04_row1_col0\" class=\"data row1 col0\" ># Transactions</td>\n",
       "      <td id=\"T_4ff04_row1_col1\" class=\"data row1 col1\" >9465</td>\n",
       "    </tr>\n",
       "    <tr>\n",
       "      <td id=\"T_4ff04_row2_col0\" class=\"data row2 col0\" ># Items</td>\n",
       "      <td id=\"T_4ff04_row2_col1\" class=\"data row2 col1\" >94</td>\n",
       "    </tr>\n",
       "    <tr>\n",
       "      <td id=\"T_4ff04_row3_col0\" class=\"data row3 col0\" >Ignore Items</td>\n",
       "      <td id=\"T_4ff04_row3_col1\" class=\"data row3 col1\" >None</td>\n",
       "    </tr>\n",
       "  </tbody>\n",
       "</table>\n"
      ],
      "text/plain": [
       "<pandas.io.formats.style.Styler at 0xffff5c52fbb0>"
      ]
     },
     "metadata": {},
     "output_type": "display_data"
    },
    {
     "data": {
      "text/html": [
       "<div>\n",
       "<style scoped>\n",
       "    .dataframe tbody tr th:only-of-type {\n",
       "        vertical-align: middle;\n",
       "    }\n",
       "\n",
       "    .dataframe tbody tr th {\n",
       "        vertical-align: top;\n",
       "    }\n",
       "\n",
       "    .dataframe thead th {\n",
       "        text-align: right;\n",
       "    }\n",
       "</style>\n",
       "<table border=\"1\" class=\"dataframe\">\n",
       "  <thead>\n",
       "    <tr style=\"text-align: right;\">\n",
       "      <th></th>\n",
       "      <th>antecedents</th>\n",
       "      <th>consequents</th>\n",
       "      <th>antecedent support</th>\n",
       "      <th>consequent support</th>\n",
       "      <th>support</th>\n",
       "      <th>confidence</th>\n",
       "      <th>lift</th>\n",
       "      <th>leverage</th>\n",
       "      <th>conviction</th>\n",
       "    </tr>\n",
       "  </thead>\n",
       "  <tbody>\n",
       "    <tr>\n",
       "      <th>0</th>\n",
       "      <td>(Toast)</td>\n",
       "      <td>(Coffee)</td>\n",
       "      <td>0.0336</td>\n",
       "      <td>0.4784</td>\n",
       "      <td>0.0237</td>\n",
       "      <td>0.7044</td>\n",
       "      <td>1.4724</td>\n",
       "      <td>0.0076</td>\n",
       "      <td>1.7646</td>\n",
       "    </tr>\n",
       "    <tr>\n",
       "      <th>1</th>\n",
       "      <td>(Spanish Brunch)</td>\n",
       "      <td>(Coffee)</td>\n",
       "      <td>0.0182</td>\n",
       "      <td>0.4784</td>\n",
       "      <td>0.0109</td>\n",
       "      <td>0.5988</td>\n",
       "      <td>1.2518</td>\n",
       "      <td>0.0022</td>\n",
       "      <td>1.3002</td>\n",
       "    </tr>\n",
       "    <tr>\n",
       "      <th>2</th>\n",
       "      <td>(Medialuna)</td>\n",
       "      <td>(Coffee)</td>\n",
       "      <td>0.0618</td>\n",
       "      <td>0.4784</td>\n",
       "      <td>0.0352</td>\n",
       "      <td>0.5692</td>\n",
       "      <td>1.1899</td>\n",
       "      <td>0.0056</td>\n",
       "      <td>1.2109</td>\n",
       "    </tr>\n",
       "    <tr>\n",
       "      <th>3</th>\n",
       "      <td>(Pastry)</td>\n",
       "      <td>(Coffee)</td>\n",
       "      <td>0.0861</td>\n",
       "      <td>0.4784</td>\n",
       "      <td>0.0475</td>\n",
       "      <td>0.5521</td>\n",
       "      <td>1.1542</td>\n",
       "      <td>0.0064</td>\n",
       "      <td>1.1647</td>\n",
       "    </tr>\n",
       "    <tr>\n",
       "      <th>4</th>\n",
       "      <td>(Alfajores)</td>\n",
       "      <td>(Coffee)</td>\n",
       "      <td>0.0363</td>\n",
       "      <td>0.4784</td>\n",
       "      <td>0.0197</td>\n",
       "      <td>0.5407</td>\n",
       "      <td>1.1302</td>\n",
       "      <td>0.0023</td>\n",
       "      <td>1.1356</td>\n",
       "    </tr>\n",
       "    <tr>\n",
       "      <th>5</th>\n",
       "      <td>(Juice)</td>\n",
       "      <td>(Coffee)</td>\n",
       "      <td>0.0386</td>\n",
       "      <td>0.4784</td>\n",
       "      <td>0.0206</td>\n",
       "      <td>0.5342</td>\n",
       "      <td>1.1167</td>\n",
       "      <td>0.0022</td>\n",
       "      <td>1.1199</td>\n",
       "    </tr>\n",
       "    <tr>\n",
       "      <th>6</th>\n",
       "      <td>(Sandwich)</td>\n",
       "      <td>(Coffee)</td>\n",
       "      <td>0.0718</td>\n",
       "      <td>0.4784</td>\n",
       "      <td>0.0382</td>\n",
       "      <td>0.5324</td>\n",
       "      <td>1.1128</td>\n",
       "      <td>0.0039</td>\n",
       "      <td>1.1154</td>\n",
       "    </tr>\n",
       "    <tr>\n",
       "      <th>7</th>\n",
       "      <td>(Cake)</td>\n",
       "      <td>(Coffee)</td>\n",
       "      <td>0.1039</td>\n",
       "      <td>0.4784</td>\n",
       "      <td>0.0547</td>\n",
       "      <td>0.5270</td>\n",
       "      <td>1.1015</td>\n",
       "      <td>0.0050</td>\n",
       "      <td>1.1027</td>\n",
       "    </tr>\n",
       "    <tr>\n",
       "      <th>8</th>\n",
       "      <td>(Scone)</td>\n",
       "      <td>(Coffee)</td>\n",
       "      <td>0.0345</td>\n",
       "      <td>0.4784</td>\n",
       "      <td>0.0181</td>\n",
       "      <td>0.5229</td>\n",
       "      <td>1.0931</td>\n",
       "      <td>0.0015</td>\n",
       "      <td>1.0934</td>\n",
       "    </tr>\n",
       "    <tr>\n",
       "      <th>9</th>\n",
       "      <td>(Cookies)</td>\n",
       "      <td>(Coffee)</td>\n",
       "      <td>0.0544</td>\n",
       "      <td>0.4784</td>\n",
       "      <td>0.0282</td>\n",
       "      <td>0.5184</td>\n",
       "      <td>1.0837</td>\n",
       "      <td>0.0022</td>\n",
       "      <td>1.0832</td>\n",
       "    </tr>\n",
       "    <tr>\n",
       "      <th>10</th>\n",
       "      <td>(Hot chocolate)</td>\n",
       "      <td>(Coffee)</td>\n",
       "      <td>0.0583</td>\n",
       "      <td>0.4784</td>\n",
       "      <td>0.0296</td>\n",
       "      <td>0.5072</td>\n",
       "      <td>1.0603</td>\n",
       "      <td>0.0017</td>\n",
       "      <td>1.0586</td>\n",
       "    </tr>\n",
       "    <tr>\n",
       "      <th>11</th>\n",
       "      <td>(Brownie)</td>\n",
       "      <td>(Coffee)</td>\n",
       "      <td>0.0400</td>\n",
       "      <td>0.4784</td>\n",
       "      <td>0.0197</td>\n",
       "      <td>0.4908</td>\n",
       "      <td>1.0259</td>\n",
       "      <td>0.0005</td>\n",
       "      <td>1.0243</td>\n",
       "    </tr>\n",
       "    <tr>\n",
       "      <th>12</th>\n",
       "      <td>(Muffin)</td>\n",
       "      <td>(Coffee)</td>\n",
       "      <td>0.0385</td>\n",
       "      <td>0.4784</td>\n",
       "      <td>0.0188</td>\n",
       "      <td>0.4890</td>\n",
       "      <td>1.0222</td>\n",
       "      <td>0.0004</td>\n",
       "      <td>1.0208</td>\n",
       "    </tr>\n",
       "    <tr>\n",
       "      <th>13</th>\n",
       "      <td>(Soup)</td>\n",
       "      <td>(Coffee)</td>\n",
       "      <td>0.0344</td>\n",
       "      <td>0.4784</td>\n",
       "      <td>0.0158</td>\n",
       "      <td>0.4601</td>\n",
       "      <td>0.9618</td>\n",
       "      <td>-0.0006</td>\n",
       "      <td>0.9662</td>\n",
       "    </tr>\n",
       "    <tr>\n",
       "      <th>14</th>\n",
       "      <td>(Cake, Bread)</td>\n",
       "      <td>(Coffee)</td>\n",
       "      <td>0.0233</td>\n",
       "      <td>0.4784</td>\n",
       "      <td>0.0100</td>\n",
       "      <td>0.4299</td>\n",
       "      <td>0.8986</td>\n",
       "      <td>-0.0011</td>\n",
       "      <td>0.9149</td>\n",
       "    </tr>\n",
       "    <tr>\n",
       "      <th>15</th>\n",
       "      <td>(Cake, Tea)</td>\n",
       "      <td>(Coffee)</td>\n",
       "      <td>0.0238</td>\n",
       "      <td>0.4784</td>\n",
       "      <td>0.0100</td>\n",
       "      <td>0.4222</td>\n",
       "      <td>0.8826</td>\n",
       "      <td>-0.0013</td>\n",
       "      <td>0.9028</td>\n",
       "    </tr>\n",
       "    <tr>\n",
       "      <th>16</th>\n",
       "      <td>(Pastry, Bread)</td>\n",
       "      <td>(Coffee)</td>\n",
       "      <td>0.0292</td>\n",
       "      <td>0.4784</td>\n",
       "      <td>0.0112</td>\n",
       "      <td>0.3841</td>\n",
       "      <td>0.8028</td>\n",
       "      <td>-0.0028</td>\n",
       "      <td>0.8468</td>\n",
       "    </tr>\n",
       "    <tr>\n",
       "      <th>17</th>\n",
       "      <td>(Tea)</td>\n",
       "      <td>(Coffee)</td>\n",
       "      <td>0.1426</td>\n",
       "      <td>0.4784</td>\n",
       "      <td>0.0499</td>\n",
       "      <td>0.3496</td>\n",
       "      <td>0.7308</td>\n",
       "      <td>-0.0184</td>\n",
       "      <td>0.8020</td>\n",
       "    </tr>\n",
       "    <tr>\n",
       "      <th>18</th>\n",
       "      <td>(Pastry)</td>\n",
       "      <td>(Bread)</td>\n",
       "      <td>0.0861</td>\n",
       "      <td>0.3272</td>\n",
       "      <td>0.0292</td>\n",
       "      <td>0.3387</td>\n",
       "      <td>1.0350</td>\n",
       "      <td>0.0010</td>\n",
       "      <td>1.0173</td>\n",
       "    </tr>\n",
       "  </tbody>\n",
       "</table>\n",
       "</div>"
      ],
      "text/plain": [
       "         antecedents consequents  antecedent support  consequent support  \\\n",
       "0            (Toast)    (Coffee)              0.0336              0.4784   \n",
       "1   (Spanish Brunch)    (Coffee)              0.0182              0.4784   \n",
       "2        (Medialuna)    (Coffee)              0.0618              0.4784   \n",
       "3           (Pastry)    (Coffee)              0.0861              0.4784   \n",
       "4        (Alfajores)    (Coffee)              0.0363              0.4784   \n",
       "5            (Juice)    (Coffee)              0.0386              0.4784   \n",
       "6         (Sandwich)    (Coffee)              0.0718              0.4784   \n",
       "7             (Cake)    (Coffee)              0.1039              0.4784   \n",
       "8            (Scone)    (Coffee)              0.0345              0.4784   \n",
       "9          (Cookies)    (Coffee)              0.0544              0.4784   \n",
       "10   (Hot chocolate)    (Coffee)              0.0583              0.4784   \n",
       "11         (Brownie)    (Coffee)              0.0400              0.4784   \n",
       "12          (Muffin)    (Coffee)              0.0385              0.4784   \n",
       "13            (Soup)    (Coffee)              0.0344              0.4784   \n",
       "14     (Cake, Bread)    (Coffee)              0.0233              0.4784   \n",
       "15       (Cake, Tea)    (Coffee)              0.0238              0.4784   \n",
       "16   (Pastry, Bread)    (Coffee)              0.0292              0.4784   \n",
       "17             (Tea)    (Coffee)              0.1426              0.4784   \n",
       "18          (Pastry)     (Bread)              0.0861              0.3272   \n",
       "\n",
       "    support  confidence    lift  leverage  conviction  \n",
       "0    0.0237      0.7044  1.4724    0.0076      1.7646  \n",
       "1    0.0109      0.5988  1.2518    0.0022      1.3002  \n",
       "2    0.0352      0.5692  1.1899    0.0056      1.2109  \n",
       "3    0.0475      0.5521  1.1542    0.0064      1.1647  \n",
       "4    0.0197      0.5407  1.1302    0.0023      1.1356  \n",
       "5    0.0206      0.5342  1.1167    0.0022      1.1199  \n",
       "6    0.0382      0.5324  1.1128    0.0039      1.1154  \n",
       "7    0.0547      0.5270  1.1015    0.0050      1.1027  \n",
       "8    0.0181      0.5229  1.0931    0.0015      1.0934  \n",
       "9    0.0282      0.5184  1.0837    0.0022      1.0832  \n",
       "10   0.0296      0.5072  1.0603    0.0017      1.0586  \n",
       "11   0.0197      0.4908  1.0259    0.0005      1.0243  \n",
       "12   0.0188      0.4890  1.0222    0.0004      1.0208  \n",
       "13   0.0158      0.4601  0.9618   -0.0006      0.9662  \n",
       "14   0.0100      0.4299  0.8986   -0.0011      0.9149  \n",
       "15   0.0100      0.4222  0.8826   -0.0013      0.9028  \n",
       "16   0.0112      0.3841  0.8028   -0.0028      0.8468  \n",
       "17   0.0499      0.3496  0.7308   -0.0184      0.8020  \n",
       "18   0.0292      0.3387  1.0350    0.0010      1.0173  "
      ]
     },
     "execution_count": 33,
     "metadata": {},
     "output_type": "execute_result"
    }
   ],
   "source": [
    "rules = get_rules(df, transaction_id='Transaction', item_id='Item', min_support=0.01, metric=\"confidence\", threshold=0.3)\n",
    "rules"
   ]
  },
  {
   "cell_type": "code",
   "execution_count": 34,
   "metadata": {},
   "outputs": [
    {
     "data": {
      "text/html": [
       "        <script type=\"text/javascript\">\n",
       "        window.PlotlyConfig = {MathJaxConfig: 'local'};\n",
       "        if (window.MathJax && window.MathJax.Hub && window.MathJax.Hub.Config) {window.MathJax.Hub.Config({SVG: {font: \"STIX-Web\"}});}\n",
       "        if (typeof require !== 'undefined') {\n",
       "        require.undef(\"plotly\");\n",
       "        requirejs.config({\n",
       "            paths: {\n",
       "                'plotly': ['https://cdn.plot.ly/plotly-2.12.1.min']\n",
       "            }\n",
       "        });\n",
       "        require(['plotly'], function(Plotly) {\n",
       "            window._Plotly = Plotly;\n",
       "        });\n",
       "        }\n",
       "        </script>\n",
       "        "
      ]
     },
     "metadata": {},
     "output_type": "display_data"
    },
    {
     "data": {
      "application/vnd.plotly.v1+json": {
       "config": {
        "plotlyServerURL": "https://plot.ly"
       },
       "data": [
        {
         "customdata": [
          [
           [
            "Toast"
           ],
           [
            "Coffee"
           ]
          ],
          [
           [
            "Spanish Brunch"
           ],
           [
            "Coffee"
           ]
          ],
          [
           [
            "Medialuna"
           ],
           [
            "Coffee"
           ]
          ],
          [
           [
            "Pastry"
           ],
           [
            "Coffee"
           ]
          ],
          [
           [
            "Alfajores"
           ],
           [
            "Coffee"
           ]
          ],
          [
           [
            "Juice"
           ],
           [
            "Coffee"
           ]
          ],
          [
           [
            "Sandwich"
           ],
           [
            "Coffee"
           ]
          ],
          [
           [
            "Cake"
           ],
           [
            "Coffee"
           ]
          ],
          [
           [
            "Scone"
           ],
           [
            "Coffee"
           ]
          ],
          [
           [
            "Cookies"
           ],
           [
            "Coffee"
           ]
          ],
          [
           [
            "Hot chocolate"
           ],
           [
            "Coffee"
           ]
          ],
          [
           [
            "Brownie"
           ],
           [
            "Coffee"
           ]
          ],
          [
           [
            "Muffin"
           ],
           [
            "Coffee"
           ]
          ],
          [
           [
            "Soup"
           ],
           [
            "Coffee"
           ]
          ],
          [
           [
            "Cake",
            "Bread"
           ],
           [
            "Coffee"
           ]
          ],
          [
           [
            "Cake",
            "Tea"
           ],
           [
            "Coffee"
           ]
          ],
          [
           [
            "Pastry",
            "Bread"
           ],
           [
            "Coffee"
           ]
          ],
          [
           [
            "Tea"
           ],
           [
            "Coffee"
           ]
          ],
          [
           [
            "Pastry"
           ],
           [
            "Bread"
           ]
          ]
         ],
         "hovertemplate": "support=%{x}<br>confidence=%{y}<br>lift=%{z}<br>antecedents=%{customdata[0]}<br>consequents=%{customdata[1]}<br>antecedent support=%{marker.color}<extra></extra>",
         "legendgroup": "",
         "marker": {
          "color": [
           0.0336,
           0.0182,
           0.0618,
           0.0861,
           0.0363,
           0.0386,
           0.0718,
           0.1039,
           0.0345,
           0.0544,
           0.0583,
           0.04,
           0.0385,
           0.0344,
           0.0233,
           0.0238,
           0.0292,
           0.1426,
           0.0861
          ],
          "coloraxis": "coloraxis",
          "opacity": 0.7,
          "symbol": "circle"
         },
         "mode": "markers",
         "name": "",
         "scene": "scene",
         "showlegend": false,
         "type": "scatter3d",
         "x": [
          0.0237,
          0.0109,
          0.0352,
          0.0475,
          0.0197,
          0.0206,
          0.0382,
          0.0547,
          0.0181,
          0.0282,
          0.0296,
          0.0197,
          0.0188,
          0.0158,
          0.01,
          0.01,
          0.0112,
          0.0499,
          0.0292
         ],
         "y": [
          0.7044,
          0.5988,
          0.5692,
          0.5521,
          0.5407,
          0.5342,
          0.5324,
          0.527,
          0.5229,
          0.5184,
          0.5072,
          0.4908,
          0.489,
          0.4601,
          0.4299,
          0.4222,
          0.3841,
          0.3496,
          0.3387
         ],
         "z": [
          1.4724,
          1.2518,
          1.1899,
          1.1542,
          1.1302,
          1.1167,
          1.1128,
          1.1015,
          1.0931,
          1.0837,
          1.0603,
          1.0259,
          1.0222,
          0.9618,
          0.8986,
          0.8826,
          0.8028,
          0.7308,
          1.035
         ]
        }
       ],
       "layout": {
        "coloraxis": {
         "colorbar": {
          "title": {
           "text": "antecedent support"
          }
         },
         "colorscale": [
          [
           0,
           "#0d0887"
          ],
          [
           0.1111111111111111,
           "#46039f"
          ],
          [
           0.2222222222222222,
           "#7201a8"
          ],
          [
           0.3333333333333333,
           "#9c179e"
          ],
          [
           0.4444444444444444,
           "#bd3786"
          ],
          [
           0.5555555555555556,
           "#d8576b"
          ],
          [
           0.6666666666666666,
           "#ed7953"
          ],
          [
           0.7777777777777778,
           "#fb9f3a"
          ],
          [
           0.8888888888888888,
           "#fdca26"
          ],
          [
           1,
           "#f0f921"
          ]
         ]
        },
        "height": 600,
        "legend": {
         "tracegroupgap": 0
        },
        "scene": {
         "domain": {
          "x": [
           0,
           1
          ],
          "y": [
           0,
           1
          ]
         },
         "xaxis": {
          "title": {
           "text": "support"
          }
         },
         "yaxis": {
          "title": {
           "text": "confidence"
          }
         },
         "zaxis": {
          "title": {
           "text": "lift"
          }
         }
        },
        "template": {
         "data": {
          "bar": [
           {
            "error_x": {
             "color": "#2a3f5f"
            },
            "error_y": {
             "color": "#2a3f5f"
            },
            "marker": {
             "line": {
              "color": "#E5ECF6",
              "width": 0.5
             },
             "pattern": {
              "fillmode": "overlay",
              "size": 10,
              "solidity": 0.2
             }
            },
            "type": "bar"
           }
          ],
          "barpolar": [
           {
            "marker": {
             "line": {
              "color": "#E5ECF6",
              "width": 0.5
             },
             "pattern": {
              "fillmode": "overlay",
              "size": 10,
              "solidity": 0.2
             }
            },
            "type": "barpolar"
           }
          ],
          "carpet": [
           {
            "aaxis": {
             "endlinecolor": "#2a3f5f",
             "gridcolor": "white",
             "linecolor": "white",
             "minorgridcolor": "white",
             "startlinecolor": "#2a3f5f"
            },
            "baxis": {
             "endlinecolor": "#2a3f5f",
             "gridcolor": "white",
             "linecolor": "white",
             "minorgridcolor": "white",
             "startlinecolor": "#2a3f5f"
            },
            "type": "carpet"
           }
          ],
          "choropleth": [
           {
            "colorbar": {
             "outlinewidth": 0,
             "ticks": ""
            },
            "type": "choropleth"
           }
          ],
          "contour": [
           {
            "colorbar": {
             "outlinewidth": 0,
             "ticks": ""
            },
            "colorscale": [
             [
              0,
              "#0d0887"
             ],
             [
              0.1111111111111111,
              "#46039f"
             ],
             [
              0.2222222222222222,
              "#7201a8"
             ],
             [
              0.3333333333333333,
              "#9c179e"
             ],
             [
              0.4444444444444444,
              "#bd3786"
             ],
             [
              0.5555555555555556,
              "#d8576b"
             ],
             [
              0.6666666666666666,
              "#ed7953"
             ],
             [
              0.7777777777777778,
              "#fb9f3a"
             ],
             [
              0.8888888888888888,
              "#fdca26"
             ],
             [
              1,
              "#f0f921"
             ]
            ],
            "type": "contour"
           }
          ],
          "contourcarpet": [
           {
            "colorbar": {
             "outlinewidth": 0,
             "ticks": ""
            },
            "type": "contourcarpet"
           }
          ],
          "heatmap": [
           {
            "colorbar": {
             "outlinewidth": 0,
             "ticks": ""
            },
            "colorscale": [
             [
              0,
              "#0d0887"
             ],
             [
              0.1111111111111111,
              "#46039f"
             ],
             [
              0.2222222222222222,
              "#7201a8"
             ],
             [
              0.3333333333333333,
              "#9c179e"
             ],
             [
              0.4444444444444444,
              "#bd3786"
             ],
             [
              0.5555555555555556,
              "#d8576b"
             ],
             [
              0.6666666666666666,
              "#ed7953"
             ],
             [
              0.7777777777777778,
              "#fb9f3a"
             ],
             [
              0.8888888888888888,
              "#fdca26"
             ],
             [
              1,
              "#f0f921"
             ]
            ],
            "type": "heatmap"
           }
          ],
          "heatmapgl": [
           {
            "colorbar": {
             "outlinewidth": 0,
             "ticks": ""
            },
            "colorscale": [
             [
              0,
              "#0d0887"
             ],
             [
              0.1111111111111111,
              "#46039f"
             ],
             [
              0.2222222222222222,
              "#7201a8"
             ],
             [
              0.3333333333333333,
              "#9c179e"
             ],
             [
              0.4444444444444444,
              "#bd3786"
             ],
             [
              0.5555555555555556,
              "#d8576b"
             ],
             [
              0.6666666666666666,
              "#ed7953"
             ],
             [
              0.7777777777777778,
              "#fb9f3a"
             ],
             [
              0.8888888888888888,
              "#fdca26"
             ],
             [
              1,
              "#f0f921"
             ]
            ],
            "type": "heatmapgl"
           }
          ],
          "histogram": [
           {
            "marker": {
             "pattern": {
              "fillmode": "overlay",
              "size": 10,
              "solidity": 0.2
             }
            },
            "type": "histogram"
           }
          ],
          "histogram2d": [
           {
            "colorbar": {
             "outlinewidth": 0,
             "ticks": ""
            },
            "colorscale": [
             [
              0,
              "#0d0887"
             ],
             [
              0.1111111111111111,
              "#46039f"
             ],
             [
              0.2222222222222222,
              "#7201a8"
             ],
             [
              0.3333333333333333,
              "#9c179e"
             ],
             [
              0.4444444444444444,
              "#bd3786"
             ],
             [
              0.5555555555555556,
              "#d8576b"
             ],
             [
              0.6666666666666666,
              "#ed7953"
             ],
             [
              0.7777777777777778,
              "#fb9f3a"
             ],
             [
              0.8888888888888888,
              "#fdca26"
             ],
             [
              1,
              "#f0f921"
             ]
            ],
            "type": "histogram2d"
           }
          ],
          "histogram2dcontour": [
           {
            "colorbar": {
             "outlinewidth": 0,
             "ticks": ""
            },
            "colorscale": [
             [
              0,
              "#0d0887"
             ],
             [
              0.1111111111111111,
              "#46039f"
             ],
             [
              0.2222222222222222,
              "#7201a8"
             ],
             [
              0.3333333333333333,
              "#9c179e"
             ],
             [
              0.4444444444444444,
              "#bd3786"
             ],
             [
              0.5555555555555556,
              "#d8576b"
             ],
             [
              0.6666666666666666,
              "#ed7953"
             ],
             [
              0.7777777777777778,
              "#fb9f3a"
             ],
             [
              0.8888888888888888,
              "#fdca26"
             ],
             [
              1,
              "#f0f921"
             ]
            ],
            "type": "histogram2dcontour"
           }
          ],
          "mesh3d": [
           {
            "colorbar": {
             "outlinewidth": 0,
             "ticks": ""
            },
            "type": "mesh3d"
           }
          ],
          "parcoords": [
           {
            "line": {
             "colorbar": {
              "outlinewidth": 0,
              "ticks": ""
             }
            },
            "type": "parcoords"
           }
          ],
          "pie": [
           {
            "automargin": true,
            "type": "pie"
           }
          ],
          "scatter": [
           {
            "fillpattern": {
             "fillmode": "overlay",
             "size": 10,
             "solidity": 0.2
            },
            "type": "scatter"
           }
          ],
          "scatter3d": [
           {
            "line": {
             "colorbar": {
              "outlinewidth": 0,
              "ticks": ""
             }
            },
            "marker": {
             "colorbar": {
              "outlinewidth": 0,
              "ticks": ""
             }
            },
            "type": "scatter3d"
           }
          ],
          "scattercarpet": [
           {
            "marker": {
             "colorbar": {
              "outlinewidth": 0,
              "ticks": ""
             }
            },
            "type": "scattercarpet"
           }
          ],
          "scattergeo": [
           {
            "marker": {
             "colorbar": {
              "outlinewidth": 0,
              "ticks": ""
             }
            },
            "type": "scattergeo"
           }
          ],
          "scattergl": [
           {
            "marker": {
             "colorbar": {
              "outlinewidth": 0,
              "ticks": ""
             }
            },
            "type": "scattergl"
           }
          ],
          "scattermapbox": [
           {
            "marker": {
             "colorbar": {
              "outlinewidth": 0,
              "ticks": ""
             }
            },
            "type": "scattermapbox"
           }
          ],
          "scatterpolar": [
           {
            "marker": {
             "colorbar": {
              "outlinewidth": 0,
              "ticks": ""
             }
            },
            "type": "scatterpolar"
           }
          ],
          "scatterpolargl": [
           {
            "marker": {
             "colorbar": {
              "outlinewidth": 0,
              "ticks": ""
             }
            },
            "type": "scatterpolargl"
           }
          ],
          "scatterternary": [
           {
            "marker": {
             "colorbar": {
              "outlinewidth": 0,
              "ticks": ""
             }
            },
            "type": "scatterternary"
           }
          ],
          "surface": [
           {
            "colorbar": {
             "outlinewidth": 0,
             "ticks": ""
            },
            "colorscale": [
             [
              0,
              "#0d0887"
             ],
             [
              0.1111111111111111,
              "#46039f"
             ],
             [
              0.2222222222222222,
              "#7201a8"
             ],
             [
              0.3333333333333333,
              "#9c179e"
             ],
             [
              0.4444444444444444,
              "#bd3786"
             ],
             [
              0.5555555555555556,
              "#d8576b"
             ],
             [
              0.6666666666666666,
              "#ed7953"
             ],
             [
              0.7777777777777778,
              "#fb9f3a"
             ],
             [
              0.8888888888888888,
              "#fdca26"
             ],
             [
              1,
              "#f0f921"
             ]
            ],
            "type": "surface"
           }
          ],
          "table": [
           {
            "cells": {
             "fill": {
              "color": "#EBF0F8"
             },
             "line": {
              "color": "white"
             }
            },
            "header": {
             "fill": {
              "color": "#C8D4E3"
             },
             "line": {
              "color": "white"
             }
            },
            "type": "table"
           }
          ]
         },
         "layout": {
          "annotationdefaults": {
           "arrowcolor": "#2a3f5f",
           "arrowhead": 0,
           "arrowwidth": 1
          },
          "autotypenumbers": "strict",
          "coloraxis": {
           "colorbar": {
            "outlinewidth": 0,
            "ticks": ""
           }
          },
          "colorscale": {
           "diverging": [
            [
             0,
             "#8e0152"
            ],
            [
             0.1,
             "#c51b7d"
            ],
            [
             0.2,
             "#de77ae"
            ],
            [
             0.3,
             "#f1b6da"
            ],
            [
             0.4,
             "#fde0ef"
            ],
            [
             0.5,
             "#f7f7f7"
            ],
            [
             0.6,
             "#e6f5d0"
            ],
            [
             0.7,
             "#b8e186"
            ],
            [
             0.8,
             "#7fbc41"
            ],
            [
             0.9,
             "#4d9221"
            ],
            [
             1,
             "#276419"
            ]
           ],
           "sequential": [
            [
             0,
             "#0d0887"
            ],
            [
             0.1111111111111111,
             "#46039f"
            ],
            [
             0.2222222222222222,
             "#7201a8"
            ],
            [
             0.3333333333333333,
             "#9c179e"
            ],
            [
             0.4444444444444444,
             "#bd3786"
            ],
            [
             0.5555555555555556,
             "#d8576b"
            ],
            [
             0.6666666666666666,
             "#ed7953"
            ],
            [
             0.7777777777777778,
             "#fb9f3a"
            ],
            [
             0.8888888888888888,
             "#fdca26"
            ],
            [
             1,
             "#f0f921"
            ]
           ],
           "sequentialminus": [
            [
             0,
             "#0d0887"
            ],
            [
             0.1111111111111111,
             "#46039f"
            ],
            [
             0.2222222222222222,
             "#7201a8"
            ],
            [
             0.3333333333333333,
             "#9c179e"
            ],
            [
             0.4444444444444444,
             "#bd3786"
            ],
            [
             0.5555555555555556,
             "#d8576b"
            ],
            [
             0.6666666666666666,
             "#ed7953"
            ],
            [
             0.7777777777777778,
             "#fb9f3a"
            ],
            [
             0.8888888888888888,
             "#fdca26"
            ],
            [
             1,
             "#f0f921"
            ]
           ]
          },
          "colorway": [
           "#636efa",
           "#EF553B",
           "#00cc96",
           "#ab63fa",
           "#FFA15A",
           "#19d3f3",
           "#FF6692",
           "#B6E880",
           "#FF97FF",
           "#FECB52"
          ],
          "font": {
           "color": "#2a3f5f"
          },
          "geo": {
           "bgcolor": "white",
           "lakecolor": "white",
           "landcolor": "#E5ECF6",
           "showlakes": true,
           "showland": true,
           "subunitcolor": "white"
          },
          "hoverlabel": {
           "align": "left"
          },
          "hovermode": "closest",
          "mapbox": {
           "style": "light"
          },
          "paper_bgcolor": "white",
          "plot_bgcolor": "#E5ECF6",
          "polar": {
           "angularaxis": {
            "gridcolor": "white",
            "linecolor": "white",
            "ticks": ""
           },
           "bgcolor": "#E5ECF6",
           "radialaxis": {
            "gridcolor": "white",
            "linecolor": "white",
            "ticks": ""
           }
          },
          "scene": {
           "xaxis": {
            "backgroundcolor": "#E5ECF6",
            "gridcolor": "white",
            "gridwidth": 2,
            "linecolor": "white",
            "showbackground": true,
            "ticks": "",
            "zerolinecolor": "white"
           },
           "yaxis": {
            "backgroundcolor": "#E5ECF6",
            "gridcolor": "white",
            "gridwidth": 2,
            "linecolor": "white",
            "showbackground": true,
            "ticks": "",
            "zerolinecolor": "white"
           },
           "zaxis": {
            "backgroundcolor": "#E5ECF6",
            "gridcolor": "white",
            "gridwidth": 2,
            "linecolor": "white",
            "showbackground": true,
            "ticks": "",
            "zerolinecolor": "white"
           }
          },
          "shapedefaults": {
           "line": {
            "color": "#2a3f5f"
           }
          },
          "ternary": {
           "aaxis": {
            "gridcolor": "white",
            "linecolor": "white",
            "ticks": ""
           },
           "baxis": {
            "gridcolor": "white",
            "linecolor": "white",
            "ticks": ""
           },
           "bgcolor": "#E5ECF6",
           "caxis": {
            "gridcolor": "white",
            "linecolor": "white",
            "ticks": ""
           }
          },
          "title": {
           "x": 0.05
          },
          "xaxis": {
           "automargin": true,
           "gridcolor": "white",
           "linecolor": "white",
           "ticks": "",
           "title": {
            "standoff": 15
           },
           "zerolinecolor": "white",
           "zerolinewidth": 2
          },
          "yaxis": {
           "automargin": true,
           "gridcolor": "white",
           "linecolor": "white",
           "ticks": "",
           "title": {
            "standoff": 15
           },
           "zerolinecolor": "white",
           "zerolinewidth": 2
          }
         }
        },
        "title": {
         "text": "3d Plot for Rule Mining"
        },
        "width": 675
       }
      },
      "text/html": [
       "<div>                            <div id=\"d577566c-c9d2-4a9b-860d-964773164332\" class=\"plotly-graph-div\" style=\"height:600.0px; width:675.0px;\"></div>            <script type=\"text/javascript\">                require([\"plotly\"], function(Plotly) {                    window.PLOTLYENV=window.PLOTLYENV || {};                                    if (document.getElementById(\"d577566c-c9d2-4a9b-860d-964773164332\")) {                    Plotly.newPlot(                        \"d577566c-c9d2-4a9b-860d-964773164332\",                        [{\"customdata\":[[[\"Toast\"],[\"Coffee\"]],[[\"Spanish Brunch\"],[\"Coffee\"]],[[\"Medialuna\"],[\"Coffee\"]],[[\"Pastry\"],[\"Coffee\"]],[[\"Alfajores\"],[\"Coffee\"]],[[\"Juice\"],[\"Coffee\"]],[[\"Sandwich\"],[\"Coffee\"]],[[\"Cake\"],[\"Coffee\"]],[[\"Scone\"],[\"Coffee\"]],[[\"Cookies\"],[\"Coffee\"]],[[\"Hot chocolate\"],[\"Coffee\"]],[[\"Brownie\"],[\"Coffee\"]],[[\"Muffin\"],[\"Coffee\"]],[[\"Soup\"],[\"Coffee\"]],[[\"Cake\",\"Bread\"],[\"Coffee\"]],[[\"Cake\",\"Tea\"],[\"Coffee\"]],[[\"Pastry\",\"Bread\"],[\"Coffee\"]],[[\"Tea\"],[\"Coffee\"]],[[\"Pastry\"],[\"Bread\"]]],\"hovertemplate\":\"support=%{x}<br>confidence=%{y}<br>lift=%{z}<br>antecedents=%{customdata[0]}<br>consequents=%{customdata[1]}<br>antecedent support=%{marker.color}<extra></extra>\",\"legendgroup\":\"\",\"marker\":{\"color\":[0.0336,0.0182,0.0618,0.0861,0.0363,0.0386,0.0718,0.1039,0.0345,0.0544,0.0583,0.04,0.0385,0.0344,0.0233,0.0238,0.0292,0.1426,0.0861],\"coloraxis\":\"coloraxis\",\"opacity\":0.7,\"symbol\":\"circle\"},\"mode\":\"markers\",\"name\":\"\",\"scene\":\"scene\",\"showlegend\":false,\"x\":[0.0237,0.0109,0.0352,0.0475,0.0197,0.0206,0.0382,0.0547,0.0181,0.0282,0.0296,0.0197,0.0188,0.0158,0.01,0.01,0.0112,0.0499,0.0292],\"y\":[0.7044,0.5988,0.5692,0.5521,0.5407,0.5342,0.5324,0.527,0.5229,0.5184,0.5072,0.4908,0.489,0.4601,0.4299,0.4222,0.3841,0.3496,0.3387],\"z\":[1.4724,1.2518,1.1899,1.1542,1.1302,1.1167,1.1128,1.1015,1.0931,1.0837,1.0603,1.0259,1.0222,0.9618,0.8986,0.8826,0.8028,0.7308,1.035],\"type\":\"scatter3d\"}],                        {\"template\":{\"data\":{\"histogram2dcontour\":[{\"type\":\"histogram2dcontour\",\"colorbar\":{\"outlinewidth\":0,\"ticks\":\"\"},\"colorscale\":[[0.0,\"#0d0887\"],[0.1111111111111111,\"#46039f\"],[0.2222222222222222,\"#7201a8\"],[0.3333333333333333,\"#9c179e\"],[0.4444444444444444,\"#bd3786\"],[0.5555555555555556,\"#d8576b\"],[0.6666666666666666,\"#ed7953\"],[0.7777777777777778,\"#fb9f3a\"],[0.8888888888888888,\"#fdca26\"],[1.0,\"#f0f921\"]]}],\"choropleth\":[{\"type\":\"choropleth\",\"colorbar\":{\"outlinewidth\":0,\"ticks\":\"\"}}],\"histogram2d\":[{\"type\":\"histogram2d\",\"colorbar\":{\"outlinewidth\":0,\"ticks\":\"\"},\"colorscale\":[[0.0,\"#0d0887\"],[0.1111111111111111,\"#46039f\"],[0.2222222222222222,\"#7201a8\"],[0.3333333333333333,\"#9c179e\"],[0.4444444444444444,\"#bd3786\"],[0.5555555555555556,\"#d8576b\"],[0.6666666666666666,\"#ed7953\"],[0.7777777777777778,\"#fb9f3a\"],[0.8888888888888888,\"#fdca26\"],[1.0,\"#f0f921\"]]}],\"heatmap\":[{\"type\":\"heatmap\",\"colorbar\":{\"outlinewidth\":0,\"ticks\":\"\"},\"colorscale\":[[0.0,\"#0d0887\"],[0.1111111111111111,\"#46039f\"],[0.2222222222222222,\"#7201a8\"],[0.3333333333333333,\"#9c179e\"],[0.4444444444444444,\"#bd3786\"],[0.5555555555555556,\"#d8576b\"],[0.6666666666666666,\"#ed7953\"],[0.7777777777777778,\"#fb9f3a\"],[0.8888888888888888,\"#fdca26\"],[1.0,\"#f0f921\"]]}],\"heatmapgl\":[{\"type\":\"heatmapgl\",\"colorbar\":{\"outlinewidth\":0,\"ticks\":\"\"},\"colorscale\":[[0.0,\"#0d0887\"],[0.1111111111111111,\"#46039f\"],[0.2222222222222222,\"#7201a8\"],[0.3333333333333333,\"#9c179e\"],[0.4444444444444444,\"#bd3786\"],[0.5555555555555556,\"#d8576b\"],[0.6666666666666666,\"#ed7953\"],[0.7777777777777778,\"#fb9f3a\"],[0.8888888888888888,\"#fdca26\"],[1.0,\"#f0f921\"]]}],\"contourcarpet\":[{\"type\":\"contourcarpet\",\"colorbar\":{\"outlinewidth\":0,\"ticks\":\"\"}}],\"contour\":[{\"type\":\"contour\",\"colorbar\":{\"outlinewidth\":0,\"ticks\":\"\"},\"colorscale\":[[0.0,\"#0d0887\"],[0.1111111111111111,\"#46039f\"],[0.2222222222222222,\"#7201a8\"],[0.3333333333333333,\"#9c179e\"],[0.4444444444444444,\"#bd3786\"],[0.5555555555555556,\"#d8576b\"],[0.6666666666666666,\"#ed7953\"],[0.7777777777777778,\"#fb9f3a\"],[0.8888888888888888,\"#fdca26\"],[1.0,\"#f0f921\"]]}],\"surface\":[{\"type\":\"surface\",\"colorbar\":{\"outlinewidth\":0,\"ticks\":\"\"},\"colorscale\":[[0.0,\"#0d0887\"],[0.1111111111111111,\"#46039f\"],[0.2222222222222222,\"#7201a8\"],[0.3333333333333333,\"#9c179e\"],[0.4444444444444444,\"#bd3786\"],[0.5555555555555556,\"#d8576b\"],[0.6666666666666666,\"#ed7953\"],[0.7777777777777778,\"#fb9f3a\"],[0.8888888888888888,\"#fdca26\"],[1.0,\"#f0f921\"]]}],\"mesh3d\":[{\"type\":\"mesh3d\",\"colorbar\":{\"outlinewidth\":0,\"ticks\":\"\"}}],\"scatter\":[{\"fillpattern\":{\"fillmode\":\"overlay\",\"size\":10,\"solidity\":0.2},\"type\":\"scatter\"}],\"parcoords\":[{\"type\":\"parcoords\",\"line\":{\"colorbar\":{\"outlinewidth\":0,\"ticks\":\"\"}}}],\"scatterpolargl\":[{\"type\":\"scatterpolargl\",\"marker\":{\"colorbar\":{\"outlinewidth\":0,\"ticks\":\"\"}}}],\"bar\":[{\"error_x\":{\"color\":\"#2a3f5f\"},\"error_y\":{\"color\":\"#2a3f5f\"},\"marker\":{\"line\":{\"color\":\"#E5ECF6\",\"width\":0.5},\"pattern\":{\"fillmode\":\"overlay\",\"size\":10,\"solidity\":0.2}},\"type\":\"bar\"}],\"scattergeo\":[{\"type\":\"scattergeo\",\"marker\":{\"colorbar\":{\"outlinewidth\":0,\"ticks\":\"\"}}}],\"scatterpolar\":[{\"type\":\"scatterpolar\",\"marker\":{\"colorbar\":{\"outlinewidth\":0,\"ticks\":\"\"}}}],\"histogram\":[{\"marker\":{\"pattern\":{\"fillmode\":\"overlay\",\"size\":10,\"solidity\":0.2}},\"type\":\"histogram\"}],\"scattergl\":[{\"type\":\"scattergl\",\"marker\":{\"colorbar\":{\"outlinewidth\":0,\"ticks\":\"\"}}}],\"scatter3d\":[{\"type\":\"scatter3d\",\"line\":{\"colorbar\":{\"outlinewidth\":0,\"ticks\":\"\"}},\"marker\":{\"colorbar\":{\"outlinewidth\":0,\"ticks\":\"\"}}}],\"scattermapbox\":[{\"type\":\"scattermapbox\",\"marker\":{\"colorbar\":{\"outlinewidth\":0,\"ticks\":\"\"}}}],\"scatterternary\":[{\"type\":\"scatterternary\",\"marker\":{\"colorbar\":{\"outlinewidth\":0,\"ticks\":\"\"}}}],\"scattercarpet\":[{\"type\":\"scattercarpet\",\"marker\":{\"colorbar\":{\"outlinewidth\":0,\"ticks\":\"\"}}}],\"carpet\":[{\"aaxis\":{\"endlinecolor\":\"#2a3f5f\",\"gridcolor\":\"white\",\"linecolor\":\"white\",\"minorgridcolor\":\"white\",\"startlinecolor\":\"#2a3f5f\"},\"baxis\":{\"endlinecolor\":\"#2a3f5f\",\"gridcolor\":\"white\",\"linecolor\":\"white\",\"minorgridcolor\":\"white\",\"startlinecolor\":\"#2a3f5f\"},\"type\":\"carpet\"}],\"table\":[{\"cells\":{\"fill\":{\"color\":\"#EBF0F8\"},\"line\":{\"color\":\"white\"}},\"header\":{\"fill\":{\"color\":\"#C8D4E3\"},\"line\":{\"color\":\"white\"}},\"type\":\"table\"}],\"barpolar\":[{\"marker\":{\"line\":{\"color\":\"#E5ECF6\",\"width\":0.5},\"pattern\":{\"fillmode\":\"overlay\",\"size\":10,\"solidity\":0.2}},\"type\":\"barpolar\"}],\"pie\":[{\"automargin\":true,\"type\":\"pie\"}]},\"layout\":{\"autotypenumbers\":\"strict\",\"colorway\":[\"#636efa\",\"#EF553B\",\"#00cc96\",\"#ab63fa\",\"#FFA15A\",\"#19d3f3\",\"#FF6692\",\"#B6E880\",\"#FF97FF\",\"#FECB52\"],\"font\":{\"color\":\"#2a3f5f\"},\"hovermode\":\"closest\",\"hoverlabel\":{\"align\":\"left\"},\"paper_bgcolor\":\"white\",\"plot_bgcolor\":\"#E5ECF6\",\"polar\":{\"bgcolor\":\"#E5ECF6\",\"angularaxis\":{\"gridcolor\":\"white\",\"linecolor\":\"white\",\"ticks\":\"\"},\"radialaxis\":{\"gridcolor\":\"white\",\"linecolor\":\"white\",\"ticks\":\"\"}},\"ternary\":{\"bgcolor\":\"#E5ECF6\",\"aaxis\":{\"gridcolor\":\"white\",\"linecolor\":\"white\",\"ticks\":\"\"},\"baxis\":{\"gridcolor\":\"white\",\"linecolor\":\"white\",\"ticks\":\"\"},\"caxis\":{\"gridcolor\":\"white\",\"linecolor\":\"white\",\"ticks\":\"\"}},\"coloraxis\":{\"colorbar\":{\"outlinewidth\":0,\"ticks\":\"\"}},\"colorscale\":{\"sequential\":[[0.0,\"#0d0887\"],[0.1111111111111111,\"#46039f\"],[0.2222222222222222,\"#7201a8\"],[0.3333333333333333,\"#9c179e\"],[0.4444444444444444,\"#bd3786\"],[0.5555555555555556,\"#d8576b\"],[0.6666666666666666,\"#ed7953\"],[0.7777777777777778,\"#fb9f3a\"],[0.8888888888888888,\"#fdca26\"],[1.0,\"#f0f921\"]],\"sequentialminus\":[[0.0,\"#0d0887\"],[0.1111111111111111,\"#46039f\"],[0.2222222222222222,\"#7201a8\"],[0.3333333333333333,\"#9c179e\"],[0.4444444444444444,\"#bd3786\"],[0.5555555555555556,\"#d8576b\"],[0.6666666666666666,\"#ed7953\"],[0.7777777777777778,\"#fb9f3a\"],[0.8888888888888888,\"#fdca26\"],[1.0,\"#f0f921\"]],\"diverging\":[[0,\"#8e0152\"],[0.1,\"#c51b7d\"],[0.2,\"#de77ae\"],[0.3,\"#f1b6da\"],[0.4,\"#fde0ef\"],[0.5,\"#f7f7f7\"],[0.6,\"#e6f5d0\"],[0.7,\"#b8e186\"],[0.8,\"#7fbc41\"],[0.9,\"#4d9221\"],[1,\"#276419\"]]},\"xaxis\":{\"gridcolor\":\"white\",\"linecolor\":\"white\",\"ticks\":\"\",\"title\":{\"standoff\":15},\"zerolinecolor\":\"white\",\"automargin\":true,\"zerolinewidth\":2},\"yaxis\":{\"gridcolor\":\"white\",\"linecolor\":\"white\",\"ticks\":\"\",\"title\":{\"standoff\":15},\"zerolinecolor\":\"white\",\"automargin\":true,\"zerolinewidth\":2},\"scene\":{\"xaxis\":{\"backgroundcolor\":\"#E5ECF6\",\"gridcolor\":\"white\",\"linecolor\":\"white\",\"showbackground\":true,\"ticks\":\"\",\"zerolinecolor\":\"white\",\"gridwidth\":2},\"yaxis\":{\"backgroundcolor\":\"#E5ECF6\",\"gridcolor\":\"white\",\"linecolor\":\"white\",\"showbackground\":true,\"ticks\":\"\",\"zerolinecolor\":\"white\",\"gridwidth\":2},\"zaxis\":{\"backgroundcolor\":\"#E5ECF6\",\"gridcolor\":\"white\",\"linecolor\":\"white\",\"showbackground\":true,\"ticks\":\"\",\"zerolinecolor\":\"white\",\"gridwidth\":2}},\"shapedefaults\":{\"line\":{\"color\":\"#2a3f5f\"}},\"annotationdefaults\":{\"arrowcolor\":\"#2a3f5f\",\"arrowhead\":0,\"arrowwidth\":1},\"geo\":{\"bgcolor\":\"white\",\"landcolor\":\"#E5ECF6\",\"subunitcolor\":\"white\",\"showland\":true,\"showlakes\":true,\"lakecolor\":\"white\"},\"title\":{\"x\":0.05},\"mapbox\":{\"style\":\"light\"}}},\"scene\":{\"domain\":{\"x\":[0.0,1.0],\"y\":[0.0,1.0]},\"xaxis\":{\"title\":{\"text\":\"support\"}},\"yaxis\":{\"title\":{\"text\":\"confidence\"}},\"zaxis\":{\"title\":{\"text\":\"lift\"}}},\"coloraxis\":{\"colorbar\":{\"title\":{\"text\":\"antecedent support\"}},\"colorscale\":[[0.0,\"#0d0887\"],[0.1111111111111111,\"#46039f\"],[0.2222222222222222,\"#7201a8\"],[0.3333333333333333,\"#9c179e\"],[0.4444444444444444,\"#bd3786\"],[0.5555555555555556,\"#d8576b\"],[0.6666666666666666,\"#ed7953\"],[0.7777777777777778,\"#fb9f3a\"],[0.8888888888888888,\"#fdca26\"],[1.0,\"#f0f921\"]]},\"legend\":{\"tracegroupgap\":0},\"title\":{\"text\":\"3d Plot for Rule Mining\"},\"height\":600.0,\"width\":675.0},                        {\"responsive\": true}                    ).then(function(){\n",
       "                            \n",
       "var gd = document.getElementById('d577566c-c9d2-4a9b-860d-964773164332');\n",
       "var x = new MutationObserver(function (mutations, observer) {{\n",
       "        var display = window.getComputedStyle(gd).display;\n",
       "        if (!display || display === 'none') {{\n",
       "            console.log([gd, 'removed!']);\n",
       "            Plotly.purge(gd);\n",
       "            observer.disconnect();\n",
       "        }}\n",
       "}});\n",
       "\n",
       "// Listen for the removal of the full notebook cells\n",
       "var notebookContainer = gd.closest('#notebook-container');\n",
       "if (notebookContainer) {{\n",
       "    x.observe(notebookContainer, {childList: true});\n",
       "}}\n",
       "\n",
       "// Listen for the clearing of the current output cell\n",
       "var outputEl = gd.closest('.output');\n",
       "if (outputEl) {{\n",
       "    x.observe(outputEl, {childList: true});\n",
       "}}\n",
       "\n",
       "                        })                };                });            </script>        </div>"
      ]
     },
     "metadata": {},
     "output_type": "display_data"
    }
   ],
   "source": [
    "plot_model(rules, scale=0.75, plot='3d')"
   ]
  }
 ],
 "metadata": {
  "interpreter": {
   "hash": "218ed2090466719c788686619e7484846e5f5bb6c8780fb50ffd2ff7462ad566"
  },
  "kernelspec": {
   "display_name": "Python 3.8.0 ('.python38': venv)",
   "language": "python",
   "name": "python3"
  },
  "language_info": {
   "codemirror_mode": {
    "name": "ipython",
    "version": 3
   },
   "file_extension": ".py",
   "mimetype": "text/x-python",
   "name": "python",
   "nbconvert_exporter": "python",
   "pygments_lexer": "ipython3",
   "version": "3.8.0"
  },
  "orig_nbformat": 4
 },
 "nbformat": 4,
 "nbformat_minor": 2
}
