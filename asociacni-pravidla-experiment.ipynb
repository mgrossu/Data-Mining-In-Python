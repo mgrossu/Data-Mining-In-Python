{
 "cells": [
  {
   "cell_type": "markdown",
   "metadata": {},
   "source": [
    "# Asociační pravidla"
   ]
  },
  {
   "cell_type": "markdown",
   "metadata": {},
   "source": [
    "### Dataset pro tuto metodu dolování dat\n",
    "\n",
    " Tento dataset patří pekárně \"The Bread Basket\" v Edinburghu. Dataset má 20 507 vstupu, 9465 transakcí a má 4 sloupce.\n",
    " Dataset obsahuje transakce zákazníků kteří objednali různé položky z pekárny online.\n",
    "\n",
    " https://www.kaggle.com/datasets/mittalvasu95/the-bread-basket?resource=download"
   ]
  },
  {
   "cell_type": "markdown",
   "metadata": {},
   "source": [
    "Dataset se načte pomocí knihovny Pandas využitím funcke *read_csv()*"
   ]
  },
  {
   "cell_type": "code",
   "execution_count": 2,
   "metadata": {},
   "outputs": [
    {
     "data": {
      "text/html": [
       "<div>\n",
       "<style scoped>\n",
       "    .dataframe tbody tr th:only-of-type {\n",
       "        vertical-align: middle;\n",
       "    }\n",
       "\n",
       "    .dataframe tbody tr th {\n",
       "        vertical-align: top;\n",
       "    }\n",
       "\n",
       "    .dataframe thead th {\n",
       "        text-align: right;\n",
       "    }\n",
       "</style>\n",
       "<table border=\"1\" class=\"dataframe\">\n",
       "  <thead>\n",
       "    <tr style=\"text-align: right;\">\n",
       "      <th></th>\n",
       "      <th>Transaction</th>\n",
       "      <th>Item</th>\n",
       "      <th>date_time</th>\n",
       "      <th>period_day</th>\n",
       "      <th>weekday_weekend</th>\n",
       "    </tr>\n",
       "  </thead>\n",
       "  <tbody>\n",
       "    <tr>\n",
       "      <th>0</th>\n",
       "      <td>1</td>\n",
       "      <td>Bread</td>\n",
       "      <td>30-10-2016 09:58</td>\n",
       "      <td>morning</td>\n",
       "      <td>weekend</td>\n",
       "    </tr>\n",
       "    <tr>\n",
       "      <th>1</th>\n",
       "      <td>2</td>\n",
       "      <td>Scandinavian</td>\n",
       "      <td>30-10-2016 10:05</td>\n",
       "      <td>morning</td>\n",
       "      <td>weekend</td>\n",
       "    </tr>\n",
       "    <tr>\n",
       "      <th>2</th>\n",
       "      <td>2</td>\n",
       "      <td>Scandinavian</td>\n",
       "      <td>30-10-2016 10:05</td>\n",
       "      <td>morning</td>\n",
       "      <td>weekend</td>\n",
       "    </tr>\n",
       "    <tr>\n",
       "      <th>3</th>\n",
       "      <td>3</td>\n",
       "      <td>Hot chocolate</td>\n",
       "      <td>30-10-2016 10:07</td>\n",
       "      <td>morning</td>\n",
       "      <td>weekend</td>\n",
       "    </tr>\n",
       "    <tr>\n",
       "      <th>4</th>\n",
       "      <td>3</td>\n",
       "      <td>Jam</td>\n",
       "      <td>30-10-2016 10:07</td>\n",
       "      <td>morning</td>\n",
       "      <td>weekend</td>\n",
       "    </tr>\n",
       "  </tbody>\n",
       "</table>\n",
       "</div>"
      ],
      "text/plain": [
       "   Transaction           Item         date_time period_day weekday_weekend\n",
       "0            1          Bread  30-10-2016 09:58    morning         weekend\n",
       "1            2   Scandinavian  30-10-2016 10:05    morning         weekend\n",
       "2            2   Scandinavian  30-10-2016 10:05    morning         weekend\n",
       "3            3  Hot chocolate  30-10-2016 10:07    morning         weekend\n",
       "4            3            Jam  30-10-2016 10:07    morning         weekend"
      ]
     },
     "execution_count": 2,
     "metadata": {},
     "output_type": "execute_result"
    }
   ],
   "source": [
    "import os\n",
    "import pandas as pd\n",
    "\n",
    "data_folder = os.path.join(\"datasets\")\n",
    "filename = os.path.join(data_folder, \"bread-basket.csv\")\n",
    "df = pd.read_csv(filename)\n",
    "df.head()"
   ]
  },
  {
   "cell_type": "markdown",
   "metadata": {},
   "source": [
    "Knihovna pandas nabízí řadu užitečných funkcí které pomáhají prozkoumat daný dataset."
   ]
  },
  {
   "cell_type": "code",
   "execution_count": 3,
   "metadata": {},
   "outputs": [
    {
     "name": "stdout",
     "output_type": "stream",
     "text": [
      "<class 'pandas.core.frame.DataFrame'>\n",
      "RangeIndex: 20507 entries, 0 to 20506\n",
      "Data columns (total 5 columns):\n",
      " #   Column           Non-Null Count  Dtype \n",
      "---  ------           --------------  ----- \n",
      " 0   Transaction      20507 non-null  int64 \n",
      " 1   Item             20507 non-null  object\n",
      " 2   date_time        20507 non-null  object\n",
      " 3   period_day       20507 non-null  object\n",
      " 4   weekday_weekend  20507 non-null  object\n",
      "dtypes: int64(1), object(4)\n",
      "memory usage: 801.2+ KB\n"
     ]
    }
   ],
   "source": [
    "df.info()"
   ]
  },
  {
   "cell_type": "code",
   "execution_count": 4,
   "metadata": {},
   "outputs": [
    {
     "data": {
      "text/plain": [
       "weekday_weekend       2\n",
       "period_day            4\n",
       "Item                 94\n",
       "date_time          9182\n",
       "Transaction        9465\n",
       "dtype: int64"
      ]
     },
     "execution_count": 4,
     "metadata": {},
     "output_type": "execute_result"
    }
   ],
   "source": [
    "df.nunique().sort_values()"
   ]
  },
  {
   "cell_type": "code",
   "execution_count": 5,
   "metadata": {},
   "outputs": [
    {
     "name": "stdout",
     "output_type": "stream",
     "text": [
      "Celkový počet transakcí je 9465 a počet jednotlivých položek z kterých se budou vytvářet asociačním pravidla je 94.\n"
     ]
    }
   ],
   "source": [
    "print(\"Celkový počet transakcí je {} a počet jednotlivých položek z kterých se budou vytvářet asociačním pravidla je {}.\".format(len(df['Transaction'].unique()), len(df['Item'].unique())))"
   ]
  },
  {
   "cell_type": "code",
   "execution_count": 6,
   "metadata": {},
   "outputs": [
    {
     "data": {
      "text/plain": [
       "Transaction        0\n",
       "Item               0\n",
       "date_time          0\n",
       "period_day         0\n",
       "weekday_weekend    0\n",
       "dtype: int64"
      ]
     },
     "execution_count": 6,
     "metadata": {},
     "output_type": "execute_result"
    }
   ],
   "source": [
    "df.isna().sum()"
   ]
  },
  {
   "cell_type": "code",
   "execution_count": 7,
   "metadata": {},
   "outputs": [
    {
     "data": {
      "text/html": [
       "<div>\n",
       "<style scoped>\n",
       "    .dataframe tbody tr th:only-of-type {\n",
       "        vertical-align: middle;\n",
       "    }\n",
       "\n",
       "    .dataframe tbody tr th {\n",
       "        vertical-align: top;\n",
       "    }\n",
       "\n",
       "    .dataframe thead th {\n",
       "        text-align: right;\n",
       "    }\n",
       "</style>\n",
       "<table border=\"1\" class=\"dataframe\">\n",
       "  <thead>\n",
       "    <tr style=\"text-align: right;\">\n",
       "      <th></th>\n",
       "      <th>Item</th>\n",
       "      <th>date_time</th>\n",
       "      <th>period_day</th>\n",
       "      <th>weekday_weekend</th>\n",
       "    </tr>\n",
       "  </thead>\n",
       "  <tbody>\n",
       "    <tr>\n",
       "      <th>count</th>\n",
       "      <td>20507</td>\n",
       "      <td>20507</td>\n",
       "      <td>20507</td>\n",
       "      <td>20507</td>\n",
       "    </tr>\n",
       "    <tr>\n",
       "      <th>unique</th>\n",
       "      <td>94</td>\n",
       "      <td>9182</td>\n",
       "      <td>4</td>\n",
       "      <td>2</td>\n",
       "    </tr>\n",
       "    <tr>\n",
       "      <th>top</th>\n",
       "      <td>Coffee</td>\n",
       "      <td>05-02-2017 11:58</td>\n",
       "      <td>afternoon</td>\n",
       "      <td>weekday</td>\n",
       "    </tr>\n",
       "    <tr>\n",
       "      <th>freq</th>\n",
       "      <td>5471</td>\n",
       "      <td>12</td>\n",
       "      <td>11569</td>\n",
       "      <td>12807</td>\n",
       "    </tr>\n",
       "  </tbody>\n",
       "</table>\n",
       "</div>"
      ],
      "text/plain": [
       "          Item         date_time period_day weekday_weekend\n",
       "count    20507             20507      20507           20507\n",
       "unique      94              9182          4               2\n",
       "top     Coffee  05-02-2017 11:58  afternoon         weekday\n",
       "freq      5471                12      11569           12807"
      ]
     },
     "execution_count": 7,
     "metadata": {},
     "output_type": "execute_result"
    }
   ],
   "source": [
    "df.describe(include=object)"
   ]
  },
  {
   "cell_type": "markdown",
   "metadata": {},
   "source": [
    "### Implementace Apriori "
   ]
  },
  {
   "cell_type": "markdown",
   "metadata": {},
   "source": [
    "Tento dataset je potřeba předzpracovat do vhodné podoby pro Apriori algoritmus. Dataset pomoci další funkce z knihovny Pandas *groupby()* je transformován na transakční tabulku která obsahuje 2 sloupce: číslo transakce a položky, které byly koupené v té transakci. Jednotlivé položky byly uložené jako *fronzenset*, aby později byla jednoduší práce s množinami."
   ]
  },
  {
   "cell_type": "code",
   "execution_count": 8,
   "metadata": {},
   "outputs": [
    {
     "data": {
      "text/html": [
       "<div>\n",
       "<style scoped>\n",
       "    .dataframe tbody tr th:only-of-type {\n",
       "        vertical-align: middle;\n",
       "    }\n",
       "\n",
       "    .dataframe tbody tr th {\n",
       "        vertical-align: top;\n",
       "    }\n",
       "\n",
       "    .dataframe thead th {\n",
       "        text-align: right;\n",
       "    }\n",
       "</style>\n",
       "<table border=\"1\" class=\"dataframe\">\n",
       "  <thead>\n",
       "    <tr style=\"text-align: right;\">\n",
       "      <th></th>\n",
       "      <th>Transaction</th>\n",
       "      <th>Item</th>\n",
       "    </tr>\n",
       "  </thead>\n",
       "  <tbody>\n",
       "    <tr>\n",
       "      <th>0</th>\n",
       "      <td>1</td>\n",
       "      <td>(Bread)</td>\n",
       "    </tr>\n",
       "    <tr>\n",
       "      <th>1</th>\n",
       "      <td>2</td>\n",
       "      <td>(Scandinavian)</td>\n",
       "    </tr>\n",
       "    <tr>\n",
       "      <th>2</th>\n",
       "      <td>3</td>\n",
       "      <td>(Cookies, Jam, Hot chocolate)</td>\n",
       "    </tr>\n",
       "    <tr>\n",
       "      <th>3</th>\n",
       "      <td>4</td>\n",
       "      <td>(Muffin)</td>\n",
       "    </tr>\n",
       "    <tr>\n",
       "      <th>4</th>\n",
       "      <td>5</td>\n",
       "      <td>(Bread, Pastry, Coffee)</td>\n",
       "    </tr>\n",
       "    <tr>\n",
       "      <th>...</th>\n",
       "      <td>...</td>\n",
       "      <td>...</td>\n",
       "    </tr>\n",
       "    <tr>\n",
       "      <th>9460</th>\n",
       "      <td>9680</td>\n",
       "      <td>(Bread)</td>\n",
       "    </tr>\n",
       "    <tr>\n",
       "      <th>9461</th>\n",
       "      <td>9681</td>\n",
       "      <td>(Tea, Christmas common, Truffles, Spanish Brunch)</td>\n",
       "    </tr>\n",
       "    <tr>\n",
       "      <th>9462</th>\n",
       "      <td>9682</td>\n",
       "      <td>(Tea, Tacos/Fajita, Coffee, Muffin)</td>\n",
       "    </tr>\n",
       "    <tr>\n",
       "      <th>9463</th>\n",
       "      <td>9683</td>\n",
       "      <td>(Pastry, Coffee)</td>\n",
       "    </tr>\n",
       "    <tr>\n",
       "      <th>9464</th>\n",
       "      <td>9684</td>\n",
       "      <td>(Smoothies)</td>\n",
       "    </tr>\n",
       "  </tbody>\n",
       "</table>\n",
       "<p>9465 rows × 2 columns</p>\n",
       "</div>"
      ],
      "text/plain": [
       "      Transaction                                               Item\n",
       "0               1                                            (Bread)\n",
       "1               2                                     (Scandinavian)\n",
       "2               3                      (Cookies, Jam, Hot chocolate)\n",
       "3               4                                           (Muffin)\n",
       "4               5                            (Bread, Pastry, Coffee)\n",
       "...           ...                                                ...\n",
       "9460         9680                                            (Bread)\n",
       "9461         9681  (Tea, Christmas common, Truffles, Spanish Brunch)\n",
       "9462         9682                (Tea, Tacos/Fajita, Coffee, Muffin)\n",
       "9463         9683                                   (Pastry, Coffee)\n",
       "9464         9684                                        (Smoothies)\n",
       "\n",
       "[9465 rows x 2 columns]"
      ]
     },
     "execution_count": 8,
     "metadata": {},
     "output_type": "execute_result"
    }
   ],
   "source": [
    "transaction_df = df.groupby(['Transaction'])['Item'].apply(frozenset).reset_index()\n",
    "transaction_df.columns = ['Transaction', 'Item']\n",
    "transaction_df"
   ]
  },
  {
   "cell_type": "code",
   "execution_count": 10,
   "metadata": {},
   "outputs": [],
   "source": [
    "transactions = transaction_df['Item']\n",
    "transaction_dict = transactions.to_dict()"
   ]
  },
  {
   "cell_type": "markdown",
   "metadata": {},
   "source": [
    "Zde se vytvoří množina frektentovaných vzorů, které mají jen jednu položku, které splňují minimální podporu. Zde minimální podpora byla zvolena 1%, aby jsme dostali nějaké zajímavé asociační pravidla"
   ]
  },
  {
   "cell_type": "code",
   "execution_count": 11,
   "metadata": {},
   "outputs": [],
   "source": [
    "#funkce na vyvoreni kandidatni mnoziny 1-prvkovych polozek, ktere splnuji minimalni podporu \n",
    "def get_k_1_itemset(min_support = 0.5, frequent_itemsets = {}, transactions=None):\n",
    "    #vytvari se vsechny kanditaty\n",
    "    count = {}\n",
    "    for items in transactions:\n",
    "        for item in items:\n",
    "            if item in count:\n",
    "                count[item] += 1\n",
    "            else:\n",
    "                count[item] = 1\n",
    "    #odstrani se polozky, ktere nesplnuji minimalni podporu\n",
    "    list_of_items_not_min = []\n",
    "    for item_count in count:\n",
    "        count[item_count] = float(count[item_count]/len(transactions))\n",
    "        if count[item_count] <= min_support:\n",
    "            list_of_items_not_min.append(item_count)\n",
    "    for item_eliminate in list_of_items_not_min:\n",
    "        count.pop(item_eliminate)\n",
    "    #vytvori se mnozina polozek, ktere splnuji minimalni podporu\n",
    "    l1 = {}\n",
    "    for key in count:\n",
    "        l1[frozenset([key])] = count[key]\n",
    "    \n",
    "    frequent_itemsets[1] = l1"
   ]
  },
  {
   "cell_type": "code",
   "execution_count": 12,
   "metadata": {},
   "outputs": [],
   "source": [
    "\n",
    "frequent_itemsets = {}\n",
    "min_support = 0.01 # 1%\n",
    "\n",
    "get_k_1_itemset(min_support, frequent_itemsets, transactions)\n"
   ]
  },
  {
   "cell_type": "code",
   "execution_count": 13,
   "metadata": {},
   "outputs": [],
   "source": [
    "from collections import defaultdict\n",
    "#funkce pro hledani frektventovane mnoziny\n",
    "def find_frequent_itemsets(transactions_dict, k_1_itemsets, min_support):\n",
    "    counter = defaultdict(int)\n",
    "    for transactions_id, items in transactions.items():\n",
    "        for itemset in k_1_itemsets:\n",
    "            if itemset.issubset(items):\n",
    "                for other_items in items - itemset:\n",
    "                    current_superset = itemset | frozenset((other_items,))\n",
    "                    counter[current_superset] += 1\n",
    "    for i in counter:\n",
    "        counter[i] = float(counter[i]/len(transactions))\n",
    "    \n",
    "    new_dict = {}\n",
    "    for itemset, f in counter.items():\n",
    "        if f >= min_support:\n",
    "            new_dict[itemset] = f\n",
    "    return new_dict"
   ]
  },
  {
   "cell_type": "code",
   "execution_count": 14,
   "metadata": {},
   "outputs": [
    {
     "name": "stdout",
     "output_type": "stream",
     "text": [
      "There are 30 items with more than 1.0 % min_support\n",
      "Found 66 frequent itemsets of length 2\n",
      "Found 27 frequent itemsets of length 3\n",
      "Did not find any frequent itemsets of length 4\n"
     ]
    }
   ],
   "source": [
    "import sys\n",
    "#cyklus pro vytvoreni frekventovanych mnozin o velikosti k, skonci kdyz aktualni frekventovana mnozina je 0\n",
    "print(\"There are {} items with more than {} % min_support\".format(len(frequent_itemsets[1]), (min_support*100)))\n",
    "sys.stdout.flush()\n",
    "k = 2 \n",
    "while True:\n",
    "    cur_frequent_itemsets = find_frequent_itemsets(transaction_dict, frequent_itemsets[k-1], min_support)\n",
    "    if len(cur_frequent_itemsets) == 0:\n",
    "        print(\"Did not find any frequent itemsets of length {}\".format(k))\n",
    "        sys.stdout.flush()\n",
    "        break\n",
    "    else:\n",
    "        print(\"Found {} frequent itemsets of length {}\".format(len(cur_frequent_itemsets), k))\n",
    "        sys.stdout.flush()\n",
    "        frequent_itemsets[k] = cur_frequent_itemsets\n",
    "    k += 1\n",
    "#odstraneni mnoziny L1\n",
    "del frequent_itemsets[1]"
   ]
  },
  {
   "cell_type": "code",
   "execution_count": 15,
   "metadata": {},
   "outputs": [
    {
     "name": "stdout",
     "output_type": "stream",
     "text": [
      "There are 213 candidate rules\n"
     ]
    }
   ],
   "source": [
    "candidate_rules = []\n",
    "#vytvoreni asociacnich pravidel z frekvetovane mnozine ve tvaru A->B\n",
    "for itemset_length, itemset_counts in frequent_itemsets.items():\n",
    "    for itemset in itemset_counts.keys():\n",
    "        for B in itemset:\n",
    "            A = itemset - set((B,))\n",
    "            candidate_rules.append((A,B))\n",
    "print(\"There are {} candidate rules\".format(len(candidate_rules)))"
   ]
  },
  {
   "cell_type": "code",
   "execution_count": 16,
   "metadata": {},
   "outputs": [],
   "source": [
    "correct_counts = defaultdict(int)\n",
    "incorrect_counts = defaultdict(int)\n",
    "#pokud A i B patri do stejne frekventovane mnoziny, tak se vytvori spravne pravidlo\n",
    "for transactions_id, items in transaction_dict.items():\n",
    "    for candidate_rule in candidate_rules:\n",
    "        A,B = candidate_rule\n",
    "        if A.issubset(items):\n",
    "            if B in items:\n",
    "                correct_counts[candidate_rule] += 1\n",
    "            else:\n",
    "                incorrect_counts[candidate_rule] += 1\n",
    "#pocita se podpora pro jednotlive pravidla na zaklade vzorce s(A U B)/s(A), kde s(A U B) je pocet vyskytu \n",
    "rule_confidence = {candidate_rule: correct_counts[candidate_rule] / float(correct_counts[candidate_rule] + incorrect_counts[candidate_rule]) for candidate_rule in candidate_rules}"
   ]
  },
  {
   "cell_type": "code",
   "execution_count": 17,
   "metadata": {},
   "outputs": [],
   "source": [
    "from operator import itemgetter\n",
    "sorted_confidence = sorted(rule_confidence.items(), key=itemgetter(1), reverse=True)\n"
   ]
  },
  {
   "cell_type": "markdown",
   "metadata": {},
   "source": [
    "Vypis 10. pravidel s nejvetsi spolehlivosti a minimalni podporou 1%"
   ]
  },
  {
   "cell_type": "code",
   "execution_count": 18,
   "metadata": {},
   "outputs": [
    {
     "name": "stdout",
     "output_type": "stream",
     "text": [
      "Rule 1: ['Toast'] -> Coffee | confidence : 0.704\n",
      "\n",
      "Rule 2: ['Cake', 'Sandwich'] -> Coffee | confidence : 0.677\n",
      "\n",
      "Rule 3: ['Pastry', 'Hot chocolate'] -> Coffee | confidence : 0.667\n",
      "\n",
      "Rule 4: ['Soup', 'Sandwich'] -> Coffee | confidence : 0.654\n",
      "\n",
      "Rule 5: ['Salad'] -> Coffee | confidence : 0.626\n",
      "\n",
      "Rule 6: ['Cookies', 'Hot chocolate'] -> Coffee | confidence : 0.614\n",
      "\n",
      "Rule 7: ['Cookies', 'Juice'] -> Coffee | confidence : 0.603\n",
      "\n",
      "Rule 8: ['Hot chocolate', 'Cake'] -> Coffee | confidence : 0.602\n",
      "\n",
      "Rule 9: ['Spanish Brunch'] -> Coffee | confidence : 0.599\n",
      "\n",
      "Rule 10: ['Cookies', 'Cake'] -> Coffee | confidence : 0.580\n",
      "\n"
     ]
    }
   ],
   "source": [
    "for index in range(10):\n",
    "    (A,B) = sorted_confidence[index][0]\n",
    "    print(\"Rule {0}: {1} -> {2} | confidence : {3:.3f}\".format(index+1, [x for x in A], B, rule_confidence[(A,B)]))\n",
    "    print(\"\")"
   ]
  },
  {
   "cell_type": "markdown",
   "metadata": {},
   "source": [
    "## Použití knihovny mlxtend"
   ]
  },
  {
   "cell_type": "code",
   "execution_count": 19,
   "metadata": {},
   "outputs": [],
   "source": [
    "from mlxtend.frequent_patterns import apriori, association_rules"
   ]
  },
  {
   "cell_type": "markdown",
   "metadata": {},
   "source": [
    "Dataset je potřeba předzpracovat na vhodnou podobu pro funkci _apriori()_ z knihovny mlxtend, která má tvar _pandas.Dataframu_ ve tvaru MxN, kde M je počet transakcí a N jsou všechny dostupné položky a každá buňka má True hodnotu pokud je položka součástí transakce"
   ]
  },
  {
   "cell_type": "code",
   "execution_count": 20,
   "metadata": {},
   "outputs": [
    {
     "data": {
      "text/html": [
       "<div>\n",
       "<style scoped>\n",
       "    .dataframe tbody tr th:only-of-type {\n",
       "        vertical-align: middle;\n",
       "    }\n",
       "\n",
       "    .dataframe tbody tr th {\n",
       "        vertical-align: top;\n",
       "    }\n",
       "\n",
       "    .dataframe thead th {\n",
       "        text-align: right;\n",
       "    }\n",
       "</style>\n",
       "<table border=\"1\" class=\"dataframe\">\n",
       "  <thead>\n",
       "    <tr style=\"text-align: right;\">\n",
       "      <th>Item</th>\n",
       "      <th>Adjustment</th>\n",
       "      <th>Afternoon with the baker</th>\n",
       "      <th>Alfajores</th>\n",
       "      <th>Argentina Night</th>\n",
       "      <th>Art Tray</th>\n",
       "      <th>Bacon</th>\n",
       "      <th>Baguette</th>\n",
       "      <th>Bakewell</th>\n",
       "      <th>Bare Popcorn</th>\n",
       "      <th>Basket</th>\n",
       "      <th>...</th>\n",
       "      <th>The BART</th>\n",
       "      <th>The Nomad</th>\n",
       "      <th>Tiffin</th>\n",
       "      <th>Toast</th>\n",
       "      <th>Truffles</th>\n",
       "      <th>Tshirt</th>\n",
       "      <th>Valentine's card</th>\n",
       "      <th>Vegan Feast</th>\n",
       "      <th>Vegan mincepie</th>\n",
       "      <th>Victorian Sponge</th>\n",
       "    </tr>\n",
       "    <tr>\n",
       "      <th>Transaction</th>\n",
       "      <th></th>\n",
       "      <th></th>\n",
       "      <th></th>\n",
       "      <th></th>\n",
       "      <th></th>\n",
       "      <th></th>\n",
       "      <th></th>\n",
       "      <th></th>\n",
       "      <th></th>\n",
       "      <th></th>\n",
       "      <th></th>\n",
       "      <th></th>\n",
       "      <th></th>\n",
       "      <th></th>\n",
       "      <th></th>\n",
       "      <th></th>\n",
       "      <th></th>\n",
       "      <th></th>\n",
       "      <th></th>\n",
       "      <th></th>\n",
       "      <th></th>\n",
       "    </tr>\n",
       "  </thead>\n",
       "  <tbody>\n",
       "    <tr>\n",
       "      <th>1</th>\n",
       "      <td>0.0</td>\n",
       "      <td>0.0</td>\n",
       "      <td>0.0</td>\n",
       "      <td>0.0</td>\n",
       "      <td>0.0</td>\n",
       "      <td>0.0</td>\n",
       "      <td>0.0</td>\n",
       "      <td>0.0</td>\n",
       "      <td>0.0</td>\n",
       "      <td>0.0</td>\n",
       "      <td>...</td>\n",
       "      <td>0.0</td>\n",
       "      <td>0.0</td>\n",
       "      <td>0.0</td>\n",
       "      <td>0.0</td>\n",
       "      <td>0.0</td>\n",
       "      <td>0.0</td>\n",
       "      <td>0.0</td>\n",
       "      <td>0.0</td>\n",
       "      <td>0.0</td>\n",
       "      <td>0.0</td>\n",
       "    </tr>\n",
       "    <tr>\n",
       "      <th>2</th>\n",
       "      <td>0.0</td>\n",
       "      <td>0.0</td>\n",
       "      <td>0.0</td>\n",
       "      <td>0.0</td>\n",
       "      <td>0.0</td>\n",
       "      <td>0.0</td>\n",
       "      <td>0.0</td>\n",
       "      <td>0.0</td>\n",
       "      <td>0.0</td>\n",
       "      <td>0.0</td>\n",
       "      <td>...</td>\n",
       "      <td>0.0</td>\n",
       "      <td>0.0</td>\n",
       "      <td>0.0</td>\n",
       "      <td>0.0</td>\n",
       "      <td>0.0</td>\n",
       "      <td>0.0</td>\n",
       "      <td>0.0</td>\n",
       "      <td>0.0</td>\n",
       "      <td>0.0</td>\n",
       "      <td>0.0</td>\n",
       "    </tr>\n",
       "    <tr>\n",
       "      <th>3</th>\n",
       "      <td>0.0</td>\n",
       "      <td>0.0</td>\n",
       "      <td>0.0</td>\n",
       "      <td>0.0</td>\n",
       "      <td>0.0</td>\n",
       "      <td>0.0</td>\n",
       "      <td>0.0</td>\n",
       "      <td>0.0</td>\n",
       "      <td>0.0</td>\n",
       "      <td>0.0</td>\n",
       "      <td>...</td>\n",
       "      <td>0.0</td>\n",
       "      <td>0.0</td>\n",
       "      <td>0.0</td>\n",
       "      <td>0.0</td>\n",
       "      <td>0.0</td>\n",
       "      <td>0.0</td>\n",
       "      <td>0.0</td>\n",
       "      <td>0.0</td>\n",
       "      <td>0.0</td>\n",
       "      <td>0.0</td>\n",
       "    </tr>\n",
       "    <tr>\n",
       "      <th>4</th>\n",
       "      <td>0.0</td>\n",
       "      <td>0.0</td>\n",
       "      <td>0.0</td>\n",
       "      <td>0.0</td>\n",
       "      <td>0.0</td>\n",
       "      <td>0.0</td>\n",
       "      <td>0.0</td>\n",
       "      <td>0.0</td>\n",
       "      <td>0.0</td>\n",
       "      <td>0.0</td>\n",
       "      <td>...</td>\n",
       "      <td>0.0</td>\n",
       "      <td>0.0</td>\n",
       "      <td>0.0</td>\n",
       "      <td>0.0</td>\n",
       "      <td>0.0</td>\n",
       "      <td>0.0</td>\n",
       "      <td>0.0</td>\n",
       "      <td>0.0</td>\n",
       "      <td>0.0</td>\n",
       "      <td>0.0</td>\n",
       "    </tr>\n",
       "    <tr>\n",
       "      <th>5</th>\n",
       "      <td>0.0</td>\n",
       "      <td>0.0</td>\n",
       "      <td>0.0</td>\n",
       "      <td>0.0</td>\n",
       "      <td>0.0</td>\n",
       "      <td>0.0</td>\n",
       "      <td>0.0</td>\n",
       "      <td>0.0</td>\n",
       "      <td>0.0</td>\n",
       "      <td>0.0</td>\n",
       "      <td>...</td>\n",
       "      <td>0.0</td>\n",
       "      <td>0.0</td>\n",
       "      <td>0.0</td>\n",
       "      <td>0.0</td>\n",
       "      <td>0.0</td>\n",
       "      <td>0.0</td>\n",
       "      <td>0.0</td>\n",
       "      <td>0.0</td>\n",
       "      <td>0.0</td>\n",
       "      <td>0.0</td>\n",
       "    </tr>\n",
       "  </tbody>\n",
       "</table>\n",
       "<p>5 rows × 94 columns</p>\n",
       "</div>"
      ],
      "text/plain": [
       "Item         Adjustment  Afternoon with the baker  Alfajores  Argentina Night  \\\n",
       "Transaction                                                                     \n",
       "1                   0.0                       0.0        0.0              0.0   \n",
       "2                   0.0                       0.0        0.0              0.0   \n",
       "3                   0.0                       0.0        0.0              0.0   \n",
       "4                   0.0                       0.0        0.0              0.0   \n",
       "5                   0.0                       0.0        0.0              0.0   \n",
       "\n",
       "Item         Art Tray  Bacon  Baguette  Bakewell  Bare Popcorn  Basket  ...  \\\n",
       "Transaction                                                             ...   \n",
       "1                 0.0    0.0       0.0       0.0           0.0     0.0  ...   \n",
       "2                 0.0    0.0       0.0       0.0           0.0     0.0  ...   \n",
       "3                 0.0    0.0       0.0       0.0           0.0     0.0  ...   \n",
       "4                 0.0    0.0       0.0       0.0           0.0     0.0  ...   \n",
       "5                 0.0    0.0       0.0       0.0           0.0     0.0  ...   \n",
       "\n",
       "Item         The BART  The Nomad  Tiffin  Toast  Truffles  Tshirt  \\\n",
       "Transaction                                                         \n",
       "1                 0.0        0.0     0.0    0.0       0.0     0.0   \n",
       "2                 0.0        0.0     0.0    0.0       0.0     0.0   \n",
       "3                 0.0        0.0     0.0    0.0       0.0     0.0   \n",
       "4                 0.0        0.0     0.0    0.0       0.0     0.0   \n",
       "5                 0.0        0.0     0.0    0.0       0.0     0.0   \n",
       "\n",
       "Item         Valentine's card  Vegan Feast  Vegan mincepie  Victorian Sponge  \n",
       "Transaction                                                                   \n",
       "1                         0.0          0.0             0.0               0.0  \n",
       "2                         0.0          0.0             0.0               0.0  \n",
       "3                         0.0          0.0             0.0               0.0  \n",
       "4                         0.0          0.0             0.0               0.0  \n",
       "5                         0.0          0.0             0.0               0.0  \n",
       "\n",
       "[5 rows x 94 columns]"
      ]
     },
     "execution_count": 20,
     "metadata": {},
     "output_type": "execute_result"
    }
   ],
   "source": [
    "xtend_basket_data = df.groupby(['Transaction', 'Item'])['Item'].count().reset_index(name='Count')\n",
    "xtend_data = xtend_basket_data.pivot_table(index='Transaction', columns='Item', values='Count', aggfunc='sum').fillna(0)\n",
    "xtend_data.head()"
   ]
  },
  {
   "cell_type": "code",
   "execution_count": 21,
   "metadata": {},
   "outputs": [],
   "source": [
    "\n",
    "def one_hot_encode(x):\n",
    "    if x >= 1:\n",
    "        return True\n",
    "    if x <= 0:\n",
    "        return False"
   ]
  },
  {
   "cell_type": "code",
   "execution_count": 22,
   "metadata": {},
   "outputs": [
    {
     "data": {
      "text/html": [
       "<div>\n",
       "<style scoped>\n",
       "    .dataframe tbody tr th:only-of-type {\n",
       "        vertical-align: middle;\n",
       "    }\n",
       "\n",
       "    .dataframe tbody tr th {\n",
       "        vertical-align: top;\n",
       "    }\n",
       "\n",
       "    .dataframe thead th {\n",
       "        text-align: right;\n",
       "    }\n",
       "</style>\n",
       "<table border=\"1\" class=\"dataframe\">\n",
       "  <thead>\n",
       "    <tr style=\"text-align: right;\">\n",
       "      <th>Item</th>\n",
       "      <th>Adjustment</th>\n",
       "      <th>Afternoon with the baker</th>\n",
       "      <th>Alfajores</th>\n",
       "      <th>Argentina Night</th>\n",
       "      <th>Art Tray</th>\n",
       "      <th>Bacon</th>\n",
       "      <th>Baguette</th>\n",
       "      <th>Bakewell</th>\n",
       "      <th>Bare Popcorn</th>\n",
       "      <th>Basket</th>\n",
       "      <th>...</th>\n",
       "      <th>The BART</th>\n",
       "      <th>The Nomad</th>\n",
       "      <th>Tiffin</th>\n",
       "      <th>Toast</th>\n",
       "      <th>Truffles</th>\n",
       "      <th>Tshirt</th>\n",
       "      <th>Valentine's card</th>\n",
       "      <th>Vegan Feast</th>\n",
       "      <th>Vegan mincepie</th>\n",
       "      <th>Victorian Sponge</th>\n",
       "    </tr>\n",
       "    <tr>\n",
       "      <th>Transaction</th>\n",
       "      <th></th>\n",
       "      <th></th>\n",
       "      <th></th>\n",
       "      <th></th>\n",
       "      <th></th>\n",
       "      <th></th>\n",
       "      <th></th>\n",
       "      <th></th>\n",
       "      <th></th>\n",
       "      <th></th>\n",
       "      <th></th>\n",
       "      <th></th>\n",
       "      <th></th>\n",
       "      <th></th>\n",
       "      <th></th>\n",
       "      <th></th>\n",
       "      <th></th>\n",
       "      <th></th>\n",
       "      <th></th>\n",
       "      <th></th>\n",
       "      <th></th>\n",
       "    </tr>\n",
       "  </thead>\n",
       "  <tbody>\n",
       "    <tr>\n",
       "      <th>1</th>\n",
       "      <td>False</td>\n",
       "      <td>False</td>\n",
       "      <td>False</td>\n",
       "      <td>False</td>\n",
       "      <td>False</td>\n",
       "      <td>False</td>\n",
       "      <td>False</td>\n",
       "      <td>False</td>\n",
       "      <td>False</td>\n",
       "      <td>False</td>\n",
       "      <td>...</td>\n",
       "      <td>False</td>\n",
       "      <td>False</td>\n",
       "      <td>False</td>\n",
       "      <td>False</td>\n",
       "      <td>False</td>\n",
       "      <td>False</td>\n",
       "      <td>False</td>\n",
       "      <td>False</td>\n",
       "      <td>False</td>\n",
       "      <td>False</td>\n",
       "    </tr>\n",
       "    <tr>\n",
       "      <th>2</th>\n",
       "      <td>False</td>\n",
       "      <td>False</td>\n",
       "      <td>False</td>\n",
       "      <td>False</td>\n",
       "      <td>False</td>\n",
       "      <td>False</td>\n",
       "      <td>False</td>\n",
       "      <td>False</td>\n",
       "      <td>False</td>\n",
       "      <td>False</td>\n",
       "      <td>...</td>\n",
       "      <td>False</td>\n",
       "      <td>False</td>\n",
       "      <td>False</td>\n",
       "      <td>False</td>\n",
       "      <td>False</td>\n",
       "      <td>False</td>\n",
       "      <td>False</td>\n",
       "      <td>False</td>\n",
       "      <td>False</td>\n",
       "      <td>False</td>\n",
       "    </tr>\n",
       "    <tr>\n",
       "      <th>3</th>\n",
       "      <td>False</td>\n",
       "      <td>False</td>\n",
       "      <td>False</td>\n",
       "      <td>False</td>\n",
       "      <td>False</td>\n",
       "      <td>False</td>\n",
       "      <td>False</td>\n",
       "      <td>False</td>\n",
       "      <td>False</td>\n",
       "      <td>False</td>\n",
       "      <td>...</td>\n",
       "      <td>False</td>\n",
       "      <td>False</td>\n",
       "      <td>False</td>\n",
       "      <td>False</td>\n",
       "      <td>False</td>\n",
       "      <td>False</td>\n",
       "      <td>False</td>\n",
       "      <td>False</td>\n",
       "      <td>False</td>\n",
       "      <td>False</td>\n",
       "    </tr>\n",
       "    <tr>\n",
       "      <th>4</th>\n",
       "      <td>False</td>\n",
       "      <td>False</td>\n",
       "      <td>False</td>\n",
       "      <td>False</td>\n",
       "      <td>False</td>\n",
       "      <td>False</td>\n",
       "      <td>False</td>\n",
       "      <td>False</td>\n",
       "      <td>False</td>\n",
       "      <td>False</td>\n",
       "      <td>...</td>\n",
       "      <td>False</td>\n",
       "      <td>False</td>\n",
       "      <td>False</td>\n",
       "      <td>False</td>\n",
       "      <td>False</td>\n",
       "      <td>False</td>\n",
       "      <td>False</td>\n",
       "      <td>False</td>\n",
       "      <td>False</td>\n",
       "      <td>False</td>\n",
       "    </tr>\n",
       "    <tr>\n",
       "      <th>5</th>\n",
       "      <td>False</td>\n",
       "      <td>False</td>\n",
       "      <td>False</td>\n",
       "      <td>False</td>\n",
       "      <td>False</td>\n",
       "      <td>False</td>\n",
       "      <td>False</td>\n",
       "      <td>False</td>\n",
       "      <td>False</td>\n",
       "      <td>False</td>\n",
       "      <td>...</td>\n",
       "      <td>False</td>\n",
       "      <td>False</td>\n",
       "      <td>False</td>\n",
       "      <td>False</td>\n",
       "      <td>False</td>\n",
       "      <td>False</td>\n",
       "      <td>False</td>\n",
       "      <td>False</td>\n",
       "      <td>False</td>\n",
       "      <td>False</td>\n",
       "    </tr>\n",
       "  </tbody>\n",
       "</table>\n",
       "<p>5 rows × 94 columns</p>\n",
       "</div>"
      ],
      "text/plain": [
       "Item         Adjustment  Afternoon with the baker  Alfajores  Argentina Night  \\\n",
       "Transaction                                                                     \n",
       "1                 False                     False      False            False   \n",
       "2                 False                     False      False            False   \n",
       "3                 False                     False      False            False   \n",
       "4                 False                     False      False            False   \n",
       "5                 False                     False      False            False   \n",
       "\n",
       "Item         Art Tray  Bacon  Baguette  Bakewell  Bare Popcorn  Basket  ...  \\\n",
       "Transaction                                                             ...   \n",
       "1               False  False     False     False         False   False  ...   \n",
       "2               False  False     False     False         False   False  ...   \n",
       "3               False  False     False     False         False   False  ...   \n",
       "4               False  False     False     False         False   False  ...   \n",
       "5               False  False     False     False         False   False  ...   \n",
       "\n",
       "Item         The BART  The Nomad  Tiffin  Toast  Truffles  Tshirt  \\\n",
       "Transaction                                                         \n",
       "1               False      False   False  False     False   False   \n",
       "2               False      False   False  False     False   False   \n",
       "3               False      False   False  False     False   False   \n",
       "4               False      False   False  False     False   False   \n",
       "5               False      False   False  False     False   False   \n",
       "\n",
       "Item         Valentine's card  Vegan Feast  Vegan mincepie  Victorian Sponge  \n",
       "Transaction                                                                   \n",
       "1                       False        False           False             False  \n",
       "2                       False        False           False             False  \n",
       "3                       False        False           False             False  \n",
       "4                       False        False           False             False  \n",
       "5                       False        False           False             False  \n",
       "\n",
       "[5 rows x 94 columns]"
      ]
     },
     "execution_count": 22,
     "metadata": {},
     "output_type": "execute_result"
    }
   ],
   "source": [
    "xtend_data = xtend_data.applymap(one_hot_encode)\n",
    "xtend_data.head()"
   ]
  },
  {
   "cell_type": "markdown",
   "metadata": {},
   "source": [
    "### mlxtend implementace algoritmu apriori"
   ]
  },
  {
   "cell_type": "code",
   "execution_count": 23,
   "metadata": {},
   "outputs": [
    {
     "data": {
      "text/html": [
       "<div>\n",
       "<style scoped>\n",
       "    .dataframe tbody tr th:only-of-type {\n",
       "        vertical-align: middle;\n",
       "    }\n",
       "\n",
       "    .dataframe tbody tr th {\n",
       "        vertical-align: top;\n",
       "    }\n",
       "\n",
       "    .dataframe thead th {\n",
       "        text-align: right;\n",
       "    }\n",
       "</style>\n",
       "<table border=\"1\" class=\"dataframe\">\n",
       "  <thead>\n",
       "    <tr style=\"text-align: right;\">\n",
       "      <th></th>\n",
       "      <th>support</th>\n",
       "      <th>itemsets</th>\n",
       "      <th>lenght</th>\n",
       "    </tr>\n",
       "  </thead>\n",
       "  <tbody>\n",
       "    <tr>\n",
       "      <th>0</th>\n",
       "      <td>0.036344</td>\n",
       "      <td>(Alfajores)</td>\n",
       "      <td>1</td>\n",
       "    </tr>\n",
       "    <tr>\n",
       "      <th>1</th>\n",
       "      <td>0.327205</td>\n",
       "      <td>(Bread)</td>\n",
       "      <td>1</td>\n",
       "    </tr>\n",
       "    <tr>\n",
       "      <th>2</th>\n",
       "      <td>0.040042</td>\n",
       "      <td>(Brownie)</td>\n",
       "      <td>1</td>\n",
       "    </tr>\n",
       "    <tr>\n",
       "      <th>3</th>\n",
       "      <td>0.103856</td>\n",
       "      <td>(Cake)</td>\n",
       "      <td>1</td>\n",
       "    </tr>\n",
       "    <tr>\n",
       "      <th>4</th>\n",
       "      <td>0.478394</td>\n",
       "      <td>(Coffee)</td>\n",
       "      <td>1</td>\n",
       "    </tr>\n",
       "    <tr>\n",
       "      <th>5</th>\n",
       "      <td>0.054411</td>\n",
       "      <td>(Cookies)</td>\n",
       "      <td>1</td>\n",
       "    </tr>\n",
       "    <tr>\n",
       "      <th>6</th>\n",
       "      <td>0.039197</td>\n",
       "      <td>(Farm House)</td>\n",
       "      <td>1</td>\n",
       "    </tr>\n",
       "    <tr>\n",
       "      <th>7</th>\n",
       "      <td>0.058320</td>\n",
       "      <td>(Hot chocolate)</td>\n",
       "      <td>1</td>\n",
       "    </tr>\n",
       "    <tr>\n",
       "      <th>8</th>\n",
       "      <td>0.038563</td>\n",
       "      <td>(Juice)</td>\n",
       "      <td>1</td>\n",
       "    </tr>\n",
       "    <tr>\n",
       "      <th>9</th>\n",
       "      <td>0.061807</td>\n",
       "      <td>(Medialuna)</td>\n",
       "      <td>1</td>\n",
       "    </tr>\n",
       "    <tr>\n",
       "      <th>10</th>\n",
       "      <td>0.038457</td>\n",
       "      <td>(Muffin)</td>\n",
       "      <td>1</td>\n",
       "    </tr>\n",
       "    <tr>\n",
       "      <th>11</th>\n",
       "      <td>0.086107</td>\n",
       "      <td>(Pastry)</td>\n",
       "      <td>1</td>\n",
       "    </tr>\n",
       "    <tr>\n",
       "      <th>12</th>\n",
       "      <td>0.071844</td>\n",
       "      <td>(Sandwich)</td>\n",
       "      <td>1</td>\n",
       "    </tr>\n",
       "    <tr>\n",
       "      <th>13</th>\n",
       "      <td>0.029054</td>\n",
       "      <td>(Scandinavian)</td>\n",
       "      <td>1</td>\n",
       "    </tr>\n",
       "    <tr>\n",
       "      <th>14</th>\n",
       "      <td>0.034548</td>\n",
       "      <td>(Scone)</td>\n",
       "      <td>1</td>\n",
       "    </tr>\n",
       "    <tr>\n",
       "      <th>15</th>\n",
       "      <td>0.034443</td>\n",
       "      <td>(Soup)</td>\n",
       "      <td>1</td>\n",
       "    </tr>\n",
       "    <tr>\n",
       "      <th>16</th>\n",
       "      <td>0.142631</td>\n",
       "      <td>(Tea)</td>\n",
       "      <td>1</td>\n",
       "    </tr>\n",
       "    <tr>\n",
       "      <th>17</th>\n",
       "      <td>0.033597</td>\n",
       "      <td>(Toast)</td>\n",
       "      <td>1</td>\n",
       "    </tr>\n",
       "    <tr>\n",
       "      <th>18</th>\n",
       "      <td>0.020285</td>\n",
       "      <td>(Truffles)</td>\n",
       "      <td>1</td>\n",
       "    </tr>\n",
       "    <tr>\n",
       "      <th>19</th>\n",
       "      <td>0.023349</td>\n",
       "      <td>(Bread, Cake)</td>\n",
       "      <td>2</td>\n",
       "    </tr>\n",
       "    <tr>\n",
       "      <th>20</th>\n",
       "      <td>0.090016</td>\n",
       "      <td>(Bread, Coffee)</td>\n",
       "      <td>2</td>\n",
       "    </tr>\n",
       "    <tr>\n",
       "      <th>21</th>\n",
       "      <td>0.029160</td>\n",
       "      <td>(Bread, Pastry)</td>\n",
       "      <td>2</td>\n",
       "    </tr>\n",
       "    <tr>\n",
       "      <th>22</th>\n",
       "      <td>0.028104</td>\n",
       "      <td>(Tea, Bread)</td>\n",
       "      <td>2</td>\n",
       "    </tr>\n",
       "    <tr>\n",
       "      <th>23</th>\n",
       "      <td>0.054728</td>\n",
       "      <td>(Coffee, Cake)</td>\n",
       "      <td>2</td>\n",
       "    </tr>\n",
       "    <tr>\n",
       "      <th>24</th>\n",
       "      <td>0.023772</td>\n",
       "      <td>(Tea, Cake)</td>\n",
       "      <td>2</td>\n",
       "    </tr>\n",
       "    <tr>\n",
       "      <th>25</th>\n",
       "      <td>0.028209</td>\n",
       "      <td>(Cookies, Coffee)</td>\n",
       "      <td>2</td>\n",
       "    </tr>\n",
       "    <tr>\n",
       "      <th>26</th>\n",
       "      <td>0.029583</td>\n",
       "      <td>(Coffee, Hot chocolate)</td>\n",
       "      <td>2</td>\n",
       "    </tr>\n",
       "    <tr>\n",
       "      <th>27</th>\n",
       "      <td>0.020602</td>\n",
       "      <td>(Coffee, Juice)</td>\n",
       "      <td>2</td>\n",
       "    </tr>\n",
       "    <tr>\n",
       "      <th>28</th>\n",
       "      <td>0.035182</td>\n",
       "      <td>(Coffee, Medialuna)</td>\n",
       "      <td>2</td>\n",
       "    </tr>\n",
       "    <tr>\n",
       "      <th>29</th>\n",
       "      <td>0.047544</td>\n",
       "      <td>(Pastry, Coffee)</td>\n",
       "      <td>2</td>\n",
       "    </tr>\n",
       "    <tr>\n",
       "      <th>30</th>\n",
       "      <td>0.038246</td>\n",
       "      <td>(Coffee, Sandwich)</td>\n",
       "      <td>2</td>\n",
       "    </tr>\n",
       "    <tr>\n",
       "      <th>31</th>\n",
       "      <td>0.049868</td>\n",
       "      <td>(Tea, Coffee)</td>\n",
       "      <td>2</td>\n",
       "    </tr>\n",
       "    <tr>\n",
       "      <th>32</th>\n",
       "      <td>0.023666</td>\n",
       "      <td>(Coffee, Toast)</td>\n",
       "      <td>2</td>\n",
       "    </tr>\n",
       "  </tbody>\n",
       "</table>\n",
       "</div>"
      ],
      "text/plain": [
       "     support                 itemsets  lenght\n",
       "0   0.036344              (Alfajores)       1\n",
       "1   0.327205                  (Bread)       1\n",
       "2   0.040042                (Brownie)       1\n",
       "3   0.103856                   (Cake)       1\n",
       "4   0.478394                 (Coffee)       1\n",
       "5   0.054411                (Cookies)       1\n",
       "6   0.039197             (Farm House)       1\n",
       "7   0.058320          (Hot chocolate)       1\n",
       "8   0.038563                  (Juice)       1\n",
       "9   0.061807              (Medialuna)       1\n",
       "10  0.038457                 (Muffin)       1\n",
       "11  0.086107                 (Pastry)       1\n",
       "12  0.071844               (Sandwich)       1\n",
       "13  0.029054           (Scandinavian)       1\n",
       "14  0.034548                  (Scone)       1\n",
       "15  0.034443                   (Soup)       1\n",
       "16  0.142631                    (Tea)       1\n",
       "17  0.033597                  (Toast)       1\n",
       "18  0.020285               (Truffles)       1\n",
       "19  0.023349            (Bread, Cake)       2\n",
       "20  0.090016          (Bread, Coffee)       2\n",
       "21  0.029160          (Bread, Pastry)       2\n",
       "22  0.028104             (Tea, Bread)       2\n",
       "23  0.054728           (Coffee, Cake)       2\n",
       "24  0.023772              (Tea, Cake)       2\n",
       "25  0.028209        (Cookies, Coffee)       2\n",
       "26  0.029583  (Coffee, Hot chocolate)       2\n",
       "27  0.020602          (Coffee, Juice)       2\n",
       "28  0.035182      (Coffee, Medialuna)       2\n",
       "29  0.047544         (Pastry, Coffee)       2\n",
       "30  0.038246       (Coffee, Sandwich)       2\n",
       "31  0.049868            (Tea, Coffee)       2\n",
       "32  0.023666          (Coffee, Toast)       2"
      ]
     },
     "execution_count": 23,
     "metadata": {},
     "output_type": "execute_result"
    }
   ],
   "source": [
    "#vytvoreni frekventovanych mnozin pomoci Apriori\n",
    "frequent_items = apriori(xtend_data, min_support = 0.02, use_colnames = True)\n",
    "frequent_items['lenght'] = frequent_items['itemsets'].apply(lambda x: len(x))\n",
    "frequent_items"
   ]
  },
  {
   "cell_type": "code",
   "execution_count": 24,
   "metadata": {},
   "outputs": [
    {
     "data": {
      "text/html": [
       "<div>\n",
       "<style scoped>\n",
       "    .dataframe tbody tr th:only-of-type {\n",
       "        vertical-align: middle;\n",
       "    }\n",
       "\n",
       "    .dataframe tbody tr th {\n",
       "        vertical-align: top;\n",
       "    }\n",
       "\n",
       "    .dataframe thead th {\n",
       "        text-align: right;\n",
       "    }\n",
       "</style>\n",
       "<table border=\"1\" class=\"dataframe\">\n",
       "  <thead>\n",
       "    <tr style=\"text-align: right;\">\n",
       "      <th></th>\n",
       "      <th>antecedents</th>\n",
       "      <th>consequents</th>\n",
       "      <th>antecedent support</th>\n",
       "      <th>consequent support</th>\n",
       "      <th>support</th>\n",
       "      <th>confidence</th>\n",
       "      <th>lift</th>\n",
       "      <th>leverage</th>\n",
       "      <th>conviction</th>\n",
       "    </tr>\n",
       "  </thead>\n",
       "  <tbody>\n",
       "    <tr>\n",
       "      <th>0</th>\n",
       "      <td>(Toast)</td>\n",
       "      <td>(Coffee)</td>\n",
       "      <td>0.033597</td>\n",
       "      <td>0.478394</td>\n",
       "      <td>0.023666</td>\n",
       "      <td>0.704403</td>\n",
       "      <td>1.472431</td>\n",
       "      <td>0.007593</td>\n",
       "      <td>1.764582</td>\n",
       "    </tr>\n",
       "    <tr>\n",
       "      <th>1</th>\n",
       "      <td>(Medialuna)</td>\n",
       "      <td>(Coffee)</td>\n",
       "      <td>0.061807</td>\n",
       "      <td>0.478394</td>\n",
       "      <td>0.035182</td>\n",
       "      <td>0.569231</td>\n",
       "      <td>1.189878</td>\n",
       "      <td>0.005614</td>\n",
       "      <td>1.210871</td>\n",
       "    </tr>\n",
       "    <tr>\n",
       "      <th>2</th>\n",
       "      <td>(Pastry)</td>\n",
       "      <td>(Coffee)</td>\n",
       "      <td>0.086107</td>\n",
       "      <td>0.478394</td>\n",
       "      <td>0.047544</td>\n",
       "      <td>0.552147</td>\n",
       "      <td>1.154168</td>\n",
       "      <td>0.006351</td>\n",
       "      <td>1.164682</td>\n",
       "    </tr>\n",
       "    <tr>\n",
       "      <th>3</th>\n",
       "      <td>(Juice)</td>\n",
       "      <td>(Coffee)</td>\n",
       "      <td>0.038563</td>\n",
       "      <td>0.478394</td>\n",
       "      <td>0.020602</td>\n",
       "      <td>0.534247</td>\n",
       "      <td>1.116750</td>\n",
       "      <td>0.002154</td>\n",
       "      <td>1.119919</td>\n",
       "    </tr>\n",
       "    <tr>\n",
       "      <th>4</th>\n",
       "      <td>(Sandwich)</td>\n",
       "      <td>(Coffee)</td>\n",
       "      <td>0.071844</td>\n",
       "      <td>0.478394</td>\n",
       "      <td>0.038246</td>\n",
       "      <td>0.532353</td>\n",
       "      <td>1.112792</td>\n",
       "      <td>0.003877</td>\n",
       "      <td>1.115384</td>\n",
       "    </tr>\n",
       "    <tr>\n",
       "      <th>5</th>\n",
       "      <td>(Cake)</td>\n",
       "      <td>(Coffee)</td>\n",
       "      <td>0.103856</td>\n",
       "      <td>0.478394</td>\n",
       "      <td>0.054728</td>\n",
       "      <td>0.526958</td>\n",
       "      <td>1.101515</td>\n",
       "      <td>0.005044</td>\n",
       "      <td>1.102664</td>\n",
       "    </tr>\n",
       "    <tr>\n",
       "      <th>6</th>\n",
       "      <td>(Cookies)</td>\n",
       "      <td>(Coffee)</td>\n",
       "      <td>0.054411</td>\n",
       "      <td>0.478394</td>\n",
       "      <td>0.028209</td>\n",
       "      <td>0.518447</td>\n",
       "      <td>1.083723</td>\n",
       "      <td>0.002179</td>\n",
       "      <td>1.083174</td>\n",
       "    </tr>\n",
       "    <tr>\n",
       "      <th>7</th>\n",
       "      <td>(Hot chocolate)</td>\n",
       "      <td>(Coffee)</td>\n",
       "      <td>0.058320</td>\n",
       "      <td>0.478394</td>\n",
       "      <td>0.029583</td>\n",
       "      <td>0.507246</td>\n",
       "      <td>1.060311</td>\n",
       "      <td>0.001683</td>\n",
       "      <td>1.058553</td>\n",
       "    </tr>\n",
       "    <tr>\n",
       "      <th>8</th>\n",
       "      <td>(Pastry)</td>\n",
       "      <td>(Bread)</td>\n",
       "      <td>0.086107</td>\n",
       "      <td>0.327205</td>\n",
       "      <td>0.029160</td>\n",
       "      <td>0.338650</td>\n",
       "      <td>1.034977</td>\n",
       "      <td>0.000985</td>\n",
       "      <td>1.017305</td>\n",
       "    </tr>\n",
       "    <tr>\n",
       "      <th>9</th>\n",
       "      <td>(Cake)</td>\n",
       "      <td>(Tea)</td>\n",
       "      <td>0.103856</td>\n",
       "      <td>0.142631</td>\n",
       "      <td>0.023772</td>\n",
       "      <td>0.228891</td>\n",
       "      <td>1.604781</td>\n",
       "      <td>0.008959</td>\n",
       "      <td>1.111865</td>\n",
       "    </tr>\n",
       "    <tr>\n",
       "      <th>10</th>\n",
       "      <td>(Tea)</td>\n",
       "      <td>(Cake)</td>\n",
       "      <td>0.142631</td>\n",
       "      <td>0.103856</td>\n",
       "      <td>0.023772</td>\n",
       "      <td>0.166667</td>\n",
       "      <td>1.604781</td>\n",
       "      <td>0.008959</td>\n",
       "      <td>1.075372</td>\n",
       "    </tr>\n",
       "    <tr>\n",
       "      <th>11</th>\n",
       "      <td>(Coffee)</td>\n",
       "      <td>(Cake)</td>\n",
       "      <td>0.478394</td>\n",
       "      <td>0.103856</td>\n",
       "      <td>0.054728</td>\n",
       "      <td>0.114399</td>\n",
       "      <td>1.101515</td>\n",
       "      <td>0.005044</td>\n",
       "      <td>1.011905</td>\n",
       "    </tr>\n",
       "    <tr>\n",
       "      <th>12</th>\n",
       "      <td>(Coffee)</td>\n",
       "      <td>(Pastry)</td>\n",
       "      <td>0.478394</td>\n",
       "      <td>0.086107</td>\n",
       "      <td>0.047544</td>\n",
       "      <td>0.099382</td>\n",
       "      <td>1.154168</td>\n",
       "      <td>0.006351</td>\n",
       "      <td>1.014740</td>\n",
       "    </tr>\n",
       "    <tr>\n",
       "      <th>13</th>\n",
       "      <td>(Bread)</td>\n",
       "      <td>(Pastry)</td>\n",
       "      <td>0.327205</td>\n",
       "      <td>0.086107</td>\n",
       "      <td>0.029160</td>\n",
       "      <td>0.089119</td>\n",
       "      <td>1.034977</td>\n",
       "      <td>0.000985</td>\n",
       "      <td>1.003306</td>\n",
       "    </tr>\n",
       "    <tr>\n",
       "      <th>14</th>\n",
       "      <td>(Coffee)</td>\n",
       "      <td>(Sandwich)</td>\n",
       "      <td>0.478394</td>\n",
       "      <td>0.071844</td>\n",
       "      <td>0.038246</td>\n",
       "      <td>0.079947</td>\n",
       "      <td>1.112792</td>\n",
       "      <td>0.003877</td>\n",
       "      <td>1.008807</td>\n",
       "    </tr>\n",
       "    <tr>\n",
       "      <th>15</th>\n",
       "      <td>(Coffee)</td>\n",
       "      <td>(Medialuna)</td>\n",
       "      <td>0.478394</td>\n",
       "      <td>0.061807</td>\n",
       "      <td>0.035182</td>\n",
       "      <td>0.073542</td>\n",
       "      <td>1.189878</td>\n",
       "      <td>0.005614</td>\n",
       "      <td>1.012667</td>\n",
       "    </tr>\n",
       "    <tr>\n",
       "      <th>16</th>\n",
       "      <td>(Coffee)</td>\n",
       "      <td>(Hot chocolate)</td>\n",
       "      <td>0.478394</td>\n",
       "      <td>0.058320</td>\n",
       "      <td>0.029583</td>\n",
       "      <td>0.061837</td>\n",
       "      <td>1.060311</td>\n",
       "      <td>0.001683</td>\n",
       "      <td>1.003749</td>\n",
       "    </tr>\n",
       "    <tr>\n",
       "      <th>17</th>\n",
       "      <td>(Coffee)</td>\n",
       "      <td>(Cookies)</td>\n",
       "      <td>0.478394</td>\n",
       "      <td>0.054411</td>\n",
       "      <td>0.028209</td>\n",
       "      <td>0.058966</td>\n",
       "      <td>1.083723</td>\n",
       "      <td>0.002179</td>\n",
       "      <td>1.004841</td>\n",
       "    </tr>\n",
       "    <tr>\n",
       "      <th>18</th>\n",
       "      <td>(Coffee)</td>\n",
       "      <td>(Toast)</td>\n",
       "      <td>0.478394</td>\n",
       "      <td>0.033597</td>\n",
       "      <td>0.023666</td>\n",
       "      <td>0.049470</td>\n",
       "      <td>1.472431</td>\n",
       "      <td>0.007593</td>\n",
       "      <td>1.016699</td>\n",
       "    </tr>\n",
       "    <tr>\n",
       "      <th>19</th>\n",
       "      <td>(Coffee)</td>\n",
       "      <td>(Juice)</td>\n",
       "      <td>0.478394</td>\n",
       "      <td>0.038563</td>\n",
       "      <td>0.020602</td>\n",
       "      <td>0.043065</td>\n",
       "      <td>1.116750</td>\n",
       "      <td>0.002154</td>\n",
       "      <td>1.004705</td>\n",
       "    </tr>\n",
       "  </tbody>\n",
       "</table>\n",
       "</div>"
      ],
      "text/plain": [
       "        antecedents      consequents  antecedent support  consequent support  \\\n",
       "0           (Toast)         (Coffee)            0.033597            0.478394   \n",
       "1       (Medialuna)         (Coffee)            0.061807            0.478394   \n",
       "2          (Pastry)         (Coffee)            0.086107            0.478394   \n",
       "3           (Juice)         (Coffee)            0.038563            0.478394   \n",
       "4        (Sandwich)         (Coffee)            0.071844            0.478394   \n",
       "5            (Cake)         (Coffee)            0.103856            0.478394   \n",
       "6         (Cookies)         (Coffee)            0.054411            0.478394   \n",
       "7   (Hot chocolate)         (Coffee)            0.058320            0.478394   \n",
       "8          (Pastry)          (Bread)            0.086107            0.327205   \n",
       "9            (Cake)            (Tea)            0.103856            0.142631   \n",
       "10            (Tea)           (Cake)            0.142631            0.103856   \n",
       "11         (Coffee)           (Cake)            0.478394            0.103856   \n",
       "12         (Coffee)         (Pastry)            0.478394            0.086107   \n",
       "13          (Bread)         (Pastry)            0.327205            0.086107   \n",
       "14         (Coffee)       (Sandwich)            0.478394            0.071844   \n",
       "15         (Coffee)      (Medialuna)            0.478394            0.061807   \n",
       "16         (Coffee)  (Hot chocolate)            0.478394            0.058320   \n",
       "17         (Coffee)        (Cookies)            0.478394            0.054411   \n",
       "18         (Coffee)          (Toast)            0.478394            0.033597   \n",
       "19         (Coffee)          (Juice)            0.478394            0.038563   \n",
       "\n",
       "     support  confidence      lift  leverage  conviction  \n",
       "0   0.023666    0.704403  1.472431  0.007593    1.764582  \n",
       "1   0.035182    0.569231  1.189878  0.005614    1.210871  \n",
       "2   0.047544    0.552147  1.154168  0.006351    1.164682  \n",
       "3   0.020602    0.534247  1.116750  0.002154    1.119919  \n",
       "4   0.038246    0.532353  1.112792  0.003877    1.115384  \n",
       "5   0.054728    0.526958  1.101515  0.005044    1.102664  \n",
       "6   0.028209    0.518447  1.083723  0.002179    1.083174  \n",
       "7   0.029583    0.507246  1.060311  0.001683    1.058553  \n",
       "8   0.029160    0.338650  1.034977  0.000985    1.017305  \n",
       "9   0.023772    0.228891  1.604781  0.008959    1.111865  \n",
       "10  0.023772    0.166667  1.604781  0.008959    1.075372  \n",
       "11  0.054728    0.114399  1.101515  0.005044    1.011905  \n",
       "12  0.047544    0.099382  1.154168  0.006351    1.014740  \n",
       "13  0.029160    0.089119  1.034977  0.000985    1.003306  \n",
       "14  0.038246    0.079947  1.112792  0.003877    1.008807  \n",
       "15  0.035182    0.073542  1.189878  0.005614    1.012667  \n",
       "16  0.029583    0.061837  1.060311  0.001683    1.003749  \n",
       "17  0.028209    0.058966  1.083723  0.002179    1.004841  \n",
       "18  0.023666    0.049470  1.472431  0.007593    1.016699  \n",
       "19  0.020602    0.043065  1.116750  0.002154    1.004705  "
      ]
     },
     "execution_count": 24,
     "metadata": {},
     "output_type": "execute_result"
    }
   ],
   "source": [
    "#vytvoreni pravidel z frekventovanych mnozin vytvorene pomoci algoritmu Apriori\n",
    "rules = association_rules(frequent_items, metric='lift')\n",
    "#upraveni dataFrame, aby se zobrazili pravidla sestupne podle metriky spolehlivosti\n",
    "rules = rules.sort_values(by=['confidence'], ascending=False)\n",
    "rules = rules.reset_index(drop=True)\n",
    "rules"
   ]
  },
  {
   "cell_type": "markdown",
   "metadata": {},
   "source": [
    "### mlxtend implementace FP-growth "
   ]
  },
  {
   "cell_type": "code",
   "execution_count": 25,
   "metadata": {},
   "outputs": [
    {
     "data": {
      "text/html": [
       "<div>\n",
       "<style scoped>\n",
       "    .dataframe tbody tr th:only-of-type {\n",
       "        vertical-align: middle;\n",
       "    }\n",
       "\n",
       "    .dataframe tbody tr th {\n",
       "        vertical-align: top;\n",
       "    }\n",
       "\n",
       "    .dataframe thead th {\n",
       "        text-align: right;\n",
       "    }\n",
       "</style>\n",
       "<table border=\"1\" class=\"dataframe\">\n",
       "  <thead>\n",
       "    <tr style=\"text-align: right;\">\n",
       "      <th></th>\n",
       "      <th>support</th>\n",
       "      <th>itemsets</th>\n",
       "    </tr>\n",
       "  </thead>\n",
       "  <tbody>\n",
       "    <tr>\n",
       "      <th>0</th>\n",
       "      <td>0.327205</td>\n",
       "      <td>(Bread)</td>\n",
       "    </tr>\n",
       "    <tr>\n",
       "      <th>1</th>\n",
       "      <td>0.029054</td>\n",
       "      <td>(Scandinavian)</td>\n",
       "    </tr>\n",
       "    <tr>\n",
       "      <th>2</th>\n",
       "      <td>0.058320</td>\n",
       "      <td>(Hot chocolate)</td>\n",
       "    </tr>\n",
       "    <tr>\n",
       "      <th>3</th>\n",
       "      <td>0.054411</td>\n",
       "      <td>(Cookies)</td>\n",
       "    </tr>\n",
       "    <tr>\n",
       "      <th>4</th>\n",
       "      <td>0.015003</td>\n",
       "      <td>(Jam)</td>\n",
       "    </tr>\n",
       "    <tr>\n",
       "      <th>...</th>\n",
       "      <td>...</td>\n",
       "      <td>...</td>\n",
       "    </tr>\n",
       "    <tr>\n",
       "      <th>56</th>\n",
       "      <td>0.019651</td>\n",
       "      <td>(Brownie, Coffee)</td>\n",
       "    </tr>\n",
       "    <tr>\n",
       "      <th>57</th>\n",
       "      <td>0.010777</td>\n",
       "      <td>(Bread, Brownie)</td>\n",
       "    </tr>\n",
       "    <tr>\n",
       "      <th>58</th>\n",
       "      <td>0.023666</td>\n",
       "      <td>(Coffee, Toast)</td>\n",
       "    </tr>\n",
       "    <tr>\n",
       "      <th>59</th>\n",
       "      <td>0.018067</td>\n",
       "      <td>(Coffee, Scone)</td>\n",
       "    </tr>\n",
       "    <tr>\n",
       "      <th>60</th>\n",
       "      <td>0.010882</td>\n",
       "      <td>(Coffee, Spanish Brunch)</td>\n",
       "    </tr>\n",
       "  </tbody>\n",
       "</table>\n",
       "<p>61 rows × 2 columns</p>\n",
       "</div>"
      ],
      "text/plain": [
       "     support                  itemsets\n",
       "0   0.327205                   (Bread)\n",
       "1   0.029054            (Scandinavian)\n",
       "2   0.058320           (Hot chocolate)\n",
       "3   0.054411                 (Cookies)\n",
       "4   0.015003                     (Jam)\n",
       "..       ...                       ...\n",
       "56  0.019651         (Brownie, Coffee)\n",
       "57  0.010777          (Bread, Brownie)\n",
       "58  0.023666           (Coffee, Toast)\n",
       "59  0.018067           (Coffee, Scone)\n",
       "60  0.010882  (Coffee, Spanish Brunch)\n",
       "\n",
       "[61 rows x 2 columns]"
      ]
     },
     "execution_count": 25,
     "metadata": {},
     "output_type": "execute_result"
    }
   ],
   "source": [
    "from mlxtend.frequent_patterns import fpgrowth\n",
    "\n",
    "#vytvoreni frekventovanych mnozin pomoci FP-growth\n",
    "fitems_fpg = fpgrowth(xtend_data, min_support = 0.01, use_colnames=True)\n",
    "fitems_fpg"
   ]
  },
  {
   "cell_type": "code",
   "execution_count": 26,
   "metadata": {},
   "outputs": [
    {
     "data": {
      "text/html": [
       "<div>\n",
       "<style scoped>\n",
       "    .dataframe tbody tr th:only-of-type {\n",
       "        vertical-align: middle;\n",
       "    }\n",
       "\n",
       "    .dataframe tbody tr th {\n",
       "        vertical-align: top;\n",
       "    }\n",
       "\n",
       "    .dataframe thead th {\n",
       "        text-align: right;\n",
       "    }\n",
       "</style>\n",
       "<table border=\"1\" class=\"dataframe\">\n",
       "  <thead>\n",
       "    <tr style=\"text-align: right;\">\n",
       "      <th></th>\n",
       "      <th>antecedents</th>\n",
       "      <th>consequents</th>\n",
       "      <th>antecedent support</th>\n",
       "      <th>consequent support</th>\n",
       "      <th>support</th>\n",
       "      <th>confidence</th>\n",
       "      <th>lift</th>\n",
       "      <th>leverage</th>\n",
       "      <th>conviction</th>\n",
       "    </tr>\n",
       "  </thead>\n",
       "  <tbody>\n",
       "    <tr>\n",
       "      <th>0</th>\n",
       "      <td>(Toast)</td>\n",
       "      <td>(Coffee)</td>\n",
       "      <td>0.033597</td>\n",
       "      <td>0.478394</td>\n",
       "      <td>0.023666</td>\n",
       "      <td>0.704403</td>\n",
       "      <td>1.472431</td>\n",
       "      <td>0.007593</td>\n",
       "      <td>1.764582</td>\n",
       "    </tr>\n",
       "    <tr>\n",
       "      <th>1</th>\n",
       "      <td>(Spanish Brunch)</td>\n",
       "      <td>(Coffee)</td>\n",
       "      <td>0.018172</td>\n",
       "      <td>0.478394</td>\n",
       "      <td>0.010882</td>\n",
       "      <td>0.598837</td>\n",
       "      <td>1.251766</td>\n",
       "      <td>0.002189</td>\n",
       "      <td>1.300235</td>\n",
       "    </tr>\n",
       "    <tr>\n",
       "      <th>2</th>\n",
       "      <td>(Medialuna)</td>\n",
       "      <td>(Coffee)</td>\n",
       "      <td>0.061807</td>\n",
       "      <td>0.478394</td>\n",
       "      <td>0.035182</td>\n",
       "      <td>0.569231</td>\n",
       "      <td>1.189878</td>\n",
       "      <td>0.005614</td>\n",
       "      <td>1.210871</td>\n",
       "    </tr>\n",
       "    <tr>\n",
       "      <th>3</th>\n",
       "      <td>(Pastry)</td>\n",
       "      <td>(Coffee)</td>\n",
       "      <td>0.086107</td>\n",
       "      <td>0.478394</td>\n",
       "      <td>0.047544</td>\n",
       "      <td>0.552147</td>\n",
       "      <td>1.154168</td>\n",
       "      <td>0.006351</td>\n",
       "      <td>1.164682</td>\n",
       "    </tr>\n",
       "    <tr>\n",
       "      <th>4</th>\n",
       "      <td>(Alfajores)</td>\n",
       "      <td>(Coffee)</td>\n",
       "      <td>0.036344</td>\n",
       "      <td>0.478394</td>\n",
       "      <td>0.019651</td>\n",
       "      <td>0.540698</td>\n",
       "      <td>1.130235</td>\n",
       "      <td>0.002264</td>\n",
       "      <td>1.135648</td>\n",
       "    </tr>\n",
       "    <tr>\n",
       "      <th>5</th>\n",
       "      <td>(Juice)</td>\n",
       "      <td>(Coffee)</td>\n",
       "      <td>0.038563</td>\n",
       "      <td>0.478394</td>\n",
       "      <td>0.020602</td>\n",
       "      <td>0.534247</td>\n",
       "      <td>1.116750</td>\n",
       "      <td>0.002154</td>\n",
       "      <td>1.119919</td>\n",
       "    </tr>\n",
       "    <tr>\n",
       "      <th>6</th>\n",
       "      <td>(Sandwich)</td>\n",
       "      <td>(Coffee)</td>\n",
       "      <td>0.071844</td>\n",
       "      <td>0.478394</td>\n",
       "      <td>0.038246</td>\n",
       "      <td>0.532353</td>\n",
       "      <td>1.112792</td>\n",
       "      <td>0.003877</td>\n",
       "      <td>1.115384</td>\n",
       "    </tr>\n",
       "    <tr>\n",
       "      <th>7</th>\n",
       "      <td>(Cake)</td>\n",
       "      <td>(Coffee)</td>\n",
       "      <td>0.103856</td>\n",
       "      <td>0.478394</td>\n",
       "      <td>0.054728</td>\n",
       "      <td>0.526958</td>\n",
       "      <td>1.101515</td>\n",
       "      <td>0.005044</td>\n",
       "      <td>1.102664</td>\n",
       "    </tr>\n",
       "    <tr>\n",
       "      <th>8</th>\n",
       "      <td>(Scone)</td>\n",
       "      <td>(Coffee)</td>\n",
       "      <td>0.034548</td>\n",
       "      <td>0.478394</td>\n",
       "      <td>0.018067</td>\n",
       "      <td>0.522936</td>\n",
       "      <td>1.093107</td>\n",
       "      <td>0.001539</td>\n",
       "      <td>1.093366</td>\n",
       "    </tr>\n",
       "    <tr>\n",
       "      <th>9</th>\n",
       "      <td>(Cookies)</td>\n",
       "      <td>(Coffee)</td>\n",
       "      <td>0.054411</td>\n",
       "      <td>0.478394</td>\n",
       "      <td>0.028209</td>\n",
       "      <td>0.518447</td>\n",
       "      <td>1.083723</td>\n",
       "      <td>0.002179</td>\n",
       "      <td>1.083174</td>\n",
       "    </tr>\n",
       "    <tr>\n",
       "      <th>10</th>\n",
       "      <td>(Hot chocolate)</td>\n",
       "      <td>(Coffee)</td>\n",
       "      <td>0.058320</td>\n",
       "      <td>0.478394</td>\n",
       "      <td>0.029583</td>\n",
       "      <td>0.507246</td>\n",
       "      <td>1.060311</td>\n",
       "      <td>0.001683</td>\n",
       "      <td>1.058553</td>\n",
       "    </tr>\n",
       "    <tr>\n",
       "      <th>11</th>\n",
       "      <td>(Brownie)</td>\n",
       "      <td>(Coffee)</td>\n",
       "      <td>0.040042</td>\n",
       "      <td>0.478394</td>\n",
       "      <td>0.019651</td>\n",
       "      <td>0.490765</td>\n",
       "      <td>1.025860</td>\n",
       "      <td>0.000495</td>\n",
       "      <td>1.024293</td>\n",
       "    </tr>\n",
       "    <tr>\n",
       "      <th>12</th>\n",
       "      <td>(Muffin)</td>\n",
       "      <td>(Coffee)</td>\n",
       "      <td>0.038457</td>\n",
       "      <td>0.478394</td>\n",
       "      <td>0.018806</td>\n",
       "      <td>0.489011</td>\n",
       "      <td>1.022193</td>\n",
       "      <td>0.000408</td>\n",
       "      <td>1.020777</td>\n",
       "    </tr>\n",
       "    <tr>\n",
       "      <th>13</th>\n",
       "      <td>(Soup)</td>\n",
       "      <td>(Coffee)</td>\n",
       "      <td>0.034443</td>\n",
       "      <td>0.478394</td>\n",
       "      <td>0.015848</td>\n",
       "      <td>0.460123</td>\n",
       "      <td>0.961807</td>\n",
       "      <td>-0.000629</td>\n",
       "      <td>0.966156</td>\n",
       "    </tr>\n",
       "    <tr>\n",
       "      <th>14</th>\n",
       "      <td>(Bread, Cake)</td>\n",
       "      <td>(Coffee)</td>\n",
       "      <td>0.023349</td>\n",
       "      <td>0.478394</td>\n",
       "      <td>0.010037</td>\n",
       "      <td>0.429864</td>\n",
       "      <td>0.898557</td>\n",
       "      <td>-0.001133</td>\n",
       "      <td>0.914880</td>\n",
       "    </tr>\n",
       "    <tr>\n",
       "      <th>15</th>\n",
       "      <td>(Tea, Cake)</td>\n",
       "      <td>(Coffee)</td>\n",
       "      <td>0.023772</td>\n",
       "      <td>0.478394</td>\n",
       "      <td>0.010037</td>\n",
       "      <td>0.422222</td>\n",
       "      <td>0.882582</td>\n",
       "      <td>-0.001335</td>\n",
       "      <td>0.902779</td>\n",
       "    </tr>\n",
       "    <tr>\n",
       "      <th>16</th>\n",
       "      <td>(Bread, Pastry)</td>\n",
       "      <td>(Coffee)</td>\n",
       "      <td>0.029160</td>\n",
       "      <td>0.478394</td>\n",
       "      <td>0.011199</td>\n",
       "      <td>0.384058</td>\n",
       "      <td>0.802807</td>\n",
       "      <td>-0.002751</td>\n",
       "      <td>0.846843</td>\n",
       "    </tr>\n",
       "    <tr>\n",
       "      <th>17</th>\n",
       "      <td>(Pastry)</td>\n",
       "      <td>(Bread)</td>\n",
       "      <td>0.086107</td>\n",
       "      <td>0.327205</td>\n",
       "      <td>0.029160</td>\n",
       "      <td>0.338650</td>\n",
       "      <td>1.034977</td>\n",
       "      <td>0.000985</td>\n",
       "      <td>1.017305</td>\n",
       "    </tr>\n",
       "    <tr>\n",
       "      <th>18</th>\n",
       "      <td>(Alfajores)</td>\n",
       "      <td>(Bread)</td>\n",
       "      <td>0.036344</td>\n",
       "      <td>0.327205</td>\n",
       "      <td>0.010354</td>\n",
       "      <td>0.284884</td>\n",
       "      <td>0.870657</td>\n",
       "      <td>-0.001538</td>\n",
       "      <td>0.940818</td>\n",
       "    </tr>\n",
       "    <tr>\n",
       "      <th>19</th>\n",
       "      <td>(Medialuna)</td>\n",
       "      <td>(Bread)</td>\n",
       "      <td>0.061807</td>\n",
       "      <td>0.327205</td>\n",
       "      <td>0.016904</td>\n",
       "      <td>0.273504</td>\n",
       "      <td>0.835879</td>\n",
       "      <td>-0.003319</td>\n",
       "      <td>0.926082</td>\n",
       "    </tr>\n",
       "    <tr>\n",
       "      <th>20</th>\n",
       "      <td>(Brownie)</td>\n",
       "      <td>(Bread)</td>\n",
       "      <td>0.040042</td>\n",
       "      <td>0.327205</td>\n",
       "      <td>0.010777</td>\n",
       "      <td>0.269129</td>\n",
       "      <td>0.822508</td>\n",
       "      <td>-0.002326</td>\n",
       "      <td>0.920538</td>\n",
       "    </tr>\n",
       "    <tr>\n",
       "      <th>21</th>\n",
       "      <td>(Cookies)</td>\n",
       "      <td>(Bread)</td>\n",
       "      <td>0.054411</td>\n",
       "      <td>0.327205</td>\n",
       "      <td>0.014474</td>\n",
       "      <td>0.266019</td>\n",
       "      <td>0.813004</td>\n",
       "      <td>-0.003329</td>\n",
       "      <td>0.916638</td>\n",
       "    </tr>\n",
       "    <tr>\n",
       "      <th>22</th>\n",
       "      <td>(Cake)</td>\n",
       "      <td>(Tea)</td>\n",
       "      <td>0.103856</td>\n",
       "      <td>0.142631</td>\n",
       "      <td>0.023772</td>\n",
       "      <td>0.228891</td>\n",
       "      <td>1.604781</td>\n",
       "      <td>0.008959</td>\n",
       "      <td>1.111865</td>\n",
       "    </tr>\n",
       "    <tr>\n",
       "      <th>23</th>\n",
       "      <td>(Tea, Coffee)</td>\n",
       "      <td>(Cake)</td>\n",
       "      <td>0.049868</td>\n",
       "      <td>0.103856</td>\n",
       "      <td>0.010037</td>\n",
       "      <td>0.201271</td>\n",
       "      <td>1.937977</td>\n",
       "      <td>0.004858</td>\n",
       "      <td>1.121962</td>\n",
       "    </tr>\n",
       "    <tr>\n",
       "      <th>24</th>\n",
       "      <td>(Sandwich)</td>\n",
       "      <td>(Tea)</td>\n",
       "      <td>0.071844</td>\n",
       "      <td>0.142631</td>\n",
       "      <td>0.014369</td>\n",
       "      <td>0.200000</td>\n",
       "      <td>1.402222</td>\n",
       "      <td>0.004122</td>\n",
       "      <td>1.071712</td>\n",
       "    </tr>\n",
       "    <tr>\n",
       "      <th>25</th>\n",
       "      <td>(Hot chocolate)</td>\n",
       "      <td>(Cake)</td>\n",
       "      <td>0.058320</td>\n",
       "      <td>0.103856</td>\n",
       "      <td>0.011410</td>\n",
       "      <td>0.195652</td>\n",
       "      <td>1.883874</td>\n",
       "      <td>0.005354</td>\n",
       "      <td>1.114125</td>\n",
       "    </tr>\n",
       "    <tr>\n",
       "      <th>26</th>\n",
       "      <td>(Coffee, Cake)</td>\n",
       "      <td>(Tea)</td>\n",
       "      <td>0.054728</td>\n",
       "      <td>0.142631</td>\n",
       "      <td>0.010037</td>\n",
       "      <td>0.183398</td>\n",
       "      <td>1.285822</td>\n",
       "      <td>0.002231</td>\n",
       "      <td>1.049923</td>\n",
       "    </tr>\n",
       "    <tr>\n",
       "      <th>27</th>\n",
       "      <td>(Tea)</td>\n",
       "      <td>(Cake)</td>\n",
       "      <td>0.142631</td>\n",
       "      <td>0.103856</td>\n",
       "      <td>0.023772</td>\n",
       "      <td>0.166667</td>\n",
       "      <td>1.604781</td>\n",
       "      <td>0.008959</td>\n",
       "      <td>1.075372</td>\n",
       "    </tr>\n",
       "    <tr>\n",
       "      <th>28</th>\n",
       "      <td>(Pastry)</td>\n",
       "      <td>(Bread, Coffee)</td>\n",
       "      <td>0.086107</td>\n",
       "      <td>0.090016</td>\n",
       "      <td>0.011199</td>\n",
       "      <td>0.130061</td>\n",
       "      <td>1.444872</td>\n",
       "      <td>0.003448</td>\n",
       "      <td>1.046033</td>\n",
       "    </tr>\n",
       "    <tr>\n",
       "      <th>29</th>\n",
       "      <td>(Bread, Coffee)</td>\n",
       "      <td>(Pastry)</td>\n",
       "      <td>0.090016</td>\n",
       "      <td>0.086107</td>\n",
       "      <td>0.011199</td>\n",
       "      <td>0.124413</td>\n",
       "      <td>1.444872</td>\n",
       "      <td>0.003448</td>\n",
       "      <td>1.043749</td>\n",
       "    </tr>\n",
       "    <tr>\n",
       "      <th>30</th>\n",
       "      <td>(Coffee)</td>\n",
       "      <td>(Cake)</td>\n",
       "      <td>0.478394</td>\n",
       "      <td>0.103856</td>\n",
       "      <td>0.054728</td>\n",
       "      <td>0.114399</td>\n",
       "      <td>1.101515</td>\n",
       "      <td>0.005044</td>\n",
       "      <td>1.011905</td>\n",
       "    </tr>\n",
       "    <tr>\n",
       "      <th>31</th>\n",
       "      <td>(Bread, Coffee)</td>\n",
       "      <td>(Cake)</td>\n",
       "      <td>0.090016</td>\n",
       "      <td>0.103856</td>\n",
       "      <td>0.010037</td>\n",
       "      <td>0.111502</td>\n",
       "      <td>1.073621</td>\n",
       "      <td>0.000688</td>\n",
       "      <td>1.008606</td>\n",
       "    </tr>\n",
       "    <tr>\n",
       "      <th>32</th>\n",
       "      <td>(Cake)</td>\n",
       "      <td>(Hot chocolate)</td>\n",
       "      <td>0.103856</td>\n",
       "      <td>0.058320</td>\n",
       "      <td>0.011410</td>\n",
       "      <td>0.109868</td>\n",
       "      <td>1.883874</td>\n",
       "      <td>0.005354</td>\n",
       "      <td>1.057910</td>\n",
       "    </tr>\n",
       "    <tr>\n",
       "      <th>33</th>\n",
       "      <td>(Tea)</td>\n",
       "      <td>(Sandwich)</td>\n",
       "      <td>0.142631</td>\n",
       "      <td>0.071844</td>\n",
       "      <td>0.014369</td>\n",
       "      <td>0.100741</td>\n",
       "      <td>1.402222</td>\n",
       "      <td>0.004122</td>\n",
       "      <td>1.032134</td>\n",
       "    </tr>\n",
       "    <tr>\n",
       "      <th>34</th>\n",
       "      <td>(Coffee)</td>\n",
       "      <td>(Pastry)</td>\n",
       "      <td>0.478394</td>\n",
       "      <td>0.086107</td>\n",
       "      <td>0.047544</td>\n",
       "      <td>0.099382</td>\n",
       "      <td>1.154168</td>\n",
       "      <td>0.006351</td>\n",
       "      <td>1.014740</td>\n",
       "    </tr>\n",
       "    <tr>\n",
       "      <th>35</th>\n",
       "      <td>(Cake)</td>\n",
       "      <td>(Tea, Coffee)</td>\n",
       "      <td>0.103856</td>\n",
       "      <td>0.049868</td>\n",
       "      <td>0.010037</td>\n",
       "      <td>0.096643</td>\n",
       "      <td>1.937977</td>\n",
       "      <td>0.004858</td>\n",
       "      <td>1.051779</td>\n",
       "    </tr>\n",
       "    <tr>\n",
       "      <th>36</th>\n",
       "      <td>(Cake)</td>\n",
       "      <td>(Bread, Coffee)</td>\n",
       "      <td>0.103856</td>\n",
       "      <td>0.090016</td>\n",
       "      <td>0.010037</td>\n",
       "      <td>0.096643</td>\n",
       "      <td>1.073621</td>\n",
       "      <td>0.000688</td>\n",
       "      <td>1.007336</td>\n",
       "    </tr>\n",
       "    <tr>\n",
       "      <th>37</th>\n",
       "      <td>(Bread)</td>\n",
       "      <td>(Pastry)</td>\n",
       "      <td>0.327205</td>\n",
       "      <td>0.086107</td>\n",
       "      <td>0.029160</td>\n",
       "      <td>0.089119</td>\n",
       "      <td>1.034977</td>\n",
       "      <td>0.000985</td>\n",
       "      <td>1.003306</td>\n",
       "    </tr>\n",
       "    <tr>\n",
       "      <th>38</th>\n",
       "      <td>(Coffee)</td>\n",
       "      <td>(Sandwich)</td>\n",
       "      <td>0.478394</td>\n",
       "      <td>0.071844</td>\n",
       "      <td>0.038246</td>\n",
       "      <td>0.079947</td>\n",
       "      <td>1.112792</td>\n",
       "      <td>0.003877</td>\n",
       "      <td>1.008807</td>\n",
       "    </tr>\n",
       "    <tr>\n",
       "      <th>39</th>\n",
       "      <td>(Coffee)</td>\n",
       "      <td>(Medialuna)</td>\n",
       "      <td>0.478394</td>\n",
       "      <td>0.061807</td>\n",
       "      <td>0.035182</td>\n",
       "      <td>0.073542</td>\n",
       "      <td>1.189878</td>\n",
       "      <td>0.005614</td>\n",
       "      <td>1.012667</td>\n",
       "    </tr>\n",
       "    <tr>\n",
       "      <th>40</th>\n",
       "      <td>(Tea)</td>\n",
       "      <td>(Coffee, Cake)</td>\n",
       "      <td>0.142631</td>\n",
       "      <td>0.054728</td>\n",
       "      <td>0.010037</td>\n",
       "      <td>0.070370</td>\n",
       "      <td>1.285822</td>\n",
       "      <td>0.002231</td>\n",
       "      <td>1.016827</td>\n",
       "    </tr>\n",
       "    <tr>\n",
       "      <th>41</th>\n",
       "      <td>(Coffee)</td>\n",
       "      <td>(Hot chocolate)</td>\n",
       "      <td>0.478394</td>\n",
       "      <td>0.058320</td>\n",
       "      <td>0.029583</td>\n",
       "      <td>0.061837</td>\n",
       "      <td>1.060311</td>\n",
       "      <td>0.001683</td>\n",
       "      <td>1.003749</td>\n",
       "    </tr>\n",
       "    <tr>\n",
       "      <th>42</th>\n",
       "      <td>(Coffee)</td>\n",
       "      <td>(Cookies)</td>\n",
       "      <td>0.478394</td>\n",
       "      <td>0.054411</td>\n",
       "      <td>0.028209</td>\n",
       "      <td>0.058966</td>\n",
       "      <td>1.083723</td>\n",
       "      <td>0.002179</td>\n",
       "      <td>1.004841</td>\n",
       "    </tr>\n",
       "    <tr>\n",
       "      <th>43</th>\n",
       "      <td>(Bread)</td>\n",
       "      <td>(Medialuna)</td>\n",
       "      <td>0.327205</td>\n",
       "      <td>0.061807</td>\n",
       "      <td>0.016904</td>\n",
       "      <td>0.051663</td>\n",
       "      <td>0.835879</td>\n",
       "      <td>-0.003319</td>\n",
       "      <td>0.989304</td>\n",
       "    </tr>\n",
       "    <tr>\n",
       "      <th>44</th>\n",
       "      <td>(Coffee)</td>\n",
       "      <td>(Toast)</td>\n",
       "      <td>0.478394</td>\n",
       "      <td>0.033597</td>\n",
       "      <td>0.023666</td>\n",
       "      <td>0.049470</td>\n",
       "      <td>1.472431</td>\n",
       "      <td>0.007593</td>\n",
       "      <td>1.016699</td>\n",
       "    </tr>\n",
       "    <tr>\n",
       "      <th>45</th>\n",
       "      <td>(Bread)</td>\n",
       "      <td>(Cookies)</td>\n",
       "      <td>0.327205</td>\n",
       "      <td>0.054411</td>\n",
       "      <td>0.014474</td>\n",
       "      <td>0.044236</td>\n",
       "      <td>0.813004</td>\n",
       "      <td>-0.003329</td>\n",
       "      <td>0.989354</td>\n",
       "    </tr>\n",
       "    <tr>\n",
       "      <th>46</th>\n",
       "      <td>(Coffee)</td>\n",
       "      <td>(Juice)</td>\n",
       "      <td>0.478394</td>\n",
       "      <td>0.038563</td>\n",
       "      <td>0.020602</td>\n",
       "      <td>0.043065</td>\n",
       "      <td>1.116750</td>\n",
       "      <td>0.002154</td>\n",
       "      <td>1.004705</td>\n",
       "    </tr>\n",
       "    <tr>\n",
       "      <th>47</th>\n",
       "      <td>(Coffee)</td>\n",
       "      <td>(Alfajores)</td>\n",
       "      <td>0.478394</td>\n",
       "      <td>0.036344</td>\n",
       "      <td>0.019651</td>\n",
       "      <td>0.041078</td>\n",
       "      <td>1.130235</td>\n",
       "      <td>0.002264</td>\n",
       "      <td>1.004936</td>\n",
       "    </tr>\n",
       "    <tr>\n",
       "      <th>48</th>\n",
       "      <td>(Coffee)</td>\n",
       "      <td>(Brownie)</td>\n",
       "      <td>0.478394</td>\n",
       "      <td>0.040042</td>\n",
       "      <td>0.019651</td>\n",
       "      <td>0.041078</td>\n",
       "      <td>1.025860</td>\n",
       "      <td>0.000495</td>\n",
       "      <td>1.001080</td>\n",
       "    </tr>\n",
       "    <tr>\n",
       "      <th>49</th>\n",
       "      <td>(Coffee)</td>\n",
       "      <td>(Muffin)</td>\n",
       "      <td>0.478394</td>\n",
       "      <td>0.038457</td>\n",
       "      <td>0.018806</td>\n",
       "      <td>0.039311</td>\n",
       "      <td>1.022193</td>\n",
       "      <td>0.000408</td>\n",
       "      <td>1.000888</td>\n",
       "    </tr>\n",
       "    <tr>\n",
       "      <th>50</th>\n",
       "      <td>(Coffee)</td>\n",
       "      <td>(Scone)</td>\n",
       "      <td>0.478394</td>\n",
       "      <td>0.034548</td>\n",
       "      <td>0.018067</td>\n",
       "      <td>0.037765</td>\n",
       "      <td>1.093107</td>\n",
       "      <td>0.001539</td>\n",
       "      <td>1.003343</td>\n",
       "    </tr>\n",
       "    <tr>\n",
       "      <th>51</th>\n",
       "      <td>(Coffee)</td>\n",
       "      <td>(Soup)</td>\n",
       "      <td>0.478394</td>\n",
       "      <td>0.034443</td>\n",
       "      <td>0.015848</td>\n",
       "      <td>0.033127</td>\n",
       "      <td>0.961807</td>\n",
       "      <td>-0.000629</td>\n",
       "      <td>0.998639</td>\n",
       "    </tr>\n",
       "    <tr>\n",
       "      <th>52</th>\n",
       "      <td>(Bread)</td>\n",
       "      <td>(Brownie)</td>\n",
       "      <td>0.327205</td>\n",
       "      <td>0.040042</td>\n",
       "      <td>0.010777</td>\n",
       "      <td>0.032935</td>\n",
       "      <td>0.822508</td>\n",
       "      <td>-0.002326</td>\n",
       "      <td>0.992651</td>\n",
       "    </tr>\n",
       "    <tr>\n",
       "      <th>53</th>\n",
       "      <td>(Bread)</td>\n",
       "      <td>(Alfajores)</td>\n",
       "      <td>0.327205</td>\n",
       "      <td>0.036344</td>\n",
       "      <td>0.010354</td>\n",
       "      <td>0.031644</td>\n",
       "      <td>0.870657</td>\n",
       "      <td>-0.001538</td>\n",
       "      <td>0.995145</td>\n",
       "    </tr>\n",
       "    <tr>\n",
       "      <th>54</th>\n",
       "      <td>(Coffee)</td>\n",
       "      <td>(Bread, Pastry)</td>\n",
       "      <td>0.478394</td>\n",
       "      <td>0.029160</td>\n",
       "      <td>0.011199</td>\n",
       "      <td>0.023410</td>\n",
       "      <td>0.802807</td>\n",
       "      <td>-0.002751</td>\n",
       "      <td>0.994112</td>\n",
       "    </tr>\n",
       "    <tr>\n",
       "      <th>55</th>\n",
       "      <td>(Coffee)</td>\n",
       "      <td>(Spanish Brunch)</td>\n",
       "      <td>0.478394</td>\n",
       "      <td>0.018172</td>\n",
       "      <td>0.010882</td>\n",
       "      <td>0.022747</td>\n",
       "      <td>1.251766</td>\n",
       "      <td>0.002189</td>\n",
       "      <td>1.004682</td>\n",
       "    </tr>\n",
       "    <tr>\n",
       "      <th>56</th>\n",
       "      <td>(Coffee)</td>\n",
       "      <td>(Bread, Cake)</td>\n",
       "      <td>0.478394</td>\n",
       "      <td>0.023349</td>\n",
       "      <td>0.010037</td>\n",
       "      <td>0.020981</td>\n",
       "      <td>0.898557</td>\n",
       "      <td>-0.001133</td>\n",
       "      <td>0.997581</td>\n",
       "    </tr>\n",
       "    <tr>\n",
       "      <th>57</th>\n",
       "      <td>(Coffee)</td>\n",
       "      <td>(Tea, Cake)</td>\n",
       "      <td>0.478394</td>\n",
       "      <td>0.023772</td>\n",
       "      <td>0.010037</td>\n",
       "      <td>0.020981</td>\n",
       "      <td>0.882582</td>\n",
       "      <td>-0.001335</td>\n",
       "      <td>0.997149</td>\n",
       "    </tr>\n",
       "  </tbody>\n",
       "</table>\n",
       "</div>"
      ],
      "text/plain": [
       "         antecedents       consequents  antecedent support  \\\n",
       "0            (Toast)          (Coffee)            0.033597   \n",
       "1   (Spanish Brunch)          (Coffee)            0.018172   \n",
       "2        (Medialuna)          (Coffee)            0.061807   \n",
       "3           (Pastry)          (Coffee)            0.086107   \n",
       "4        (Alfajores)          (Coffee)            0.036344   \n",
       "5            (Juice)          (Coffee)            0.038563   \n",
       "6         (Sandwich)          (Coffee)            0.071844   \n",
       "7             (Cake)          (Coffee)            0.103856   \n",
       "8            (Scone)          (Coffee)            0.034548   \n",
       "9          (Cookies)          (Coffee)            0.054411   \n",
       "10   (Hot chocolate)          (Coffee)            0.058320   \n",
       "11         (Brownie)          (Coffee)            0.040042   \n",
       "12          (Muffin)          (Coffee)            0.038457   \n",
       "13            (Soup)          (Coffee)            0.034443   \n",
       "14     (Bread, Cake)          (Coffee)            0.023349   \n",
       "15       (Tea, Cake)          (Coffee)            0.023772   \n",
       "16   (Bread, Pastry)          (Coffee)            0.029160   \n",
       "17          (Pastry)           (Bread)            0.086107   \n",
       "18       (Alfajores)           (Bread)            0.036344   \n",
       "19       (Medialuna)           (Bread)            0.061807   \n",
       "20         (Brownie)           (Bread)            0.040042   \n",
       "21         (Cookies)           (Bread)            0.054411   \n",
       "22            (Cake)             (Tea)            0.103856   \n",
       "23     (Tea, Coffee)            (Cake)            0.049868   \n",
       "24        (Sandwich)             (Tea)            0.071844   \n",
       "25   (Hot chocolate)            (Cake)            0.058320   \n",
       "26    (Coffee, Cake)             (Tea)            0.054728   \n",
       "27             (Tea)            (Cake)            0.142631   \n",
       "28          (Pastry)   (Bread, Coffee)            0.086107   \n",
       "29   (Bread, Coffee)          (Pastry)            0.090016   \n",
       "30          (Coffee)            (Cake)            0.478394   \n",
       "31   (Bread, Coffee)            (Cake)            0.090016   \n",
       "32            (Cake)   (Hot chocolate)            0.103856   \n",
       "33             (Tea)        (Sandwich)            0.142631   \n",
       "34          (Coffee)          (Pastry)            0.478394   \n",
       "35            (Cake)     (Tea, Coffee)            0.103856   \n",
       "36            (Cake)   (Bread, Coffee)            0.103856   \n",
       "37           (Bread)          (Pastry)            0.327205   \n",
       "38          (Coffee)        (Sandwich)            0.478394   \n",
       "39          (Coffee)       (Medialuna)            0.478394   \n",
       "40             (Tea)    (Coffee, Cake)            0.142631   \n",
       "41          (Coffee)   (Hot chocolate)            0.478394   \n",
       "42          (Coffee)         (Cookies)            0.478394   \n",
       "43           (Bread)       (Medialuna)            0.327205   \n",
       "44          (Coffee)           (Toast)            0.478394   \n",
       "45           (Bread)         (Cookies)            0.327205   \n",
       "46          (Coffee)           (Juice)            0.478394   \n",
       "47          (Coffee)       (Alfajores)            0.478394   \n",
       "48          (Coffee)         (Brownie)            0.478394   \n",
       "49          (Coffee)          (Muffin)            0.478394   \n",
       "50          (Coffee)           (Scone)            0.478394   \n",
       "51          (Coffee)            (Soup)            0.478394   \n",
       "52           (Bread)         (Brownie)            0.327205   \n",
       "53           (Bread)       (Alfajores)            0.327205   \n",
       "54          (Coffee)   (Bread, Pastry)            0.478394   \n",
       "55          (Coffee)  (Spanish Brunch)            0.478394   \n",
       "56          (Coffee)     (Bread, Cake)            0.478394   \n",
       "57          (Coffee)       (Tea, Cake)            0.478394   \n",
       "\n",
       "    consequent support   support  confidence      lift  leverage  conviction  \n",
       "0             0.478394  0.023666    0.704403  1.472431  0.007593    1.764582  \n",
       "1             0.478394  0.010882    0.598837  1.251766  0.002189    1.300235  \n",
       "2             0.478394  0.035182    0.569231  1.189878  0.005614    1.210871  \n",
       "3             0.478394  0.047544    0.552147  1.154168  0.006351    1.164682  \n",
       "4             0.478394  0.019651    0.540698  1.130235  0.002264    1.135648  \n",
       "5             0.478394  0.020602    0.534247  1.116750  0.002154    1.119919  \n",
       "6             0.478394  0.038246    0.532353  1.112792  0.003877    1.115384  \n",
       "7             0.478394  0.054728    0.526958  1.101515  0.005044    1.102664  \n",
       "8             0.478394  0.018067    0.522936  1.093107  0.001539    1.093366  \n",
       "9             0.478394  0.028209    0.518447  1.083723  0.002179    1.083174  \n",
       "10            0.478394  0.029583    0.507246  1.060311  0.001683    1.058553  \n",
       "11            0.478394  0.019651    0.490765  1.025860  0.000495    1.024293  \n",
       "12            0.478394  0.018806    0.489011  1.022193  0.000408    1.020777  \n",
       "13            0.478394  0.015848    0.460123  0.961807 -0.000629    0.966156  \n",
       "14            0.478394  0.010037    0.429864  0.898557 -0.001133    0.914880  \n",
       "15            0.478394  0.010037    0.422222  0.882582 -0.001335    0.902779  \n",
       "16            0.478394  0.011199    0.384058  0.802807 -0.002751    0.846843  \n",
       "17            0.327205  0.029160    0.338650  1.034977  0.000985    1.017305  \n",
       "18            0.327205  0.010354    0.284884  0.870657 -0.001538    0.940818  \n",
       "19            0.327205  0.016904    0.273504  0.835879 -0.003319    0.926082  \n",
       "20            0.327205  0.010777    0.269129  0.822508 -0.002326    0.920538  \n",
       "21            0.327205  0.014474    0.266019  0.813004 -0.003329    0.916638  \n",
       "22            0.142631  0.023772    0.228891  1.604781  0.008959    1.111865  \n",
       "23            0.103856  0.010037    0.201271  1.937977  0.004858    1.121962  \n",
       "24            0.142631  0.014369    0.200000  1.402222  0.004122    1.071712  \n",
       "25            0.103856  0.011410    0.195652  1.883874  0.005354    1.114125  \n",
       "26            0.142631  0.010037    0.183398  1.285822  0.002231    1.049923  \n",
       "27            0.103856  0.023772    0.166667  1.604781  0.008959    1.075372  \n",
       "28            0.090016  0.011199    0.130061  1.444872  0.003448    1.046033  \n",
       "29            0.086107  0.011199    0.124413  1.444872  0.003448    1.043749  \n",
       "30            0.103856  0.054728    0.114399  1.101515  0.005044    1.011905  \n",
       "31            0.103856  0.010037    0.111502  1.073621  0.000688    1.008606  \n",
       "32            0.058320  0.011410    0.109868  1.883874  0.005354    1.057910  \n",
       "33            0.071844  0.014369    0.100741  1.402222  0.004122    1.032134  \n",
       "34            0.086107  0.047544    0.099382  1.154168  0.006351    1.014740  \n",
       "35            0.049868  0.010037    0.096643  1.937977  0.004858    1.051779  \n",
       "36            0.090016  0.010037    0.096643  1.073621  0.000688    1.007336  \n",
       "37            0.086107  0.029160    0.089119  1.034977  0.000985    1.003306  \n",
       "38            0.071844  0.038246    0.079947  1.112792  0.003877    1.008807  \n",
       "39            0.061807  0.035182    0.073542  1.189878  0.005614    1.012667  \n",
       "40            0.054728  0.010037    0.070370  1.285822  0.002231    1.016827  \n",
       "41            0.058320  0.029583    0.061837  1.060311  0.001683    1.003749  \n",
       "42            0.054411  0.028209    0.058966  1.083723  0.002179    1.004841  \n",
       "43            0.061807  0.016904    0.051663  0.835879 -0.003319    0.989304  \n",
       "44            0.033597  0.023666    0.049470  1.472431  0.007593    1.016699  \n",
       "45            0.054411  0.014474    0.044236  0.813004 -0.003329    0.989354  \n",
       "46            0.038563  0.020602    0.043065  1.116750  0.002154    1.004705  \n",
       "47            0.036344  0.019651    0.041078  1.130235  0.002264    1.004936  \n",
       "48            0.040042  0.019651    0.041078  1.025860  0.000495    1.001080  \n",
       "49            0.038457  0.018806    0.039311  1.022193  0.000408    1.000888  \n",
       "50            0.034548  0.018067    0.037765  1.093107  0.001539    1.003343  \n",
       "51            0.034443  0.015848    0.033127  0.961807 -0.000629    0.998639  \n",
       "52            0.040042  0.010777    0.032935  0.822508 -0.002326    0.992651  \n",
       "53            0.036344  0.010354    0.031644  0.870657 -0.001538    0.995145  \n",
       "54            0.029160  0.011199    0.023410  0.802807 -0.002751    0.994112  \n",
       "55            0.018172  0.010882    0.022747  1.251766  0.002189    1.004682  \n",
       "56            0.023349  0.010037    0.020981  0.898557 -0.001133    0.997581  \n",
       "57            0.023772  0.010037    0.020981  0.882582 -0.001335    0.997149  "
      ]
     },
     "execution_count": 26,
     "metadata": {},
     "output_type": "execute_result"
    }
   ],
   "source": [
    "#vytvoreni pravidel z frekventovanych mnozin vytvorene pomoci algoritmu FP-grow\n",
    "rules_fpg = association_rules(fitems_fpg, metric='lift')\n",
    "#upraveni dataFrame, aby se zobrazili pravidla sestupne podle metriky spolehlivosti\n",
    "rules_fpg = rules_fpg.sort_values(by=['confidence'], ascending=False)\n",
    "rules_fpg = rules_fpg.reset_index(drop=True)\n",
    "rules_fpg"
   ]
  },
  {
   "cell_type": "markdown",
   "metadata": {},
   "source": [
    " ### časové porovnání dvou algoritmu pro hledání množin frekventovaný vzoru"
   ]
  },
  {
   "cell_type": "code",
   "execution_count": 27,
   "metadata": {},
   "outputs": [
    {
     "name": "stdout",
     "output_type": "stream",
     "text": [
      "1.16 ms ± 67.2 µs per loop (mean ± std. dev. of 10 runs, 100 loops each)\n"
     ]
    }
   ],
   "source": [
    "%timeit -n 100 -r 10 apriori(xtend_data, min_support = 0.5)\n"
   ]
  },
  {
   "cell_type": "code",
   "execution_count": 28,
   "metadata": {},
   "outputs": [
    {
     "name": "stdout",
     "output_type": "stream",
     "text": [
      "20.2 ms ± 757 µs per loop (mean ± std. dev. of 10 runs, 100 loops each)\n"
     ]
    }
   ],
   "source": [
    "%timeit -n 100 -r 10 fpgrowth(xtend_data, min_support = 0.5)"
   ]
  },
  {
   "cell_type": "markdown",
   "metadata": {},
   "source": [
    "* FP-grow by mel byt radove rychlejsi, dokonce v dokumentaci je to uvedeno, ale zde je opakem, kde je radove pomalejsi"
   ]
  },
  {
   "cell_type": "markdown",
   "metadata": {},
   "source": [
    "## Použití knihovny PyCaret"
   ]
  },
  {
   "cell_type": "code",
   "execution_count": 29,
   "metadata": {},
   "outputs": [],
   "source": [
    "from pycaret.arules import *"
   ]
  },
  {
   "cell_type": "code",
   "execution_count": 30,
   "metadata": {},
   "outputs": [
    {
     "data": {
      "text/html": [
       "<style type=\"text/css\">\n",
       "</style>\n",
       "<table id=\"T_280b3\">\n",
       "  <thead>\n",
       "    <tr>\n",
       "      <th id=\"T_280b3_level0_col0\" class=\"col_heading level0 col0\" >Description</th>\n",
       "      <th id=\"T_280b3_level0_col1\" class=\"col_heading level0 col1\" >Value</th>\n",
       "    </tr>\n",
       "  </thead>\n",
       "  <tbody>\n",
       "    <tr>\n",
       "      <td id=\"T_280b3_row0_col0\" class=\"data row0 col0\" >session_id</td>\n",
       "      <td id=\"T_280b3_row0_col1\" class=\"data row0 col1\" >3822</td>\n",
       "    </tr>\n",
       "    <tr>\n",
       "      <td id=\"T_280b3_row1_col0\" class=\"data row1 col0\" ># Transactions</td>\n",
       "      <td id=\"T_280b3_row1_col1\" class=\"data row1 col1\" >9465</td>\n",
       "    </tr>\n",
       "    <tr>\n",
       "      <td id=\"T_280b3_row2_col0\" class=\"data row2 col0\" ># Items</td>\n",
       "      <td id=\"T_280b3_row2_col1\" class=\"data row2 col1\" >94</td>\n",
       "    </tr>\n",
       "    <tr>\n",
       "      <td id=\"T_280b3_row3_col0\" class=\"data row3 col0\" >Ignore Items</td>\n",
       "      <td id=\"T_280b3_row3_col1\" class=\"data row3 col1\" >None</td>\n",
       "    </tr>\n",
       "  </tbody>\n",
       "</table>\n"
      ],
      "text/plain": [
       "<pandas.io.formats.style.Styler at 0xffff7ad573d0>"
      ]
     },
     "metadata": {},
     "output_type": "display_data"
    }
   ],
   "source": [
    "#zpracovani datasetu, nastaveni atrubutu Transakce a nastaveni atributu polozka\n",
    "exp = setup(data=df, transaction_id='Transaction', item_id='Item')"
   ]
  },
  {
   "cell_type": "code",
   "execution_count": 31,
   "metadata": {},
   "outputs": [
    {
     "data": {
      "text/html": [
       "<div>\n",
       "<style scoped>\n",
       "    .dataframe tbody tr th:only-of-type {\n",
       "        vertical-align: middle;\n",
       "    }\n",
       "\n",
       "    .dataframe tbody tr th {\n",
       "        vertical-align: top;\n",
       "    }\n",
       "\n",
       "    .dataframe thead th {\n",
       "        text-align: right;\n",
       "    }\n",
       "</style>\n",
       "<table border=\"1\" class=\"dataframe\">\n",
       "  <thead>\n",
       "    <tr style=\"text-align: right;\">\n",
       "      <th></th>\n",
       "      <th>antecedents</th>\n",
       "      <th>consequents</th>\n",
       "      <th>antecedent support</th>\n",
       "      <th>consequent support</th>\n",
       "      <th>support</th>\n",
       "      <th>confidence</th>\n",
       "      <th>lift</th>\n",
       "      <th>leverage</th>\n",
       "      <th>conviction</th>\n",
       "    </tr>\n",
       "  </thead>\n",
       "  <tbody>\n",
       "    <tr>\n",
       "      <th>0</th>\n",
       "      <td>(Toast)</td>\n",
       "      <td>(Coffee)</td>\n",
       "      <td>0.0336</td>\n",
       "      <td>0.4784</td>\n",
       "      <td>0.0237</td>\n",
       "      <td>0.7044</td>\n",
       "      <td>1.4724</td>\n",
       "      <td>0.0076</td>\n",
       "      <td>1.7646</td>\n",
       "    </tr>\n",
       "    <tr>\n",
       "      <th>1</th>\n",
       "      <td>(Spanish Brunch)</td>\n",
       "      <td>(Coffee)</td>\n",
       "      <td>0.0182</td>\n",
       "      <td>0.4784</td>\n",
       "      <td>0.0109</td>\n",
       "      <td>0.5988</td>\n",
       "      <td>1.2518</td>\n",
       "      <td>0.0022</td>\n",
       "      <td>1.3002</td>\n",
       "    </tr>\n",
       "    <tr>\n",
       "      <th>2</th>\n",
       "      <td>(Medialuna)</td>\n",
       "      <td>(Coffee)</td>\n",
       "      <td>0.0618</td>\n",
       "      <td>0.4784</td>\n",
       "      <td>0.0352</td>\n",
       "      <td>0.5692</td>\n",
       "      <td>1.1899</td>\n",
       "      <td>0.0056</td>\n",
       "      <td>1.2109</td>\n",
       "    </tr>\n",
       "    <tr>\n",
       "      <th>3</th>\n",
       "      <td>(Pastry)</td>\n",
       "      <td>(Coffee)</td>\n",
       "      <td>0.0861</td>\n",
       "      <td>0.4784</td>\n",
       "      <td>0.0475</td>\n",
       "      <td>0.5521</td>\n",
       "      <td>1.1542</td>\n",
       "      <td>0.0064</td>\n",
       "      <td>1.1647</td>\n",
       "    </tr>\n",
       "    <tr>\n",
       "      <th>4</th>\n",
       "      <td>(Alfajores)</td>\n",
       "      <td>(Coffee)</td>\n",
       "      <td>0.0363</td>\n",
       "      <td>0.4784</td>\n",
       "      <td>0.0197</td>\n",
       "      <td>0.5407</td>\n",
       "      <td>1.1302</td>\n",
       "      <td>0.0023</td>\n",
       "      <td>1.1356</td>\n",
       "    </tr>\n",
       "    <tr>\n",
       "      <th>5</th>\n",
       "      <td>(Juice)</td>\n",
       "      <td>(Coffee)</td>\n",
       "      <td>0.0386</td>\n",
       "      <td>0.4784</td>\n",
       "      <td>0.0206</td>\n",
       "      <td>0.5342</td>\n",
       "      <td>1.1167</td>\n",
       "      <td>0.0022</td>\n",
       "      <td>1.1199</td>\n",
       "    </tr>\n",
       "    <tr>\n",
       "      <th>6</th>\n",
       "      <td>(Sandwich)</td>\n",
       "      <td>(Coffee)</td>\n",
       "      <td>0.0718</td>\n",
       "      <td>0.4784</td>\n",
       "      <td>0.0382</td>\n",
       "      <td>0.5324</td>\n",
       "      <td>1.1128</td>\n",
       "      <td>0.0039</td>\n",
       "      <td>1.1154</td>\n",
       "    </tr>\n",
       "    <tr>\n",
       "      <th>7</th>\n",
       "      <td>(Cake)</td>\n",
       "      <td>(Coffee)</td>\n",
       "      <td>0.1039</td>\n",
       "      <td>0.4784</td>\n",
       "      <td>0.0547</td>\n",
       "      <td>0.5270</td>\n",
       "      <td>1.1015</td>\n",
       "      <td>0.0050</td>\n",
       "      <td>1.1027</td>\n",
       "    </tr>\n",
       "    <tr>\n",
       "      <th>8</th>\n",
       "      <td>(Scone)</td>\n",
       "      <td>(Coffee)</td>\n",
       "      <td>0.0345</td>\n",
       "      <td>0.4784</td>\n",
       "      <td>0.0181</td>\n",
       "      <td>0.5229</td>\n",
       "      <td>1.0931</td>\n",
       "      <td>0.0015</td>\n",
       "      <td>1.0934</td>\n",
       "    </tr>\n",
       "    <tr>\n",
       "      <th>9</th>\n",
       "      <td>(Cookies)</td>\n",
       "      <td>(Coffee)</td>\n",
       "      <td>0.0544</td>\n",
       "      <td>0.4784</td>\n",
       "      <td>0.0282</td>\n",
       "      <td>0.5184</td>\n",
       "      <td>1.0837</td>\n",
       "      <td>0.0022</td>\n",
       "      <td>1.0832</td>\n",
       "    </tr>\n",
       "    <tr>\n",
       "      <th>10</th>\n",
       "      <td>(Hot chocolate)</td>\n",
       "      <td>(Coffee)</td>\n",
       "      <td>0.0583</td>\n",
       "      <td>0.4784</td>\n",
       "      <td>0.0296</td>\n",
       "      <td>0.5072</td>\n",
       "      <td>1.0603</td>\n",
       "      <td>0.0017</td>\n",
       "      <td>1.0586</td>\n",
       "    </tr>\n",
       "  </tbody>\n",
       "</table>\n",
       "</div>"
      ],
      "text/plain": [
       "         antecedents consequents  antecedent support  consequent support  \\\n",
       "0            (Toast)    (Coffee)              0.0336              0.4784   \n",
       "1   (Spanish Brunch)    (Coffee)              0.0182              0.4784   \n",
       "2        (Medialuna)    (Coffee)              0.0618              0.4784   \n",
       "3           (Pastry)    (Coffee)              0.0861              0.4784   \n",
       "4        (Alfajores)    (Coffee)              0.0363              0.4784   \n",
       "5            (Juice)    (Coffee)              0.0386              0.4784   \n",
       "6         (Sandwich)    (Coffee)              0.0718              0.4784   \n",
       "7             (Cake)    (Coffee)              0.1039              0.4784   \n",
       "8            (Scone)    (Coffee)              0.0345              0.4784   \n",
       "9          (Cookies)    (Coffee)              0.0544              0.4784   \n",
       "10   (Hot chocolate)    (Coffee)              0.0583              0.4784   \n",
       "\n",
       "    support  confidence    lift  leverage  conviction  \n",
       "0    0.0237      0.7044  1.4724    0.0076      1.7646  \n",
       "1    0.0109      0.5988  1.2518    0.0022      1.3002  \n",
       "2    0.0352      0.5692  1.1899    0.0056      1.2109  \n",
       "3    0.0475      0.5521  1.1542    0.0064      1.1647  \n",
       "4    0.0197      0.5407  1.1302    0.0023      1.1356  \n",
       "5    0.0206      0.5342  1.1167    0.0022      1.1199  \n",
       "6    0.0382      0.5324  1.1128    0.0039      1.1154  \n",
       "7    0.0547      0.5270  1.1015    0.0050      1.1027  \n",
       "8    0.0181      0.5229  1.0931    0.0015      1.0934  \n",
       "9    0.0282      0.5184  1.0837    0.0022      1.0832  \n",
       "10   0.0296      0.5072  1.0603    0.0017      1.0586  "
      ]
     },
     "execution_count": 31,
     "metadata": {},
     "output_type": "execute_result"
    }
   ],
   "source": [
    "#vytvoreni pravidel\n",
    "model1 = create_model(metric=\"confidence\", min_support=0.01)\n",
    "model1"
   ]
  },
  {
   "cell_type": "code",
   "execution_count": 32,
   "metadata": {},
   "outputs": [
    {
     "data": {
      "text/html": [
       "        <script type=\"text/javascript\">\n",
       "        window.PlotlyConfig = {MathJaxConfig: 'local'};\n",
       "        if (window.MathJax && window.MathJax.Hub && window.MathJax.Hub.Config) {window.MathJax.Hub.Config({SVG: {font: \"STIX-Web\"}});}\n",
       "        if (typeof require !== 'undefined') {\n",
       "        require.undef(\"plotly\");\n",
       "        requirejs.config({\n",
       "            paths: {\n",
       "                'plotly': ['https://cdn.plot.ly/plotly-2.12.1.min']\n",
       "            }\n",
       "        });\n",
       "        require(['plotly'], function(Plotly) {\n",
       "            window._Plotly = Plotly;\n",
       "        });\n",
       "        }\n",
       "        </script>\n",
       "        "
      ]
     },
     "metadata": {},
     "output_type": "display_data"
    },
    {
     "data": {
      "application/vnd.plotly.v1+json": {
       "config": {
        "plotlyServerURL": "https://plot.ly"
       },
       "data": [
        {
         "customdata": [
          [
           [
            "Toast"
           ],
           [
            "Coffee"
           ]
          ],
          [
           [
            "Spanish Brunch"
           ],
           [
            "Coffee"
           ]
          ],
          [
           [
            "Medialuna"
           ],
           [
            "Coffee"
           ]
          ],
          [
           [
            "Pastry"
           ],
           [
            "Coffee"
           ]
          ],
          [
           [
            "Alfajores"
           ],
           [
            "Coffee"
           ]
          ],
          [
           [
            "Juice"
           ],
           [
            "Coffee"
           ]
          ],
          [
           [
            "Sandwich"
           ],
           [
            "Coffee"
           ]
          ],
          [
           [
            "Cake"
           ],
           [
            "Coffee"
           ]
          ],
          [
           [
            "Scone"
           ],
           [
            "Coffee"
           ]
          ],
          [
           [
            "Cookies"
           ],
           [
            "Coffee"
           ]
          ],
          [
           [
            "Hot chocolate"
           ],
           [
            "Coffee"
           ]
          ]
         ],
         "hovertemplate": "support=%{x}<br>confidence=%{y}<br>antecedents_short=%{text}<br>antecedents=%{customdata[0]}<br>consequents=%{customdata[1]}<br>lift=%{marker.color}<extra></extra>",
         "legendgroup": "",
         "marker": {
          "color": [
           1.4724,
           1.2518,
           1.1899,
           1.1542,
           1.1302,
           1.1167,
           1.1128,
           1.1015,
           1.0931,
           1.0837,
           1.0603
          ],
          "coloraxis": "coloraxis",
          "opacity": 0.5,
          "symbol": "circle"
         },
         "mode": "markers+text",
         "name": "",
         "orientation": "v",
         "showlegend": false,
         "text": [
          [
           "Toast"
          ],
          [
           "Spanish Brunch"
          ],
          [
           "Medialuna"
          ],
          [
           "Pastry"
          ],
          [
           "Alfajores"
          ],
          [
           "Juice"
          ],
          [
           "Sandwich"
          ],
          [
           "Cake"
          ],
          [
           "Scone"
          ],
          [
           "Cookies"
          ],
          [
           "Hot chocolate"
          ]
         ],
         "textposition": "top center",
         "type": "scatter",
         "x": [
          0.0237,
          0.0109,
          0.0352,
          0.0475,
          0.0197,
          0.0206,
          0.0382,
          0.0547,
          0.0181,
          0.0282,
          0.0296
         ],
         "xaxis": "x",
         "y": [
          0.7044,
          0.5988,
          0.5692,
          0.5521,
          0.5407,
          0.5342,
          0.5324,
          0.527,
          0.5229,
          0.5184,
          0.5072
         ],
         "yaxis": "y"
        }
       ],
       "layout": {
        "coloraxis": {
         "colorbar": {
          "title": {
           "text": "lift"
          }
         },
         "colorscale": [
          [
           0,
           "#0d0887"
          ],
          [
           0.1111111111111111,
           "#46039f"
          ],
          [
           0.2222222222222222,
           "#7201a8"
          ],
          [
           0.3333333333333333,
           "#9c179e"
          ],
          [
           0.4444444444444444,
           "#bd3786"
          ],
          [
           0.5555555555555556,
           "#d8576b"
          ],
          [
           0.6666666666666666,
           "#ed7953"
          ],
          [
           0.7777777777777778,
           "#fb9f3a"
          ],
          [
           0.8888888888888888,
           "#fdca26"
          ],
          [
           1,
           "#f0f921"
          ]
         ]
        },
        "height": 440.00000000000006,
        "legend": {
         "tracegroupgap": 0
        },
        "margin": {
         "t": 60
        },
        "plot_bgcolor": "rgb(240,240,240)",
        "template": {
         "data": {
          "bar": [
           {
            "error_x": {
             "color": "#2a3f5f"
            },
            "error_y": {
             "color": "#2a3f5f"
            },
            "marker": {
             "line": {
              "color": "#E5ECF6",
              "width": 0.5
             },
             "pattern": {
              "fillmode": "overlay",
              "size": 10,
              "solidity": 0.2
             }
            },
            "type": "bar"
           }
          ],
          "barpolar": [
           {
            "marker": {
             "line": {
              "color": "#E5ECF6",
              "width": 0.5
             },
             "pattern": {
              "fillmode": "overlay",
              "size": 10,
              "solidity": 0.2
             }
            },
            "type": "barpolar"
           }
          ],
          "carpet": [
           {
            "aaxis": {
             "endlinecolor": "#2a3f5f",
             "gridcolor": "white",
             "linecolor": "white",
             "minorgridcolor": "white",
             "startlinecolor": "#2a3f5f"
            },
            "baxis": {
             "endlinecolor": "#2a3f5f",
             "gridcolor": "white",
             "linecolor": "white",
             "minorgridcolor": "white",
             "startlinecolor": "#2a3f5f"
            },
            "type": "carpet"
           }
          ],
          "choropleth": [
           {
            "colorbar": {
             "outlinewidth": 0,
             "ticks": ""
            },
            "type": "choropleth"
           }
          ],
          "contour": [
           {
            "colorbar": {
             "outlinewidth": 0,
             "ticks": ""
            },
            "colorscale": [
             [
              0,
              "#0d0887"
             ],
             [
              0.1111111111111111,
              "#46039f"
             ],
             [
              0.2222222222222222,
              "#7201a8"
             ],
             [
              0.3333333333333333,
              "#9c179e"
             ],
             [
              0.4444444444444444,
              "#bd3786"
             ],
             [
              0.5555555555555556,
              "#d8576b"
             ],
             [
              0.6666666666666666,
              "#ed7953"
             ],
             [
              0.7777777777777778,
              "#fb9f3a"
             ],
             [
              0.8888888888888888,
              "#fdca26"
             ],
             [
              1,
              "#f0f921"
             ]
            ],
            "type": "contour"
           }
          ],
          "contourcarpet": [
           {
            "colorbar": {
             "outlinewidth": 0,
             "ticks": ""
            },
            "type": "contourcarpet"
           }
          ],
          "heatmap": [
           {
            "colorbar": {
             "outlinewidth": 0,
             "ticks": ""
            },
            "colorscale": [
             [
              0,
              "#0d0887"
             ],
             [
              0.1111111111111111,
              "#46039f"
             ],
             [
              0.2222222222222222,
              "#7201a8"
             ],
             [
              0.3333333333333333,
              "#9c179e"
             ],
             [
              0.4444444444444444,
              "#bd3786"
             ],
             [
              0.5555555555555556,
              "#d8576b"
             ],
             [
              0.6666666666666666,
              "#ed7953"
             ],
             [
              0.7777777777777778,
              "#fb9f3a"
             ],
             [
              0.8888888888888888,
              "#fdca26"
             ],
             [
              1,
              "#f0f921"
             ]
            ],
            "type": "heatmap"
           }
          ],
          "heatmapgl": [
           {
            "colorbar": {
             "outlinewidth": 0,
             "ticks": ""
            },
            "colorscale": [
             [
              0,
              "#0d0887"
             ],
             [
              0.1111111111111111,
              "#46039f"
             ],
             [
              0.2222222222222222,
              "#7201a8"
             ],
             [
              0.3333333333333333,
              "#9c179e"
             ],
             [
              0.4444444444444444,
              "#bd3786"
             ],
             [
              0.5555555555555556,
              "#d8576b"
             ],
             [
              0.6666666666666666,
              "#ed7953"
             ],
             [
              0.7777777777777778,
              "#fb9f3a"
             ],
             [
              0.8888888888888888,
              "#fdca26"
             ],
             [
              1,
              "#f0f921"
             ]
            ],
            "type": "heatmapgl"
           }
          ],
          "histogram": [
           {
            "marker": {
             "pattern": {
              "fillmode": "overlay",
              "size": 10,
              "solidity": 0.2
             }
            },
            "type": "histogram"
           }
          ],
          "histogram2d": [
           {
            "colorbar": {
             "outlinewidth": 0,
             "ticks": ""
            },
            "colorscale": [
             [
              0,
              "#0d0887"
             ],
             [
              0.1111111111111111,
              "#46039f"
             ],
             [
              0.2222222222222222,
              "#7201a8"
             ],
             [
              0.3333333333333333,
              "#9c179e"
             ],
             [
              0.4444444444444444,
              "#bd3786"
             ],
             [
              0.5555555555555556,
              "#d8576b"
             ],
             [
              0.6666666666666666,
              "#ed7953"
             ],
             [
              0.7777777777777778,
              "#fb9f3a"
             ],
             [
              0.8888888888888888,
              "#fdca26"
             ],
             [
              1,
              "#f0f921"
             ]
            ],
            "type": "histogram2d"
           }
          ],
          "histogram2dcontour": [
           {
            "colorbar": {
             "outlinewidth": 0,
             "ticks": ""
            },
            "colorscale": [
             [
              0,
              "#0d0887"
             ],
             [
              0.1111111111111111,
              "#46039f"
             ],
             [
              0.2222222222222222,
              "#7201a8"
             ],
             [
              0.3333333333333333,
              "#9c179e"
             ],
             [
              0.4444444444444444,
              "#bd3786"
             ],
             [
              0.5555555555555556,
              "#d8576b"
             ],
             [
              0.6666666666666666,
              "#ed7953"
             ],
             [
              0.7777777777777778,
              "#fb9f3a"
             ],
             [
              0.8888888888888888,
              "#fdca26"
             ],
             [
              1,
              "#f0f921"
             ]
            ],
            "type": "histogram2dcontour"
           }
          ],
          "mesh3d": [
           {
            "colorbar": {
             "outlinewidth": 0,
             "ticks": ""
            },
            "type": "mesh3d"
           }
          ],
          "parcoords": [
           {
            "line": {
             "colorbar": {
              "outlinewidth": 0,
              "ticks": ""
             }
            },
            "type": "parcoords"
           }
          ],
          "pie": [
           {
            "automargin": true,
            "type": "pie"
           }
          ],
          "scatter": [
           {
            "fillpattern": {
             "fillmode": "overlay",
             "size": 10,
             "solidity": 0.2
            },
            "type": "scatter"
           }
          ],
          "scatter3d": [
           {
            "line": {
             "colorbar": {
              "outlinewidth": 0,
              "ticks": ""
             }
            },
            "marker": {
             "colorbar": {
              "outlinewidth": 0,
              "ticks": ""
             }
            },
            "type": "scatter3d"
           }
          ],
          "scattercarpet": [
           {
            "marker": {
             "colorbar": {
              "outlinewidth": 0,
              "ticks": ""
             }
            },
            "type": "scattercarpet"
           }
          ],
          "scattergeo": [
           {
            "marker": {
             "colorbar": {
              "outlinewidth": 0,
              "ticks": ""
             }
            },
            "type": "scattergeo"
           }
          ],
          "scattergl": [
           {
            "marker": {
             "colorbar": {
              "outlinewidth": 0,
              "ticks": ""
             }
            },
            "type": "scattergl"
           }
          ],
          "scattermapbox": [
           {
            "marker": {
             "colorbar": {
              "outlinewidth": 0,
              "ticks": ""
             }
            },
            "type": "scattermapbox"
           }
          ],
          "scatterpolar": [
           {
            "marker": {
             "colorbar": {
              "outlinewidth": 0,
              "ticks": ""
             }
            },
            "type": "scatterpolar"
           }
          ],
          "scatterpolargl": [
           {
            "marker": {
             "colorbar": {
              "outlinewidth": 0,
              "ticks": ""
             }
            },
            "type": "scatterpolargl"
           }
          ],
          "scatterternary": [
           {
            "marker": {
             "colorbar": {
              "outlinewidth": 0,
              "ticks": ""
             }
            },
            "type": "scatterternary"
           }
          ],
          "surface": [
           {
            "colorbar": {
             "outlinewidth": 0,
             "ticks": ""
            },
            "colorscale": [
             [
              0,
              "#0d0887"
             ],
             [
              0.1111111111111111,
              "#46039f"
             ],
             [
              0.2222222222222222,
              "#7201a8"
             ],
             [
              0.3333333333333333,
              "#9c179e"
             ],
             [
              0.4444444444444444,
              "#bd3786"
             ],
             [
              0.5555555555555556,
              "#d8576b"
             ],
             [
              0.6666666666666666,
              "#ed7953"
             ],
             [
              0.7777777777777778,
              "#fb9f3a"
             ],
             [
              0.8888888888888888,
              "#fdca26"
             ],
             [
              1,
              "#f0f921"
             ]
            ],
            "type": "surface"
           }
          ],
          "table": [
           {
            "cells": {
             "fill": {
              "color": "#EBF0F8"
             },
             "line": {
              "color": "white"
             }
            },
            "header": {
             "fill": {
              "color": "#C8D4E3"
             },
             "line": {
              "color": "white"
             }
            },
            "type": "table"
           }
          ]
         },
         "layout": {
          "annotationdefaults": {
           "arrowcolor": "#2a3f5f",
           "arrowhead": 0,
           "arrowwidth": 1
          },
          "autotypenumbers": "strict",
          "coloraxis": {
           "colorbar": {
            "outlinewidth": 0,
            "ticks": ""
           }
          },
          "colorscale": {
           "diverging": [
            [
             0,
             "#8e0152"
            ],
            [
             0.1,
             "#c51b7d"
            ],
            [
             0.2,
             "#de77ae"
            ],
            [
             0.3,
             "#f1b6da"
            ],
            [
             0.4,
             "#fde0ef"
            ],
            [
             0.5,
             "#f7f7f7"
            ],
            [
             0.6,
             "#e6f5d0"
            ],
            [
             0.7,
             "#b8e186"
            ],
            [
             0.8,
             "#7fbc41"
            ],
            [
             0.9,
             "#4d9221"
            ],
            [
             1,
             "#276419"
            ]
           ],
           "sequential": [
            [
             0,
             "#0d0887"
            ],
            [
             0.1111111111111111,
             "#46039f"
            ],
            [
             0.2222222222222222,
             "#7201a8"
            ],
            [
             0.3333333333333333,
             "#9c179e"
            ],
            [
             0.4444444444444444,
             "#bd3786"
            ],
            [
             0.5555555555555556,
             "#d8576b"
            ],
            [
             0.6666666666666666,
             "#ed7953"
            ],
            [
             0.7777777777777778,
             "#fb9f3a"
            ],
            [
             0.8888888888888888,
             "#fdca26"
            ],
            [
             1,
             "#f0f921"
            ]
           ],
           "sequentialminus": [
            [
             0,
             "#0d0887"
            ],
            [
             0.1111111111111111,
             "#46039f"
            ],
            [
             0.2222222222222222,
             "#7201a8"
            ],
            [
             0.3333333333333333,
             "#9c179e"
            ],
            [
             0.4444444444444444,
             "#bd3786"
            ],
            [
             0.5555555555555556,
             "#d8576b"
            ],
            [
             0.6666666666666666,
             "#ed7953"
            ],
            [
             0.7777777777777778,
             "#fb9f3a"
            ],
            [
             0.8888888888888888,
             "#fdca26"
            ],
            [
             1,
             "#f0f921"
            ]
           ]
          },
          "colorway": [
           "#636efa",
           "#EF553B",
           "#00cc96",
           "#ab63fa",
           "#FFA15A",
           "#19d3f3",
           "#FF6692",
           "#B6E880",
           "#FF97FF",
           "#FECB52"
          ],
          "font": {
           "color": "#2a3f5f"
          },
          "geo": {
           "bgcolor": "white",
           "lakecolor": "white",
           "landcolor": "#E5ECF6",
           "showlakes": true,
           "showland": true,
           "subunitcolor": "white"
          },
          "hoverlabel": {
           "align": "left"
          },
          "hovermode": "closest",
          "mapbox": {
           "style": "light"
          },
          "paper_bgcolor": "white",
          "plot_bgcolor": "#E5ECF6",
          "polar": {
           "angularaxis": {
            "gridcolor": "white",
            "linecolor": "white",
            "ticks": ""
           },
           "bgcolor": "#E5ECF6",
           "radialaxis": {
            "gridcolor": "white",
            "linecolor": "white",
            "ticks": ""
           }
          },
          "scene": {
           "xaxis": {
            "backgroundcolor": "#E5ECF6",
            "gridcolor": "white",
            "gridwidth": 2,
            "linecolor": "white",
            "showbackground": true,
            "ticks": "",
            "zerolinecolor": "white"
           },
           "yaxis": {
            "backgroundcolor": "#E5ECF6",
            "gridcolor": "white",
            "gridwidth": 2,
            "linecolor": "white",
            "showbackground": true,
            "ticks": "",
            "zerolinecolor": "white"
           },
           "zaxis": {
            "backgroundcolor": "#E5ECF6",
            "gridcolor": "white",
            "gridwidth": 2,
            "linecolor": "white",
            "showbackground": true,
            "ticks": "",
            "zerolinecolor": "white"
           }
          },
          "shapedefaults": {
           "line": {
            "color": "#2a3f5f"
           }
          },
          "ternary": {
           "aaxis": {
            "gridcolor": "white",
            "linecolor": "white",
            "ticks": ""
           },
           "baxis": {
            "gridcolor": "white",
            "linecolor": "white",
            "ticks": ""
           },
           "bgcolor": "#E5ECF6",
           "caxis": {
            "gridcolor": "white",
            "linecolor": "white",
            "ticks": ""
           }
          },
          "title": {
           "x": 0.05
          },
          "xaxis": {
           "automargin": true,
           "gridcolor": "white",
           "linecolor": "white",
           "ticks": "",
           "title": {
            "standoff": 15
           },
           "zerolinecolor": "white",
           "zerolinewidth": 2
          },
          "yaxis": {
           "automargin": true,
           "gridcolor": "white",
           "linecolor": "white",
           "ticks": "",
           "title": {
            "standoff": 15
           },
           "zerolinecolor": "white",
           "zerolinewidth": 2
          }
         }
        },
        "title": {
         "text": "2D Plot of Support, Confidence and Lift"
        },
        "xaxis": {
         "anchor": "y",
         "domain": [
          0,
          1
         ],
         "title": {
          "text": "support"
         },
         "type": "log"
        },
        "yaxis": {
         "anchor": "x",
         "domain": [
          0,
          1
         ],
         "title": {
          "text": "confidence"
         }
        }
       }
      },
      "text/html": [
       "<div>                            <div id=\"3471aff7-e543-45b8-b6ed-27ae4b08e9ab\" class=\"plotly-graph-div\" style=\"height:440.00000000000006px; width:100%;\"></div>            <script type=\"text/javascript\">                require([\"plotly\"], function(Plotly) {                    window.PLOTLYENV=window.PLOTLYENV || {};                                    if (document.getElementById(\"3471aff7-e543-45b8-b6ed-27ae4b08e9ab\")) {                    Plotly.newPlot(                        \"3471aff7-e543-45b8-b6ed-27ae4b08e9ab\",                        [{\"customdata\":[[[\"Toast\"],[\"Coffee\"]],[[\"Spanish Brunch\"],[\"Coffee\"]],[[\"Medialuna\"],[\"Coffee\"]],[[\"Pastry\"],[\"Coffee\"]],[[\"Alfajores\"],[\"Coffee\"]],[[\"Juice\"],[\"Coffee\"]],[[\"Sandwich\"],[\"Coffee\"]],[[\"Cake\"],[\"Coffee\"]],[[\"Scone\"],[\"Coffee\"]],[[\"Cookies\"],[\"Coffee\"]],[[\"Hot chocolate\"],[\"Coffee\"]]],\"hovertemplate\":\"support=%{x}<br>confidence=%{y}<br>antecedents_short=%{text}<br>antecedents=%{customdata[0]}<br>consequents=%{customdata[1]}<br>lift=%{marker.color}<extra></extra>\",\"legendgroup\":\"\",\"marker\":{\"color\":[1.4724,1.2518,1.1899,1.1542,1.1302,1.1167,1.1128,1.1015,1.0931,1.0837,1.0603],\"coloraxis\":\"coloraxis\",\"opacity\":0.5,\"symbol\":\"circle\"},\"mode\":\"markers+text\",\"name\":\"\",\"orientation\":\"v\",\"showlegend\":false,\"text\":[[\"Toast\"],[\"Spanish Brunch\"],[\"Medialuna\"],[\"Pastry\"],[\"Alfajores\"],[\"Juice\"],[\"Sandwich\"],[\"Cake\"],[\"Scone\"],[\"Cookies\"],[\"Hot chocolate\"]],\"x\":[0.0237,0.0109,0.0352,0.0475,0.0197,0.0206,0.0382,0.0547,0.0181,0.0282,0.0296],\"xaxis\":\"x\",\"y\":[0.7044,0.5988,0.5692,0.5521,0.5407,0.5342,0.5324,0.527,0.5229,0.5184,0.5072],\"yaxis\":\"y\",\"type\":\"scatter\",\"textposition\":\"top center\"}],                        {\"template\":{\"data\":{\"histogram2dcontour\":[{\"type\":\"histogram2dcontour\",\"colorbar\":{\"outlinewidth\":0,\"ticks\":\"\"},\"colorscale\":[[0.0,\"#0d0887\"],[0.1111111111111111,\"#46039f\"],[0.2222222222222222,\"#7201a8\"],[0.3333333333333333,\"#9c179e\"],[0.4444444444444444,\"#bd3786\"],[0.5555555555555556,\"#d8576b\"],[0.6666666666666666,\"#ed7953\"],[0.7777777777777778,\"#fb9f3a\"],[0.8888888888888888,\"#fdca26\"],[1.0,\"#f0f921\"]]}],\"choropleth\":[{\"type\":\"choropleth\",\"colorbar\":{\"outlinewidth\":0,\"ticks\":\"\"}}],\"histogram2d\":[{\"type\":\"histogram2d\",\"colorbar\":{\"outlinewidth\":0,\"ticks\":\"\"},\"colorscale\":[[0.0,\"#0d0887\"],[0.1111111111111111,\"#46039f\"],[0.2222222222222222,\"#7201a8\"],[0.3333333333333333,\"#9c179e\"],[0.4444444444444444,\"#bd3786\"],[0.5555555555555556,\"#d8576b\"],[0.6666666666666666,\"#ed7953\"],[0.7777777777777778,\"#fb9f3a\"],[0.8888888888888888,\"#fdca26\"],[1.0,\"#f0f921\"]]}],\"heatmap\":[{\"type\":\"heatmap\",\"colorbar\":{\"outlinewidth\":0,\"ticks\":\"\"},\"colorscale\":[[0.0,\"#0d0887\"],[0.1111111111111111,\"#46039f\"],[0.2222222222222222,\"#7201a8\"],[0.3333333333333333,\"#9c179e\"],[0.4444444444444444,\"#bd3786\"],[0.5555555555555556,\"#d8576b\"],[0.6666666666666666,\"#ed7953\"],[0.7777777777777778,\"#fb9f3a\"],[0.8888888888888888,\"#fdca26\"],[1.0,\"#f0f921\"]]}],\"heatmapgl\":[{\"type\":\"heatmapgl\",\"colorbar\":{\"outlinewidth\":0,\"ticks\":\"\"},\"colorscale\":[[0.0,\"#0d0887\"],[0.1111111111111111,\"#46039f\"],[0.2222222222222222,\"#7201a8\"],[0.3333333333333333,\"#9c179e\"],[0.4444444444444444,\"#bd3786\"],[0.5555555555555556,\"#d8576b\"],[0.6666666666666666,\"#ed7953\"],[0.7777777777777778,\"#fb9f3a\"],[0.8888888888888888,\"#fdca26\"],[1.0,\"#f0f921\"]]}],\"contourcarpet\":[{\"type\":\"contourcarpet\",\"colorbar\":{\"outlinewidth\":0,\"ticks\":\"\"}}],\"contour\":[{\"type\":\"contour\",\"colorbar\":{\"outlinewidth\":0,\"ticks\":\"\"},\"colorscale\":[[0.0,\"#0d0887\"],[0.1111111111111111,\"#46039f\"],[0.2222222222222222,\"#7201a8\"],[0.3333333333333333,\"#9c179e\"],[0.4444444444444444,\"#bd3786\"],[0.5555555555555556,\"#d8576b\"],[0.6666666666666666,\"#ed7953\"],[0.7777777777777778,\"#fb9f3a\"],[0.8888888888888888,\"#fdca26\"],[1.0,\"#f0f921\"]]}],\"surface\":[{\"type\":\"surface\",\"colorbar\":{\"outlinewidth\":0,\"ticks\":\"\"},\"colorscale\":[[0.0,\"#0d0887\"],[0.1111111111111111,\"#46039f\"],[0.2222222222222222,\"#7201a8\"],[0.3333333333333333,\"#9c179e\"],[0.4444444444444444,\"#bd3786\"],[0.5555555555555556,\"#d8576b\"],[0.6666666666666666,\"#ed7953\"],[0.7777777777777778,\"#fb9f3a\"],[0.8888888888888888,\"#fdca26\"],[1.0,\"#f0f921\"]]}],\"mesh3d\":[{\"type\":\"mesh3d\",\"colorbar\":{\"outlinewidth\":0,\"ticks\":\"\"}}],\"scatter\":[{\"fillpattern\":{\"fillmode\":\"overlay\",\"size\":10,\"solidity\":0.2},\"type\":\"scatter\"}],\"parcoords\":[{\"type\":\"parcoords\",\"line\":{\"colorbar\":{\"outlinewidth\":0,\"ticks\":\"\"}}}],\"scatterpolargl\":[{\"type\":\"scatterpolargl\",\"marker\":{\"colorbar\":{\"outlinewidth\":0,\"ticks\":\"\"}}}],\"bar\":[{\"error_x\":{\"color\":\"#2a3f5f\"},\"error_y\":{\"color\":\"#2a3f5f\"},\"marker\":{\"line\":{\"color\":\"#E5ECF6\",\"width\":0.5},\"pattern\":{\"fillmode\":\"overlay\",\"size\":10,\"solidity\":0.2}},\"type\":\"bar\"}],\"scattergeo\":[{\"type\":\"scattergeo\",\"marker\":{\"colorbar\":{\"outlinewidth\":0,\"ticks\":\"\"}}}],\"scatterpolar\":[{\"type\":\"scatterpolar\",\"marker\":{\"colorbar\":{\"outlinewidth\":0,\"ticks\":\"\"}}}],\"histogram\":[{\"marker\":{\"pattern\":{\"fillmode\":\"overlay\",\"size\":10,\"solidity\":0.2}},\"type\":\"histogram\"}],\"scattergl\":[{\"type\":\"scattergl\",\"marker\":{\"colorbar\":{\"outlinewidth\":0,\"ticks\":\"\"}}}],\"scatter3d\":[{\"type\":\"scatter3d\",\"line\":{\"colorbar\":{\"outlinewidth\":0,\"ticks\":\"\"}},\"marker\":{\"colorbar\":{\"outlinewidth\":0,\"ticks\":\"\"}}}],\"scattermapbox\":[{\"type\":\"scattermapbox\",\"marker\":{\"colorbar\":{\"outlinewidth\":0,\"ticks\":\"\"}}}],\"scatterternary\":[{\"type\":\"scatterternary\",\"marker\":{\"colorbar\":{\"outlinewidth\":0,\"ticks\":\"\"}}}],\"scattercarpet\":[{\"type\":\"scattercarpet\",\"marker\":{\"colorbar\":{\"outlinewidth\":0,\"ticks\":\"\"}}}],\"carpet\":[{\"aaxis\":{\"endlinecolor\":\"#2a3f5f\",\"gridcolor\":\"white\",\"linecolor\":\"white\",\"minorgridcolor\":\"white\",\"startlinecolor\":\"#2a3f5f\"},\"baxis\":{\"endlinecolor\":\"#2a3f5f\",\"gridcolor\":\"white\",\"linecolor\":\"white\",\"minorgridcolor\":\"white\",\"startlinecolor\":\"#2a3f5f\"},\"type\":\"carpet\"}],\"table\":[{\"cells\":{\"fill\":{\"color\":\"#EBF0F8\"},\"line\":{\"color\":\"white\"}},\"header\":{\"fill\":{\"color\":\"#C8D4E3\"},\"line\":{\"color\":\"white\"}},\"type\":\"table\"}],\"barpolar\":[{\"marker\":{\"line\":{\"color\":\"#E5ECF6\",\"width\":0.5},\"pattern\":{\"fillmode\":\"overlay\",\"size\":10,\"solidity\":0.2}},\"type\":\"barpolar\"}],\"pie\":[{\"automargin\":true,\"type\":\"pie\"}]},\"layout\":{\"autotypenumbers\":\"strict\",\"colorway\":[\"#636efa\",\"#EF553B\",\"#00cc96\",\"#ab63fa\",\"#FFA15A\",\"#19d3f3\",\"#FF6692\",\"#B6E880\",\"#FF97FF\",\"#FECB52\"],\"font\":{\"color\":\"#2a3f5f\"},\"hovermode\":\"closest\",\"hoverlabel\":{\"align\":\"left\"},\"paper_bgcolor\":\"white\",\"plot_bgcolor\":\"#E5ECF6\",\"polar\":{\"bgcolor\":\"#E5ECF6\",\"angularaxis\":{\"gridcolor\":\"white\",\"linecolor\":\"white\",\"ticks\":\"\"},\"radialaxis\":{\"gridcolor\":\"white\",\"linecolor\":\"white\",\"ticks\":\"\"}},\"ternary\":{\"bgcolor\":\"#E5ECF6\",\"aaxis\":{\"gridcolor\":\"white\",\"linecolor\":\"white\",\"ticks\":\"\"},\"baxis\":{\"gridcolor\":\"white\",\"linecolor\":\"white\",\"ticks\":\"\"},\"caxis\":{\"gridcolor\":\"white\",\"linecolor\":\"white\",\"ticks\":\"\"}},\"coloraxis\":{\"colorbar\":{\"outlinewidth\":0,\"ticks\":\"\"}},\"colorscale\":{\"sequential\":[[0.0,\"#0d0887\"],[0.1111111111111111,\"#46039f\"],[0.2222222222222222,\"#7201a8\"],[0.3333333333333333,\"#9c179e\"],[0.4444444444444444,\"#bd3786\"],[0.5555555555555556,\"#d8576b\"],[0.6666666666666666,\"#ed7953\"],[0.7777777777777778,\"#fb9f3a\"],[0.8888888888888888,\"#fdca26\"],[1.0,\"#f0f921\"]],\"sequentialminus\":[[0.0,\"#0d0887\"],[0.1111111111111111,\"#46039f\"],[0.2222222222222222,\"#7201a8\"],[0.3333333333333333,\"#9c179e\"],[0.4444444444444444,\"#bd3786\"],[0.5555555555555556,\"#d8576b\"],[0.6666666666666666,\"#ed7953\"],[0.7777777777777778,\"#fb9f3a\"],[0.8888888888888888,\"#fdca26\"],[1.0,\"#f0f921\"]],\"diverging\":[[0,\"#8e0152\"],[0.1,\"#c51b7d\"],[0.2,\"#de77ae\"],[0.3,\"#f1b6da\"],[0.4,\"#fde0ef\"],[0.5,\"#f7f7f7\"],[0.6,\"#e6f5d0\"],[0.7,\"#b8e186\"],[0.8,\"#7fbc41\"],[0.9,\"#4d9221\"],[1,\"#276419\"]]},\"xaxis\":{\"gridcolor\":\"white\",\"linecolor\":\"white\",\"ticks\":\"\",\"title\":{\"standoff\":15},\"zerolinecolor\":\"white\",\"automargin\":true,\"zerolinewidth\":2},\"yaxis\":{\"gridcolor\":\"white\",\"linecolor\":\"white\",\"ticks\":\"\",\"title\":{\"standoff\":15},\"zerolinecolor\":\"white\",\"automargin\":true,\"zerolinewidth\":2},\"scene\":{\"xaxis\":{\"backgroundcolor\":\"#E5ECF6\",\"gridcolor\":\"white\",\"linecolor\":\"white\",\"showbackground\":true,\"ticks\":\"\",\"zerolinecolor\":\"white\",\"gridwidth\":2},\"yaxis\":{\"backgroundcolor\":\"#E5ECF6\",\"gridcolor\":\"white\",\"linecolor\":\"white\",\"showbackground\":true,\"ticks\":\"\",\"zerolinecolor\":\"white\",\"gridwidth\":2},\"zaxis\":{\"backgroundcolor\":\"#E5ECF6\",\"gridcolor\":\"white\",\"linecolor\":\"white\",\"showbackground\":true,\"ticks\":\"\",\"zerolinecolor\":\"white\",\"gridwidth\":2}},\"shapedefaults\":{\"line\":{\"color\":\"#2a3f5f\"}},\"annotationdefaults\":{\"arrowcolor\":\"#2a3f5f\",\"arrowhead\":0,\"arrowwidth\":1},\"geo\":{\"bgcolor\":\"white\",\"landcolor\":\"#E5ECF6\",\"subunitcolor\":\"white\",\"showland\":true,\"showlakes\":true,\"lakecolor\":\"white\"},\"title\":{\"x\":0.05},\"mapbox\":{\"style\":\"light\"}}},\"xaxis\":{\"anchor\":\"y\",\"domain\":[0.0,1.0],\"title\":{\"text\":\"support\"},\"type\":\"log\"},\"yaxis\":{\"anchor\":\"x\",\"domain\":[0.0,1.0],\"title\":{\"text\":\"confidence\"}},\"coloraxis\":{\"colorbar\":{\"title\":{\"text\":\"lift\"}},\"colorscale\":[[0.0,\"#0d0887\"],[0.1111111111111111,\"#46039f\"],[0.2222222222222222,\"#7201a8\"],[0.3333333333333333,\"#9c179e\"],[0.4444444444444444,\"#bd3786\"],[0.5555555555555556,\"#d8576b\"],[0.6666666666666666,\"#ed7953\"],[0.7777777777777778,\"#fb9f3a\"],[0.8888888888888888,\"#fdca26\"],[1.0,\"#f0f921\"]]},\"legend\":{\"tracegroupgap\":0},\"margin\":{\"t\":60},\"plot_bgcolor\":\"rgb(240,240,240)\",\"title\":{\"text\":\"2D Plot of Support, Confidence and Lift\"},\"height\":440.00000000000006},                        {\"responsive\": true}                    ).then(function(){\n",
       "                            \n",
       "var gd = document.getElementById('3471aff7-e543-45b8-b6ed-27ae4b08e9ab');\n",
       "var x = new MutationObserver(function (mutations, observer) {{\n",
       "        var display = window.getComputedStyle(gd).display;\n",
       "        if (!display || display === 'none') {{\n",
       "            console.log([gd, 'removed!']);\n",
       "            Plotly.purge(gd);\n",
       "            observer.disconnect();\n",
       "        }}\n",
       "}});\n",
       "\n",
       "// Listen for the removal of the full notebook cells\n",
       "var notebookContainer = gd.closest('#notebook-container');\n",
       "if (notebookContainer) {{\n",
       "    x.observe(notebookContainer, {childList: true});\n",
       "}}\n",
       "\n",
       "// Listen for the clearing of the current output cell\n",
       "var outputEl = gd.closest('.output');\n",
       "if (outputEl) {{\n",
       "    x.observe(outputEl, {childList: true});\n",
       "}}\n",
       "\n",
       "                        })                };                });            </script>        </div>"
      ]
     },
     "metadata": {},
     "output_type": "display_data"
    }
   ],
   "source": [
    "#vykresleni pravidel\n",
    "plot_model(model1, plot='2d', scale=0.55)"
   ]
  },
  {
   "cell_type": "markdown",
   "metadata": {},
   "source": [
    "PyCaret knihovna nabízí funkci _get_rules()_, která kombinuje předchozí dvě funkce v jednu"
   ]
  },
  {
   "cell_type": "code",
   "execution_count": 33,
   "metadata": {},
   "outputs": [
    {
     "data": {
      "text/html": [
       "<style type=\"text/css\">\n",
       "</style>\n",
       "<table id=\"T_47fe6\">\n",
       "  <thead>\n",
       "    <tr>\n",
       "      <th id=\"T_47fe6_level0_col0\" class=\"col_heading level0 col0\" >Description</th>\n",
       "      <th id=\"T_47fe6_level0_col1\" class=\"col_heading level0 col1\" >Value</th>\n",
       "    </tr>\n",
       "  </thead>\n",
       "  <tbody>\n",
       "    <tr>\n",
       "      <td id=\"T_47fe6_row0_col0\" class=\"data row0 col0\" >session_id</td>\n",
       "      <td id=\"T_47fe6_row0_col1\" class=\"data row0 col1\" >7588</td>\n",
       "    </tr>\n",
       "    <tr>\n",
       "      <td id=\"T_47fe6_row1_col0\" class=\"data row1 col0\" ># Transactions</td>\n",
       "      <td id=\"T_47fe6_row1_col1\" class=\"data row1 col1\" >9465</td>\n",
       "    </tr>\n",
       "    <tr>\n",
       "      <td id=\"T_47fe6_row2_col0\" class=\"data row2 col0\" ># Items</td>\n",
       "      <td id=\"T_47fe6_row2_col1\" class=\"data row2 col1\" >94</td>\n",
       "    </tr>\n",
       "    <tr>\n",
       "      <td id=\"T_47fe6_row3_col0\" class=\"data row3 col0\" >Ignore Items</td>\n",
       "      <td id=\"T_47fe6_row3_col1\" class=\"data row3 col1\" >None</td>\n",
       "    </tr>\n",
       "  </tbody>\n",
       "</table>\n"
      ],
      "text/plain": [
       "<pandas.io.formats.style.Styler at 0xffff79f63370>"
      ]
     },
     "metadata": {},
     "output_type": "display_data"
    },
    {
     "data": {
      "text/html": [
       "<div>\n",
       "<style scoped>\n",
       "    .dataframe tbody tr th:only-of-type {\n",
       "        vertical-align: middle;\n",
       "    }\n",
       "\n",
       "    .dataframe tbody tr th {\n",
       "        vertical-align: top;\n",
       "    }\n",
       "\n",
       "    .dataframe thead th {\n",
       "        text-align: right;\n",
       "    }\n",
       "</style>\n",
       "<table border=\"1\" class=\"dataframe\">\n",
       "  <thead>\n",
       "    <tr style=\"text-align: right;\">\n",
       "      <th></th>\n",
       "      <th>antecedents</th>\n",
       "      <th>consequents</th>\n",
       "      <th>antecedent support</th>\n",
       "      <th>consequent support</th>\n",
       "      <th>support</th>\n",
       "      <th>confidence</th>\n",
       "      <th>lift</th>\n",
       "      <th>leverage</th>\n",
       "      <th>conviction</th>\n",
       "    </tr>\n",
       "  </thead>\n",
       "  <tbody>\n",
       "    <tr>\n",
       "      <th>0</th>\n",
       "      <td>(Cake)</td>\n",
       "      <td>(Tea, Coffee)</td>\n",
       "      <td>0.1039</td>\n",
       "      <td>0.0499</td>\n",
       "      <td>0.0100</td>\n",
       "      <td>0.0966</td>\n",
       "      <td>1.9380</td>\n",
       "      <td>0.0049</td>\n",
       "      <td>1.0518</td>\n",
       "    </tr>\n",
       "    <tr>\n",
       "      <th>1</th>\n",
       "      <td>(Tea, Coffee)</td>\n",
       "      <td>(Cake)</td>\n",
       "      <td>0.0499</td>\n",
       "      <td>0.1039</td>\n",
       "      <td>0.0100</td>\n",
       "      <td>0.2013</td>\n",
       "      <td>1.9380</td>\n",
       "      <td>0.0049</td>\n",
       "      <td>1.1220</td>\n",
       "    </tr>\n",
       "    <tr>\n",
       "      <th>2</th>\n",
       "      <td>(Cake)</td>\n",
       "      <td>(Hot chocolate)</td>\n",
       "      <td>0.1039</td>\n",
       "      <td>0.0583</td>\n",
       "      <td>0.0114</td>\n",
       "      <td>0.1099</td>\n",
       "      <td>1.8839</td>\n",
       "      <td>0.0054</td>\n",
       "      <td>1.0579</td>\n",
       "    </tr>\n",
       "    <tr>\n",
       "      <th>3</th>\n",
       "      <td>(Hot chocolate)</td>\n",
       "      <td>(Cake)</td>\n",
       "      <td>0.0583</td>\n",
       "      <td>0.1039</td>\n",
       "      <td>0.0114</td>\n",
       "      <td>0.1957</td>\n",
       "      <td>1.8839</td>\n",
       "      <td>0.0054</td>\n",
       "      <td>1.1141</td>\n",
       "    </tr>\n",
       "    <tr>\n",
       "      <th>4</th>\n",
       "      <td>(Tea)</td>\n",
       "      <td>(Cake)</td>\n",
       "      <td>0.1426</td>\n",
       "      <td>0.1039</td>\n",
       "      <td>0.0238</td>\n",
       "      <td>0.1667</td>\n",
       "      <td>1.6048</td>\n",
       "      <td>0.0090</td>\n",
       "      <td>1.0754</td>\n",
       "    </tr>\n",
       "    <tr>\n",
       "      <th>...</th>\n",
       "      <td>...</td>\n",
       "      <td>...</td>\n",
       "      <td>...</td>\n",
       "      <td>...</td>\n",
       "      <td>...</td>\n",
       "      <td>...</td>\n",
       "      <td>...</td>\n",
       "      <td>...</td>\n",
       "      <td>...</td>\n",
       "    </tr>\n",
       "    <tr>\n",
       "      <th>69</th>\n",
       "      <td>(Bread)</td>\n",
       "      <td>(Tea)</td>\n",
       "      <td>0.3272</td>\n",
       "      <td>0.1426</td>\n",
       "      <td>0.0281</td>\n",
       "      <td>0.0859</td>\n",
       "      <td>0.6022</td>\n",
       "      <td>-0.0186</td>\n",
       "      <td>0.9379</td>\n",
       "    </tr>\n",
       "    <tr>\n",
       "      <th>70</th>\n",
       "      <td>(Bread)</td>\n",
       "      <td>(Coffee)</td>\n",
       "      <td>0.3272</td>\n",
       "      <td>0.4784</td>\n",
       "      <td>0.0900</td>\n",
       "      <td>0.2751</td>\n",
       "      <td>0.5751</td>\n",
       "      <td>-0.0665</td>\n",
       "      <td>0.7196</td>\n",
       "    </tr>\n",
       "    <tr>\n",
       "      <th>71</th>\n",
       "      <td>(Coffee)</td>\n",
       "      <td>(Bread)</td>\n",
       "      <td>0.4784</td>\n",
       "      <td>0.3272</td>\n",
       "      <td>0.0900</td>\n",
       "      <td>0.1882</td>\n",
       "      <td>0.5751</td>\n",
       "      <td>-0.0665</td>\n",
       "      <td>0.8287</td>\n",
       "    </tr>\n",
       "    <tr>\n",
       "      <th>72</th>\n",
       "      <td>(Bread)</td>\n",
       "      <td>(Coffee, Cake)</td>\n",
       "      <td>0.3272</td>\n",
       "      <td>0.0547</td>\n",
       "      <td>0.0100</td>\n",
       "      <td>0.0307</td>\n",
       "      <td>0.5605</td>\n",
       "      <td>-0.0079</td>\n",
       "      <td>0.9752</td>\n",
       "    </tr>\n",
       "    <tr>\n",
       "      <th>73</th>\n",
       "      <td>(Coffee, Cake)</td>\n",
       "      <td>(Bread)</td>\n",
       "      <td>0.0547</td>\n",
       "      <td>0.3272</td>\n",
       "      <td>0.0100</td>\n",
       "      <td>0.1834</td>\n",
       "      <td>0.5605</td>\n",
       "      <td>-0.0079</td>\n",
       "      <td>0.8239</td>\n",
       "    </tr>\n",
       "  </tbody>\n",
       "</table>\n",
       "<p>74 rows × 9 columns</p>\n",
       "</div>"
      ],
      "text/plain": [
       "        antecedents      consequents  antecedent support  consequent support  \\\n",
       "0            (Cake)    (Tea, Coffee)              0.1039              0.0499   \n",
       "1     (Tea, Coffee)           (Cake)              0.0499              0.1039   \n",
       "2            (Cake)  (Hot chocolate)              0.1039              0.0583   \n",
       "3   (Hot chocolate)           (Cake)              0.0583              0.1039   \n",
       "4             (Tea)           (Cake)              0.1426              0.1039   \n",
       "..              ...              ...                 ...                 ...   \n",
       "69          (Bread)            (Tea)              0.3272              0.1426   \n",
       "70          (Bread)         (Coffee)              0.3272              0.4784   \n",
       "71         (Coffee)          (Bread)              0.4784              0.3272   \n",
       "72          (Bread)   (Coffee, Cake)              0.3272              0.0547   \n",
       "73   (Coffee, Cake)          (Bread)              0.0547              0.3272   \n",
       "\n",
       "    support  confidence    lift  leverage  conviction  \n",
       "0    0.0100      0.0966  1.9380    0.0049      1.0518  \n",
       "1    0.0100      0.2013  1.9380    0.0049      1.1220  \n",
       "2    0.0114      0.1099  1.8839    0.0054      1.0579  \n",
       "3    0.0114      0.1957  1.8839    0.0054      1.1141  \n",
       "4    0.0238      0.1667  1.6048    0.0090      1.0754  \n",
       "..      ...         ...     ...       ...         ...  \n",
       "69   0.0281      0.0859  0.6022   -0.0186      0.9379  \n",
       "70   0.0900      0.2751  0.5751   -0.0665      0.7196  \n",
       "71   0.0900      0.1882  0.5751   -0.0665      0.8287  \n",
       "72   0.0100      0.0307  0.5605   -0.0079      0.9752  \n",
       "73   0.0100      0.1834  0.5605   -0.0079      0.8239  \n",
       "\n",
       "[74 rows x 9 columns]"
      ]
     },
     "execution_count": 33,
     "metadata": {},
     "output_type": "execute_result"
    }
   ],
   "source": [
    "rules = get_rules(df, transaction_id='Transaction', item_id='Item', min_support=0.01, metric=\"lift\")\n",
    "rules"
   ]
  },
  {
   "cell_type": "code",
   "execution_count": 34,
   "metadata": {},
   "outputs": [
    {
     "data": {
      "text/html": [
       "        <script type=\"text/javascript\">\n",
       "        window.PlotlyConfig = {MathJaxConfig: 'local'};\n",
       "        if (window.MathJax && window.MathJax.Hub && window.MathJax.Hub.Config) {window.MathJax.Hub.Config({SVG: {font: \"STIX-Web\"}});}\n",
       "        if (typeof require !== 'undefined') {\n",
       "        require.undef(\"plotly\");\n",
       "        requirejs.config({\n",
       "            paths: {\n",
       "                'plotly': ['https://cdn.plot.ly/plotly-2.12.1.min']\n",
       "            }\n",
       "        });\n",
       "        require(['plotly'], function(Plotly) {\n",
       "            window._Plotly = Plotly;\n",
       "        });\n",
       "        }\n",
       "        </script>\n",
       "        "
      ]
     },
     "metadata": {},
     "output_type": "display_data"
    },
    {
     "data": {
      "application/vnd.plotly.v1+json": {
       "config": {
        "plotlyServerURL": "https://plot.ly"
       },
       "data": [
        {
         "customdata": [
          [
           [
            "Cake"
           ],
           [
            "Tea",
            "Coffee"
           ]
          ],
          [
           [
            "Tea",
            "Coffee"
           ],
           [
            "Cake"
           ]
          ],
          [
           [
            "Cake"
           ],
           [
            "Hot chocolate"
           ]
          ],
          [
           [
            "Hot chocolate"
           ],
           [
            "Cake"
           ]
          ],
          [
           [
            "Tea"
           ],
           [
            "Cake"
           ]
          ],
          [
           [
            "Cake"
           ],
           [
            "Tea"
           ]
          ],
          [
           [
            "Toast"
           ],
           [
            "Coffee"
           ]
          ],
          [
           [
            "Coffee"
           ],
           [
            "Toast"
           ]
          ],
          [
           [
            "Pastry"
           ],
           [
            "Bread",
            "Coffee"
           ]
          ],
          [
           [
            "Bread",
            "Coffee"
           ],
           [
            "Pastry"
           ]
          ],
          [
           [
            "Sandwich"
           ],
           [
            "Tea"
           ]
          ],
          [
           [
            "Tea"
           ],
           [
            "Sandwich"
           ]
          ],
          [
           [
            "Tea"
           ],
           [
            "Coffee",
            "Cake"
           ]
          ],
          [
           [
            "Coffee",
            "Cake"
           ],
           [
            "Tea"
           ]
          ],
          [
           [
            "Spanish Brunch"
           ],
           [
            "Coffee"
           ]
          ],
          [
           [
            "Coffee"
           ],
           [
            "Spanish Brunch"
           ]
          ],
          [
           [
            "Coffee"
           ],
           [
            "Medialuna"
           ]
          ],
          [
           [
            "Medialuna"
           ],
           [
            "Coffee"
           ]
          ],
          [
           [
            "Coffee"
           ],
           [
            "Pastry"
           ]
          ],
          [
           [
            "Pastry"
           ],
           [
            "Coffee"
           ]
          ],
          [
           [
            "Coffee"
           ],
           [
            "Alfajores"
           ]
          ],
          [
           [
            "Alfajores"
           ],
           [
            "Coffee"
           ]
          ],
          [
           [
            "Juice"
           ],
           [
            "Coffee"
           ]
          ],
          [
           [
            "Coffee"
           ],
           [
            "Juice"
           ]
          ],
          [
           [
            "Coffee"
           ],
           [
            "Sandwich"
           ]
          ],
          [
           [
            "Sandwich"
           ],
           [
            "Coffee"
           ]
          ],
          [
           [
            "Cake"
           ],
           [
            "Coffee"
           ]
          ],
          [
           [
            "Coffee"
           ],
           [
            "Cake"
           ]
          ],
          [
           [
            "Coffee"
           ],
           [
            "Scone"
           ]
          ],
          [
           [
            "Scone"
           ],
           [
            "Coffee"
           ]
          ],
          [
           [
            "Coffee"
           ],
           [
            "Cookies"
           ]
          ],
          [
           [
            "Cookies"
           ],
           [
            "Coffee"
           ]
          ],
          [
           [
            "Bread",
            "Coffee"
           ],
           [
            "Cake"
           ]
          ],
          [
           [
            "Cake"
           ],
           [
            "Bread",
            "Coffee"
           ]
          ],
          [
           [
            "Coffee"
           ],
           [
            "Hot chocolate"
           ]
          ],
          [
           [
            "Hot chocolate"
           ],
           [
            "Coffee"
           ]
          ],
          [
           [
            "Bread"
           ],
           [
            "Pastry"
           ]
          ],
          [
           [
            "Pastry"
           ],
           [
            "Bread"
           ]
          ],
          [
           [
            "Coffee"
           ],
           [
            "Brownie"
           ]
          ],
          [
           [
            "Brownie"
           ],
           [
            "Coffee"
           ]
          ],
          [
           [
            "Coffee"
           ],
           [
            "Muffin"
           ]
          ],
          [
           [
            "Muffin"
           ],
           [
            "Coffee"
           ]
          ],
          [
           [
            "Soup"
           ],
           [
            "Coffee"
           ]
          ],
          [
           [
            "Coffee"
           ],
           [
            "Soup"
           ]
          ],
          [
           [
            "Bread",
            "Cake"
           ],
           [
            "Coffee"
           ]
          ],
          [
           [
            "Coffee"
           ],
           [
            "Bread",
            "Cake"
           ]
          ],
          [
           [
            "Tea",
            "Cake"
           ],
           [
            "Coffee"
           ]
          ],
          [
           [
            "Coffee"
           ],
           [
            "Tea",
            "Cake"
           ]
          ],
          [
           [
            "Alfajores"
           ],
           [
            "Bread"
           ]
          ],
          [
           [
            "Bread"
           ],
           [
            "Alfajores"
           ]
          ],
          [
           [
            "Medialuna"
           ],
           [
            "Bread"
           ]
          ],
          [
           [
            "Bread"
           ],
           [
            "Medialuna"
           ]
          ],
          [
           [
            "Bread"
           ],
           [
            "Brownie"
           ]
          ],
          [
           [
            "Brownie"
           ],
           [
            "Bread"
           ]
          ],
          [
           [
            "Bread"
           ],
           [
            "Cookies"
           ]
          ],
          [
           [
            "Cookies"
           ],
           [
            "Bread"
           ]
          ],
          [
           [
            "Bread",
            "Pastry"
           ],
           [
            "Coffee"
           ]
          ],
          [
           [
            "Coffee"
           ],
           [
            "Bread",
            "Pastry"
           ]
          ],
          [
           [
            "Coffee"
           ],
           [
            "Tea"
           ]
          ],
          [
           [
            "Tea"
           ],
           [
            "Coffee"
           ]
          ],
          [
           [
            "Sandwich"
           ],
           [
            "Bread"
           ]
          ],
          [
           [
            "Bread"
           ],
           [
            "Sandwich"
           ]
          ],
          [
           [
            "Bread"
           ],
           [
            "Pastry",
            "Coffee"
           ]
          ],
          [
           [
            "Pastry",
            "Coffee"
           ],
           [
            "Bread"
           ]
          ],
          [
           [
            "Hot chocolate"
           ],
           [
            "Bread"
           ]
          ],
          [
           [
            "Bread"
           ],
           [
            "Hot chocolate"
           ]
          ],
          [
           [
            "Bread"
           ],
           [
            "Cake"
           ]
          ],
          [
           [
            "Cake"
           ],
           [
            "Bread"
           ]
          ],
          [
           [
            "Tea"
           ],
           [
            "Bread"
           ]
          ],
          [
           [
            "Bread"
           ],
           [
            "Tea"
           ]
          ],
          [
           [
            "Bread"
           ],
           [
            "Coffee"
           ]
          ],
          [
           [
            "Coffee"
           ],
           [
            "Bread"
           ]
          ],
          [
           [
            "Bread"
           ],
           [
            "Coffee",
            "Cake"
           ]
          ],
          [
           [
            "Coffee",
            "Cake"
           ],
           [
            "Bread"
           ]
          ]
         ],
         "hovertemplate": "support=%{x}<br>confidence=%{y}<br>lift=%{z}<br>antecedents=%{customdata[0]}<br>consequents=%{customdata[1]}<br>antecedent support=%{marker.color}<extra></extra>",
         "legendgroup": "",
         "marker": {
          "color": [
           0.1039,
           0.0499,
           0.1039,
           0.0583,
           0.1426,
           0.1039,
           0.0336,
           0.4784,
           0.0861,
           0.09,
           0.0718,
           0.1426,
           0.1426,
           0.0547,
           0.0182,
           0.4784,
           0.4784,
           0.0618,
           0.4784,
           0.0861,
           0.4784,
           0.0363,
           0.0386,
           0.4784,
           0.4784,
           0.0718,
           0.1039,
           0.4784,
           0.4784,
           0.0345,
           0.4784,
           0.0544,
           0.09,
           0.1039,
           0.4784,
           0.0583,
           0.3272,
           0.0861,
           0.4784,
           0.04,
           0.4784,
           0.0385,
           0.0344,
           0.4784,
           0.0233,
           0.4784,
           0.0238,
           0.4784,
           0.0363,
           0.3272,
           0.0618,
           0.3272,
           0.3272,
           0.04,
           0.3272,
           0.0544,
           0.0292,
           0.4784,
           0.4784,
           0.1426,
           0.0718,
           0.3272,
           0.3272,
           0.0475,
           0.0583,
           0.3272,
           0.3272,
           0.1039,
           0.1426,
           0.3272,
           0.3272,
           0.4784,
           0.3272,
           0.0547
          ],
          "coloraxis": "coloraxis",
          "opacity": 0.7,
          "symbol": "circle"
         },
         "mode": "markers",
         "name": "",
         "scene": "scene",
         "showlegend": false,
         "type": "scatter3d",
         "x": [
          0.01,
          0.01,
          0.0114,
          0.0114,
          0.0238,
          0.0238,
          0.0237,
          0.0237,
          0.0112,
          0.0112,
          0.0144,
          0.0144,
          0.01,
          0.01,
          0.0109,
          0.0109,
          0.0352,
          0.0352,
          0.0475,
          0.0475,
          0.0197,
          0.0197,
          0.0206,
          0.0206,
          0.0382,
          0.0382,
          0.0547,
          0.0547,
          0.0181,
          0.0181,
          0.0282,
          0.0282,
          0.01,
          0.01,
          0.0296,
          0.0296,
          0.0292,
          0.0292,
          0.0197,
          0.0197,
          0.0188,
          0.0188,
          0.0158,
          0.0158,
          0.01,
          0.01,
          0.01,
          0.01,
          0.0104,
          0.0104,
          0.0169,
          0.0169,
          0.0108,
          0.0108,
          0.0145,
          0.0145,
          0.0112,
          0.0112,
          0.0499,
          0.0499,
          0.017,
          0.017,
          0.0112,
          0.0112,
          0.0134,
          0.0134,
          0.0233,
          0.0233,
          0.0281,
          0.0281,
          0.09,
          0.09,
          0.01,
          0.01
         ],
         "y": [
          0.0966,
          0.2013,
          0.1099,
          0.1957,
          0.1667,
          0.2289,
          0.7044,
          0.0495,
          0.1301,
          0.1244,
          0.2,
          0.1007,
          0.0704,
          0.1834,
          0.5988,
          0.0227,
          0.0735,
          0.5692,
          0.0994,
          0.5521,
          0.0411,
          0.5407,
          0.5342,
          0.0431,
          0.0799,
          0.5324,
          0.527,
          0.1144,
          0.0378,
          0.5229,
          0.059,
          0.5184,
          0.1115,
          0.0966,
          0.0618,
          0.5072,
          0.0891,
          0.3387,
          0.0411,
          0.4908,
          0.0393,
          0.489,
          0.4601,
          0.0331,
          0.4299,
          0.021,
          0.4222,
          0.021,
          0.2849,
          0.0316,
          0.2735,
          0.0517,
          0.0329,
          0.2691,
          0.0442,
          0.266,
          0.3841,
          0.0234,
          0.1042,
          0.3496,
          0.2368,
          0.052,
          0.0342,
          0.2356,
          0.2301,
          0.041,
          0.0714,
          0.2248,
          0.197,
          0.0859,
          0.2751,
          0.1882,
          0.0307,
          0.1834
         ],
         "z": [
          1.938,
          1.938,
          1.8839,
          1.8839,
          1.6048,
          1.6048,
          1.4724,
          1.4724,
          1.4449,
          1.4449,
          1.4022,
          1.4022,
          1.2858,
          1.2858,
          1.2518,
          1.2518,
          1.1899,
          1.1899,
          1.1542,
          1.1542,
          1.1302,
          1.1302,
          1.1167,
          1.1167,
          1.1128,
          1.1128,
          1.1015,
          1.1015,
          1.0931,
          1.0931,
          1.0837,
          1.0837,
          1.0736,
          1.0736,
          1.0603,
          1.0603,
          1.035,
          1.035,
          1.0259,
          1.0259,
          1.0222,
          1.0222,
          0.9618,
          0.9618,
          0.8986,
          0.8986,
          0.8826,
          0.8826,
          0.8707,
          0.8707,
          0.8359,
          0.8359,
          0.8225,
          0.8225,
          0.813,
          0.813,
          0.8028,
          0.8028,
          0.7308,
          0.7308,
          0.7236,
          0.7236,
          0.7199,
          0.7199,
          0.7031,
          0.7031,
          0.6871,
          0.6871,
          0.6022,
          0.6022,
          0.5751,
          0.5751,
          0.5605,
          0.5605
         ]
        }
       ],
       "layout": {
        "coloraxis": {
         "colorbar": {
          "title": {
           "text": "antecedent support"
          }
         },
         "colorscale": [
          [
           0,
           "#0d0887"
          ],
          [
           0.1111111111111111,
           "#46039f"
          ],
          [
           0.2222222222222222,
           "#7201a8"
          ],
          [
           0.3333333333333333,
           "#9c179e"
          ],
          [
           0.4444444444444444,
           "#bd3786"
          ],
          [
           0.5555555555555556,
           "#d8576b"
          ],
          [
           0.6666666666666666,
           "#ed7953"
          ],
          [
           0.7777777777777778,
           "#fb9f3a"
          ],
          [
           0.8888888888888888,
           "#fdca26"
          ],
          [
           1,
           "#f0f921"
          ]
         ]
        },
        "height": 600,
        "legend": {
         "tracegroupgap": 0
        },
        "scene": {
         "domain": {
          "x": [
           0,
           1
          ],
          "y": [
           0,
           1
          ]
         },
         "xaxis": {
          "title": {
           "text": "support"
          }
         },
         "yaxis": {
          "title": {
           "text": "confidence"
          }
         },
         "zaxis": {
          "title": {
           "text": "lift"
          }
         }
        },
        "template": {
         "data": {
          "bar": [
           {
            "error_x": {
             "color": "#2a3f5f"
            },
            "error_y": {
             "color": "#2a3f5f"
            },
            "marker": {
             "line": {
              "color": "#E5ECF6",
              "width": 0.5
             },
             "pattern": {
              "fillmode": "overlay",
              "size": 10,
              "solidity": 0.2
             }
            },
            "type": "bar"
           }
          ],
          "barpolar": [
           {
            "marker": {
             "line": {
              "color": "#E5ECF6",
              "width": 0.5
             },
             "pattern": {
              "fillmode": "overlay",
              "size": 10,
              "solidity": 0.2
             }
            },
            "type": "barpolar"
           }
          ],
          "carpet": [
           {
            "aaxis": {
             "endlinecolor": "#2a3f5f",
             "gridcolor": "white",
             "linecolor": "white",
             "minorgridcolor": "white",
             "startlinecolor": "#2a3f5f"
            },
            "baxis": {
             "endlinecolor": "#2a3f5f",
             "gridcolor": "white",
             "linecolor": "white",
             "minorgridcolor": "white",
             "startlinecolor": "#2a3f5f"
            },
            "type": "carpet"
           }
          ],
          "choropleth": [
           {
            "colorbar": {
             "outlinewidth": 0,
             "ticks": ""
            },
            "type": "choropleth"
           }
          ],
          "contour": [
           {
            "colorbar": {
             "outlinewidth": 0,
             "ticks": ""
            },
            "colorscale": [
             [
              0,
              "#0d0887"
             ],
             [
              0.1111111111111111,
              "#46039f"
             ],
             [
              0.2222222222222222,
              "#7201a8"
             ],
             [
              0.3333333333333333,
              "#9c179e"
             ],
             [
              0.4444444444444444,
              "#bd3786"
             ],
             [
              0.5555555555555556,
              "#d8576b"
             ],
             [
              0.6666666666666666,
              "#ed7953"
             ],
             [
              0.7777777777777778,
              "#fb9f3a"
             ],
             [
              0.8888888888888888,
              "#fdca26"
             ],
             [
              1,
              "#f0f921"
             ]
            ],
            "type": "contour"
           }
          ],
          "contourcarpet": [
           {
            "colorbar": {
             "outlinewidth": 0,
             "ticks": ""
            },
            "type": "contourcarpet"
           }
          ],
          "heatmap": [
           {
            "colorbar": {
             "outlinewidth": 0,
             "ticks": ""
            },
            "colorscale": [
             [
              0,
              "#0d0887"
             ],
             [
              0.1111111111111111,
              "#46039f"
             ],
             [
              0.2222222222222222,
              "#7201a8"
             ],
             [
              0.3333333333333333,
              "#9c179e"
             ],
             [
              0.4444444444444444,
              "#bd3786"
             ],
             [
              0.5555555555555556,
              "#d8576b"
             ],
             [
              0.6666666666666666,
              "#ed7953"
             ],
             [
              0.7777777777777778,
              "#fb9f3a"
             ],
             [
              0.8888888888888888,
              "#fdca26"
             ],
             [
              1,
              "#f0f921"
             ]
            ],
            "type": "heatmap"
           }
          ],
          "heatmapgl": [
           {
            "colorbar": {
             "outlinewidth": 0,
             "ticks": ""
            },
            "colorscale": [
             [
              0,
              "#0d0887"
             ],
             [
              0.1111111111111111,
              "#46039f"
             ],
             [
              0.2222222222222222,
              "#7201a8"
             ],
             [
              0.3333333333333333,
              "#9c179e"
             ],
             [
              0.4444444444444444,
              "#bd3786"
             ],
             [
              0.5555555555555556,
              "#d8576b"
             ],
             [
              0.6666666666666666,
              "#ed7953"
             ],
             [
              0.7777777777777778,
              "#fb9f3a"
             ],
             [
              0.8888888888888888,
              "#fdca26"
             ],
             [
              1,
              "#f0f921"
             ]
            ],
            "type": "heatmapgl"
           }
          ],
          "histogram": [
           {
            "marker": {
             "pattern": {
              "fillmode": "overlay",
              "size": 10,
              "solidity": 0.2
             }
            },
            "type": "histogram"
           }
          ],
          "histogram2d": [
           {
            "colorbar": {
             "outlinewidth": 0,
             "ticks": ""
            },
            "colorscale": [
             [
              0,
              "#0d0887"
             ],
             [
              0.1111111111111111,
              "#46039f"
             ],
             [
              0.2222222222222222,
              "#7201a8"
             ],
             [
              0.3333333333333333,
              "#9c179e"
             ],
             [
              0.4444444444444444,
              "#bd3786"
             ],
             [
              0.5555555555555556,
              "#d8576b"
             ],
             [
              0.6666666666666666,
              "#ed7953"
             ],
             [
              0.7777777777777778,
              "#fb9f3a"
             ],
             [
              0.8888888888888888,
              "#fdca26"
             ],
             [
              1,
              "#f0f921"
             ]
            ],
            "type": "histogram2d"
           }
          ],
          "histogram2dcontour": [
           {
            "colorbar": {
             "outlinewidth": 0,
             "ticks": ""
            },
            "colorscale": [
             [
              0,
              "#0d0887"
             ],
             [
              0.1111111111111111,
              "#46039f"
             ],
             [
              0.2222222222222222,
              "#7201a8"
             ],
             [
              0.3333333333333333,
              "#9c179e"
             ],
             [
              0.4444444444444444,
              "#bd3786"
             ],
             [
              0.5555555555555556,
              "#d8576b"
             ],
             [
              0.6666666666666666,
              "#ed7953"
             ],
             [
              0.7777777777777778,
              "#fb9f3a"
             ],
             [
              0.8888888888888888,
              "#fdca26"
             ],
             [
              1,
              "#f0f921"
             ]
            ],
            "type": "histogram2dcontour"
           }
          ],
          "mesh3d": [
           {
            "colorbar": {
             "outlinewidth": 0,
             "ticks": ""
            },
            "type": "mesh3d"
           }
          ],
          "parcoords": [
           {
            "line": {
             "colorbar": {
              "outlinewidth": 0,
              "ticks": ""
             }
            },
            "type": "parcoords"
           }
          ],
          "pie": [
           {
            "automargin": true,
            "type": "pie"
           }
          ],
          "scatter": [
           {
            "fillpattern": {
             "fillmode": "overlay",
             "size": 10,
             "solidity": 0.2
            },
            "type": "scatter"
           }
          ],
          "scatter3d": [
           {
            "line": {
             "colorbar": {
              "outlinewidth": 0,
              "ticks": ""
             }
            },
            "marker": {
             "colorbar": {
              "outlinewidth": 0,
              "ticks": ""
             }
            },
            "type": "scatter3d"
           }
          ],
          "scattercarpet": [
           {
            "marker": {
             "colorbar": {
              "outlinewidth": 0,
              "ticks": ""
             }
            },
            "type": "scattercarpet"
           }
          ],
          "scattergeo": [
           {
            "marker": {
             "colorbar": {
              "outlinewidth": 0,
              "ticks": ""
             }
            },
            "type": "scattergeo"
           }
          ],
          "scattergl": [
           {
            "marker": {
             "colorbar": {
              "outlinewidth": 0,
              "ticks": ""
             }
            },
            "type": "scattergl"
           }
          ],
          "scattermapbox": [
           {
            "marker": {
             "colorbar": {
              "outlinewidth": 0,
              "ticks": ""
             }
            },
            "type": "scattermapbox"
           }
          ],
          "scatterpolar": [
           {
            "marker": {
             "colorbar": {
              "outlinewidth": 0,
              "ticks": ""
             }
            },
            "type": "scatterpolar"
           }
          ],
          "scatterpolargl": [
           {
            "marker": {
             "colorbar": {
              "outlinewidth": 0,
              "ticks": ""
             }
            },
            "type": "scatterpolargl"
           }
          ],
          "scatterternary": [
           {
            "marker": {
             "colorbar": {
              "outlinewidth": 0,
              "ticks": ""
             }
            },
            "type": "scatterternary"
           }
          ],
          "surface": [
           {
            "colorbar": {
             "outlinewidth": 0,
             "ticks": ""
            },
            "colorscale": [
             [
              0,
              "#0d0887"
             ],
             [
              0.1111111111111111,
              "#46039f"
             ],
             [
              0.2222222222222222,
              "#7201a8"
             ],
             [
              0.3333333333333333,
              "#9c179e"
             ],
             [
              0.4444444444444444,
              "#bd3786"
             ],
             [
              0.5555555555555556,
              "#d8576b"
             ],
             [
              0.6666666666666666,
              "#ed7953"
             ],
             [
              0.7777777777777778,
              "#fb9f3a"
             ],
             [
              0.8888888888888888,
              "#fdca26"
             ],
             [
              1,
              "#f0f921"
             ]
            ],
            "type": "surface"
           }
          ],
          "table": [
           {
            "cells": {
             "fill": {
              "color": "#EBF0F8"
             },
             "line": {
              "color": "white"
             }
            },
            "header": {
             "fill": {
              "color": "#C8D4E3"
             },
             "line": {
              "color": "white"
             }
            },
            "type": "table"
           }
          ]
         },
         "layout": {
          "annotationdefaults": {
           "arrowcolor": "#2a3f5f",
           "arrowhead": 0,
           "arrowwidth": 1
          },
          "autotypenumbers": "strict",
          "coloraxis": {
           "colorbar": {
            "outlinewidth": 0,
            "ticks": ""
           }
          },
          "colorscale": {
           "diverging": [
            [
             0,
             "#8e0152"
            ],
            [
             0.1,
             "#c51b7d"
            ],
            [
             0.2,
             "#de77ae"
            ],
            [
             0.3,
             "#f1b6da"
            ],
            [
             0.4,
             "#fde0ef"
            ],
            [
             0.5,
             "#f7f7f7"
            ],
            [
             0.6,
             "#e6f5d0"
            ],
            [
             0.7,
             "#b8e186"
            ],
            [
             0.8,
             "#7fbc41"
            ],
            [
             0.9,
             "#4d9221"
            ],
            [
             1,
             "#276419"
            ]
           ],
           "sequential": [
            [
             0,
             "#0d0887"
            ],
            [
             0.1111111111111111,
             "#46039f"
            ],
            [
             0.2222222222222222,
             "#7201a8"
            ],
            [
             0.3333333333333333,
             "#9c179e"
            ],
            [
             0.4444444444444444,
             "#bd3786"
            ],
            [
             0.5555555555555556,
             "#d8576b"
            ],
            [
             0.6666666666666666,
             "#ed7953"
            ],
            [
             0.7777777777777778,
             "#fb9f3a"
            ],
            [
             0.8888888888888888,
             "#fdca26"
            ],
            [
             1,
             "#f0f921"
            ]
           ],
           "sequentialminus": [
            [
             0,
             "#0d0887"
            ],
            [
             0.1111111111111111,
             "#46039f"
            ],
            [
             0.2222222222222222,
             "#7201a8"
            ],
            [
             0.3333333333333333,
             "#9c179e"
            ],
            [
             0.4444444444444444,
             "#bd3786"
            ],
            [
             0.5555555555555556,
             "#d8576b"
            ],
            [
             0.6666666666666666,
             "#ed7953"
            ],
            [
             0.7777777777777778,
             "#fb9f3a"
            ],
            [
             0.8888888888888888,
             "#fdca26"
            ],
            [
             1,
             "#f0f921"
            ]
           ]
          },
          "colorway": [
           "#636efa",
           "#EF553B",
           "#00cc96",
           "#ab63fa",
           "#FFA15A",
           "#19d3f3",
           "#FF6692",
           "#B6E880",
           "#FF97FF",
           "#FECB52"
          ],
          "font": {
           "color": "#2a3f5f"
          },
          "geo": {
           "bgcolor": "white",
           "lakecolor": "white",
           "landcolor": "#E5ECF6",
           "showlakes": true,
           "showland": true,
           "subunitcolor": "white"
          },
          "hoverlabel": {
           "align": "left"
          },
          "hovermode": "closest",
          "mapbox": {
           "style": "light"
          },
          "paper_bgcolor": "white",
          "plot_bgcolor": "#E5ECF6",
          "polar": {
           "angularaxis": {
            "gridcolor": "white",
            "linecolor": "white",
            "ticks": ""
           },
           "bgcolor": "#E5ECF6",
           "radialaxis": {
            "gridcolor": "white",
            "linecolor": "white",
            "ticks": ""
           }
          },
          "scene": {
           "xaxis": {
            "backgroundcolor": "#E5ECF6",
            "gridcolor": "white",
            "gridwidth": 2,
            "linecolor": "white",
            "showbackground": true,
            "ticks": "",
            "zerolinecolor": "white"
           },
           "yaxis": {
            "backgroundcolor": "#E5ECF6",
            "gridcolor": "white",
            "gridwidth": 2,
            "linecolor": "white",
            "showbackground": true,
            "ticks": "",
            "zerolinecolor": "white"
           },
           "zaxis": {
            "backgroundcolor": "#E5ECF6",
            "gridcolor": "white",
            "gridwidth": 2,
            "linecolor": "white",
            "showbackground": true,
            "ticks": "",
            "zerolinecolor": "white"
           }
          },
          "shapedefaults": {
           "line": {
            "color": "#2a3f5f"
           }
          },
          "ternary": {
           "aaxis": {
            "gridcolor": "white",
            "linecolor": "white",
            "ticks": ""
           },
           "baxis": {
            "gridcolor": "white",
            "linecolor": "white",
            "ticks": ""
           },
           "bgcolor": "#E5ECF6",
           "caxis": {
            "gridcolor": "white",
            "linecolor": "white",
            "ticks": ""
           }
          },
          "title": {
           "x": 0.05
          },
          "xaxis": {
           "automargin": true,
           "gridcolor": "white",
           "linecolor": "white",
           "ticks": "",
           "title": {
            "standoff": 15
           },
           "zerolinecolor": "white",
           "zerolinewidth": 2
          },
          "yaxis": {
           "automargin": true,
           "gridcolor": "white",
           "linecolor": "white",
           "ticks": "",
           "title": {
            "standoff": 15
           },
           "zerolinecolor": "white",
           "zerolinewidth": 2
          }
         }
        },
        "title": {
         "text": "3d Plot for Rule Mining"
        },
        "width": 675
       }
      },
      "text/html": [
       "<div>                            <div id=\"99c02882-c9e5-481a-8aa3-9b61a3dd83a0\" class=\"plotly-graph-div\" style=\"height:600.0px; width:675.0px;\"></div>            <script type=\"text/javascript\">                require([\"plotly\"], function(Plotly) {                    window.PLOTLYENV=window.PLOTLYENV || {};                                    if (document.getElementById(\"99c02882-c9e5-481a-8aa3-9b61a3dd83a0\")) {                    Plotly.newPlot(                        \"99c02882-c9e5-481a-8aa3-9b61a3dd83a0\",                        [{\"customdata\":[[[\"Cake\"],[\"Tea\",\"Coffee\"]],[[\"Tea\",\"Coffee\"],[\"Cake\"]],[[\"Cake\"],[\"Hot chocolate\"]],[[\"Hot chocolate\"],[\"Cake\"]],[[\"Tea\"],[\"Cake\"]],[[\"Cake\"],[\"Tea\"]],[[\"Toast\"],[\"Coffee\"]],[[\"Coffee\"],[\"Toast\"]],[[\"Pastry\"],[\"Bread\",\"Coffee\"]],[[\"Bread\",\"Coffee\"],[\"Pastry\"]],[[\"Sandwich\"],[\"Tea\"]],[[\"Tea\"],[\"Sandwich\"]],[[\"Tea\"],[\"Coffee\",\"Cake\"]],[[\"Coffee\",\"Cake\"],[\"Tea\"]],[[\"Spanish Brunch\"],[\"Coffee\"]],[[\"Coffee\"],[\"Spanish Brunch\"]],[[\"Coffee\"],[\"Medialuna\"]],[[\"Medialuna\"],[\"Coffee\"]],[[\"Coffee\"],[\"Pastry\"]],[[\"Pastry\"],[\"Coffee\"]],[[\"Coffee\"],[\"Alfajores\"]],[[\"Alfajores\"],[\"Coffee\"]],[[\"Juice\"],[\"Coffee\"]],[[\"Coffee\"],[\"Juice\"]],[[\"Coffee\"],[\"Sandwich\"]],[[\"Sandwich\"],[\"Coffee\"]],[[\"Cake\"],[\"Coffee\"]],[[\"Coffee\"],[\"Cake\"]],[[\"Coffee\"],[\"Scone\"]],[[\"Scone\"],[\"Coffee\"]],[[\"Coffee\"],[\"Cookies\"]],[[\"Cookies\"],[\"Coffee\"]],[[\"Bread\",\"Coffee\"],[\"Cake\"]],[[\"Cake\"],[\"Bread\",\"Coffee\"]],[[\"Coffee\"],[\"Hot chocolate\"]],[[\"Hot chocolate\"],[\"Coffee\"]],[[\"Bread\"],[\"Pastry\"]],[[\"Pastry\"],[\"Bread\"]],[[\"Coffee\"],[\"Brownie\"]],[[\"Brownie\"],[\"Coffee\"]],[[\"Coffee\"],[\"Muffin\"]],[[\"Muffin\"],[\"Coffee\"]],[[\"Soup\"],[\"Coffee\"]],[[\"Coffee\"],[\"Soup\"]],[[\"Bread\",\"Cake\"],[\"Coffee\"]],[[\"Coffee\"],[\"Bread\",\"Cake\"]],[[\"Tea\",\"Cake\"],[\"Coffee\"]],[[\"Coffee\"],[\"Tea\",\"Cake\"]],[[\"Alfajores\"],[\"Bread\"]],[[\"Bread\"],[\"Alfajores\"]],[[\"Medialuna\"],[\"Bread\"]],[[\"Bread\"],[\"Medialuna\"]],[[\"Bread\"],[\"Brownie\"]],[[\"Brownie\"],[\"Bread\"]],[[\"Bread\"],[\"Cookies\"]],[[\"Cookies\"],[\"Bread\"]],[[\"Bread\",\"Pastry\"],[\"Coffee\"]],[[\"Coffee\"],[\"Bread\",\"Pastry\"]],[[\"Coffee\"],[\"Tea\"]],[[\"Tea\"],[\"Coffee\"]],[[\"Sandwich\"],[\"Bread\"]],[[\"Bread\"],[\"Sandwich\"]],[[\"Bread\"],[\"Pastry\",\"Coffee\"]],[[\"Pastry\",\"Coffee\"],[\"Bread\"]],[[\"Hot chocolate\"],[\"Bread\"]],[[\"Bread\"],[\"Hot chocolate\"]],[[\"Bread\"],[\"Cake\"]],[[\"Cake\"],[\"Bread\"]],[[\"Tea\"],[\"Bread\"]],[[\"Bread\"],[\"Tea\"]],[[\"Bread\"],[\"Coffee\"]],[[\"Coffee\"],[\"Bread\"]],[[\"Bread\"],[\"Coffee\",\"Cake\"]],[[\"Coffee\",\"Cake\"],[\"Bread\"]]],\"hovertemplate\":\"support=%{x}<br>confidence=%{y}<br>lift=%{z}<br>antecedents=%{customdata[0]}<br>consequents=%{customdata[1]}<br>antecedent support=%{marker.color}<extra></extra>\",\"legendgroup\":\"\",\"marker\":{\"color\":[0.1039,0.0499,0.1039,0.0583,0.1426,0.1039,0.0336,0.4784,0.0861,0.09,0.0718,0.1426,0.1426,0.0547,0.0182,0.4784,0.4784,0.0618,0.4784,0.0861,0.4784,0.0363,0.0386,0.4784,0.4784,0.0718,0.1039,0.4784,0.4784,0.0345,0.4784,0.0544,0.09,0.1039,0.4784,0.0583,0.3272,0.0861,0.4784,0.04,0.4784,0.0385,0.0344,0.4784,0.0233,0.4784,0.0238,0.4784,0.0363,0.3272,0.0618,0.3272,0.3272,0.04,0.3272,0.0544,0.0292,0.4784,0.4784,0.1426,0.0718,0.3272,0.3272,0.0475,0.0583,0.3272,0.3272,0.1039,0.1426,0.3272,0.3272,0.4784,0.3272,0.0547],\"coloraxis\":\"coloraxis\",\"opacity\":0.7,\"symbol\":\"circle\"},\"mode\":\"markers\",\"name\":\"\",\"scene\":\"scene\",\"showlegend\":false,\"x\":[0.01,0.01,0.0114,0.0114,0.0238,0.0238,0.0237,0.0237,0.0112,0.0112,0.0144,0.0144,0.01,0.01,0.0109,0.0109,0.0352,0.0352,0.0475,0.0475,0.0197,0.0197,0.0206,0.0206,0.0382,0.0382,0.0547,0.0547,0.0181,0.0181,0.0282,0.0282,0.01,0.01,0.0296,0.0296,0.0292,0.0292,0.0197,0.0197,0.0188,0.0188,0.0158,0.0158,0.01,0.01,0.01,0.01,0.0104,0.0104,0.0169,0.0169,0.0108,0.0108,0.0145,0.0145,0.0112,0.0112,0.0499,0.0499,0.017,0.017,0.0112,0.0112,0.0134,0.0134,0.0233,0.0233,0.0281,0.0281,0.09,0.09,0.01,0.01],\"y\":[0.0966,0.2013,0.1099,0.1957,0.1667,0.2289,0.7044,0.0495,0.1301,0.1244,0.2,0.1007,0.0704,0.1834,0.5988,0.0227,0.0735,0.5692,0.0994,0.5521,0.0411,0.5407,0.5342,0.0431,0.0799,0.5324,0.527,0.1144,0.0378,0.5229,0.059,0.5184,0.1115,0.0966,0.0618,0.5072,0.0891,0.3387,0.0411,0.4908,0.0393,0.489,0.4601,0.0331,0.4299,0.021,0.4222,0.021,0.2849,0.0316,0.2735,0.0517,0.0329,0.2691,0.0442,0.266,0.3841,0.0234,0.1042,0.3496,0.2368,0.052,0.0342,0.2356,0.2301,0.041,0.0714,0.2248,0.197,0.0859,0.2751,0.1882,0.0307,0.1834],\"z\":[1.938,1.938,1.8839,1.8839,1.6048,1.6048,1.4724,1.4724,1.4449,1.4449,1.4022,1.4022,1.2858,1.2858,1.2518,1.2518,1.1899,1.1899,1.1542,1.1542,1.1302,1.1302,1.1167,1.1167,1.1128,1.1128,1.1015,1.1015,1.0931,1.0931,1.0837,1.0837,1.0736,1.0736,1.0603,1.0603,1.035,1.035,1.0259,1.0259,1.0222,1.0222,0.9618,0.9618,0.8986,0.8986,0.8826,0.8826,0.8707,0.8707,0.8359,0.8359,0.8225,0.8225,0.813,0.813,0.8028,0.8028,0.7308,0.7308,0.7236,0.7236,0.7199,0.7199,0.7031,0.7031,0.6871,0.6871,0.6022,0.6022,0.5751,0.5751,0.5605,0.5605],\"type\":\"scatter3d\"}],                        {\"template\":{\"data\":{\"histogram2dcontour\":[{\"type\":\"histogram2dcontour\",\"colorbar\":{\"outlinewidth\":0,\"ticks\":\"\"},\"colorscale\":[[0.0,\"#0d0887\"],[0.1111111111111111,\"#46039f\"],[0.2222222222222222,\"#7201a8\"],[0.3333333333333333,\"#9c179e\"],[0.4444444444444444,\"#bd3786\"],[0.5555555555555556,\"#d8576b\"],[0.6666666666666666,\"#ed7953\"],[0.7777777777777778,\"#fb9f3a\"],[0.8888888888888888,\"#fdca26\"],[1.0,\"#f0f921\"]]}],\"choropleth\":[{\"type\":\"choropleth\",\"colorbar\":{\"outlinewidth\":0,\"ticks\":\"\"}}],\"histogram2d\":[{\"type\":\"histogram2d\",\"colorbar\":{\"outlinewidth\":0,\"ticks\":\"\"},\"colorscale\":[[0.0,\"#0d0887\"],[0.1111111111111111,\"#46039f\"],[0.2222222222222222,\"#7201a8\"],[0.3333333333333333,\"#9c179e\"],[0.4444444444444444,\"#bd3786\"],[0.5555555555555556,\"#d8576b\"],[0.6666666666666666,\"#ed7953\"],[0.7777777777777778,\"#fb9f3a\"],[0.8888888888888888,\"#fdca26\"],[1.0,\"#f0f921\"]]}],\"heatmap\":[{\"type\":\"heatmap\",\"colorbar\":{\"outlinewidth\":0,\"ticks\":\"\"},\"colorscale\":[[0.0,\"#0d0887\"],[0.1111111111111111,\"#46039f\"],[0.2222222222222222,\"#7201a8\"],[0.3333333333333333,\"#9c179e\"],[0.4444444444444444,\"#bd3786\"],[0.5555555555555556,\"#d8576b\"],[0.6666666666666666,\"#ed7953\"],[0.7777777777777778,\"#fb9f3a\"],[0.8888888888888888,\"#fdca26\"],[1.0,\"#f0f921\"]]}],\"heatmapgl\":[{\"type\":\"heatmapgl\",\"colorbar\":{\"outlinewidth\":0,\"ticks\":\"\"},\"colorscale\":[[0.0,\"#0d0887\"],[0.1111111111111111,\"#46039f\"],[0.2222222222222222,\"#7201a8\"],[0.3333333333333333,\"#9c179e\"],[0.4444444444444444,\"#bd3786\"],[0.5555555555555556,\"#d8576b\"],[0.6666666666666666,\"#ed7953\"],[0.7777777777777778,\"#fb9f3a\"],[0.8888888888888888,\"#fdca26\"],[1.0,\"#f0f921\"]]}],\"contourcarpet\":[{\"type\":\"contourcarpet\",\"colorbar\":{\"outlinewidth\":0,\"ticks\":\"\"}}],\"contour\":[{\"type\":\"contour\",\"colorbar\":{\"outlinewidth\":0,\"ticks\":\"\"},\"colorscale\":[[0.0,\"#0d0887\"],[0.1111111111111111,\"#46039f\"],[0.2222222222222222,\"#7201a8\"],[0.3333333333333333,\"#9c179e\"],[0.4444444444444444,\"#bd3786\"],[0.5555555555555556,\"#d8576b\"],[0.6666666666666666,\"#ed7953\"],[0.7777777777777778,\"#fb9f3a\"],[0.8888888888888888,\"#fdca26\"],[1.0,\"#f0f921\"]]}],\"surface\":[{\"type\":\"surface\",\"colorbar\":{\"outlinewidth\":0,\"ticks\":\"\"},\"colorscale\":[[0.0,\"#0d0887\"],[0.1111111111111111,\"#46039f\"],[0.2222222222222222,\"#7201a8\"],[0.3333333333333333,\"#9c179e\"],[0.4444444444444444,\"#bd3786\"],[0.5555555555555556,\"#d8576b\"],[0.6666666666666666,\"#ed7953\"],[0.7777777777777778,\"#fb9f3a\"],[0.8888888888888888,\"#fdca26\"],[1.0,\"#f0f921\"]]}],\"mesh3d\":[{\"type\":\"mesh3d\",\"colorbar\":{\"outlinewidth\":0,\"ticks\":\"\"}}],\"scatter\":[{\"fillpattern\":{\"fillmode\":\"overlay\",\"size\":10,\"solidity\":0.2},\"type\":\"scatter\"}],\"parcoords\":[{\"type\":\"parcoords\",\"line\":{\"colorbar\":{\"outlinewidth\":0,\"ticks\":\"\"}}}],\"scatterpolargl\":[{\"type\":\"scatterpolargl\",\"marker\":{\"colorbar\":{\"outlinewidth\":0,\"ticks\":\"\"}}}],\"bar\":[{\"error_x\":{\"color\":\"#2a3f5f\"},\"error_y\":{\"color\":\"#2a3f5f\"},\"marker\":{\"line\":{\"color\":\"#E5ECF6\",\"width\":0.5},\"pattern\":{\"fillmode\":\"overlay\",\"size\":10,\"solidity\":0.2}},\"type\":\"bar\"}],\"scattergeo\":[{\"type\":\"scattergeo\",\"marker\":{\"colorbar\":{\"outlinewidth\":0,\"ticks\":\"\"}}}],\"scatterpolar\":[{\"type\":\"scatterpolar\",\"marker\":{\"colorbar\":{\"outlinewidth\":0,\"ticks\":\"\"}}}],\"histogram\":[{\"marker\":{\"pattern\":{\"fillmode\":\"overlay\",\"size\":10,\"solidity\":0.2}},\"type\":\"histogram\"}],\"scattergl\":[{\"type\":\"scattergl\",\"marker\":{\"colorbar\":{\"outlinewidth\":0,\"ticks\":\"\"}}}],\"scatter3d\":[{\"type\":\"scatter3d\",\"line\":{\"colorbar\":{\"outlinewidth\":0,\"ticks\":\"\"}},\"marker\":{\"colorbar\":{\"outlinewidth\":0,\"ticks\":\"\"}}}],\"scattermapbox\":[{\"type\":\"scattermapbox\",\"marker\":{\"colorbar\":{\"outlinewidth\":0,\"ticks\":\"\"}}}],\"scatterternary\":[{\"type\":\"scatterternary\",\"marker\":{\"colorbar\":{\"outlinewidth\":0,\"ticks\":\"\"}}}],\"scattercarpet\":[{\"type\":\"scattercarpet\",\"marker\":{\"colorbar\":{\"outlinewidth\":0,\"ticks\":\"\"}}}],\"carpet\":[{\"aaxis\":{\"endlinecolor\":\"#2a3f5f\",\"gridcolor\":\"white\",\"linecolor\":\"white\",\"minorgridcolor\":\"white\",\"startlinecolor\":\"#2a3f5f\"},\"baxis\":{\"endlinecolor\":\"#2a3f5f\",\"gridcolor\":\"white\",\"linecolor\":\"white\",\"minorgridcolor\":\"white\",\"startlinecolor\":\"#2a3f5f\"},\"type\":\"carpet\"}],\"table\":[{\"cells\":{\"fill\":{\"color\":\"#EBF0F8\"},\"line\":{\"color\":\"white\"}},\"header\":{\"fill\":{\"color\":\"#C8D4E3\"},\"line\":{\"color\":\"white\"}},\"type\":\"table\"}],\"barpolar\":[{\"marker\":{\"line\":{\"color\":\"#E5ECF6\",\"width\":0.5},\"pattern\":{\"fillmode\":\"overlay\",\"size\":10,\"solidity\":0.2}},\"type\":\"barpolar\"}],\"pie\":[{\"automargin\":true,\"type\":\"pie\"}]},\"layout\":{\"autotypenumbers\":\"strict\",\"colorway\":[\"#636efa\",\"#EF553B\",\"#00cc96\",\"#ab63fa\",\"#FFA15A\",\"#19d3f3\",\"#FF6692\",\"#B6E880\",\"#FF97FF\",\"#FECB52\"],\"font\":{\"color\":\"#2a3f5f\"},\"hovermode\":\"closest\",\"hoverlabel\":{\"align\":\"left\"},\"paper_bgcolor\":\"white\",\"plot_bgcolor\":\"#E5ECF6\",\"polar\":{\"bgcolor\":\"#E5ECF6\",\"angularaxis\":{\"gridcolor\":\"white\",\"linecolor\":\"white\",\"ticks\":\"\"},\"radialaxis\":{\"gridcolor\":\"white\",\"linecolor\":\"white\",\"ticks\":\"\"}},\"ternary\":{\"bgcolor\":\"#E5ECF6\",\"aaxis\":{\"gridcolor\":\"white\",\"linecolor\":\"white\",\"ticks\":\"\"},\"baxis\":{\"gridcolor\":\"white\",\"linecolor\":\"white\",\"ticks\":\"\"},\"caxis\":{\"gridcolor\":\"white\",\"linecolor\":\"white\",\"ticks\":\"\"}},\"coloraxis\":{\"colorbar\":{\"outlinewidth\":0,\"ticks\":\"\"}},\"colorscale\":{\"sequential\":[[0.0,\"#0d0887\"],[0.1111111111111111,\"#46039f\"],[0.2222222222222222,\"#7201a8\"],[0.3333333333333333,\"#9c179e\"],[0.4444444444444444,\"#bd3786\"],[0.5555555555555556,\"#d8576b\"],[0.6666666666666666,\"#ed7953\"],[0.7777777777777778,\"#fb9f3a\"],[0.8888888888888888,\"#fdca26\"],[1.0,\"#f0f921\"]],\"sequentialminus\":[[0.0,\"#0d0887\"],[0.1111111111111111,\"#46039f\"],[0.2222222222222222,\"#7201a8\"],[0.3333333333333333,\"#9c179e\"],[0.4444444444444444,\"#bd3786\"],[0.5555555555555556,\"#d8576b\"],[0.6666666666666666,\"#ed7953\"],[0.7777777777777778,\"#fb9f3a\"],[0.8888888888888888,\"#fdca26\"],[1.0,\"#f0f921\"]],\"diverging\":[[0,\"#8e0152\"],[0.1,\"#c51b7d\"],[0.2,\"#de77ae\"],[0.3,\"#f1b6da\"],[0.4,\"#fde0ef\"],[0.5,\"#f7f7f7\"],[0.6,\"#e6f5d0\"],[0.7,\"#b8e186\"],[0.8,\"#7fbc41\"],[0.9,\"#4d9221\"],[1,\"#276419\"]]},\"xaxis\":{\"gridcolor\":\"white\",\"linecolor\":\"white\",\"ticks\":\"\",\"title\":{\"standoff\":15},\"zerolinecolor\":\"white\",\"automargin\":true,\"zerolinewidth\":2},\"yaxis\":{\"gridcolor\":\"white\",\"linecolor\":\"white\",\"ticks\":\"\",\"title\":{\"standoff\":15},\"zerolinecolor\":\"white\",\"automargin\":true,\"zerolinewidth\":2},\"scene\":{\"xaxis\":{\"backgroundcolor\":\"#E5ECF6\",\"gridcolor\":\"white\",\"linecolor\":\"white\",\"showbackground\":true,\"ticks\":\"\",\"zerolinecolor\":\"white\",\"gridwidth\":2},\"yaxis\":{\"backgroundcolor\":\"#E5ECF6\",\"gridcolor\":\"white\",\"linecolor\":\"white\",\"showbackground\":true,\"ticks\":\"\",\"zerolinecolor\":\"white\",\"gridwidth\":2},\"zaxis\":{\"backgroundcolor\":\"#E5ECF6\",\"gridcolor\":\"white\",\"linecolor\":\"white\",\"showbackground\":true,\"ticks\":\"\",\"zerolinecolor\":\"white\",\"gridwidth\":2}},\"shapedefaults\":{\"line\":{\"color\":\"#2a3f5f\"}},\"annotationdefaults\":{\"arrowcolor\":\"#2a3f5f\",\"arrowhead\":0,\"arrowwidth\":1},\"geo\":{\"bgcolor\":\"white\",\"landcolor\":\"#E5ECF6\",\"subunitcolor\":\"white\",\"showland\":true,\"showlakes\":true,\"lakecolor\":\"white\"},\"title\":{\"x\":0.05},\"mapbox\":{\"style\":\"light\"}}},\"scene\":{\"domain\":{\"x\":[0.0,1.0],\"y\":[0.0,1.0]},\"xaxis\":{\"title\":{\"text\":\"support\"}},\"yaxis\":{\"title\":{\"text\":\"confidence\"}},\"zaxis\":{\"title\":{\"text\":\"lift\"}}},\"coloraxis\":{\"colorbar\":{\"title\":{\"text\":\"antecedent support\"}},\"colorscale\":[[0.0,\"#0d0887\"],[0.1111111111111111,\"#46039f\"],[0.2222222222222222,\"#7201a8\"],[0.3333333333333333,\"#9c179e\"],[0.4444444444444444,\"#bd3786\"],[0.5555555555555556,\"#d8576b\"],[0.6666666666666666,\"#ed7953\"],[0.7777777777777778,\"#fb9f3a\"],[0.8888888888888888,\"#fdca26\"],[1.0,\"#f0f921\"]]},\"legend\":{\"tracegroupgap\":0},\"title\":{\"text\":\"3d Plot for Rule Mining\"},\"height\":600.0,\"width\":675.0},                        {\"responsive\": true}                    ).then(function(){\n",
       "                            \n",
       "var gd = document.getElementById('99c02882-c9e5-481a-8aa3-9b61a3dd83a0');\n",
       "var x = new MutationObserver(function (mutations, observer) {{\n",
       "        var display = window.getComputedStyle(gd).display;\n",
       "        if (!display || display === 'none') {{\n",
       "            console.log([gd, 'removed!']);\n",
       "            Plotly.purge(gd);\n",
       "            observer.disconnect();\n",
       "        }}\n",
       "}});\n",
       "\n",
       "// Listen for the removal of the full notebook cells\n",
       "var notebookContainer = gd.closest('#notebook-container');\n",
       "if (notebookContainer) {{\n",
       "    x.observe(notebookContainer, {childList: true});\n",
       "}}\n",
       "\n",
       "// Listen for the clearing of the current output cell\n",
       "var outputEl = gd.closest('.output');\n",
       "if (outputEl) {{\n",
       "    x.observe(outputEl, {childList: true});\n",
       "}}\n",
       "\n",
       "                        })                };                });            </script>        </div>"
      ]
     },
     "metadata": {},
     "output_type": "display_data"
    }
   ],
   "source": [
    "plot_model(rules, scale=0.75, plot='3d')"
   ]
  }
 ],
 "metadata": {
  "interpreter": {
   "hash": "218ed2090466719c788686619e7484846e5f5bb6c8780fb50ffd2ff7462ad566"
  },
  "kernelspec": {
   "display_name": "Python 3.8.0 ('.python38': venv)",
   "language": "python",
   "name": "python3"
  },
  "language_info": {
   "codemirror_mode": {
    "name": "ipython",
    "version": 3
   },
   "file_extension": ".py",
   "mimetype": "text/x-python",
   "name": "python",
   "nbconvert_exporter": "python",
   "pygments_lexer": "ipython3",
   "version": "3.8.0"
  },
  "orig_nbformat": 4
 },
 "nbformat": 4,
 "nbformat_minor": 2
}
